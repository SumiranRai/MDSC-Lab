{
  "nbformat": 4,
  "nbformat_minor": 0,
  "metadata": {
    "colab": {
      "provenance": [],
      "authorship_tag": "ABX9TyNjlKa51CWENXn+sLsuzA1N",
      "include_colab_link": true
    },
    "kernelspec": {
      "name": "ir",
      "display_name": "R"
    },
    "language_info": {
      "name": "R"
    }
  },
  "cells": [
    {
      "cell_type": "markdown",
      "metadata": {
        "id": "view-in-github",
        "colab_type": "text"
      },
      "source": [
        "<a href=\"https://colab.research.google.com/github/SumiranRai/MDSC-Lab/blob/main/MDSC-201-Statistical-Methods-Using-R/R_Assignment_3.ipynb\" target=\"_parent\"><img src=\"https://colab.research.google.com/assets/colab-badge.svg\" alt=\"Open In Colab\"/></a>"
      ]
    },
    {
      "cell_type": "markdown",
      "source": [
        "R Programming Assignment III\n",
        "\n",
        "By Sumiran Rai\n",
        "\n",
        "Roll No: 24040208007"
      ],
      "metadata": {
        "id": "E87-hJmMmReO"
      }
    },
    {
      "cell_type": "markdown",
      "source": [
        "# R Functions"
      ],
      "metadata": {
        "id": "0nPiBHK-mTgo"
      }
    },
    {
      "cell_type": "markdown",
      "source": [
        "##Basic Operations"
      ],
      "metadata": {
        "id": "cUbaHid6ncMg"
      }
    },
    {
      "cell_type": "code",
      "execution_count": 2,
      "metadata": {
        "colab": {
          "base_uri": "https://localhost:8080/"
        },
        "id": "uKFyjCwaQCBO",
        "outputId": "17a088f9-5b53-4913-ef51-abdc2294072e"
      },
      "outputs": [
        {
          "output_type": "stream",
          "name": "stdout",
          "text": [
            "[1] 1 2 3 4\n"
          ]
        }
      ],
      "source": [
        "# 1. Create a vector\n",
        "x <- c(1, 2, 3, 4)\n",
        "print(x)"
      ]
    },
    {
      "cell_type": "code",
      "source": [
        "# 2. Generate sequences\n",
        "y <- seq(1, 10, by = 2)\n",
        "print(y)"
      ],
      "metadata": {
        "colab": {
          "base_uri": "https://localhost:8080/"
        },
        "id": "BQ6qKhA7nsde",
        "outputId": "c97bb1a5-cfe9-49a2-bbed-39dc29dc4c04"
      },
      "execution_count": 3,
      "outputs": [
        {
          "output_type": "stream",
          "name": "stdout",
          "text": [
            "[1] 1 3 5 7 9\n"
          ]
        }
      ]
    },
    {
      "cell_type": "code",
      "source": [
        "# 3. Repeat elements\n",
        "z <- rep(1:3, each = 2)\n",
        "print(z)"
      ],
      "metadata": {
        "colab": {
          "base_uri": "https://localhost:8080/"
        },
        "id": "k62TJ-iBn1XV",
        "outputId": "6e048e80-21a4-4c7e-d912-b864b084e41f"
      },
      "execution_count": 4,
      "outputs": [
        {
          "output_type": "stream",
          "name": "stdout",
          "text": [
            "[1] 1 1 2 2 3 3\n"
          ]
        }
      ]
    },
    {
      "cell_type": "code",
      "source": [
        "# 4. Get vector length\n",
        "length(x)"
      ],
      "metadata": {
        "colab": {
          "base_uri": "https://localhost:8080/",
          "height": 34
        },
        "id": "LlkoqKzBoC1_",
        "outputId": "2513aab6-1c3a-4b99-c04d-0fa592e3b6c1"
      },
      "execution_count": 5,
      "outputs": [
        {
          "output_type": "display_data",
          "data": {
            "text/html": [
              "4"
            ],
            "text/markdown": "4",
            "text/latex": "4",
            "text/plain": [
              "[1] 4"
            ]
          },
          "metadata": {}
        }
      ]
    },
    {
      "cell_type": "code",
      "source": [
        "# 5. Sort values\n",
        "sort(c(3, 1, 4, 1, 5))"
      ],
      "metadata": {
        "colab": {
          "base_uri": "https://localhost:8080/",
          "height": 34
        },
        "id": "aPhbtkugoG7z",
        "outputId": "3f8cc618-a348-46bb-9daf-3da3115c35ca"
      },
      "execution_count": 6,
      "outputs": [
        {
          "output_type": "display_data",
          "data": {
            "text/html": [
              "<style>\n",
              ".list-inline {list-style: none; margin:0; padding: 0}\n",
              ".list-inline>li {display: inline-block}\n",
              ".list-inline>li:not(:last-child)::after {content: \"\\00b7\"; padding: 0 .5ex}\n",
              "</style>\n",
              "<ol class=list-inline><li>1</li><li>1</li><li>3</li><li>4</li><li>5</li></ol>\n"
            ],
            "text/markdown": "1. 1\n2. 1\n3. 3\n4. 4\n5. 5\n\n\n",
            "text/latex": "\\begin{enumerate*}\n\\item 1\n\\item 1\n\\item 3\n\\item 4\n\\item 5\n\\end{enumerate*}\n",
            "text/plain": [
              "[1] 1 1 3 4 5"
            ]
          },
          "metadata": {}
        }
      ]
    },
    {
      "cell_type": "markdown",
      "source": [
        "The order() function takes one or more vectors as arguments,\n",
        "and returns an integer vector indicating the order of the vectors"
      ],
      "metadata": {
        "id": "UxclUSuTouHL"
      }
    },
    {
      "cell_type": "code",
      "source": [
        "# 6. Get ordering\n",
        "order(c(3, 1, 4, 1, 5))"
      ],
      "metadata": {
        "colab": {
          "base_uri": "https://localhost:8080/",
          "height": 34
        },
        "id": "_-4jwNHFoPCZ",
        "outputId": "a328b54e-5e9a-4f1a-df83-a44e948ff3ee"
      },
      "execution_count": 7,
      "outputs": [
        {
          "output_type": "display_data",
          "data": {
            "text/html": [
              "<style>\n",
              ".list-inline {list-style: none; margin:0; padding: 0}\n",
              ".list-inline>li {display: inline-block}\n",
              ".list-inline>li:not(:last-child)::after {content: \"\\00b7\"; padding: 0 .5ex}\n",
              "</style>\n",
              "<ol class=list-inline><li>2</li><li>4</li><li>1</li><li>3</li><li>5</li></ol>\n"
            ],
            "text/markdown": "1. 2\n2. 4\n3. 1\n4. 3\n5. 5\n\n\n",
            "text/latex": "\\begin{enumerate*}\n\\item 2\n\\item 4\n\\item 1\n\\item 3\n\\item 5\n\\end{enumerate*}\n",
            "text/plain": [
              "[1] 2 4 1 3 5"
            ]
          },
          "metadata": {}
        }
      ]
    },
    {
      "cell_type": "code",
      "source": [
        "# 7. Reverse elements\n",
        "rev(x)"
      ],
      "metadata": {
        "colab": {
          "base_uri": "https://localhost:8080/",
          "height": 34
        },
        "id": "ZC30c9cToTv9",
        "outputId": "a0b05664-787b-438a-fe56-83f22d82fa9c"
      },
      "execution_count": 8,
      "outputs": [
        {
          "output_type": "display_data",
          "data": {
            "text/html": [
              "<style>\n",
              ".list-inline {list-style: none; margin:0; padding: 0}\n",
              ".list-inline>li {display: inline-block}\n",
              ".list-inline>li:not(:last-child)::after {content: \"\\00b7\"; padding: 0 .5ex}\n",
              "</style>\n",
              "<ol class=list-inline><li>4</li><li>3</li><li>2</li><li>1</li></ol>\n"
            ],
            "text/markdown": "1. 4\n2. 3\n3. 2\n4. 1\n\n\n",
            "text/latex": "\\begin{enumerate*}\n\\item 4\n\\item 3\n\\item 2\n\\item 1\n\\end{enumerate*}\n",
            "text/plain": [
              "[1] 4 3 2 1"
            ]
          },
          "metadata": {}
        }
      ]
    },
    {
      "cell_type": "code",
      "source": [
        "# 8. Find unique elements\n",
        "unique(c(1, 2, 2, 3, 3, 4))"
      ],
      "metadata": {
        "colab": {
          "base_uri": "https://localhost:8080/",
          "height": 34
        },
        "id": "GuaoSeplohF6",
        "outputId": "328b74e9-b550-437c-ef27-e87e3bbce7ae"
      },
      "execution_count": 9,
      "outputs": [
        {
          "output_type": "display_data",
          "data": {
            "text/html": [
              "<style>\n",
              ".list-inline {list-style: none; margin:0; padding: 0}\n",
              ".list-inline>li {display: inline-block}\n",
              ".list-inline>li:not(:last-child)::after {content: \"\\00b7\"; padding: 0 .5ex}\n",
              "</style>\n",
              "<ol class=list-inline><li>1</li><li>2</li><li>3</li><li>4</li></ol>\n"
            ],
            "text/markdown": "1. 1\n2. 2\n3. 3\n4. 4\n\n\n",
            "text/latex": "\\begin{enumerate*}\n\\item 1\n\\item 2\n\\item 3\n\\item 4\n\\end{enumerate*}\n",
            "text/plain": [
              "[1] 1 2 3 4"
            ]
          },
          "metadata": {}
        }
      ]
    },
    {
      "cell_type": "code",
      "source": [
        "# 9. Frequency table\n",
        "table(c(\"A\", \"B\", \"A\", \"C\", \"B\", \"A\"))"
      ],
      "metadata": {
        "colab": {
          "base_uri": "https://localhost:8080/",
          "height": 69
        },
        "id": "TyWzedaHo53g",
        "outputId": "9af51bf0-8f14-4399-e6ef-b176ad940973"
      },
      "execution_count": 10,
      "outputs": [
        {
          "output_type": "display_data",
          "data": {
            "text/plain": [
              "\n",
              "A B C \n",
              "3 2 1 "
            ]
          },
          "metadata": {}
        }
      ]
    },
    {
      "cell_type": "code",
      "source": [
        "# 10. Find indices of matching values\n",
        "match(2, c(1, 3, 5, 2, 4))"
      ],
      "metadata": {
        "colab": {
          "base_uri": "https://localhost:8080/",
          "height": 34
        },
        "id": "Wai6JImApCGc",
        "outputId": "6a92a85e-d157-452f-d281-8d8078ba8e62"
      },
      "execution_count": 11,
      "outputs": [
        {
          "output_type": "display_data",
          "data": {
            "text/html": [
              "4"
            ],
            "text/markdown": "4",
            "text/latex": "4",
            "text/plain": [
              "[1] 4"
            ]
          },
          "metadata": {}
        }
      ]
    },
    {
      "cell_type": "code",
      "source": [
        "# 11. Check if value exists in vector\n",
        "2 %in% c(1, 2, 3, 4)"
      ],
      "metadata": {
        "colab": {
          "base_uri": "https://localhost:8080/",
          "height": 34
        },
        "id": "e88y1XA3pGOR",
        "outputId": "44533d15-f6c5-43c2-e6f8-7806ef882c6a"
      },
      "execution_count": 12,
      "outputs": [
        {
          "output_type": "display_data",
          "data": {
            "text/html": [
              "TRUE"
            ],
            "text/markdown": "TRUE",
            "text/latex": "TRUE",
            "text/plain": [
              "[1] TRUE"
            ]
          },
          "metadata": {}
        }
      ]
    },
    {
      "cell_type": "code",
      "source": [
        "# 12. Find index of elements satisfying a condition\n",
        "which(c(1, 2, 3, 4) > 2)"
      ],
      "metadata": {
        "colab": {
          "base_uri": "https://localhost:8080/",
          "height": 34
        },
        "id": "vDZifLKZpVMh",
        "outputId": "621bb6b5-dd81-417b-a73c-a0bfdb0a2ffb"
      },
      "execution_count": 13,
      "outputs": [
        {
          "output_type": "display_data",
          "data": {
            "text/html": [
              "<style>\n",
              ".list-inline {list-style: none; margin:0; padding: 0}\n",
              ".list-inline>li {display: inline-block}\n",
              ".list-inline>li:not(:last-child)::after {content: \"\\00b7\"; padding: 0 .5ex}\n",
              "</style>\n",
              "<ol class=list-inline><li>3</li><li>4</li></ol>\n"
            ],
            "text/markdown": "1. 3\n2. 4\n\n\n",
            "text/latex": "\\begin{enumerate*}\n\\item 3\n\\item 4\n\\end{enumerate*}\n",
            "text/plain": [
              "[1] 3 4"
            ]
          },
          "metadata": {}
        }
      ]
    },
    {
      "cell_type": "code",
      "source": [
        "# 13. Check if any value is TRUE\n",
        "any(c(FALSE, TRUE, FALSE))"
      ],
      "metadata": {
        "colab": {
          "base_uri": "https://localhost:8080/",
          "height": 34
        },
        "id": "NFa0yIgTpbxV",
        "outputId": "1b3472ef-dca5-4bdd-aec1-b3ed31e25435"
      },
      "execution_count": 14,
      "outputs": [
        {
          "output_type": "display_data",
          "data": {
            "text/html": [
              "TRUE"
            ],
            "text/markdown": "TRUE",
            "text/latex": "TRUE",
            "text/plain": [
              "[1] TRUE"
            ]
          },
          "metadata": {}
        }
      ]
    },
    {
      "cell_type": "code",
      "source": [
        "# 14. Check if all values are TRUE\n",
        "all(c(TRUE, TRUE, TRUE))"
      ],
      "metadata": {
        "colab": {
          "base_uri": "https://localhost:8080/",
          "height": 34
        },
        "id": "ock1LiyRqNnp",
        "outputId": "c511fedd-25fd-4154-d6d0-74bac57103e0"
      },
      "execution_count": 15,
      "outputs": [
        {
          "output_type": "display_data",
          "data": {
            "text/html": [
              "TRUE"
            ],
            "text/markdown": "TRUE",
            "text/latex": "TRUE",
            "text/plain": [
              "[1] TRUE"
            ]
          },
          "metadata": {}
        }
      ]
    },
    {
      "cell_type": "code",
      "source": [
        "# 15. Check for missing values\n",
        "is.na(c(1, 2, NA, 4))"
      ],
      "metadata": {
        "id": "1KzhtrCoqa77",
        "colab": {
          "base_uri": "https://localhost:8080/",
          "height": 34
        },
        "outputId": "44e6243b-d207-44be-9bd4-c613d77c5af0"
      },
      "execution_count": 16,
      "outputs": [
        {
          "output_type": "display_data",
          "data": {
            "text/html": [
              "<style>\n",
              ".list-inline {list-style: none; margin:0; padding: 0}\n",
              ".list-inline>li {display: inline-block}\n",
              ".list-inline>li:not(:last-child)::after {content: \"\\00b7\"; padding: 0 .5ex}\n",
              "</style>\n",
              "<ol class=list-inline><li>FALSE</li><li>FALSE</li><li>TRUE</li><li>FALSE</li></ol>\n"
            ],
            "text/markdown": "1. FALSE\n2. FALSE\n3. TRUE\n4. FALSE\n\n\n",
            "text/latex": "\\begin{enumerate*}\n\\item FALSE\n\\item FALSE\n\\item TRUE\n\\item FALSE\n\\end{enumerate*}\n",
            "text/plain": [
              "[1] FALSE FALSE  TRUE FALSE"
            ]
          },
          "metadata": {}
        }
      ]
    },
    {
      "cell_type": "code",
      "source": [
        "# 16. Remove NA values\n",
        "na.omit(c(1, 2, NA, 4))"
      ],
      "metadata": {
        "colab": {
          "base_uri": "https://localhost:8080/",
          "height": 34
        },
        "id": "wNIZUceh5ef9",
        "outputId": "2bea2d87-39dd-494b-8219-97dc6bbf32b5"
      },
      "execution_count": 17,
      "outputs": [
        {
          "output_type": "display_data",
          "data": {
            "text/html": [
              "<style>\n",
              ".list-inline {list-style: none; margin:0; padding: 0}\n",
              ".list-inline>li {display: inline-block}\n",
              ".list-inline>li:not(:last-child)::after {content: \"\\00b7\"; padding: 0 .5ex}\n",
              "</style>\n",
              "<ol class=list-inline><li>1</li><li>2</li><li>4</li></ol>\n"
            ],
            "text/markdown": "1. 1\n2. 2\n3. 4\n\n\n",
            "text/latex": "\\begin{enumerate*}\n\\item 1\n\\item 2\n\\item 4\n\\end{enumerate*}\n",
            "text/plain": [
              "[1] 1 2 4\n",
              "attr(,\"na.action\")\n",
              "[1] 3\n",
              "attr(,\"class\")\n",
              "[1] \"omit\""
            ]
          },
          "metadata": {}
        }
      ]
    },
    {
      "cell_type": "code",
      "source": [
        "# 17. Replace values in a vector\n",
        "replace(c(1, 2, 3, 2), 2, 10)"
      ],
      "metadata": {
        "colab": {
          "base_uri": "https://localhost:8080/",
          "height": 34
        },
        "id": "vOpgSF3P5maI",
        "outputId": "77fbb566-f99f-4139-f421-c53c97c76dbc"
      },
      "execution_count": 18,
      "outputs": [
        {
          "output_type": "display_data",
          "data": {
            "text/html": [
              "<style>\n",
              ".list-inline {list-style: none; margin:0; padding: 0}\n",
              ".list-inline>li {display: inline-block}\n",
              ".list-inline>li:not(:last-child)::after {content: \"\\00b7\"; padding: 0 .5ex}\n",
              "</style>\n",
              "<ol class=list-inline><li>1</li><li>10</li><li>3</li><li>2</li></ol>\n"
            ],
            "text/markdown": "1. 1\n2. 10\n3. 3\n4. 2\n\n\n",
            "text/latex": "\\begin{enumerate*}\n\\item 1\n\\item 10\n\\item 3\n\\item 2\n\\end{enumerate*}\n",
            "text/plain": [
              "[1]  1 10  3  2"
            ]
          },
          "metadata": {}
        }
      ]
    },
    {
      "cell_type": "code",
      "source": [
        "# 18. Concatenate strings\n",
        "paste(\"Hello\", \"World\")"
      ],
      "metadata": {
        "colab": {
          "base_uri": "https://localhost:8080/",
          "height": 34
        },
        "id": "C0bjSweU5tAQ",
        "outputId": "b67f7bb0-2e08-4a06-819e-2827b975e924"
      },
      "execution_count": 19,
      "outputs": [
        {
          "output_type": "display_data",
          "data": {
            "text/html": [
              "'Hello World'"
            ],
            "text/markdown": "'Hello World'",
            "text/latex": "'Hello World'",
            "text/plain": [
              "[1] \"Hello World\""
            ]
          },
          "metadata": {}
        }
      ]
    },
    {
      "cell_type": "code",
      "source": [
        "# 19. Concatenate without spaces\n",
        "paste0(\"Hello\", \"World\")"
      ],
      "metadata": {
        "colab": {
          "base_uri": "https://localhost:8080/",
          "height": 34
        },
        "id": "DSEfyMHT5syz",
        "outputId": "568da3c0-ffcd-4c34-b93c-6fc437c28298"
      },
      "execution_count": 20,
      "outputs": [
        {
          "output_type": "display_data",
          "data": {
            "text/html": [
              "'HelloWorld'"
            ],
            "text/markdown": "'HelloWorld'",
            "text/latex": "'HelloWorld'",
            "text/plain": [
              "[1] \"HelloWorld\""
            ]
          },
          "metadata": {}
        }
      ]
    },
    {
      "cell_type": "code",
      "source": [
        " # 20. Convert to uppercase\n",
        " toupper(\"hello\")"
      ],
      "metadata": {
        "colab": {
          "base_uri": "https://localhost:8080/",
          "height": 34
        },
        "id": "LIBu5sqn58iJ",
        "outputId": "c38a9f9d-9d8a-4017-a814-41a464f827c0"
      },
      "execution_count": 21,
      "outputs": [
        {
          "output_type": "display_data",
          "data": {
            "text/html": [
              "'HELLO'"
            ],
            "text/markdown": "'HELLO'",
            "text/latex": "'HELLO'",
            "text/plain": [
              "[1] \"HELLO\""
            ]
          },
          "metadata": {}
        }
      ]
    },
    {
      "cell_type": "code",
      "source": [
        "# 21. Convert to lowercase\n",
        "tolower(\"HELLO\")"
      ],
      "metadata": {
        "colab": {
          "base_uri": "https://localhost:8080/",
          "height": 34
        },
        "id": "-GVPMNcx58es",
        "outputId": "8d816bdc-fd9b-428f-e941-5619a4cdbb25"
      },
      "execution_count": 22,
      "outputs": [
        {
          "output_type": "display_data",
          "data": {
            "text/html": [
              "'hello'"
            ],
            "text/markdown": "'hello'",
            "text/latex": "'hello'",
            "text/plain": [
              "[1] \"hello\""
            ]
          },
          "metadata": {}
        }
      ]
    },
    {
      "cell_type": "code",
      "source": [
        "# 22. Extract substring\n",
        "substr(\"HelloWorld\", 2, 5)"
      ],
      "metadata": {
        "colab": {
          "base_uri": "https://localhost:8080/",
          "height": 34
        },
        "id": "tl26FSoo58dE",
        "outputId": "f174d928-37ea-4d85-ad6d-faed8a50c4d8"
      },
      "execution_count": 23,
      "outputs": [
        {
          "output_type": "display_data",
          "data": {
            "text/html": [
              "'ello'"
            ],
            "text/markdown": "'ello'",
            "text/latex": "'ello'",
            "text/plain": [
              "[1] \"ello\""
            ]
          },
          "metadata": {}
        }
      ]
    },
    {
      "cell_type": "code",
      "source": [
        "# 23. Pattern matching\n",
        "grep(\"a\", c(\"apple\", \"banana\", \"cherry\"))"
      ],
      "metadata": {
        "colab": {
          "base_uri": "https://localhost:8080/",
          "height": 34
        },
        "id": "h2owHSgh58aX",
        "outputId": "5355950c-fd9a-47cc-c604-7c4ac9013a72"
      },
      "execution_count": 24,
      "outputs": [
        {
          "output_type": "display_data",
          "data": {
            "text/html": [
              "<style>\n",
              ".list-inline {list-style: none; margin:0; padding: 0}\n",
              ".list-inline>li {display: inline-block}\n",
              ".list-inline>li:not(:last-child)::after {content: \"\\00b7\"; padding: 0 .5ex}\n",
              "</style>\n",
              "<ol class=list-inline><li>1</li><li>2</li></ol>\n"
            ],
            "text/markdown": "1. 1\n2. 2\n\n\n",
            "text/latex": "\\begin{enumerate*}\n\\item 1\n\\item 2\n\\end{enumerate*}\n",
            "text/plain": [
              "[1] 1 2"
            ]
          },
          "metadata": {}
        }
      ]
    },
    {
      "cell_type": "code",
      "source": [
        "# 24. Replace pattern\n",
        "gsub(\"a\", \"@\", \"banana\")"
      ],
      "metadata": {
        "colab": {
          "base_uri": "https://localhost:8080/",
          "height": 34
        },
        "id": "Q5eRq8Jh58YD",
        "outputId": "cba5b6a3-716a-475a-ec91-d24d0a8684ee"
      },
      "execution_count": 25,
      "outputs": [
        {
          "output_type": "display_data",
          "data": {
            "text/html": [
              "'b@n@n@'"
            ],
            "text/markdown": "'b@n@n@'",
            "text/latex": "'b@n@n@'",
            "text/plain": [
              "[1] \"b@n@n@\""
            ]
          },
          "metadata": {}
        }
      ]
    },
    {
      "cell_type": "code",
      "source": [
        "# 25. Split strings\n",
        "strsplit(\"apple,banana,grape\", \",\")"
      ],
      "metadata": {
        "colab": {
          "base_uri": "https://localhost:8080/",
          "height": 62
        },
        "id": "77_X8Ide6VGV",
        "outputId": "dfa5812b-66e9-4bf4-badb-46b2bd9e4dd5"
      },
      "execution_count": 26,
      "outputs": [
        {
          "output_type": "display_data",
          "data": {
            "text/html": [
              "<ol>\n",
              "\t<li><style>\n",
              ".list-inline {list-style: none; margin:0; padding: 0}\n",
              ".list-inline>li {display: inline-block}\n",
              ".list-inline>li:not(:last-child)::after {content: \"\\00b7\"; padding: 0 .5ex}\n",
              "</style>\n",
              "<ol class=list-inline><li>'apple'</li><li>'banana'</li><li>'grape'</li></ol>\n",
              "</li>\n",
              "</ol>\n"
            ],
            "text/markdown": "1. 1. 'apple'\n2. 'banana'\n3. 'grape'\n\n\n\n\n\n",
            "text/latex": "\\begin{enumerate}\n\\item \\begin{enumerate*}\n\\item 'apple'\n\\item 'banana'\n\\item 'grape'\n\\end{enumerate*}\n\n\\end{enumerate}\n",
            "text/plain": [
              "[[1]]\n",
              "[1] \"apple\"  \"banana\" \"grape\" \n"
            ]
          },
          "metadata": {}
        }
      ]
    },
    {
      "cell_type": "code",
      "source": [
        " # 26. Convert to numeric\n",
        "as.numeric(\"10\")"
      ],
      "metadata": {
        "colab": {
          "base_uri": "https://localhost:8080/",
          "height": 34
        },
        "id": "tOMZVW8v6Z-T",
        "outputId": "1d372330-efaf-4ab7-c79c-cfb996cf2ac4"
      },
      "execution_count": 27,
      "outputs": [
        {
          "output_type": "display_data",
          "data": {
            "text/html": [
              "10"
            ],
            "text/markdown": "10",
            "text/latex": "10",
            "text/plain": [
              "[1] 10"
            ]
          },
          "metadata": {}
        }
      ]
    },
    {
      "cell_type": "code",
      "source": [
        "# 27. Convert to character\n",
        "as.character(10)"
      ],
      "metadata": {
        "colab": {
          "base_uri": "https://localhost:8080/",
          "height": 34
        },
        "id": "WN_YiIbz6diq",
        "outputId": "93ae4178-bd0b-4cbd-fdec-12f4c5b3b5ca"
      },
      "execution_count": 28,
      "outputs": [
        {
          "output_type": "display_data",
          "data": {
            "text/html": [
              "'10'"
            ],
            "text/markdown": "'10'",
            "text/latex": "'10'",
            "text/plain": [
              "[1] \"10\""
            ]
          },
          "metadata": {}
        }
      ]
    },
    {
      "cell_type": "code",
      "source": [
        "# 28. Convert to factor\n",
        "as.factor(c(\"low\", \"medium\", \"high\"))"
      ],
      "metadata": {
        "colab": {
          "base_uri": "https://localhost:8080/",
          "height": 52
        },
        "id": "yGyitUJY6htl",
        "outputId": "45ae842f-db60-4555-d70e-65bad82b8c02"
      },
      "execution_count": 29,
      "outputs": [
        {
          "output_type": "display_data",
          "data": {
            "text/html": [
              "<style>\n",
              ".list-inline {list-style: none; margin:0; padding: 0}\n",
              ".list-inline>li {display: inline-block}\n",
              ".list-inline>li:not(:last-child)::after {content: \"\\00b7\"; padding: 0 .5ex}\n",
              "</style>\n",
              "<ol class=list-inline><li>low</li><li>medium</li><li>high</li></ol>\n",
              "\n",
              "<details>\n",
              "\t<summary style=display:list-item;cursor:pointer>\n",
              "\t\t<strong>Levels</strong>:\n",
              "\t</summary>\n",
              "\t<style>\n",
              "\t.list-inline {list-style: none; margin:0; padding: 0}\n",
              "\t.list-inline>li {display: inline-block}\n",
              "\t.list-inline>li:not(:last-child)::after {content: \"\\00b7\"; padding: 0 .5ex}\n",
              "\t</style>\n",
              "\t<ol class=list-inline><li>'high'</li><li>'low'</li><li>'medium'</li></ol>\n",
              "</details>"
            ],
            "text/markdown": "1. low\n2. medium\n3. high\n\n\n\n**Levels**: 1. 'high'\n2. 'low'\n3. 'medium'\n\n\n",
            "text/latex": "\\begin{enumerate*}\n\\item low\n\\item medium\n\\item high\n\\end{enumerate*}\n\n\\emph{Levels}: \\begin{enumerate*}\n\\item 'high'\n\\item 'low'\n\\item 'medium'\n\\end{enumerate*}\n",
            "text/plain": [
              "[1] low    medium high  \n",
              "Levels: high low medium"
            ]
          },
          "metadata": {}
        }
      ]
    },
    {
      "cell_type": "code",
      "source": [
        " # 29. Convert to date\n",
        "as.Date(\"2024-02-05\")"
      ],
      "metadata": {
        "colab": {
          "base_uri": "https://localhost:8080/",
          "height": 34
        },
        "id": "cXz9x-bP6j5a",
        "outputId": "cf3150a2-baf2-473f-e84e-c578d776eb9c"
      },
      "execution_count": 30,
      "outputs": [
        {
          "output_type": "display_data",
          "data": {
            "text/html": [
              "<time datetime=\"2024-02-05\">2024-02-05</time>"
            ],
            "text/markdown": "2024-02-05",
            "text/latex": "2024-02-05",
            "text/plain": [
              "[1] \"2024-02-05\""
            ]
          },
          "metadata": {}
        }
      ]
    },
    {
      "cell_type": "code",
      "source": [
        " # 30. Get current date\n",
        "Sys.Date()"
      ],
      "metadata": {
        "colab": {
          "base_uri": "https://localhost:8080/",
          "height": 34
        },
        "id": "DYvG5O3d6lhU",
        "outputId": "e6188b4c-9fbf-4333-99ef-d83d50d13026"
      },
      "execution_count": 31,
      "outputs": [
        {
          "output_type": "display_data",
          "data": {
            "text/html": [
              "<time datetime=\"2025-02-05\">2025-02-05</time>"
            ],
            "text/markdown": "2025-02-05",
            "text/latex": "2025-02-05",
            "text/plain": [
              "[1] \"2025-02-05\""
            ]
          },
          "metadata": {}
        }
      ]
    },
    {
      "cell_type": "markdown",
      "source": [
        "## Mathematical & Statistical Functions"
      ],
      "metadata": {
        "id": "cD39fkXq6nWf"
      }
    },
    {
      "cell_type": "code",
      "source": [
        "# 31. Sum of elements\n",
        "sum(c(1, 2, 3))  # Sum of elements"
      ],
      "metadata": {
        "colab": {
          "base_uri": "https://localhost:8080/",
          "height": 34
        },
        "id": "_uXC1-a38NKI",
        "outputId": "98917c43-4118-4b55-c27e-10e87e369720"
      },
      "execution_count": 32,
      "outputs": [
        {
          "output_type": "display_data",
          "data": {
            "text/html": [
              "6"
            ],
            "text/markdown": "6",
            "text/latex": "6",
            "text/plain": [
              "[1] 6"
            ]
          },
          "metadata": {}
        }
      ]
    },
    {
      "cell_type": "code",
      "source": [
        "# 32. Product of elements\n",
        "prod(c(1, 2, 3))"
      ],
      "metadata": {
        "colab": {
          "base_uri": "https://localhost:8080/",
          "height": 34
        },
        "id": "X-qw8pQF8WGT",
        "outputId": "34468031-c950-4f26-e01b-b98ce7b2526c"
      },
      "execution_count": 33,
      "outputs": [
        {
          "output_type": "display_data",
          "data": {
            "text/html": [
              "6"
            ],
            "text/markdown": "6",
            "text/latex": "6",
            "text/plain": [
              "[1] 6"
            ]
          },
          "metadata": {}
        }
      ]
    },
    {
      "cell_type": "code",
      "source": [
        "# 33. Cumulative sum\n",
        "cumsum(c(1, 2, 3))"
      ],
      "metadata": {
        "id": "9-mNlLIY8pWY",
        "outputId": "651a98cb-cf0f-485f-f211-54f7e56d293d",
        "colab": {
          "base_uri": "https://localhost:8080/",
          "height": 34
        }
      },
      "execution_count": 34,
      "outputs": [
        {
          "output_type": "display_data",
          "data": {
            "text/html": [
              "<style>\n",
              ".list-inline {list-style: none; margin:0; padding: 0}\n",
              ".list-inline>li {display: inline-block}\n",
              ".list-inline>li:not(:last-child)::after {content: \"\\00b7\"; padding: 0 .5ex}\n",
              "</style>\n",
              "<ol class=list-inline><li>1</li><li>3</li><li>6</li></ol>\n"
            ],
            "text/markdown": "1. 1\n2. 3\n3. 6\n\n\n",
            "text/latex": "\\begin{enumerate*}\n\\item 1\n\\item 3\n\\item 6\n\\end{enumerate*}\n",
            "text/plain": [
              "[1] 1 3 6"
            ]
          },
          "metadata": {}
        }
      ]
    },
    {
      "cell_type": "code",
      "source": [
        "# 34. Cumulative product\n",
        "cumprod(c(1, 2, 3))"
      ],
      "metadata": {
        "id": "zBdJUHtR8nRB",
        "colab": {
          "base_uri": "https://localhost:8080/",
          "height": 34
        },
        "outputId": "6bd799ee-54ba-438f-b274-fae9bfe9a4ef"
      },
      "execution_count": 35,
      "outputs": [
        {
          "output_type": "display_data",
          "data": {
            "text/html": [
              "<style>\n",
              ".list-inline {list-style: none; margin:0; padding: 0}\n",
              ".list-inline>li {display: inline-block}\n",
              ".list-inline>li:not(:last-child)::after {content: \"\\00b7\"; padding: 0 .5ex}\n",
              "</style>\n",
              "<ol class=list-inline><li>1</li><li>2</li><li>6</li></ol>\n"
            ],
            "text/markdown": "1. 1\n2. 2\n3. 6\n\n\n",
            "text/latex": "\\begin{enumerate*}\n\\item 1\n\\item 2\n\\item 6\n\\end{enumerate*}\n",
            "text/plain": [
              "[1] 1 2 6"
            ]
          },
          "metadata": {}
        }
      ]
    },
    {
      "cell_type": "code",
      "source": [
        " # 35. Compute mean\n",
        "mean(c(1, 2, 3))"
      ],
      "metadata": {
        "colab": {
          "base_uri": "https://localhost:8080/",
          "height": 34
        },
        "id": "4gbVyKMMDSyV",
        "outputId": "f34e503e-44b3-44bf-f6c6-5a5b581b6b8e"
      },
      "execution_count": 36,
      "outputs": [
        {
          "output_type": "display_data",
          "data": {
            "text/html": [
              "2"
            ],
            "text/markdown": "2",
            "text/latex": "2",
            "text/plain": [
              "[1] 2"
            ]
          },
          "metadata": {}
        }
      ]
    },
    {
      "cell_type": "code",
      "source": [
        "# 36. Compute median\n",
        "median(c(1, 2, 3, 4))"
      ],
      "metadata": {
        "colab": {
          "base_uri": "https://localhost:8080/",
          "height": 34
        },
        "id": "1K6CGGqpDj8-",
        "outputId": "b90c0f2c-8385-480d-8de8-84389418f57b"
      },
      "execution_count": 37,
      "outputs": [
        {
          "output_type": "display_data",
          "data": {
            "text/html": [
              "2.5"
            ],
            "text/markdown": "2.5",
            "text/latex": "2.5",
            "text/plain": [
              "[1] 2.5"
            ]
          },
          "metadata": {}
        }
      ]
    },
    {
      "cell_type": "code",
      "source": [
        "# 37. Find minimum\n",
        "min(c(1, 2, 3))"
      ],
      "metadata": {
        "colab": {
          "base_uri": "https://localhost:8080/",
          "height": 34
        },
        "id": "r81XZ-fjDnFd",
        "outputId": "2780aff5-0e18-4a7e-cb7d-b12f5619a99e"
      },
      "execution_count": 38,
      "outputs": [
        {
          "output_type": "display_data",
          "data": {
            "text/html": [
              "1"
            ],
            "text/markdown": "1",
            "text/latex": "1",
            "text/plain": [
              "[1] 1"
            ]
          },
          "metadata": {}
        }
      ]
    },
    {
      "cell_type": "code",
      "source": [
        "# 38. Find maximum\n",
        "max(c(1, 2, 3))"
      ],
      "metadata": {
        "colab": {
          "base_uri": "https://localhost:8080/",
          "height": 34
        },
        "id": "sN-KtPOVDpH7",
        "outputId": "ae0172ce-f651-49ab-fb64-cc219b1fd0b3"
      },
      "execution_count": 39,
      "outputs": [
        {
          "output_type": "display_data",
          "data": {
            "text/html": [
              "3"
            ],
            "text/markdown": "3",
            "text/latex": "3",
            "text/plain": [
              "[1] 3"
            ]
          },
          "metadata": {}
        }
      ]
    },
    {
      "cell_type": "code",
      "source": [
        "# 39. Find range\n",
        "range(c(1, 2, 3))"
      ],
      "metadata": {
        "colab": {
          "base_uri": "https://localhost:8080/",
          "height": 34
        },
        "id": "KWOgOD9YDrUq",
        "outputId": "cbf5ab6d-b7f2-4c65-cc4b-cc5873d6bb6e"
      },
      "execution_count": 40,
      "outputs": [
        {
          "output_type": "display_data",
          "data": {
            "text/html": [
              "<style>\n",
              ".list-inline {list-style: none; margin:0; padding: 0}\n",
              ".list-inline>li {display: inline-block}\n",
              ".list-inline>li:not(:last-child)::after {content: \"\\00b7\"; padding: 0 .5ex}\n",
              "</style>\n",
              "<ol class=list-inline><li>1</li><li>3</li></ol>\n"
            ],
            "text/markdown": "1. 1\n2. 3\n\n\n",
            "text/latex": "\\begin{enumerate*}\n\\item 1\n\\item 3\n\\end{enumerate*}\n",
            "text/plain": [
              "[1] 1 3"
            ]
          },
          "metadata": {}
        }
      ]
    },
    {
      "cell_type": "code",
      "source": [
        "# 40. Variance\n",
        "var(c(1, 2, 3))"
      ],
      "metadata": {
        "colab": {
          "base_uri": "https://localhost:8080/",
          "height": 34
        },
        "id": "w9lcYp_YDxe1",
        "outputId": "7f1485a1-2e24-4396-8cee-6d64ab5e78ee"
      },
      "execution_count": 41,
      "outputs": [
        {
          "output_type": "display_data",
          "data": {
            "text/html": [
              "1"
            ],
            "text/markdown": "1",
            "text/latex": "1",
            "text/plain": [
              "[1] 1"
            ]
          },
          "metadata": {}
        }
      ]
    },
    {
      "cell_type": "code",
      "source": [
        "# 41. Standard deviation\n",
        "sd(c(1, 2, 3))"
      ],
      "metadata": {
        "colab": {
          "base_uri": "https://localhost:8080/",
          "height": 34
        },
        "id": "P_NdOioRDvXJ",
        "outputId": "813b297d-83a4-4e8e-d6cd-9ae5a7870e21"
      },
      "execution_count": 42,
      "outputs": [
        {
          "output_type": "display_data",
          "data": {
            "text/html": [
              "1"
            ],
            "text/markdown": "1",
            "text/latex": "1",
            "text/plain": [
              "[1] 1"
            ]
          },
          "metadata": {}
        }
      ]
    },
    {
      "cell_type": "code",
      "source": [
        "# 42. Covariance\n",
        "cov(c(1, 2, 3), c(3, 2, 1))"
      ],
      "metadata": {
        "colab": {
          "base_uri": "https://localhost:8080/",
          "height": 34
        },
        "id": "8SV58ZoJEhLG",
        "outputId": "ab6dc3d2-c035-41ef-c999-98e54a8e9f83"
      },
      "execution_count": 43,
      "outputs": [
        {
          "output_type": "display_data",
          "data": {
            "text/html": [
              "-1"
            ],
            "text/markdown": "-1",
            "text/latex": "-1",
            "text/plain": [
              "[1] -1"
            ]
          },
          "metadata": {}
        }
      ]
    },
    {
      "cell_type": "code",
      "source": [
        "# 44. Correlation coefficient\n",
        "cor(c(1, 2, 3), c(3, 2, 1))"
      ],
      "metadata": {
        "colab": {
          "base_uri": "https://localhost:8080/",
          "height": 34
        },
        "id": "be-YmVr8EdoP",
        "outputId": "98888a72-ffc8-4837-d336-f37ad350a77f"
      },
      "execution_count": 44,
      "outputs": [
        {
          "output_type": "display_data",
          "data": {
            "text/html": [
              "-1"
            ],
            "text/markdown": "-1",
            "text/latex": "-1",
            "text/plain": [
              "[1] -1"
            ]
          },
          "metadata": {}
        }
      ]
    },
    {
      "cell_type": "code",
      "source": [
        "# 45. Compute quantiles\n",
        "quantile(c(1, 2, 3, 4, 5), probs = 0.5)"
      ],
      "metadata": {
        "colab": {
          "base_uri": "https://localhost:8080/",
          "height": 34
        },
        "id": "PEzcErBcD2r3",
        "outputId": "8077163a-a294-4f08-deed-5365f051b59f"
      },
      "execution_count": 45,
      "outputs": [
        {
          "output_type": "display_data",
          "data": {
            "text/html": [
              "<strong>50%:</strong> 3"
            ],
            "text/markdown": "**50%:** 3",
            "text/latex": "\\textbf{50\\textbackslash{}\\%:} 3",
            "text/plain": [
              "50% \n",
              "  3 "
            ]
          },
          "metadata": {}
        }
      ]
    },
    {
      "cell_type": "code",
      "source": [
        "# 46. Round values\n",
        "round(3.14159, 2)"
      ],
      "metadata": {
        "colab": {
          "base_uri": "https://localhost:8080/",
          "height": 34
        },
        "id": "ZJPdLW5oD5Jp",
        "outputId": "8208fdc8-86e9-4995-8c48-eba8639222c3"
      },
      "execution_count": 46,
      "outputs": [
        {
          "output_type": "display_data",
          "data": {
            "text/html": [
              "3.14"
            ],
            "text/markdown": "3.14",
            "text/latex": "3.14",
            "text/plain": [
              "[1] 3.14"
            ]
          },
          "metadata": {}
        }
      ]
    },
    {
      "cell_type": "code",
      "source": [
        "# 47. Round up\n",
        "ceiling(3.2)"
      ],
      "metadata": {
        "colab": {
          "base_uri": "https://localhost:8080/",
          "height": 34
        },
        "id": "TB41IhYCD6zJ",
        "outputId": "d6fe82f9-c352-43b7-8a68-2637f69af194"
      },
      "execution_count": 47,
      "outputs": [
        {
          "output_type": "display_data",
          "data": {
            "text/html": [
              "4"
            ],
            "text/markdown": "4",
            "text/latex": "4",
            "text/plain": [
              "[1] 4"
            ]
          },
          "metadata": {}
        }
      ]
    },
    {
      "cell_type": "code",
      "source": [
        "# 48. Round down\n",
        "floor(3.9)"
      ],
      "metadata": {
        "colab": {
          "base_uri": "https://localhost:8080/",
          "height": 34
        },
        "id": "oZ-p7k9JD-N8",
        "outputId": "22328086-c9b1-422a-d4e1-948ac2c8302b"
      },
      "execution_count": 48,
      "outputs": [
        {
          "output_type": "display_data",
          "data": {
            "text/html": [
              "3"
            ],
            "text/markdown": "3",
            "text/latex": "3",
            "text/plain": [
              "[1] 3"
            ]
          },
          "metadata": {}
        }
      ]
    },
    {
      "cell_type": "code",
      "source": [
        "# 49. Absolute value\n",
        "abs(-5)"
      ],
      "metadata": {
        "colab": {
          "base_uri": "https://localhost:8080/",
          "height": 34
        },
        "id": "FY9Gs-z1EAD1",
        "outputId": "b348dd6d-a0ba-417f-a57a-e769a125237c"
      },
      "execution_count": 49,
      "outputs": [
        {
          "output_type": "display_data",
          "data": {
            "text/html": [
              "5"
            ],
            "text/markdown": "5",
            "text/latex": "5",
            "text/plain": [
              "[1] 5"
            ]
          },
          "metadata": {}
        }
      ]
    },
    {
      "cell_type": "code",
      "source": [
        "# 50. Square root\n",
        "sqrt(9)"
      ],
      "metadata": {
        "colab": {
          "base_uri": "https://localhost:8080/",
          "height": 34
        },
        "id": "rhUkgtrxEDNQ",
        "outputId": "9a825eba-c171-40ec-cd9d-2b260536ac9a"
      },
      "execution_count": 50,
      "outputs": [
        {
          "output_type": "display_data",
          "data": {
            "text/html": [
              "3"
            ],
            "text/markdown": "3",
            "text/latex": "3",
            "text/plain": [
              "[1] 3"
            ]
          },
          "metadata": {}
        }
      ]
    },
    {
      "cell_type": "code",
      "source": [
        "# 51. Natural logarithm\n",
        "log(10)"
      ],
      "metadata": {
        "colab": {
          "base_uri": "https://localhost:8080/",
          "height": 34
        },
        "id": "PmIeXMg0EIfN",
        "outputId": "a91ef537-813b-4104-ba2a-c7c00ef46630"
      },
      "execution_count": 51,
      "outputs": [
        {
          "output_type": "display_data",
          "data": {
            "text/html": [
              "2.30258509299405"
            ],
            "text/markdown": "2.30258509299405",
            "text/latex": "2.30258509299405",
            "text/plain": [
              "[1] 2.302585"
            ]
          },
          "metadata": {}
        }
      ]
    },
    {
      "cell_type": "code",
      "source": [
        "# 52. Exponential function\n",
        "exp(2)"
      ],
      "metadata": {
        "colab": {
          "base_uri": "https://localhost:8080/",
          "height": 34
        },
        "id": "wYzze5OHEKV7",
        "outputId": "1361ce00-16ea-4350-8330-d721d0d0ea4b"
      },
      "execution_count": 52,
      "outputs": [
        {
          "output_type": "display_data",
          "data": {
            "text/html": [
              "7.38905609893065"
            ],
            "text/markdown": "7.38905609893065",
            "text/latex": "7.38905609893065",
            "text/plain": [
              "[1] 7.389056"
            ]
          },
          "metadata": {}
        }
      ]
    },
    {
      "cell_type": "code",
      "source": [
        "# 53. Compute factorial\n",
        "factorial(5)"
      ],
      "metadata": {
        "colab": {
          "base_uri": "https://localhost:8080/",
          "height": 34
        },
        "id": "GeyphkTLEKIo",
        "outputId": "bd4b7700-6b01-4e18-bb5d-9eeb49c24bb5"
      },
      "execution_count": 53,
      "outputs": [
        {
          "output_type": "display_data",
          "data": {
            "text/html": [
              "120"
            ],
            "text/markdown": "120",
            "text/latex": "120",
            "text/plain": [
              "[1] 120"
            ]
          },
          "metadata": {}
        }
      ]
    },
    {
      "cell_type": "code",
      "source": [
        "# 54. Compute binomial coefficient\n",
        "choose(5, 2)"
      ],
      "metadata": {
        "colab": {
          "base_uri": "https://localhost:8080/",
          "height": 34
        },
        "id": "HkMU_hvcEKFH",
        "outputId": "8edfe04c-4881-4853-a53c-e9c0592d92e9"
      },
      "execution_count": 54,
      "outputs": [
        {
          "output_type": "display_data",
          "data": {
            "text/html": [
              "10"
            ],
            "text/markdown": "10",
            "text/latex": "10",
            "text/plain": [
              "[1] 10"
            ]
          },
          "metadata": {}
        }
      ]
    },
    {
      "cell_type": "code",
      "source": [
        " # 55. Sine function\n",
        "sin(pi/2)"
      ],
      "metadata": {
        "colab": {
          "base_uri": "https://localhost:8080/",
          "height": 34
        },
        "id": "SAZuq2bEEUt5",
        "outputId": "4c6bb031-7391-408d-8068-a4a003221a7b"
      },
      "execution_count": 55,
      "outputs": [
        {
          "output_type": "display_data",
          "data": {
            "text/html": [
              "1"
            ],
            "text/markdown": "1",
            "text/latex": "1",
            "text/plain": [
              "[1] 1"
            ]
          },
          "metadata": {}
        }
      ]
    },
    {
      "cell_type": "code",
      "source": [
        "# 56. Cosine function\n",
        "cos(0)"
      ],
      "metadata": {
        "colab": {
          "base_uri": "https://localhost:8080/",
          "height": 34
        },
        "id": "bsxgBxQYEYkJ",
        "outputId": "414fad8b-192e-4ac2-c164-b737beb7c7f8"
      },
      "execution_count": 56,
      "outputs": [
        {
          "output_type": "display_data",
          "data": {
            "text/html": [
              "1"
            ],
            "text/markdown": "1",
            "text/latex": "1",
            "text/plain": [
              "[1] 1"
            ]
          },
          "metadata": {}
        }
      ]
    },
    {
      "cell_type": "code",
      "source": [
        " # 57. Tangent function\n",
        "tan(pi/4)"
      ],
      "metadata": {
        "colab": {
          "base_uri": "https://localhost:8080/",
          "height": 34
        },
        "id": "Z778944AEaN9",
        "outputId": "35d201a8-972f-487d-9351-11c8c37b7971"
      },
      "execution_count": 57,
      "outputs": [
        {
          "output_type": "display_data",
          "data": {
            "text/html": [
              "1"
            ],
            "text/markdown": "1",
            "text/latex": "1",
            "text/plain": [
              "[1] 1"
            ]
          },
          "metadata": {}
        }
      ]
    },
    {
      "cell_type": "markdown",
      "source": [
        "## Data Manipulation"
      ],
      "metadata": {
        "id": "ATQr7-tY6sdU"
      }
    },
    {
      "cell_type": "code",
      "source": [
        "df <- data.frame(A = 1:3, B = c(\"x\", \"y\", \"z\"))  # Create data frame"
      ],
      "metadata": {
        "id": "JGmyA1V9Exdc"
      },
      "execution_count": 58,
      "outputs": []
    },
    {
      "cell_type": "code",
      "source": [
        "lst <- list(a = 1, b = \"hello\")  # Create a list"
      ],
      "metadata": {
        "id": "MAU1Ng3IE34S"
      },
      "execution_count": 59,
      "outputs": []
    },
    {
      "cell_type": "code",
      "source": [
        "\n",
        "mat <- matrix(1:9, nrow = 3)  # Create a matrix"
      ],
      "metadata": {
        "id": "rPOr2uoSE6C-"
      },
      "execution_count": 60,
      "outputs": []
    },
    {
      "cell_type": "code",
      "source": [
        "arr <- array(1:8, dim = c(2, 2, 2))  # Create an array"
      ],
      "metadata": {
        "id": "WdGlMR-EE8-D"
      },
      "execution_count": 61,
      "outputs": []
    },
    {
      "cell_type": "code",
      "source": [
        "\n",
        "t(mat)  # Transpose a matrix"
      ],
      "metadata": {
        "colab": {
          "base_uri": "https://localhost:8080/",
          "height": 163
        },
        "id": "nvhni0lVFAyU",
        "outputId": "5c19b395-fa32-4762-b950-d1f000d71c45"
      },
      "execution_count": 62,
      "outputs": [
        {
          "output_type": "display_data",
          "data": {
            "text/html": [
              "<table class=\"dataframe\">\n",
              "<caption>A matrix: 3 × 3 of type int</caption>\n",
              "<tbody>\n",
              "\t<tr><td>1</td><td>2</td><td>3</td></tr>\n",
              "\t<tr><td>4</td><td>5</td><td>6</td></tr>\n",
              "\t<tr><td>7</td><td>8</td><td>9</td></tr>\n",
              "</tbody>\n",
              "</table>\n"
            ],
            "text/markdown": "\nA matrix: 3 × 3 of type int\n\n| 1 | 2 | 3 |\n| 4 | 5 | 6 |\n| 7 | 8 | 9 |\n\n",
            "text/latex": "A matrix: 3 × 3 of type int\n\\begin{tabular}{lll}\n\t 1 & 2 & 3\\\\\n\t 4 & 5 & 6\\\\\n\t 7 & 8 & 9\\\\\n\\end{tabular}\n",
            "text/plain": [
              "     [,1] [,2] [,3]\n",
              "[1,] 1    2    3   \n",
              "[2,] 4    5    6   \n",
              "[3,] 7    8    9   "
            ]
          },
          "metadata": {}
        }
      ]
    },
    {
      "cell_type": "code",
      "source": [
        "\n",
        "rbind(1:3, 4:6)  # Row bind data"
      ],
      "metadata": {
        "colab": {
          "base_uri": "https://localhost:8080/",
          "height": 132
        },
        "id": "0KPmVIgDFB0P",
        "outputId": "68a8389a-4e4f-4228-f609-4d59a04237bf"
      },
      "execution_count": 63,
      "outputs": [
        {
          "output_type": "display_data",
          "data": {
            "text/html": [
              "<table class=\"dataframe\">\n",
              "<caption>A matrix: 2 × 3 of type int</caption>\n",
              "<tbody>\n",
              "\t<tr><td>1</td><td>2</td><td>3</td></tr>\n",
              "\t<tr><td>4</td><td>5</td><td>6</td></tr>\n",
              "</tbody>\n",
              "</table>\n"
            ],
            "text/markdown": "\nA matrix: 2 × 3 of type int\n\n| 1 | 2 | 3 |\n| 4 | 5 | 6 |\n\n",
            "text/latex": "A matrix: 2 × 3 of type int\n\\begin{tabular}{lll}\n\t 1 & 2 & 3\\\\\n\t 4 & 5 & 6\\\\\n\\end{tabular}\n",
            "text/plain": [
              "     [,1] [,2] [,3]\n",
              "[1,] 1    2    3   \n",
              "[2,] 4    5    6   "
            ]
          },
          "metadata": {}
        }
      ]
    },
    {
      "cell_type": "code",
      "source": [
        "cbind(1:3, 4:6)  # Column bind data"
      ],
      "metadata": {
        "colab": {
          "base_uri": "https://localhost:8080/",
          "height": 198
        },
        "id": "gh7tt_raFFP_",
        "outputId": "f12ff4f1-a964-45be-cce0-01235ff62386"
      },
      "execution_count": 64,
      "outputs": [
        {
          "output_type": "display_data",
          "data": {
            "text/html": [
              "<table class=\"dataframe\">\n",
              "<caption>A matrix: 3 × 2 of type int</caption>\n",
              "<tbody>\n",
              "\t<tr><td>1</td><td>4</td></tr>\n",
              "\t<tr><td>2</td><td>5</td></tr>\n",
              "\t<tr><td>3</td><td>6</td></tr>\n",
              "</tbody>\n",
              "</table>\n"
            ],
            "text/markdown": "\nA matrix: 3 × 2 of type int\n\n| 1 | 4 |\n| 2 | 5 |\n| 3 | 6 |\n\n",
            "text/latex": "A matrix: 3 × 2 of type int\n\\begin{tabular}{ll}\n\t 1 & 4\\\\\n\t 2 & 5\\\\\n\t 3 & 6\\\\\n\\end{tabular}\n",
            "text/plain": [
              "     [,1] [,2]\n",
              "[1,] 1    4   \n",
              "[2,] 2    5   \n",
              "[3,] 3    6   "
            ]
          },
          "metadata": {}
        }
      ]
    },
    {
      "cell_type": "code",
      "source": [
        "\n",
        "dim(mat)  # Get dimensions of matrix/dataframe"
      ],
      "metadata": {
        "colab": {
          "base_uri": "https://localhost:8080/",
          "height": 34
        },
        "id": "OuRA-7THFGtN",
        "outputId": "75020ef0-7e04-4baa-a810-79f47062405b"
      },
      "execution_count": 65,
      "outputs": [
        {
          "output_type": "display_data",
          "data": {
            "text/html": [
              "<style>\n",
              ".list-inline {list-style: none; margin:0; padding: 0}\n",
              ".list-inline>li {display: inline-block}\n",
              ".list-inline>li:not(:last-child)::after {content: \"\\00b7\"; padding: 0 .5ex}\n",
              "</style>\n",
              "<ol class=list-inline><li>3</li><li>3</li></ol>\n"
            ],
            "text/markdown": "1. 3\n2. 3\n\n\n",
            "text/latex": "\\begin{enumerate*}\n\\item 3\n\\item 3\n\\end{enumerate*}\n",
            "text/plain": [
              "[1] 3 3"
            ]
          },
          "metadata": {}
        }
      ]
    },
    {
      "cell_type": "code",
      "source": [
        "nrow(df)  # Number of rows"
      ],
      "metadata": {
        "colab": {
          "base_uri": "https://localhost:8080/",
          "height": 34
        },
        "id": "gm-Q1k83FGp3",
        "outputId": "1287e32a-f98c-4f38-fe54-64088c3e5a0f"
      },
      "execution_count": 66,
      "outputs": [
        {
          "output_type": "display_data",
          "data": {
            "text/html": [
              "3"
            ],
            "text/markdown": "3",
            "text/latex": "3",
            "text/plain": [
              "[1] 3"
            ]
          },
          "metadata": {}
        }
      ]
    },
    {
      "cell_type": "code",
      "source": [
        "ncol(df)  # Number of columns"
      ],
      "metadata": {
        "colab": {
          "base_uri": "https://localhost:8080/",
          "height": 34
        },
        "id": "2aIOi-7YFK4o",
        "outputId": "98601032-747c-45ef-996c-aa34457757c3"
      },
      "execution_count": 67,
      "outputs": [
        {
          "output_type": "display_data",
          "data": {
            "text/html": [
              "2"
            ],
            "text/markdown": "2",
            "text/latex": "2",
            "text/plain": [
              "[1] 2"
            ]
          },
          "metadata": {}
        }
      ]
    },
    {
      "cell_type": "code",
      "source": [
        "names(df)  # Get or set column names"
      ],
      "metadata": {
        "colab": {
          "base_uri": "https://localhost:8080/",
          "height": 34
        },
        "id": "EV7MgSifFMqb",
        "outputId": "20bd28c9-882e-4bfa-b71c-e97eea4c5580"
      },
      "execution_count": 68,
      "outputs": [
        {
          "output_type": "display_data",
          "data": {
            "text/html": [
              "<style>\n",
              ".list-inline {list-style: none; margin:0; padding: 0}\n",
              ".list-inline>li {display: inline-block}\n",
              ".list-inline>li:not(:last-child)::after {content: \"\\00b7\"; padding: 0 .5ex}\n",
              "</style>\n",
              "<ol class=list-inline><li>'A'</li><li>'B'</li></ol>\n"
            ],
            "text/markdown": "1. 'A'\n2. 'B'\n\n\n",
            "text/latex": "\\begin{enumerate*}\n\\item 'A'\n\\item 'B'\n\\end{enumerate*}\n",
            "text/plain": [
              "[1] \"A\" \"B\""
            ]
          },
          "metadata": {}
        }
      ]
    },
    {
      "cell_type": "code",
      "source": [
        "colnames(df)  # Get/set column names"
      ],
      "metadata": {
        "colab": {
          "base_uri": "https://localhost:8080/",
          "height": 34
        },
        "id": "51jHiaCLFOZX",
        "outputId": "2cf7cf5e-2ee3-411f-be1b-d78e7a288dd4"
      },
      "execution_count": 69,
      "outputs": [
        {
          "output_type": "display_data",
          "data": {
            "text/html": [
              "<style>\n",
              ".list-inline {list-style: none; margin:0; padding: 0}\n",
              ".list-inline>li {display: inline-block}\n",
              ".list-inline>li:not(:last-child)::after {content: \"\\00b7\"; padding: 0 .5ex}\n",
              "</style>\n",
              "<ol class=list-inline><li>'A'</li><li>'B'</li></ol>\n"
            ],
            "text/markdown": "1. 'A'\n2. 'B'\n\n\n",
            "text/latex": "\\begin{enumerate*}\n\\item 'A'\n\\item 'B'\n\\end{enumerate*}\n",
            "text/plain": [
              "[1] \"A\" \"B\""
            ]
          },
          "metadata": {}
        }
      ]
    },
    {
      "cell_type": "code",
      "source": [
        "rownames(df)  # Get/set row names"
      ],
      "metadata": {
        "colab": {
          "base_uri": "https://localhost:8080/",
          "height": 34
        },
        "id": "gIr2u1bWFQBi",
        "outputId": "9ac3571c-4503-4cb9-865f-63a8a33de322"
      },
      "execution_count": 70,
      "outputs": [
        {
          "output_type": "display_data",
          "data": {
            "text/html": [
              "<style>\n",
              ".list-inline {list-style: none; margin:0; padding: 0}\n",
              ".list-inline>li {display: inline-block}\n",
              ".list-inline>li:not(:last-child)::after {content: \"\\00b7\"; padding: 0 .5ex}\n",
              "</style>\n",
              "<ol class=list-inline><li>'1'</li><li>'2'</li><li>'3'</li></ol>\n"
            ],
            "text/markdown": "1. '1'\n2. '2'\n3. '3'\n\n\n",
            "text/latex": "\\begin{enumerate*}\n\\item '1'\n\\item '2'\n\\item '3'\n\\end{enumerate*}\n",
            "text/plain": [
              "[1] \"1\" \"2\" \"3\""
            ]
          },
          "metadata": {}
        }
      ]
    },
    {
      "cell_type": "code",
      "source": [
        "\n",
        "subset(df, A > 1)  # Subset data"
      ],
      "metadata": {
        "colab": {
          "base_uri": "https://localhost:8080/",
          "height": 160
        },
        "id": "yIT7AmJDFRID",
        "outputId": "90dd6cb8-8805-41b9-f26d-06e3dea45355"
      },
      "execution_count": 71,
      "outputs": [
        {
          "output_type": "display_data",
          "data": {
            "text/html": [
              "<table class=\"dataframe\">\n",
              "<caption>A data.frame: 2 × 2</caption>\n",
              "<thead>\n",
              "\t<tr><th></th><th scope=col>A</th><th scope=col>B</th></tr>\n",
              "\t<tr><th></th><th scope=col>&lt;int&gt;</th><th scope=col>&lt;chr&gt;</th></tr>\n",
              "</thead>\n",
              "<tbody>\n",
              "\t<tr><th scope=row>2</th><td>2</td><td>y</td></tr>\n",
              "\t<tr><th scope=row>3</th><td>3</td><td>z</td></tr>\n",
              "</tbody>\n",
              "</table>\n"
            ],
            "text/markdown": "\nA data.frame: 2 × 2\n\n| <!--/--> | A &lt;int&gt; | B &lt;chr&gt; |\n|---|---|---|\n| 2 | 2 | y |\n| 3 | 3 | z |\n\n",
            "text/latex": "A data.frame: 2 × 2\n\\begin{tabular}{r|ll}\n  & A & B\\\\\n  & <int> & <chr>\\\\\n\\hline\n\t2 & 2 & y\\\\\n\t3 & 3 & z\\\\\n\\end{tabular}\n",
            "text/plain": [
              "  A B\n",
              "2 2 y\n",
              "3 3 z"
            ]
          },
          "metadata": {}
        }
      ]
    },
    {
      "cell_type": "code",
      "source": [
        "merge(data.frame(ID = 1:2), data.frame(ID = 2:3, Value = c(\"A\", \"B\")))  # Merge data frames"
      ],
      "metadata": {
        "colab": {
          "base_uri": "https://localhost:8080/",
          "height": 146
        },
        "id": "u7umrBqyFTcx",
        "outputId": "c2f02ce1-b1bb-44c7-ac39-dfe60d961e5d"
      },
      "execution_count": 72,
      "outputs": [
        {
          "output_type": "display_data",
          "data": {
            "text/html": [
              "<table class=\"dataframe\">\n",
              "<caption>A data.frame: 1 × 2</caption>\n",
              "<thead>\n",
              "\t<tr><th scope=col>ID</th><th scope=col>Value</th></tr>\n",
              "\t<tr><th scope=col>&lt;int&gt;</th><th scope=col>&lt;chr&gt;</th></tr>\n",
              "</thead>\n",
              "<tbody>\n",
              "\t<tr><td>2</td><td>A</td></tr>\n",
              "</tbody>\n",
              "</table>\n"
            ],
            "text/markdown": "\nA data.frame: 1 × 2\n\n| ID &lt;int&gt; | Value &lt;chr&gt; |\n|---|---|\n| 2 | A |\n\n",
            "text/latex": "A data.frame: 1 × 2\n\\begin{tabular}{ll}\n ID & Value\\\\\n <int> & <chr>\\\\\n\\hline\n\t 2 & A\\\\\n\\end{tabular}\n",
            "text/plain": [
              "  ID Value\n",
              "1 2  A    "
            ]
          },
          "metadata": {}
        }
      ]
    },
    {
      "cell_type": "code",
      "source": [
        "apply(mat, 1, sum)  # Apply function over array margins"
      ],
      "metadata": {
        "colab": {
          "base_uri": "https://localhost:8080/",
          "height": 34
        },
        "id": "CJncEyw-FUyv",
        "outputId": "a3ef10e2-5550-4543-f723-fe0c289d0e91"
      },
      "execution_count": 73,
      "outputs": [
        {
          "output_type": "display_data",
          "data": {
            "text/html": [
              "<style>\n",
              ".list-inline {list-style: none; margin:0; padding: 0}\n",
              ".list-inline>li {display: inline-block}\n",
              ".list-inline>li:not(:last-child)::after {content: \"\\00b7\"; padding: 0 .5ex}\n",
              "</style>\n",
              "<ol class=list-inline><li>12</li><li>15</li><li>18</li></ol>\n"
            ],
            "text/markdown": "1. 12\n2. 15\n3. 18\n\n\n",
            "text/latex": "\\begin{enumerate*}\n\\item 12\n\\item 15\n\\item 18\n\\end{enumerate*}\n",
            "text/plain": [
              "[1] 12 15 18"
            ]
          },
          "metadata": {}
        }
      ]
    },
    {
      "cell_type": "code",
      "source": [
        "\n",
        "lapply(lst, class)  # Apply function over list"
      ],
      "metadata": {
        "colab": {
          "base_uri": "https://localhost:8080/",
          "height": 114
        },
        "id": "vCEKvJAEFWD-",
        "outputId": "1b6de556-d6a9-4ca9-8a99-c4d5d460f87c"
      },
      "execution_count": 74,
      "outputs": [
        {
          "output_type": "display_data",
          "data": {
            "text/html": [
              "<dl>\n",
              "\t<dt>$a</dt>\n",
              "\t\t<dd>'numeric'</dd>\n",
              "\t<dt>$b</dt>\n",
              "\t\t<dd>'character'</dd>\n",
              "</dl>\n"
            ],
            "text/markdown": "$a\n:   'numeric'\n$b\n:   'character'\n\n\n",
            "text/latex": "\\begin{description}\n\\item[\\$a] 'numeric'\n\\item[\\$b] 'character'\n\\end{description}\n",
            "text/plain": [
              "$a\n",
              "[1] \"numeric\"\n",
              "\n",
              "$b\n",
              "[1] \"character\"\n"
            ]
          },
          "metadata": {}
        }
      ]
    },
    {
      "cell_type": "code",
      "source": [
        "sapply(lst, class)  # Simplified apply over list"
      ],
      "metadata": {
        "colab": {
          "base_uri": "https://localhost:8080/",
          "height": 34
        },
        "id": "tbPGkz8jFXWX",
        "outputId": "1097382e-8273-46d0-f255-62a6117e93ef"
      },
      "execution_count": 75,
      "outputs": [
        {
          "output_type": "display_data",
          "data": {
            "text/html": [
              "<style>\n",
              ".dl-inline {width: auto; margin:0; padding: 0}\n",
              ".dl-inline>dt, .dl-inline>dd {float: none; width: auto; display: inline-block}\n",
              ".dl-inline>dt::after {content: \":\\0020\"; padding-right: .5ex}\n",
              ".dl-inline>dt:not(:first-of-type) {padding-left: .5ex}\n",
              "</style><dl class=dl-inline><dt>a</dt><dd>'numeric'</dd><dt>b</dt><dd>'character'</dd></dl>\n"
            ],
            "text/markdown": "a\n:   'numeric'b\n:   'character'\n\n",
            "text/latex": "\\begin{description*}\n\\item[a] 'numeric'\n\\item[b] 'character'\n\\end{description*}\n",
            "text/plain": [
              "          a           b \n",
              "  \"numeric\" \"character\" "
            ]
          },
          "metadata": {}
        }
      ]
    },
    {
      "cell_type": "code",
      "source": [
        "\n",
        "tapply(1:10, rep(1:2, each = 5), sum)  # Apply function over subsets"
      ],
      "metadata": {
        "colab": {
          "base_uri": "https://localhost:8080/",
          "height": 34
        },
        "id": "z9Zk2I47FYfO",
        "outputId": "d02c2bb6-8d4e-4e22-883e-cc9d0097c263"
      },
      "execution_count": 76,
      "outputs": [
        {
          "output_type": "display_data",
          "data": {
            "text/html": [
              "<style>\n",
              ".dl-inline {width: auto; margin:0; padding: 0}\n",
              ".dl-inline>dt, .dl-inline>dd {float: none; width: auto; display: inline-block}\n",
              ".dl-inline>dt::after {content: \":\\0020\"; padding-right: .5ex}\n",
              ".dl-inline>dt:not(:first-of-type) {padding-left: .5ex}\n",
              "</style><dl class=dl-inline><dt>1</dt><dd>15</dd><dt>2</dt><dd>40</dd></dl>\n"
            ],
            "text/markdown": "1\n:   152\n:   40\n\n",
            "text/latex": "\\begin{description*}\n\\item[1] 15\n\\item[2] 40\n\\end{description*}\n",
            "text/plain": [
              " 1  2 \n",
              "15 40 "
            ]
          },
          "metadata": {}
        }
      ]
    },
    {
      "cell_type": "code",
      "source": [
        "\n",
        "aggregate(A ~ B, df, sum)  # Aggregate data"
      ],
      "metadata": {
        "colab": {
          "base_uri": "https://localhost:8080/",
          "height": 209
        },
        "id": "CFJ_TekdFZyi",
        "outputId": "948ecaba-99a1-4430-cbf0-d0af5d3c5cd0"
      },
      "execution_count": 77,
      "outputs": [
        {
          "output_type": "display_data",
          "data": {
            "text/html": [
              "<table class=\"dataframe\">\n",
              "<caption>A data.frame: 3 × 2</caption>\n",
              "<thead>\n",
              "\t<tr><th scope=col>B</th><th scope=col>A</th></tr>\n",
              "\t<tr><th scope=col>&lt;chr&gt;</th><th scope=col>&lt;int&gt;</th></tr>\n",
              "</thead>\n",
              "<tbody>\n",
              "\t<tr><td>x</td><td>1</td></tr>\n",
              "\t<tr><td>y</td><td>2</td></tr>\n",
              "\t<tr><td>z</td><td>3</td></tr>\n",
              "</tbody>\n",
              "</table>\n"
            ],
            "text/markdown": "\nA data.frame: 3 × 2\n\n| B &lt;chr&gt; | A &lt;int&gt; |\n|---|---|\n| x | 1 |\n| y | 2 |\n| z | 3 |\n\n",
            "text/latex": "A data.frame: 3 × 2\n\\begin{tabular}{ll}\n B & A\\\\\n <chr> & <int>\\\\\n\\hline\n\t x & 1\\\\\n\t y & 2\\\\\n\t z & 3\\\\\n\\end{tabular}\n",
            "text/plain": [
              "  B A\n",
              "1 x 1\n",
              "2 y 2\n",
              "3 z 3"
            ]
          },
          "metadata": {}
        }
      ]
    },
    {
      "cell_type": "code",
      "source": [
        "\n",
        "split(1:10, rep(1:2, each = 5))  # Split data into groups"
      ],
      "metadata": {
        "colab": {
          "base_uri": "https://localhost:8080/",
          "height": 114
        },
        "id": "YchHcM65Fa9C",
        "outputId": "f29aaa7e-e9f5-4fbf-95ec-5cedfadb3cf7"
      },
      "execution_count": 78,
      "outputs": [
        {
          "output_type": "display_data",
          "data": {
            "text/html": [
              "<dl>\n",
              "\t<dt>$`1`</dt>\n",
              "\t\t<dd><style>\n",
              ".list-inline {list-style: none; margin:0; padding: 0}\n",
              ".list-inline>li {display: inline-block}\n",
              ".list-inline>li:not(:last-child)::after {content: \"\\00b7\"; padding: 0 .5ex}\n",
              "</style>\n",
              "<ol class=list-inline><li>1</li><li>2</li><li>3</li><li>4</li><li>5</li></ol>\n",
              "</dd>\n",
              "\t<dt>$`2`</dt>\n",
              "\t\t<dd><style>\n",
              ".list-inline {list-style: none; margin:0; padding: 0}\n",
              ".list-inline>li {display: inline-block}\n",
              ".list-inline>li:not(:last-child)::after {content: \"\\00b7\"; padding: 0 .5ex}\n",
              "</style>\n",
              "<ol class=list-inline><li>6</li><li>7</li><li>8</li><li>9</li><li>10</li></ol>\n",
              "</dd>\n",
              "</dl>\n"
            ],
            "text/markdown": "$`1`\n:   1. 1\n2. 2\n3. 3\n4. 4\n5. 5\n\n\n\n$`2`\n:   1. 6\n2. 7\n3. 8\n4. 9\n5. 10\n\n\n\n\n\n",
            "text/latex": "\\begin{description}\n\\item[\\$`1`] \\begin{enumerate*}\n\\item 1\n\\item 2\n\\item 3\n\\item 4\n\\item 5\n\\end{enumerate*}\n\n\\item[\\$`2`] \\begin{enumerate*}\n\\item 6\n\\item 7\n\\item 8\n\\item 9\n\\item 10\n\\end{enumerate*}\n\n\\end{description}\n",
            "text/plain": [
              "$`1`\n",
              "[1] 1 2 3 4 5\n",
              "\n",
              "$`2`\n",
              "[1]  6  7  8  9 10\n"
            ]
          },
          "metadata": {}
        }
      ]
    },
    {
      "cell_type": "code",
      "source": [
        "stack(df)  # Stack dataframe columns"
      ],
      "metadata": {
        "colab": {
          "base_uri": "https://localhost:8080/",
          "height": 303
        },
        "id": "_OEz4Lj3FcUO",
        "outputId": "7a972cdc-bb7f-4210-ffbf-21b1148486b7"
      },
      "execution_count": 79,
      "outputs": [
        {
          "output_type": "display_data",
          "data": {
            "text/html": [
              "<table class=\"dataframe\">\n",
              "<caption>A data.frame: 6 × 2</caption>\n",
              "<thead>\n",
              "\t<tr><th scope=col>values</th><th scope=col>ind</th></tr>\n",
              "\t<tr><th scope=col>&lt;chr&gt;</th><th scope=col>&lt;fct&gt;</th></tr>\n",
              "</thead>\n",
              "<tbody>\n",
              "\t<tr><td>1</td><td>A</td></tr>\n",
              "\t<tr><td>2</td><td>A</td></tr>\n",
              "\t<tr><td>3</td><td>A</td></tr>\n",
              "\t<tr><td>x</td><td>B</td></tr>\n",
              "\t<tr><td>y</td><td>B</td></tr>\n",
              "\t<tr><td>z</td><td>B</td></tr>\n",
              "</tbody>\n",
              "</table>\n"
            ],
            "text/markdown": "\nA data.frame: 6 × 2\n\n| values &lt;chr&gt; | ind &lt;fct&gt; |\n|---|---|\n| 1 | A |\n| 2 | A |\n| 3 | A |\n| x | B |\n| y | B |\n| z | B |\n\n",
            "text/latex": "A data.frame: 6 × 2\n\\begin{tabular}{ll}\n values & ind\\\\\n <chr> & <fct>\\\\\n\\hline\n\t 1 & A\\\\\n\t 2 & A\\\\\n\t 3 & A\\\\\n\t x & B\\\\\n\t y & B\\\\\n\t z & B\\\\\n\\end{tabular}\n",
            "text/plain": [
              "  values ind\n",
              "1 1      A  \n",
              "2 2      A  \n",
              "3 3      A  \n",
              "4 x      B  \n",
              "5 y      B  \n",
              "6 z      B  "
            ]
          },
          "metadata": {}
        }
      ]
    },
    {
      "cell_type": "code",
      "source": [
        "unstack(stack(df))  # Unstack stacked data"
      ],
      "metadata": {
        "colab": {
          "base_uri": "https://localhost:8080/",
          "height": 209
        },
        "id": "NryrT1fZFd8F",
        "outputId": "d96353d0-e43f-41c9-c916-3e5bd3a6afd9"
      },
      "execution_count": 80,
      "outputs": [
        {
          "output_type": "display_data",
          "data": {
            "text/html": [
              "<table class=\"dataframe\">\n",
              "<caption>A data.frame: 3 × 2</caption>\n",
              "<thead>\n",
              "\t<tr><th scope=col>A</th><th scope=col>B</th></tr>\n",
              "\t<tr><th scope=col>&lt;chr&gt;</th><th scope=col>&lt;chr&gt;</th></tr>\n",
              "</thead>\n",
              "<tbody>\n",
              "\t<tr><td>1</td><td>x</td></tr>\n",
              "\t<tr><td>2</td><td>y</td></tr>\n",
              "\t<tr><td>3</td><td>z</td></tr>\n",
              "</tbody>\n",
              "</table>\n"
            ],
            "text/markdown": "\nA data.frame: 3 × 2\n\n| A &lt;chr&gt; | B &lt;chr&gt; |\n|---|---|\n| 1 | x |\n| 2 | y |\n| 3 | z |\n\n",
            "text/latex": "A data.frame: 3 × 2\n\\begin{tabular}{ll}\n A & B\\\\\n <chr> & <chr>\\\\\n\\hline\n\t 1 & x\\\\\n\t 2 & y\\\\\n\t 3 & z\\\\\n\\end{tabular}\n",
            "text/plain": [
              "  A B\n",
              "1 1 x\n",
              "2 2 y\n",
              "3 3 z"
            ]
          },
          "metadata": {}
        }
      ]
    },
    {
      "cell_type": "code",
      "source": [
        "\n",
        "reshape(df, varying = list(1:2), direction = \"long\")  # Reshape data"
      ],
      "metadata": {
        "colab": {
          "base_uri": "https://localhost:8080/",
          "height": 286
        },
        "id": "gkzFgo2iFfDx",
        "outputId": "5d3e83d8-b3ec-4737-d898-0b61b7ff6ab2"
      },
      "execution_count": 81,
      "outputs": [
        {
          "output_type": "display_data",
          "data": {
            "text/html": [
              "<table class=\"dataframe\">\n",
              "<caption>A data.frame: 6 × 3</caption>\n",
              "<thead>\n",
              "\t<tr><th></th><th scope=col>time</th><th scope=col>A</th><th scope=col>id</th></tr>\n",
              "\t<tr><th></th><th scope=col>&lt;int&gt;</th><th scope=col>&lt;chr&gt;</th><th scope=col>&lt;int&gt;</th></tr>\n",
              "</thead>\n",
              "<tbody>\n",
              "\t<tr><th scope=row>1.1</th><td>1</td><td>1</td><td>1</td></tr>\n",
              "\t<tr><th scope=row>2.1</th><td>1</td><td>2</td><td>2</td></tr>\n",
              "\t<tr><th scope=row>3.1</th><td>1</td><td>3</td><td>3</td></tr>\n",
              "\t<tr><th scope=row>1.2</th><td>2</td><td>x</td><td>1</td></tr>\n",
              "\t<tr><th scope=row>2.2</th><td>2</td><td>y</td><td>2</td></tr>\n",
              "\t<tr><th scope=row>3.2</th><td>2</td><td>z</td><td>3</td></tr>\n",
              "</tbody>\n",
              "</table>\n"
            ],
            "text/markdown": "\nA data.frame: 6 × 3\n\n| <!--/--> | time &lt;int&gt; | A &lt;chr&gt; | id &lt;int&gt; |\n|---|---|---|---|\n| 1.1 | 1 | 1 | 1 |\n| 2.1 | 1 | 2 | 2 |\n| 3.1 | 1 | 3 | 3 |\n| 1.2 | 2 | x | 1 |\n| 2.2 | 2 | y | 2 |\n| 3.2 | 2 | z | 3 |\n\n",
            "text/latex": "A data.frame: 6 × 3\n\\begin{tabular}{r|lll}\n  & time & A & id\\\\\n  & <int> & <chr> & <int>\\\\\n\\hline\n\t1.1 & 1 & 1 & 1\\\\\n\t2.1 & 1 & 2 & 2\\\\\n\t3.1 & 1 & 3 & 3\\\\\n\t1.2 & 2 & x & 1\\\\\n\t2.2 & 2 & y & 2\\\\\n\t3.2 & 2 & z & 3\\\\\n\\end{tabular}\n",
            "text/plain": [
              "    time A id\n",
              "1.1 1    1 1 \n",
              "2.1 1    2 2 \n",
              "3.1 1    3 3 \n",
              "1.2 2    x 1 \n",
              "2.2 2    y 2 \n",
              "3.2 2    z 3 "
            ]
          },
          "metadata": {}
        }
      ]
    },
    {
      "cell_type": "markdown",
      "source": [
        "## Control Flow & Programming"
      ],
      "metadata": {
        "id": "ZsfYy_Uq6wxF"
      }
    },
    {
      "cell_type": "code",
      "source": [
        "ifelse(c(1, 2, 3) > 2, \"big\", \"small\")  # Vectorized conditional statement"
      ],
      "metadata": {
        "colab": {
          "base_uri": "https://localhost:8080/",
          "height": 34
        },
        "id": "s46tNVYpGXnJ",
        "outputId": "ae568a63-d740-4aa9-d5f6-4d5f72e2ee78"
      },
      "execution_count": 82,
      "outputs": [
        {
          "output_type": "display_data",
          "data": {
            "text/html": [
              "<style>\n",
              ".list-inline {list-style: none; margin:0; padding: 0}\n",
              ".list-inline>li {display: inline-block}\n",
              ".list-inline>li:not(:last-child)::after {content: \"\\00b7\"; padding: 0 .5ex}\n",
              "</style>\n",
              "<ol class=list-inline><li>'small'</li><li>'small'</li><li>'big'</li></ol>\n"
            ],
            "text/markdown": "1. 'small'\n2. 'small'\n3. 'big'\n\n\n",
            "text/latex": "\\begin{enumerate*}\n\\item 'small'\n\\item 'small'\n\\item 'big'\n\\end{enumerate*}\n",
            "text/plain": [
              "[1] \"small\" \"small\" \"big\"  "
            ]
          },
          "metadata": {}
        }
      ]
    },
    {
      "cell_type": "code",
      "source": [
        "for(i in 1:5) print(i)  # Loop over sequence"
      ],
      "metadata": {
        "colab": {
          "base_uri": "https://localhost:8080/"
        },
        "id": "GljbWrrJGak6",
        "outputId": "5a16d53a-5aaf-40e5-ae16-2f74dbd6c5d4"
      },
      "execution_count": 83,
      "outputs": [
        {
          "output_type": "stream",
          "name": "stdout",
          "text": [
            "[1] 1\n",
            "[1] 2\n",
            "[1] 3\n",
            "[1] 4\n",
            "[1] 5\n"
          ]
        }
      ]
    },
    {
      "cell_type": "code",
      "source": [
        "i <- 1; while(i <= 3) { print(i); i <- i + 1 }  # Loop while condition holds"
      ],
      "metadata": {
        "colab": {
          "base_uri": "https://localhost:8080/"
        },
        "id": "3PqL09oPGd6Q",
        "outputId": "90e5aba6-0d78-4790-d4e9-30890f3960e7"
      },
      "execution_count": 84,
      "outputs": [
        {
          "output_type": "stream",
          "name": "stdout",
          "text": [
            "[1] 1\n",
            "[1] 2\n",
            "[1] 3\n"
          ]
        }
      ]
    },
    {
      "cell_type": "code",
      "source": [
        "repeat { print(\"Looping\"); break }  # Infinite loop (until break)"
      ],
      "metadata": {
        "colab": {
          "base_uri": "https://localhost:8080/"
        },
        "id": "AgG5iJWtGfdF",
        "outputId": "5dda920f-0c5f-4428-bbb7-ab095e0b6672"
      },
      "execution_count": 85,
      "outputs": [
        {
          "output_type": "stream",
          "name": "stdout",
          "text": [
            "[1] \"Looping\"\n"
          ]
        }
      ]
    },
    {
      "cell_type": "code",
      "source": [
        "return(10)  # Return value from function"
      ],
      "metadata": {
        "colab": {
          "base_uri": "https://localhost:8080/",
          "height": 34
        },
        "id": "1nC2vs4TGgzg",
        "outputId": "d3891f54-a6ab-47cc-cee6-ba08283bdfc8"
      },
      "execution_count": 86,
      "outputs": [
        {
          "output_type": "display_data",
          "data": {
            "text/html": [
              "10"
            ],
            "text/markdown": "10",
            "text/latex": "10",
            "text/plain": [
              "[1] 10"
            ]
          },
          "metadata": {}
        }
      ]
    },
    {
      "cell_type": "code",
      "source": [
        "stop(\"Error!\")  # Halt execution with error"
      ],
      "metadata": {
        "colab": {
          "base_uri": "https://localhost:8080/",
          "height": 228
        },
        "id": "3jCbq1ihGlLp",
        "outputId": "f142f6bb-8bf7-49ac-c37c-19d9577e2429"
      },
      "execution_count": 87,
      "outputs": [
        {
          "output_type": "error",
          "ename": "ERROR",
          "evalue": "Error: Error!\n",
          "traceback": [
            "Error: Error!\nTraceback:\n",
            "1. .handleSimpleError(function (cnd) \n . {\n .     watcher$capture_plot_and_output()\n .     cnd <- sanitize_call(cnd)\n .     watcher$push(cnd)\n .     switch(on_error, continue = invokeRestart(\"eval_continue\"), \n .         stop = invokeRestart(\"eval_stop\"), error = NULL)\n . }, \"Error!\", base::quote(eval(expr, envir)))"
          ]
        }
      ]
    },
    {
      "cell_type": "code",
      "source": [
        "warning(\"Warning!\")  # Generate a warning message"
      ],
      "metadata": {
        "colab": {
          "base_uri": "https://localhost:8080/"
        },
        "id": "_NfbKw3HGpC3",
        "outputId": "33ac00fc-5298-4173-84a1-90b49ece65bc"
      },
      "execution_count": 88,
      "outputs": [
        {
          "output_type": "stream",
          "name": "stderr",
          "text": [
            "Warning message:\n",
            "“Warning!”\n"
          ]
        }
      ]
    },
    {
      "cell_type": "code",
      "source": [
        "try(log(\"A\"))  # Catch errors"
      ],
      "metadata": {
        "colab": {
          "base_uri": "https://localhost:8080/"
        },
        "id": "L16-A2FrGqkN",
        "outputId": "67e8e413-97cc-4b4d-9ec2-ade385b2a643"
      },
      "execution_count": 90,
      "outputs": [
        {
          "output_type": "stream",
          "name": "stdout",
          "text": [
            "Error in log(\"A\") : non-numeric argument to mathematical function\n"
          ]
        }
      ]
    },
    {
      "cell_type": "code",
      "source": [
        "tryCatch(log(\"A\"), error = function(e) print(\"Error handled\"))  # Advanced error handling"
      ],
      "metadata": {
        "colab": {
          "base_uri": "https://localhost:8080/"
        },
        "id": "8LEvfRagGsee",
        "outputId": "49b219e2-f250-4d47-efcf-c5a53dad35f6"
      },
      "execution_count": 91,
      "outputs": [
        {
          "output_type": "stream",
          "name": "stdout",
          "text": [
            "[1] \"Error handled\"\n"
          ]
        }
      ]
    },
    {
      "cell_type": "markdown",
      "source": [
        "## Working with Files"
      ],
      "metadata": {
        "id": "rweFWEAI631r"
      }
    },
    {
      "cell_type": "code",
      "source": [
        "getwd()  # Get working directory"
      ],
      "metadata": {
        "id": "vND89cFEsSPr",
        "colab": {
          "base_uri": "https://localhost:8080/",
          "height": 34
        },
        "outputId": "a229fe4b-7f1c-43e0-c456-620ec94e8660"
      },
      "execution_count": 92,
      "outputs": [
        {
          "output_type": "display_data",
          "data": {
            "text/html": [
              "'/content'"
            ],
            "text/markdown": "'/content'",
            "text/latex": "'/content'",
            "text/plain": [
              "[1] \"/content\""
            ]
          },
          "metadata": {}
        }
      ]
    },
    {
      "cell_type": "code",
      "source": [
        "setwd(\"/content/sample_data\")  # Set working directory"
      ],
      "metadata": {
        "id": "5EhpQYTHHban"
      },
      "execution_count": 93,
      "outputs": []
    },
    {
      "cell_type": "code",
      "source": [
        "list.files()  # List files in directory"
      ],
      "metadata": {
        "colab": {
          "base_uri": "https://localhost:8080/",
          "height": 34
        },
        "id": "SbhvhhK6HY45",
        "outputId": "ce8f05a6-213f-437f-f6dc-1436b0c23bba"
      },
      "execution_count": 94,
      "outputs": [
        {
          "output_type": "display_data",
          "data": {
            "text/html": [
              "<style>\n",
              ".list-inline {list-style: none; margin:0; padding: 0}\n",
              ".list-inline>li {display: inline-block}\n",
              ".list-inline>li:not(:last-child)::after {content: \"\\00b7\"; padding: 0 .5ex}\n",
              "</style>\n",
              "<ol class=list-inline><li>'anscombe.json'</li><li>'california_housing_test.csv'</li><li>'california_housing_train.csv'</li><li>'mnist_test.csv'</li><li>'mnist_train_small.csv'</li><li>'README.md'</li></ol>\n"
            ],
            "text/markdown": "1. 'anscombe.json'\n2. 'california_housing_test.csv'\n3. 'california_housing_train.csv'\n4. 'mnist_test.csv'\n5. 'mnist_train_small.csv'\n6. 'README.md'\n\n\n",
            "text/latex": "\\begin{enumerate*}\n\\item 'anscombe.json'\n\\item 'california\\_housing\\_test.csv'\n\\item 'california\\_housing\\_train.csv'\n\\item 'mnist\\_test.csv'\n\\item 'mnist\\_train\\_small.csv'\n\\item 'README.md'\n\\end{enumerate*}\n",
            "text/plain": [
              "[1] \"anscombe.json\"                \"california_housing_test.csv\" \n",
              "[3] \"california_housing_train.csv\" \"mnist_test.csv\"              \n",
              "[5] \"mnist_train_small.csv\"        \"README.md\"                   "
            ]
          },
          "metadata": {}
        }
      ]
    },
    {
      "cell_type": "code",
      "source": [
        "file.exists(\"file.txt\")  # Check if file exists"
      ],
      "metadata": {
        "colab": {
          "base_uri": "https://localhost:8080/",
          "height": 34
        },
        "id": "e9XS6tUhHAQt",
        "outputId": "3bbcf593-619f-4104-eb35-a6c1435ec693"
      },
      "execution_count": 95,
      "outputs": [
        {
          "output_type": "display_data",
          "data": {
            "text/html": [
              "FALSE"
            ],
            "text/markdown": "FALSE",
            "text/latex": "FALSE",
            "text/plain": [
              "[1] FALSE"
            ]
          },
          "metadata": {}
        }
      ]
    },
    {
      "cell_type": "code",
      "source": [
        "file.remove(\"file.txt\")  # Delete a file"
      ],
      "metadata": {
        "colab": {
          "base_uri": "https://localhost:8080/",
          "height": 69
        },
        "id": "_pxCS3e8HF1I",
        "outputId": "7dfd846f-00e2-4ce3-be2c-e67c80c45e97"
      },
      "execution_count": 96,
      "outputs": [
        {
          "output_type": "stream",
          "name": "stderr",
          "text": [
            "Warning message in file.remove(\"file.txt\"):\n",
            "“cannot remove file 'file.txt', reason 'No such file or directory'”\n"
          ]
        },
        {
          "output_type": "display_data",
          "data": {
            "text/html": [
              "FALSE"
            ],
            "text/markdown": "FALSE",
            "text/latex": "FALSE",
            "text/plain": [
              "[1] FALSE"
            ]
          },
          "metadata": {}
        }
      ]
    },
    {
      "cell_type": "code",
      "source": [
        "write.csv(df, \"data.csv\")  # Write CSV file"
      ],
      "metadata": {
        "id": "f_Svd36OHITh"
      },
      "execution_count": 97,
      "outputs": []
    },
    {
      "cell_type": "code",
      "source": [
        "\n",
        "saveRDS(df, \"data.rds\")  # Save R object"
      ],
      "metadata": {
        "id": "tb3JCbyiHKLa"
      },
      "execution_count": 98,
      "outputs": []
    },
    {
      "cell_type": "code",
      "source": [
        "\n",
        "readRDS(\"data.rds\")  # Read R object"
      ],
      "metadata": {
        "colab": {
          "base_uri": "https://localhost:8080/",
          "height": 209
        },
        "id": "o30eWry6HSWg",
        "outputId": "122289aa-d6d6-4cee-ff15-1848ff20687a"
      },
      "execution_count": 99,
      "outputs": [
        {
          "output_type": "display_data",
          "data": {
            "text/html": [
              "<table class=\"dataframe\">\n",
              "<caption>A data.frame: 3 × 2</caption>\n",
              "<thead>\n",
              "\t<tr><th scope=col>A</th><th scope=col>B</th></tr>\n",
              "\t<tr><th scope=col>&lt;int&gt;</th><th scope=col>&lt;chr&gt;</th></tr>\n",
              "</thead>\n",
              "<tbody>\n",
              "\t<tr><td>1</td><td>x</td></tr>\n",
              "\t<tr><td>2</td><td>y</td></tr>\n",
              "\t<tr><td>3</td><td>z</td></tr>\n",
              "</tbody>\n",
              "</table>\n"
            ],
            "text/markdown": "\nA data.frame: 3 × 2\n\n| A &lt;int&gt; | B &lt;chr&gt; |\n|---|---|\n| 1 | x |\n| 2 | y |\n| 3 | z |\n\n",
            "text/latex": "A data.frame: 3 × 2\n\\begin{tabular}{ll}\n A & B\\\\\n <int> & <chr>\\\\\n\\hline\n\t 1 & x\\\\\n\t 2 & y\\\\\n\t 3 & z\\\\\n\\end{tabular}\n",
            "text/plain": [
              "  A B\n",
              "1 1 x\n",
              "2 2 y\n",
              "3 3 z"
            ]
          },
          "metadata": {}
        }
      ]
    },
    {
      "cell_type": "markdown",
      "source": [
        " ## Date & Time Handling"
      ],
      "metadata": {
        "id": "Bpt6_ZPq6-Ov"
      }
    },
    {
      "cell_type": "code",
      "source": [
        "as.POSIXct(\"2024-02-05 10:00:00\")  # Convert to date-time format\n",
        "difftime(Sys.time(), as.POSIXct(\"2024-02-01\"))  # Compute time difference\n",
        "format(Sys.Date(), \"%B %d, %Y\")  # Format dates\n"
      ],
      "metadata": {
        "id": "hrLCJvWisTSH",
        "colab": {
          "base_uri": "https://localhost:8080/",
          "height": 69
        },
        "outputId": "25ada83e-c9ce-4fd9-b5ca-30a5326bb4d4"
      },
      "execution_count": 100,
      "outputs": [
        {
          "output_type": "display_data",
          "data": {
            "text/plain": [
              "[1] \"2024-02-05 10:00:00 UTC\""
            ]
          },
          "metadata": {}
        },
        {
          "output_type": "display_data",
          "data": {
            "text/plain": [
              "Time difference of 370.4001 days"
            ]
          },
          "metadata": {}
        },
        {
          "output_type": "display_data",
          "data": {
            "text/html": [
              "'February 05, 2025'"
            ],
            "text/markdown": "'February 05, 2025'",
            "text/latex": "'February 05, 2025'",
            "text/plain": [
              "[1] \"February 05, 2025\""
            ]
          },
          "metadata": {}
        }
      ]
    }
  ]
}