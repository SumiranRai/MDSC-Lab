{
  "nbformat": 4,
  "nbformat_minor": 0,
  "metadata": {
    "colab": {
      "provenance": [],
      "authorship_tag": "ABX9TyMRgNZQf1nnxbu836ldIbg9",
      "include_colab_link": true
    },
    "kernelspec": {
      "name": "ir",
      "display_name": "R"
    },
    "language_info": {
      "name": "R"
    }
  },
  "cells": [
    {
      "cell_type": "markdown",
      "metadata": {
        "id": "view-in-github",
        "colab_type": "text"
      },
      "source": [
        "<a href=\"https://colab.research.google.com/github/SumiranRai/MDSC-Lab/blob/main/MDSC-201-Statistical-Methods-Using-R/R_Assignment_3.ipynb\" target=\"_parent\"><img src=\"https://colab.research.google.com/assets/colab-badge.svg\" alt=\"Open In Colab\"/></a>"
      ]
    },
    {
      "cell_type": "markdown",
      "source": [
        "R Programming Assignment III\n",
        "\n",
        "By Sumiran Rai\n",
        "\n",
        "Roll No: 24040208007"
      ],
      "metadata": {
        "id": "E87-hJmMmReO"
      }
    },
    {
      "cell_type": "markdown",
      "source": [
        "# R Functions"
      ],
      "metadata": {
        "id": "0nPiBHK-mTgo"
      }
    },
    {
      "cell_type": "markdown",
      "source": [
        "##Basic Operations"
      ],
      "metadata": {
        "id": "cUbaHid6ncMg"
      }
    },
    {
      "cell_type": "code",
      "execution_count": null,
      "metadata": {
        "colab": {
          "base_uri": "https://localhost:8080/"
        },
        "id": "uKFyjCwaQCBO",
        "outputId": "722fb0ea-c2af-413b-89c9-1324ffe08ebf"
      },
      "outputs": [
        {
          "output_type": "stream",
          "name": "stdout",
          "text": [
            "[1] 1 2 3 4\n"
          ]
        }
      ],
      "source": [
        "# 1. Create a vector\n",
        "x <- c(1, 2, 3, 4)\n",
        "print(x)"
      ]
    },
    {
      "cell_type": "code",
      "source": [
        "# 2. Generate sequences\n",
        "y <- seq(1, 10, by = 2)\n",
        "print(y)"
      ],
      "metadata": {
        "colab": {
          "base_uri": "https://localhost:8080/"
        },
        "id": "BQ6qKhA7nsde",
        "outputId": "04f9b3bf-2995-4683-85d7-a2f28c41fda6"
      },
      "execution_count": null,
      "outputs": [
        {
          "output_type": "stream",
          "name": "stdout",
          "text": [
            "[1] 1 3 5 7 9\n"
          ]
        }
      ]
    },
    {
      "cell_type": "code",
      "source": [
        "# 3. Repeat elements\n",
        "z <- rep(1:3, each = 2)\n",
        "print(z)"
      ],
      "metadata": {
        "colab": {
          "base_uri": "https://localhost:8080/"
        },
        "id": "k62TJ-iBn1XV",
        "outputId": "2e2d5737-9faf-4b7b-d851-92a344d35b88"
      },
      "execution_count": null,
      "outputs": [
        {
          "output_type": "stream",
          "name": "stdout",
          "text": [
            "[1] 1 1 2 2 3 3\n"
          ]
        }
      ]
    },
    {
      "cell_type": "code",
      "source": [
        "# 4. Get vector length\n",
        "length(x)"
      ],
      "metadata": {
        "colab": {
          "base_uri": "https://localhost:8080/",
          "height": 34
        },
        "id": "LlkoqKzBoC1_",
        "outputId": "6a89795b-e508-47f6-d65b-b9f772e75cc5"
      },
      "execution_count": null,
      "outputs": [
        {
          "output_type": "display_data",
          "data": {
            "text/html": [
              "4"
            ],
            "text/markdown": "4",
            "text/latex": "4",
            "text/plain": [
              "[1] 4"
            ]
          },
          "metadata": {}
        }
      ]
    },
    {
      "cell_type": "code",
      "source": [
        "# 5. Sort values\n",
        "sort(c(3, 1, 4, 1, 5))"
      ],
      "metadata": {
        "colab": {
          "base_uri": "https://localhost:8080/",
          "height": 34
        },
        "id": "aPhbtkugoG7z",
        "outputId": "4d12e0ed-2b72-42b1-a295-16f5d534eb4c"
      },
      "execution_count": null,
      "outputs": [
        {
          "output_type": "display_data",
          "data": {
            "text/html": [
              "<style>\n",
              ".list-inline {list-style: none; margin:0; padding: 0}\n",
              ".list-inline>li {display: inline-block}\n",
              ".list-inline>li:not(:last-child)::after {content: \"\\00b7\"; padding: 0 .5ex}\n",
              "</style>\n",
              "<ol class=list-inline><li>1</li><li>1</li><li>3</li><li>4</li><li>5</li></ol>\n"
            ],
            "text/markdown": "1. 1\n2. 1\n3. 3\n4. 4\n5. 5\n\n\n",
            "text/latex": "\\begin{enumerate*}\n\\item 1\n\\item 1\n\\item 3\n\\item 4\n\\item 5\n\\end{enumerate*}\n",
            "text/plain": [
              "[1] 1 1 3 4 5"
            ]
          },
          "metadata": {}
        }
      ]
    },
    {
      "cell_type": "markdown",
      "source": [
        "The order() function takes one or more vectors as arguments,\n",
        "and returns an integer vector indicating the order of the vectors"
      ],
      "metadata": {
        "id": "UxclUSuTouHL"
      }
    },
    {
      "cell_type": "code",
      "source": [
        "# 6. Get ordering\n",
        "order(c(3, 1, 4, 1, 5))"
      ],
      "metadata": {
        "colab": {
          "base_uri": "https://localhost:8080/",
          "height": 34
        },
        "id": "_-4jwNHFoPCZ",
        "outputId": "f268f05d-2253-48aa-fa15-ec407ae8ad0b"
      },
      "execution_count": null,
      "outputs": [
        {
          "output_type": "display_data",
          "data": {
            "text/html": [
              "<style>\n",
              ".list-inline {list-style: none; margin:0; padding: 0}\n",
              ".list-inline>li {display: inline-block}\n",
              ".list-inline>li:not(:last-child)::after {content: \"\\00b7\"; padding: 0 .5ex}\n",
              "</style>\n",
              "<ol class=list-inline><li>2</li><li>4</li><li>1</li><li>3</li><li>5</li></ol>\n"
            ],
            "text/markdown": "1. 2\n2. 4\n3. 1\n4. 3\n5. 5\n\n\n",
            "text/latex": "\\begin{enumerate*}\n\\item 2\n\\item 4\n\\item 1\n\\item 3\n\\item 5\n\\end{enumerate*}\n",
            "text/plain": [
              "[1] 2 4 1 3 5"
            ]
          },
          "metadata": {}
        }
      ]
    },
    {
      "cell_type": "code",
      "source": [
        "# 7. Reverse elements\n",
        "rev(x)"
      ],
      "metadata": {
        "colab": {
          "base_uri": "https://localhost:8080/",
          "height": 34
        },
        "id": "ZC30c9cToTv9",
        "outputId": "b6312d26-49a5-4871-e16e-bcab0adbf5db"
      },
      "execution_count": null,
      "outputs": [
        {
          "output_type": "display_data",
          "data": {
            "text/html": [
              "<style>\n",
              ".list-inline {list-style: none; margin:0; padding: 0}\n",
              ".list-inline>li {display: inline-block}\n",
              ".list-inline>li:not(:last-child)::after {content: \"\\00b7\"; padding: 0 .5ex}\n",
              "</style>\n",
              "<ol class=list-inline><li>4</li><li>3</li><li>2</li><li>1</li></ol>\n"
            ],
            "text/markdown": "1. 4\n2. 3\n3. 2\n4. 1\n\n\n",
            "text/latex": "\\begin{enumerate*}\n\\item 4\n\\item 3\n\\item 2\n\\item 1\n\\end{enumerate*}\n",
            "text/plain": [
              "[1] 4 3 2 1"
            ]
          },
          "metadata": {}
        }
      ]
    },
    {
      "cell_type": "code",
      "source": [
        "# 8. Find unique elements\n",
        "unique(c(1, 2, 2, 3, 3, 4))"
      ],
      "metadata": {
        "colab": {
          "base_uri": "https://localhost:8080/",
          "height": 34
        },
        "id": "GuaoSeplohF6",
        "outputId": "e834abde-5244-4e45-a1f3-ff9307ee069b"
      },
      "execution_count": null,
      "outputs": [
        {
          "output_type": "display_data",
          "data": {
            "text/html": [
              "<style>\n",
              ".list-inline {list-style: none; margin:0; padding: 0}\n",
              ".list-inline>li {display: inline-block}\n",
              ".list-inline>li:not(:last-child)::after {content: \"\\00b7\"; padding: 0 .5ex}\n",
              "</style>\n",
              "<ol class=list-inline><li>1</li><li>2</li><li>3</li><li>4</li></ol>\n"
            ],
            "text/markdown": "1. 1\n2. 2\n3. 3\n4. 4\n\n\n",
            "text/latex": "\\begin{enumerate*}\n\\item 1\n\\item 2\n\\item 3\n\\item 4\n\\end{enumerate*}\n",
            "text/plain": [
              "[1] 1 2 3 4"
            ]
          },
          "metadata": {}
        }
      ]
    },
    {
      "cell_type": "code",
      "source": [
        "# 9. Frequency table\n",
        "table(c(\"A\", \"B\", \"A\", \"C\", \"B\", \"A\"))"
      ],
      "metadata": {
        "colab": {
          "base_uri": "https://localhost:8080/",
          "height": 69
        },
        "id": "TyWzedaHo53g",
        "outputId": "7e77859e-2a24-4c07-c612-b03286bd411b"
      },
      "execution_count": null,
      "outputs": [
        {
          "output_type": "display_data",
          "data": {
            "text/plain": [
              "\n",
              "A B C \n",
              "3 2 1 "
            ]
          },
          "metadata": {}
        }
      ]
    },
    {
      "cell_type": "code",
      "source": [
        "# 10. Find indices of matching values\n",
        "match(2, c(1, 3, 5, 2, 4))"
      ],
      "metadata": {
        "colab": {
          "base_uri": "https://localhost:8080/",
          "height": 34
        },
        "id": "Wai6JImApCGc",
        "outputId": "20f02753-e7cf-402d-a715-370e4939d156"
      },
      "execution_count": null,
      "outputs": [
        {
          "output_type": "display_data",
          "data": {
            "text/html": [
              "4"
            ],
            "text/markdown": "4",
            "text/latex": "4",
            "text/plain": [
              "[1] 4"
            ]
          },
          "metadata": {}
        }
      ]
    },
    {
      "cell_type": "code",
      "source": [
        "# 11. Check if value exists in vector\n",
        "2 %in% c(1, 2, 3, 4)"
      ],
      "metadata": {
        "colab": {
          "base_uri": "https://localhost:8080/",
          "height": 34
        },
        "id": "e88y1XA3pGOR",
        "outputId": "e59fe5d2-772c-4c56-f9ed-085e79c36bee"
      },
      "execution_count": null,
      "outputs": [
        {
          "output_type": "display_data",
          "data": {
            "text/html": [
              "TRUE"
            ],
            "text/markdown": "TRUE",
            "text/latex": "TRUE",
            "text/plain": [
              "[1] TRUE"
            ]
          },
          "metadata": {}
        }
      ]
    },
    {
      "cell_type": "code",
      "source": [
        "# 12. Find index of elements satisfying a condition\n",
        "which(c(1, 2, 3, 4) > 2)"
      ],
      "metadata": {
        "colab": {
          "base_uri": "https://localhost:8080/",
          "height": 34
        },
        "id": "vDZifLKZpVMh",
        "outputId": "24b0cf4f-c51e-4108-e45b-382b8f330b32"
      },
      "execution_count": null,
      "outputs": [
        {
          "output_type": "display_data",
          "data": {
            "text/html": [
              "<style>\n",
              ".list-inline {list-style: none; margin:0; padding: 0}\n",
              ".list-inline>li {display: inline-block}\n",
              ".list-inline>li:not(:last-child)::after {content: \"\\00b7\"; padding: 0 .5ex}\n",
              "</style>\n",
              "<ol class=list-inline><li>3</li><li>4</li></ol>\n"
            ],
            "text/markdown": "1. 3\n2. 4\n\n\n",
            "text/latex": "\\begin{enumerate*}\n\\item 3\n\\item 4\n\\end{enumerate*}\n",
            "text/plain": [
              "[1] 3 4"
            ]
          },
          "metadata": {}
        }
      ]
    },
    {
      "cell_type": "code",
      "source": [
        "# 13. Check if any value is TRUE\n",
        "any(c(FALSE, TRUE, FALSE))"
      ],
      "metadata": {
        "colab": {
          "base_uri": "https://localhost:8080/",
          "height": 34
        },
        "id": "NFa0yIgTpbxV",
        "outputId": "fd10215b-8054-4094-c71a-9b5c2a1f912f"
      },
      "execution_count": null,
      "outputs": [
        {
          "output_type": "display_data",
          "data": {
            "text/html": [
              "TRUE"
            ],
            "text/markdown": "TRUE",
            "text/latex": "TRUE",
            "text/plain": [
              "[1] TRUE"
            ]
          },
          "metadata": {}
        }
      ]
    },
    {
      "cell_type": "code",
      "source": [
        "# 14. Check if all values are TRUE\n",
        "all(c(TRUE, TRUE, TRUE))"
      ],
      "metadata": {
        "colab": {
          "base_uri": "https://localhost:8080/",
          "height": 34
        },
        "id": "ock1LiyRqNnp",
        "outputId": "4e34710b-35ea-4bc0-a856-efca1cda1398"
      },
      "execution_count": null,
      "outputs": [
        {
          "output_type": "display_data",
          "data": {
            "text/html": [
              "TRUE"
            ],
            "text/markdown": "TRUE",
            "text/latex": "TRUE",
            "text/plain": [
              "[1] TRUE"
            ]
          },
          "metadata": {}
        }
      ]
    },
    {
      "cell_type": "code",
      "source": [
        "# 15. Check for missing values\n",
        "is.na(c(1, 2, NA, 4))"
      ],
      "metadata": {
        "id": "1KzhtrCoqa77",
        "colab": {
          "base_uri": "https://localhost:8080/",
          "height": 34
        },
        "outputId": "8d084040-d688-4e85-b721-a52c6cc41915"
      },
      "execution_count": 25,
      "outputs": [
        {
          "output_type": "display_data",
          "data": {
            "text/html": [
              "<style>\n",
              ".list-inline {list-style: none; margin:0; padding: 0}\n",
              ".list-inline>li {display: inline-block}\n",
              ".list-inline>li:not(:last-child)::after {content: \"\\00b7\"; padding: 0 .5ex}\n",
              "</style>\n",
              "<ol class=list-inline><li>FALSE</li><li>FALSE</li><li>TRUE</li><li>FALSE</li></ol>\n"
            ],
            "text/markdown": "1. FALSE\n2. FALSE\n3. TRUE\n4. FALSE\n\n\n",
            "text/latex": "\\begin{enumerate*}\n\\item FALSE\n\\item FALSE\n\\item TRUE\n\\item FALSE\n\\end{enumerate*}\n",
            "text/plain": [
              "[1] FALSE FALSE  TRUE FALSE"
            ]
          },
          "metadata": {}
        }
      ]
    },
    {
      "cell_type": "code",
      "source": [
        "# 16. Remove NA values\n",
        "na.omit(c(1, 2, NA, 4))"
      ],
      "metadata": {
        "colab": {
          "base_uri": "https://localhost:8080/",
          "height": 34
        },
        "id": "wNIZUceh5ef9",
        "outputId": "78adbde9-583f-4de0-fd5f-db6c02576f81"
      },
      "execution_count": 26,
      "outputs": [
        {
          "output_type": "display_data",
          "data": {
            "text/html": [
              "<style>\n",
              ".list-inline {list-style: none; margin:0; padding: 0}\n",
              ".list-inline>li {display: inline-block}\n",
              ".list-inline>li:not(:last-child)::after {content: \"\\00b7\"; padding: 0 .5ex}\n",
              "</style>\n",
              "<ol class=list-inline><li>1</li><li>2</li><li>4</li></ol>\n"
            ],
            "text/markdown": "1. 1\n2. 2\n3. 4\n\n\n",
            "text/latex": "\\begin{enumerate*}\n\\item 1\n\\item 2\n\\item 4\n\\end{enumerate*}\n",
            "text/plain": [
              "[1] 1 2 4\n",
              "attr(,\"na.action\")\n",
              "[1] 3\n",
              "attr(,\"class\")\n",
              "[1] \"omit\""
            ]
          },
          "metadata": {}
        }
      ]
    },
    {
      "cell_type": "code",
      "source": [
        "# 17. Replace values in a vector\n",
        "replace(c(1, 2, 3, 2), 2, 10)"
      ],
      "metadata": {
        "colab": {
          "base_uri": "https://localhost:8080/",
          "height": 34
        },
        "id": "vOpgSF3P5maI",
        "outputId": "6257bbe4-5d44-47f1-c60f-2d64efa01f36"
      },
      "execution_count": 28,
      "outputs": [
        {
          "output_type": "display_data",
          "data": {
            "text/html": [
              "<style>\n",
              ".list-inline {list-style: none; margin:0; padding: 0}\n",
              ".list-inline>li {display: inline-block}\n",
              ".list-inline>li:not(:last-child)::after {content: \"\\00b7\"; padding: 0 .5ex}\n",
              "</style>\n",
              "<ol class=list-inline><li>1</li><li>10</li><li>3</li><li>2</li></ol>\n"
            ],
            "text/markdown": "1. 1\n2. 10\n3. 3\n4. 2\n\n\n",
            "text/latex": "\\begin{enumerate*}\n\\item 1\n\\item 10\n\\item 3\n\\item 2\n\\end{enumerate*}\n",
            "text/plain": [
              "[1]  1 10  3  2"
            ]
          },
          "metadata": {}
        }
      ]
    },
    {
      "cell_type": "code",
      "source": [
        "# 18. Concatenate strings\n",
        "paste(\"Hello\", \"World\")"
      ],
      "metadata": {
        "colab": {
          "base_uri": "https://localhost:8080/",
          "height": 34
        },
        "id": "C0bjSweU5tAQ",
        "outputId": "f2bb8b8b-694d-4412-a9e0-1eef37b450af"
      },
      "execution_count": 29,
      "outputs": [
        {
          "output_type": "display_data",
          "data": {
            "text/html": [
              "'Hello World'"
            ],
            "text/markdown": "'Hello World'",
            "text/latex": "'Hello World'",
            "text/plain": [
              "[1] \"Hello World\""
            ]
          },
          "metadata": {}
        }
      ]
    },
    {
      "cell_type": "code",
      "source": [
        "# 19. Concatenate without spaces\n",
        "paste0(\"Hello\", \"World\")"
      ],
      "metadata": {
        "colab": {
          "base_uri": "https://localhost:8080/",
          "height": 34
        },
        "id": "DSEfyMHT5syz",
        "outputId": "dab71728-0cdb-4984-9d7c-98cbd5e1e782"
      },
      "execution_count": 30,
      "outputs": [
        {
          "output_type": "display_data",
          "data": {
            "text/html": [
              "'HelloWorld'"
            ],
            "text/markdown": "'HelloWorld'",
            "text/latex": "'HelloWorld'",
            "text/plain": [
              "[1] \"HelloWorld\""
            ]
          },
          "metadata": {}
        }
      ]
    },
    {
      "cell_type": "code",
      "source": [
        " # 20. Convert to uppercase\n",
        " toupper(\"hello\")"
      ],
      "metadata": {
        "colab": {
          "base_uri": "https://localhost:8080/",
          "height": 34
        },
        "id": "LIBu5sqn58iJ",
        "outputId": "3b4a382d-70e7-4a95-90ea-6df4b188fa0c"
      },
      "execution_count": 31,
      "outputs": [
        {
          "output_type": "display_data",
          "data": {
            "text/html": [
              "'HELLO'"
            ],
            "text/markdown": "'HELLO'",
            "text/latex": "'HELLO'",
            "text/plain": [
              "[1] \"HELLO\""
            ]
          },
          "metadata": {}
        }
      ]
    },
    {
      "cell_type": "code",
      "source": [
        "# 21. Convert to lowercase\n",
        "tolower(\"HELLO\")"
      ],
      "metadata": {
        "colab": {
          "base_uri": "https://localhost:8080/",
          "height": 34
        },
        "id": "-GVPMNcx58es",
        "outputId": "51f3b5b4-693a-4c68-8235-199ab61bb3fc"
      },
      "execution_count": 32,
      "outputs": [
        {
          "output_type": "display_data",
          "data": {
            "text/html": [
              "'hello'"
            ],
            "text/markdown": "'hello'",
            "text/latex": "'hello'",
            "text/plain": [
              "[1] \"hello\""
            ]
          },
          "metadata": {}
        }
      ]
    },
    {
      "cell_type": "code",
      "source": [
        "# 22. Extract substring\n",
        "substr(\"HelloWorld\", 2, 5)"
      ],
      "metadata": {
        "colab": {
          "base_uri": "https://localhost:8080/",
          "height": 34
        },
        "id": "tl26FSoo58dE",
        "outputId": "f64f4664-8922-4b9d-ae5b-46d3f0d1669d"
      },
      "execution_count": 33,
      "outputs": [
        {
          "output_type": "display_data",
          "data": {
            "text/html": [
              "'ello'"
            ],
            "text/markdown": "'ello'",
            "text/latex": "'ello'",
            "text/plain": [
              "[1] \"ello\""
            ]
          },
          "metadata": {}
        }
      ]
    },
    {
      "cell_type": "code",
      "source": [
        "# 23. Pattern matching\n",
        "grep(\"a\", c(\"apple\", \"banana\", \"cherry\"))"
      ],
      "metadata": {
        "colab": {
          "base_uri": "https://localhost:8080/",
          "height": 34
        },
        "id": "h2owHSgh58aX",
        "outputId": "f0f615e7-fc29-4df0-e5bb-4f88f7e8b58a"
      },
      "execution_count": 34,
      "outputs": [
        {
          "output_type": "display_data",
          "data": {
            "text/html": [
              "<style>\n",
              ".list-inline {list-style: none; margin:0; padding: 0}\n",
              ".list-inline>li {display: inline-block}\n",
              ".list-inline>li:not(:last-child)::after {content: \"\\00b7\"; padding: 0 .5ex}\n",
              "</style>\n",
              "<ol class=list-inline><li>1</li><li>2</li></ol>\n"
            ],
            "text/markdown": "1. 1\n2. 2\n\n\n",
            "text/latex": "\\begin{enumerate*}\n\\item 1\n\\item 2\n\\end{enumerate*}\n",
            "text/plain": [
              "[1] 1 2"
            ]
          },
          "metadata": {}
        }
      ]
    },
    {
      "cell_type": "code",
      "source": [
        "# 24. Replace pattern\n",
        "gsub(\"a\", \"@\", \"banana\")"
      ],
      "metadata": {
        "colab": {
          "base_uri": "https://localhost:8080/",
          "height": 34
        },
        "id": "Q5eRq8Jh58YD",
        "outputId": "3693a327-aae0-46d9-9b53-6bfa12b774f2"
      },
      "execution_count": 35,
      "outputs": [
        {
          "output_type": "display_data",
          "data": {
            "text/html": [
              "'b@n@n@'"
            ],
            "text/markdown": "'b@n@n@'",
            "text/latex": "'b@n@n@'",
            "text/plain": [
              "[1] \"b@n@n@\""
            ]
          },
          "metadata": {}
        }
      ]
    },
    {
      "cell_type": "code",
      "source": [
        "# 25. Split strings\n",
        "strsplit(\"apple,banana,grape\", \",\")"
      ],
      "metadata": {
        "colab": {
          "base_uri": "https://localhost:8080/",
          "height": 62
        },
        "id": "77_X8Ide6VGV",
        "outputId": "92c00480-0cae-408e-b626-a034e8777a39"
      },
      "execution_count": 36,
      "outputs": [
        {
          "output_type": "display_data",
          "data": {
            "text/html": [
              "<ol>\n",
              "\t<li><style>\n",
              ".list-inline {list-style: none; margin:0; padding: 0}\n",
              ".list-inline>li {display: inline-block}\n",
              ".list-inline>li:not(:last-child)::after {content: \"\\00b7\"; padding: 0 .5ex}\n",
              "</style>\n",
              "<ol class=list-inline><li>'apple'</li><li>'banana'</li><li>'grape'</li></ol>\n",
              "</li>\n",
              "</ol>\n"
            ],
            "text/markdown": "1. 1. 'apple'\n2. 'banana'\n3. 'grape'\n\n\n\n\n\n",
            "text/latex": "\\begin{enumerate}\n\\item \\begin{enumerate*}\n\\item 'apple'\n\\item 'banana'\n\\item 'grape'\n\\end{enumerate*}\n\n\\end{enumerate}\n",
            "text/plain": [
              "[[1]]\n",
              "[1] \"apple\"  \"banana\" \"grape\" \n"
            ]
          },
          "metadata": {}
        }
      ]
    },
    {
      "cell_type": "code",
      "source": [
        " # 26. Convert to numeric\n",
        "as.numeric(\"10\")"
      ],
      "metadata": {
        "colab": {
          "base_uri": "https://localhost:8080/",
          "height": 34
        },
        "id": "tOMZVW8v6Z-T",
        "outputId": "e3081746-10a3-4bec-caa1-b07c39d13819"
      },
      "execution_count": 37,
      "outputs": [
        {
          "output_type": "display_data",
          "data": {
            "text/html": [
              "10"
            ],
            "text/markdown": "10",
            "text/latex": "10",
            "text/plain": [
              "[1] 10"
            ]
          },
          "metadata": {}
        }
      ]
    },
    {
      "cell_type": "code",
      "source": [
        "# 27. Convert to character\n",
        "as.character(10)"
      ],
      "metadata": {
        "colab": {
          "base_uri": "https://localhost:8080/",
          "height": 34
        },
        "id": "WN_YiIbz6diq",
        "outputId": "d8da12a2-b304-4267-e366-cb7234a49fff"
      },
      "execution_count": 42,
      "outputs": [
        {
          "output_type": "display_data",
          "data": {
            "text/html": [
              "'10'"
            ],
            "text/markdown": "'10'",
            "text/latex": "'10'",
            "text/plain": [
              "[1] \"10\""
            ]
          },
          "metadata": {}
        }
      ]
    },
    {
      "cell_type": "code",
      "source": [
        "# 28. Convert to factor\n",
        "as.factor(c(\"low\", \"medium\", \"high\"))"
      ],
      "metadata": {
        "colab": {
          "base_uri": "https://localhost:8080/",
          "height": 52
        },
        "id": "yGyitUJY6htl",
        "outputId": "5b7346da-f34e-4084-a2c3-bb084834881f"
      },
      "execution_count": 43,
      "outputs": [
        {
          "output_type": "display_data",
          "data": {
            "text/html": [
              "<style>\n",
              ".list-inline {list-style: none; margin:0; padding: 0}\n",
              ".list-inline>li {display: inline-block}\n",
              ".list-inline>li:not(:last-child)::after {content: \"\\00b7\"; padding: 0 .5ex}\n",
              "</style>\n",
              "<ol class=list-inline><li>low</li><li>medium</li><li>high</li></ol>\n",
              "\n",
              "<details>\n",
              "\t<summary style=display:list-item;cursor:pointer>\n",
              "\t\t<strong>Levels</strong>:\n",
              "\t</summary>\n",
              "\t<style>\n",
              "\t.list-inline {list-style: none; margin:0; padding: 0}\n",
              "\t.list-inline>li {display: inline-block}\n",
              "\t.list-inline>li:not(:last-child)::after {content: \"\\00b7\"; padding: 0 .5ex}\n",
              "\t</style>\n",
              "\t<ol class=list-inline><li>'high'</li><li>'low'</li><li>'medium'</li></ol>\n",
              "</details>"
            ],
            "text/markdown": "1. low\n2. medium\n3. high\n\n\n\n**Levels**: 1. 'high'\n2. 'low'\n3. 'medium'\n\n\n",
            "text/latex": "\\begin{enumerate*}\n\\item low\n\\item medium\n\\item high\n\\end{enumerate*}\n\n\\emph{Levels}: \\begin{enumerate*}\n\\item 'high'\n\\item 'low'\n\\item 'medium'\n\\end{enumerate*}\n",
            "text/plain": [
              "[1] low    medium high  \n",
              "Levels: high low medium"
            ]
          },
          "metadata": {}
        }
      ]
    },
    {
      "cell_type": "code",
      "source": [
        " # 29. Convert to date\n",
        "as.Date(\"2024-02-05\")"
      ],
      "metadata": {
        "colab": {
          "base_uri": "https://localhost:8080/",
          "height": 34
        },
        "id": "cXz9x-bP6j5a",
        "outputId": "0da79ee3-52e0-43de-8b1b-c2adf249aeec"
      },
      "execution_count": 47,
      "outputs": [
        {
          "output_type": "display_data",
          "data": {
            "text/html": [
              "<time datetime=\"2024-02-05\">2024-02-05</time>"
            ],
            "text/markdown": "2024-02-05",
            "text/latex": "2024-02-05",
            "text/plain": [
              "[1] \"2024-02-05\""
            ]
          },
          "metadata": {}
        }
      ]
    },
    {
      "cell_type": "code",
      "source": [
        " # 30. Get current date\n",
        "Sys.Date()"
      ],
      "metadata": {
        "colab": {
          "base_uri": "https://localhost:8080/",
          "height": 34
        },
        "id": "DYvG5O3d6lhU",
        "outputId": "424fe68b-07e1-4d76-d63b-6894b87711a0"
      },
      "execution_count": 45,
      "outputs": [
        {
          "output_type": "display_data",
          "data": {
            "text/html": [
              "<time datetime=\"2025-02-05\">2025-02-05</time>"
            ],
            "text/markdown": "2025-02-05",
            "text/latex": "2025-02-05",
            "text/plain": [
              "[1] \"2025-02-05\""
            ]
          },
          "metadata": {}
        }
      ]
    },
    {
      "cell_type": "markdown",
      "source": [
        "## Mathematical & Statistical Functions"
      ],
      "metadata": {
        "id": "cD39fkXq6nWf"
      }
    },
    {
      "cell_type": "code",
      "source": [
        "sum(c(1, 2, 3))  # Sum of elements\n",
        "prod(c(1, 2, 3))  # Product of elements\n",
        "cumsum(c(1, 2, 3))  # Cumulative sum\n",
        "cumprod(c(1, 2, 3))  # Cumulative product\n",
        "mean(c(1, 2, 3))  # Compute mean\n",
        "median(c(1, 2, 3, 4))  # Compute median\n",
        "min(c(1, 2, 3))  # Find minimum\n",
        "max(c(1, 2, 3))  # Find maximum\n",
        "range(c(1, 2, 3))  # Find range\n",
        "var(c(1, 2, 3))  # Variance\n",
        "sd(c(1, 2, 3))  # Standard deviation\n",
        "quantile(c(1, 2, 3, 4, 5), probs = 0.5)  # Compute quantiles\n",
        "round(3.14159, 2)  # Round values\n",
        "ceiling(3.2)  # Round up\n",
        "floor(3.9)  # Round down\n",
        "abs(-5)  # Absolute value\n",
        "sqrt(9)  # Square root\n",
        "log(10)  # Natural logarithm\n",
        "exp(2)  # Exponential function\n",
        "factorial(5)  # Compute factorial\n",
        "choose(5, 2)  # Compute binomial coefficient\n",
        "sin(pi/2)  # Sine function\n",
        "cos(0)  # Cosine function\n",
        "tan(pi/4)  # Tangent function\n",
        "cor(c(1, 2, 3), c(3, 2, 1))  # Correlation coefficient\n",
        "cov(c(1, 2, 3), c(3, 2, 1))  # Covariance\n"
      ],
      "metadata": {
        "id": "afxGGOM3sFwA",
        "colab": {
          "base_uri": "https://localhost:8080/",
          "height": 468
        },
        "outputId": "299852a8-d5d2-41d4-a96d-982c813d367d"
      },
      "execution_count": 48,
      "outputs": [
        {
          "output_type": "display_data",
          "data": {
            "text/html": [
              "6"
            ],
            "text/markdown": "6",
            "text/latex": "6",
            "text/plain": [
              "[1] 6"
            ]
          },
          "metadata": {}
        },
        {
          "output_type": "display_data",
          "data": {
            "text/html": [
              "6"
            ],
            "text/markdown": "6",
            "text/latex": "6",
            "text/plain": [
              "[1] 6"
            ]
          },
          "metadata": {}
        },
        {
          "output_type": "display_data",
          "data": {
            "text/html": [
              "<style>\n",
              ".list-inline {list-style: none; margin:0; padding: 0}\n",
              ".list-inline>li {display: inline-block}\n",
              ".list-inline>li:not(:last-child)::after {content: \"\\00b7\"; padding: 0 .5ex}\n",
              "</style>\n",
              "<ol class=list-inline><li>1</li><li>3</li><li>6</li></ol>\n"
            ],
            "text/markdown": "1. 1\n2. 3\n3. 6\n\n\n",
            "text/latex": "\\begin{enumerate*}\n\\item 1\n\\item 3\n\\item 6\n\\end{enumerate*}\n",
            "text/plain": [
              "[1] 1 3 6"
            ]
          },
          "metadata": {}
        },
        {
          "output_type": "display_data",
          "data": {
            "text/html": [
              "<style>\n",
              ".list-inline {list-style: none; margin:0; padding: 0}\n",
              ".list-inline>li {display: inline-block}\n",
              ".list-inline>li:not(:last-child)::after {content: \"\\00b7\"; padding: 0 .5ex}\n",
              "</style>\n",
              "<ol class=list-inline><li>1</li><li>2</li><li>6</li></ol>\n"
            ],
            "text/markdown": "1. 1\n2. 2\n3. 6\n\n\n",
            "text/latex": "\\begin{enumerate*}\n\\item 1\n\\item 2\n\\item 6\n\\end{enumerate*}\n",
            "text/plain": [
              "[1] 1 2 6"
            ]
          },
          "metadata": {}
        },
        {
          "output_type": "display_data",
          "data": {
            "text/html": [
              "2"
            ],
            "text/markdown": "2",
            "text/latex": "2",
            "text/plain": [
              "[1] 2"
            ]
          },
          "metadata": {}
        },
        {
          "output_type": "display_data",
          "data": {
            "text/html": [
              "2.5"
            ],
            "text/markdown": "2.5",
            "text/latex": "2.5",
            "text/plain": [
              "[1] 2.5"
            ]
          },
          "metadata": {}
        },
        {
          "output_type": "display_data",
          "data": {
            "text/html": [
              "1"
            ],
            "text/markdown": "1",
            "text/latex": "1",
            "text/plain": [
              "[1] 1"
            ]
          },
          "metadata": {}
        },
        {
          "output_type": "display_data",
          "data": {
            "text/html": [
              "3"
            ],
            "text/markdown": "3",
            "text/latex": "3",
            "text/plain": [
              "[1] 3"
            ]
          },
          "metadata": {}
        },
        {
          "output_type": "display_data",
          "data": {
            "text/html": [
              "<style>\n",
              ".list-inline {list-style: none; margin:0; padding: 0}\n",
              ".list-inline>li {display: inline-block}\n",
              ".list-inline>li:not(:last-child)::after {content: \"\\00b7\"; padding: 0 .5ex}\n",
              "</style>\n",
              "<ol class=list-inline><li>1</li><li>3</li></ol>\n"
            ],
            "text/markdown": "1. 1\n2. 3\n\n\n",
            "text/latex": "\\begin{enumerate*}\n\\item 1\n\\item 3\n\\end{enumerate*}\n",
            "text/plain": [
              "[1] 1 3"
            ]
          },
          "metadata": {}
        },
        {
          "output_type": "display_data",
          "data": {
            "text/html": [
              "1"
            ],
            "text/markdown": "1",
            "text/latex": "1",
            "text/plain": [
              "[1] 1"
            ]
          },
          "metadata": {}
        },
        {
          "output_type": "display_data",
          "data": {
            "text/html": [
              "1"
            ],
            "text/markdown": "1",
            "text/latex": "1",
            "text/plain": [
              "[1] 1"
            ]
          },
          "metadata": {}
        },
        {
          "output_type": "display_data",
          "data": {
            "text/html": [
              "<strong>50%:</strong> 3"
            ],
            "text/markdown": "**50%:** 3",
            "text/latex": "\\textbf{50\\textbackslash{}\\%:} 3",
            "text/plain": [
              "50% \n",
              "  3 "
            ]
          },
          "metadata": {}
        },
        {
          "output_type": "display_data",
          "data": {
            "text/html": [
              "3.14"
            ],
            "text/markdown": "3.14",
            "text/latex": "3.14",
            "text/plain": [
              "[1] 3.14"
            ]
          },
          "metadata": {}
        },
        {
          "output_type": "display_data",
          "data": {
            "text/html": [
              "4"
            ],
            "text/markdown": "4",
            "text/latex": "4",
            "text/plain": [
              "[1] 4"
            ]
          },
          "metadata": {}
        },
        {
          "output_type": "display_data",
          "data": {
            "text/html": [
              "3"
            ],
            "text/markdown": "3",
            "text/latex": "3",
            "text/plain": [
              "[1] 3"
            ]
          },
          "metadata": {}
        },
        {
          "output_type": "display_data",
          "data": {
            "text/html": [
              "5"
            ],
            "text/markdown": "5",
            "text/latex": "5",
            "text/plain": [
              "[1] 5"
            ]
          },
          "metadata": {}
        },
        {
          "output_type": "display_data",
          "data": {
            "text/html": [
              "3"
            ],
            "text/markdown": "3",
            "text/latex": "3",
            "text/plain": [
              "[1] 3"
            ]
          },
          "metadata": {}
        },
        {
          "output_type": "display_data",
          "data": {
            "text/html": [
              "2.30258509299405"
            ],
            "text/markdown": "2.30258509299405",
            "text/latex": "2.30258509299405",
            "text/plain": [
              "[1] 2.302585"
            ]
          },
          "metadata": {}
        },
        {
          "output_type": "display_data",
          "data": {
            "text/html": [
              "7.38905609893065"
            ],
            "text/markdown": "7.38905609893065",
            "text/latex": "7.38905609893065",
            "text/plain": [
              "[1] 7.389056"
            ]
          },
          "metadata": {}
        },
        {
          "output_type": "display_data",
          "data": {
            "text/html": [
              "120"
            ],
            "text/markdown": "120",
            "text/latex": "120",
            "text/plain": [
              "[1] 120"
            ]
          },
          "metadata": {}
        },
        {
          "output_type": "display_data",
          "data": {
            "text/html": [
              "10"
            ],
            "text/markdown": "10",
            "text/latex": "10",
            "text/plain": [
              "[1] 10"
            ]
          },
          "metadata": {}
        },
        {
          "output_type": "display_data",
          "data": {
            "text/html": [
              "1"
            ],
            "text/markdown": "1",
            "text/latex": "1",
            "text/plain": [
              "[1] 1"
            ]
          },
          "metadata": {}
        },
        {
          "output_type": "display_data",
          "data": {
            "text/html": [
              "1"
            ],
            "text/markdown": "1",
            "text/latex": "1",
            "text/plain": [
              "[1] 1"
            ]
          },
          "metadata": {}
        },
        {
          "output_type": "display_data",
          "data": {
            "text/html": [
              "1"
            ],
            "text/markdown": "1",
            "text/latex": "1",
            "text/plain": [
              "[1] 1"
            ]
          },
          "metadata": {}
        },
        {
          "output_type": "display_data",
          "data": {
            "text/html": [
              "-1"
            ],
            "text/markdown": "-1",
            "text/latex": "-1",
            "text/plain": [
              "[1] -1"
            ]
          },
          "metadata": {}
        },
        {
          "output_type": "display_data",
          "data": {
            "text/html": [
              "-1"
            ],
            "text/markdown": "-1",
            "text/latex": "-1",
            "text/plain": [
              "[1] -1"
            ]
          },
          "metadata": {}
        }
      ]
    },
    {
      "cell_type": "markdown",
      "source": [
        "## Data Manipulation"
      ],
      "metadata": {
        "id": "ATQr7-tY6sdU"
      }
    },
    {
      "cell_type": "code",
      "source": [
        "df <- data.frame(A = 1:3, B = c(\"x\", \"y\", \"z\"))  # Create data frame\n",
        "lst <- list(a = 1, b = \"hello\")  # Create a list\n",
        "mat <- matrix(1:9, nrow = 3)  # Create a matrix\n",
        "arr <- array(1:8, dim = c(2, 2, 2))  # Create an array\n",
        "t(mat)  # Transpose a matrix\n",
        "rbind(1:3, 4:6)  # Row bind data\n",
        "cbind(1:3, 4:6)  # Column bind data\n",
        "dim(mat)  # Get dimensions of matrix/dataframe\n",
        "nrow(df)  # Number of rows\n",
        "ncol(df)  # Number of columns\n",
        "names(df)  # Get or set column names\n",
        "colnames(df)  # Get/set column names\n",
        "rownames(df)  # Get/set row names\n",
        "subset(df, A > 1)  # Subset data\n",
        "merge(data.frame(ID = 1:2), data.frame(ID = 2:3, Value = c(\"A\", \"B\")))  # Merge data frames\n",
        "apply(mat, 1, sum)  # Apply function over array margins\n",
        "lapply(lst, class)  # Apply function over list\n",
        "sapply(lst, class)  # Simplified apply over list\n",
        "tapply(1:10, rep(1:2, each = 5), sum)  # Apply function over subsets\n",
        "aggregate(A ~ B, df, sum)  # Aggregate data\n",
        "split(1:10, rep(1:2, each = 5))  # Split data into groups\n",
        "stack(df)  # Stack dataframe columns\n",
        "unstack(stack(df))  # Unstack stacked data\n",
        "reshape(df, varying = list(1:2), direction = \"long\")  # Reshape data\n"
      ],
      "metadata": {
        "id": "12ap4BbRsILd",
        "colab": {
          "base_uri": "https://localhost:8080/",
          "height": 1000
        },
        "outputId": "7bae73df-e554-4172-e4de-0cd4d111d778"
      },
      "execution_count": 49,
      "outputs": [
        {
          "output_type": "display_data",
          "data": {
            "text/html": [
              "<table class=\"dataframe\">\n",
              "<caption>A matrix: 3 × 3 of type int</caption>\n",
              "<tbody>\n",
              "\t<tr><td>1</td><td>2</td><td>3</td></tr>\n",
              "\t<tr><td>4</td><td>5</td><td>6</td></tr>\n",
              "\t<tr><td>7</td><td>8</td><td>9</td></tr>\n",
              "</tbody>\n",
              "</table>\n"
            ],
            "text/markdown": "\nA matrix: 3 × 3 of type int\n\n| 1 | 2 | 3 |\n| 4 | 5 | 6 |\n| 7 | 8 | 9 |\n\n",
            "text/latex": "A matrix: 3 × 3 of type int\n\\begin{tabular}{lll}\n\t 1 & 2 & 3\\\\\n\t 4 & 5 & 6\\\\\n\t 7 & 8 & 9\\\\\n\\end{tabular}\n",
            "text/plain": [
              "     [,1] [,2] [,3]\n",
              "[1,] 1    2    3   \n",
              "[2,] 4    5    6   \n",
              "[3,] 7    8    9   "
            ]
          },
          "metadata": {}
        },
        {
          "output_type": "display_data",
          "data": {
            "text/html": [
              "<table class=\"dataframe\">\n",
              "<caption>A matrix: 2 × 3 of type int</caption>\n",
              "<tbody>\n",
              "\t<tr><td>1</td><td>2</td><td>3</td></tr>\n",
              "\t<tr><td>4</td><td>5</td><td>6</td></tr>\n",
              "</tbody>\n",
              "</table>\n"
            ],
            "text/markdown": "\nA matrix: 2 × 3 of type int\n\n| 1 | 2 | 3 |\n| 4 | 5 | 6 |\n\n",
            "text/latex": "A matrix: 2 × 3 of type int\n\\begin{tabular}{lll}\n\t 1 & 2 & 3\\\\\n\t 4 & 5 & 6\\\\\n\\end{tabular}\n",
            "text/plain": [
              "     [,1] [,2] [,3]\n",
              "[1,] 1    2    3   \n",
              "[2,] 4    5    6   "
            ]
          },
          "metadata": {}
        },
        {
          "output_type": "display_data",
          "data": {
            "text/html": [
              "<table class=\"dataframe\">\n",
              "<caption>A matrix: 3 × 2 of type int</caption>\n",
              "<tbody>\n",
              "\t<tr><td>1</td><td>4</td></tr>\n",
              "\t<tr><td>2</td><td>5</td></tr>\n",
              "\t<tr><td>3</td><td>6</td></tr>\n",
              "</tbody>\n",
              "</table>\n"
            ],
            "text/markdown": "\nA matrix: 3 × 2 of type int\n\n| 1 | 4 |\n| 2 | 5 |\n| 3 | 6 |\n\n",
            "text/latex": "A matrix: 3 × 2 of type int\n\\begin{tabular}{ll}\n\t 1 & 4\\\\\n\t 2 & 5\\\\\n\t 3 & 6\\\\\n\\end{tabular}\n",
            "text/plain": [
              "     [,1] [,2]\n",
              "[1,] 1    4   \n",
              "[2,] 2    5   \n",
              "[3,] 3    6   "
            ]
          },
          "metadata": {}
        },
        {
          "output_type": "display_data",
          "data": {
            "text/html": [
              "<style>\n",
              ".list-inline {list-style: none; margin:0; padding: 0}\n",
              ".list-inline>li {display: inline-block}\n",
              ".list-inline>li:not(:last-child)::after {content: \"\\00b7\"; padding: 0 .5ex}\n",
              "</style>\n",
              "<ol class=list-inline><li>3</li><li>3</li></ol>\n"
            ],
            "text/markdown": "1. 3\n2. 3\n\n\n",
            "text/latex": "\\begin{enumerate*}\n\\item 3\n\\item 3\n\\end{enumerate*}\n",
            "text/plain": [
              "[1] 3 3"
            ]
          },
          "metadata": {}
        },
        {
          "output_type": "display_data",
          "data": {
            "text/html": [
              "3"
            ],
            "text/markdown": "3",
            "text/latex": "3",
            "text/plain": [
              "[1] 3"
            ]
          },
          "metadata": {}
        },
        {
          "output_type": "display_data",
          "data": {
            "text/html": [
              "2"
            ],
            "text/markdown": "2",
            "text/latex": "2",
            "text/plain": [
              "[1] 2"
            ]
          },
          "metadata": {}
        },
        {
          "output_type": "display_data",
          "data": {
            "text/html": [
              "<style>\n",
              ".list-inline {list-style: none; margin:0; padding: 0}\n",
              ".list-inline>li {display: inline-block}\n",
              ".list-inline>li:not(:last-child)::after {content: \"\\00b7\"; padding: 0 .5ex}\n",
              "</style>\n",
              "<ol class=list-inline><li>'A'</li><li>'B'</li></ol>\n"
            ],
            "text/markdown": "1. 'A'\n2. 'B'\n\n\n",
            "text/latex": "\\begin{enumerate*}\n\\item 'A'\n\\item 'B'\n\\end{enumerate*}\n",
            "text/plain": [
              "[1] \"A\" \"B\""
            ]
          },
          "metadata": {}
        },
        {
          "output_type": "display_data",
          "data": {
            "text/html": [
              "<style>\n",
              ".list-inline {list-style: none; margin:0; padding: 0}\n",
              ".list-inline>li {display: inline-block}\n",
              ".list-inline>li:not(:last-child)::after {content: \"\\00b7\"; padding: 0 .5ex}\n",
              "</style>\n",
              "<ol class=list-inline><li>'A'</li><li>'B'</li></ol>\n"
            ],
            "text/markdown": "1. 'A'\n2. 'B'\n\n\n",
            "text/latex": "\\begin{enumerate*}\n\\item 'A'\n\\item 'B'\n\\end{enumerate*}\n",
            "text/plain": [
              "[1] \"A\" \"B\""
            ]
          },
          "metadata": {}
        },
        {
          "output_type": "display_data",
          "data": {
            "text/html": [
              "<style>\n",
              ".list-inline {list-style: none; margin:0; padding: 0}\n",
              ".list-inline>li {display: inline-block}\n",
              ".list-inline>li:not(:last-child)::after {content: \"\\00b7\"; padding: 0 .5ex}\n",
              "</style>\n",
              "<ol class=list-inline><li>'1'</li><li>'2'</li><li>'3'</li></ol>\n"
            ],
            "text/markdown": "1. '1'\n2. '2'\n3. '3'\n\n\n",
            "text/latex": "\\begin{enumerate*}\n\\item '1'\n\\item '2'\n\\item '3'\n\\end{enumerate*}\n",
            "text/plain": [
              "[1] \"1\" \"2\" \"3\""
            ]
          },
          "metadata": {}
        },
        {
          "output_type": "display_data",
          "data": {
            "text/html": [
              "<table class=\"dataframe\">\n",
              "<caption>A data.frame: 2 × 2</caption>\n",
              "<thead>\n",
              "\t<tr><th></th><th scope=col>A</th><th scope=col>B</th></tr>\n",
              "\t<tr><th></th><th scope=col>&lt;int&gt;</th><th scope=col>&lt;chr&gt;</th></tr>\n",
              "</thead>\n",
              "<tbody>\n",
              "\t<tr><th scope=row>2</th><td>2</td><td>y</td></tr>\n",
              "\t<tr><th scope=row>3</th><td>3</td><td>z</td></tr>\n",
              "</tbody>\n",
              "</table>\n"
            ],
            "text/markdown": "\nA data.frame: 2 × 2\n\n| <!--/--> | A &lt;int&gt; | B &lt;chr&gt; |\n|---|---|---|\n| 2 | 2 | y |\n| 3 | 3 | z |\n\n",
            "text/latex": "A data.frame: 2 × 2\n\\begin{tabular}{r|ll}\n  & A & B\\\\\n  & <int> & <chr>\\\\\n\\hline\n\t2 & 2 & y\\\\\n\t3 & 3 & z\\\\\n\\end{tabular}\n",
            "text/plain": [
              "  A B\n",
              "2 2 y\n",
              "3 3 z"
            ]
          },
          "metadata": {}
        },
        {
          "output_type": "display_data",
          "data": {
            "text/html": [
              "<table class=\"dataframe\">\n",
              "<caption>A data.frame: 1 × 2</caption>\n",
              "<thead>\n",
              "\t<tr><th scope=col>ID</th><th scope=col>Value</th></tr>\n",
              "\t<tr><th scope=col>&lt;int&gt;</th><th scope=col>&lt;chr&gt;</th></tr>\n",
              "</thead>\n",
              "<tbody>\n",
              "\t<tr><td>2</td><td>A</td></tr>\n",
              "</tbody>\n",
              "</table>\n"
            ],
            "text/markdown": "\nA data.frame: 1 × 2\n\n| ID &lt;int&gt; | Value &lt;chr&gt; |\n|---|---|\n| 2 | A |\n\n",
            "text/latex": "A data.frame: 1 × 2\n\\begin{tabular}{ll}\n ID & Value\\\\\n <int> & <chr>\\\\\n\\hline\n\t 2 & A\\\\\n\\end{tabular}\n",
            "text/plain": [
              "  ID Value\n",
              "1 2  A    "
            ]
          },
          "metadata": {}
        },
        {
          "output_type": "display_data",
          "data": {
            "text/html": [
              "<style>\n",
              ".list-inline {list-style: none; margin:0; padding: 0}\n",
              ".list-inline>li {display: inline-block}\n",
              ".list-inline>li:not(:last-child)::after {content: \"\\00b7\"; padding: 0 .5ex}\n",
              "</style>\n",
              "<ol class=list-inline><li>12</li><li>15</li><li>18</li></ol>\n"
            ],
            "text/markdown": "1. 12\n2. 15\n3. 18\n\n\n",
            "text/latex": "\\begin{enumerate*}\n\\item 12\n\\item 15\n\\item 18\n\\end{enumerate*}\n",
            "text/plain": [
              "[1] 12 15 18"
            ]
          },
          "metadata": {}
        },
        {
          "output_type": "display_data",
          "data": {
            "text/html": [
              "<dl>\n",
              "\t<dt>$a</dt>\n",
              "\t\t<dd>'numeric'</dd>\n",
              "\t<dt>$b</dt>\n",
              "\t\t<dd>'character'</dd>\n",
              "</dl>\n"
            ],
            "text/markdown": "$a\n:   'numeric'\n$b\n:   'character'\n\n\n",
            "text/latex": "\\begin{description}\n\\item[\\$a] 'numeric'\n\\item[\\$b] 'character'\n\\end{description}\n",
            "text/plain": [
              "$a\n",
              "[1] \"numeric\"\n",
              "\n",
              "$b\n",
              "[1] \"character\"\n"
            ]
          },
          "metadata": {}
        },
        {
          "output_type": "display_data",
          "data": {
            "text/html": [
              "<style>\n",
              ".dl-inline {width: auto; margin:0; padding: 0}\n",
              ".dl-inline>dt, .dl-inline>dd {float: none; width: auto; display: inline-block}\n",
              ".dl-inline>dt::after {content: \":\\0020\"; padding-right: .5ex}\n",
              ".dl-inline>dt:not(:first-of-type) {padding-left: .5ex}\n",
              "</style><dl class=dl-inline><dt>a</dt><dd>'numeric'</dd><dt>b</dt><dd>'character'</dd></dl>\n"
            ],
            "text/markdown": "a\n:   'numeric'b\n:   'character'\n\n",
            "text/latex": "\\begin{description*}\n\\item[a] 'numeric'\n\\item[b] 'character'\n\\end{description*}\n",
            "text/plain": [
              "          a           b \n",
              "  \"numeric\" \"character\" "
            ]
          },
          "metadata": {}
        },
        {
          "output_type": "display_data",
          "data": {
            "text/html": [
              "<style>\n",
              ".dl-inline {width: auto; margin:0; padding: 0}\n",
              ".dl-inline>dt, .dl-inline>dd {float: none; width: auto; display: inline-block}\n",
              ".dl-inline>dt::after {content: \":\\0020\"; padding-right: .5ex}\n",
              ".dl-inline>dt:not(:first-of-type) {padding-left: .5ex}\n",
              "</style><dl class=dl-inline><dt>1</dt><dd>15</dd><dt>2</dt><dd>40</dd></dl>\n"
            ],
            "text/markdown": "1\n:   152\n:   40\n\n",
            "text/latex": "\\begin{description*}\n\\item[1] 15\n\\item[2] 40\n\\end{description*}\n",
            "text/plain": [
              " 1  2 \n",
              "15 40 "
            ]
          },
          "metadata": {}
        },
        {
          "output_type": "display_data",
          "data": {
            "text/html": [
              "<table class=\"dataframe\">\n",
              "<caption>A data.frame: 3 × 2</caption>\n",
              "<thead>\n",
              "\t<tr><th scope=col>B</th><th scope=col>A</th></tr>\n",
              "\t<tr><th scope=col>&lt;chr&gt;</th><th scope=col>&lt;int&gt;</th></tr>\n",
              "</thead>\n",
              "<tbody>\n",
              "\t<tr><td>x</td><td>1</td></tr>\n",
              "\t<tr><td>y</td><td>2</td></tr>\n",
              "\t<tr><td>z</td><td>3</td></tr>\n",
              "</tbody>\n",
              "</table>\n"
            ],
            "text/markdown": "\nA data.frame: 3 × 2\n\n| B &lt;chr&gt; | A &lt;int&gt; |\n|---|---|\n| x | 1 |\n| y | 2 |\n| z | 3 |\n\n",
            "text/latex": "A data.frame: 3 × 2\n\\begin{tabular}{ll}\n B & A\\\\\n <chr> & <int>\\\\\n\\hline\n\t x & 1\\\\\n\t y & 2\\\\\n\t z & 3\\\\\n\\end{tabular}\n",
            "text/plain": [
              "  B A\n",
              "1 x 1\n",
              "2 y 2\n",
              "3 z 3"
            ]
          },
          "metadata": {}
        },
        {
          "output_type": "display_data",
          "data": {
            "text/html": [
              "<dl>\n",
              "\t<dt>$`1`</dt>\n",
              "\t\t<dd><style>\n",
              ".list-inline {list-style: none; margin:0; padding: 0}\n",
              ".list-inline>li {display: inline-block}\n",
              ".list-inline>li:not(:last-child)::after {content: \"\\00b7\"; padding: 0 .5ex}\n",
              "</style>\n",
              "<ol class=list-inline><li>1</li><li>2</li><li>3</li><li>4</li><li>5</li></ol>\n",
              "</dd>\n",
              "\t<dt>$`2`</dt>\n",
              "\t\t<dd><style>\n",
              ".list-inline {list-style: none; margin:0; padding: 0}\n",
              ".list-inline>li {display: inline-block}\n",
              ".list-inline>li:not(:last-child)::after {content: \"\\00b7\"; padding: 0 .5ex}\n",
              "</style>\n",
              "<ol class=list-inline><li>6</li><li>7</li><li>8</li><li>9</li><li>10</li></ol>\n",
              "</dd>\n",
              "</dl>\n"
            ],
            "text/markdown": "$`1`\n:   1. 1\n2. 2\n3. 3\n4. 4\n5. 5\n\n\n\n$`2`\n:   1. 6\n2. 7\n3. 8\n4. 9\n5. 10\n\n\n\n\n\n",
            "text/latex": "\\begin{description}\n\\item[\\$`1`] \\begin{enumerate*}\n\\item 1\n\\item 2\n\\item 3\n\\item 4\n\\item 5\n\\end{enumerate*}\n\n\\item[\\$`2`] \\begin{enumerate*}\n\\item 6\n\\item 7\n\\item 8\n\\item 9\n\\item 10\n\\end{enumerate*}\n\n\\end{description}\n",
            "text/plain": [
              "$`1`\n",
              "[1] 1 2 3 4 5\n",
              "\n",
              "$`2`\n",
              "[1]  6  7  8  9 10\n"
            ]
          },
          "metadata": {}
        },
        {
          "output_type": "display_data",
          "data": {
            "text/html": [
              "<table class=\"dataframe\">\n",
              "<caption>A data.frame: 6 × 2</caption>\n",
              "<thead>\n",
              "\t<tr><th scope=col>values</th><th scope=col>ind</th></tr>\n",
              "\t<tr><th scope=col>&lt;chr&gt;</th><th scope=col>&lt;fct&gt;</th></tr>\n",
              "</thead>\n",
              "<tbody>\n",
              "\t<tr><td>1</td><td>A</td></tr>\n",
              "\t<tr><td>2</td><td>A</td></tr>\n",
              "\t<tr><td>3</td><td>A</td></tr>\n",
              "\t<tr><td>x</td><td>B</td></tr>\n",
              "\t<tr><td>y</td><td>B</td></tr>\n",
              "\t<tr><td>z</td><td>B</td></tr>\n",
              "</tbody>\n",
              "</table>\n"
            ],
            "text/markdown": "\nA data.frame: 6 × 2\n\n| values &lt;chr&gt; | ind &lt;fct&gt; |\n|---|---|\n| 1 | A |\n| 2 | A |\n| 3 | A |\n| x | B |\n| y | B |\n| z | B |\n\n",
            "text/latex": "A data.frame: 6 × 2\n\\begin{tabular}{ll}\n values & ind\\\\\n <chr> & <fct>\\\\\n\\hline\n\t 1 & A\\\\\n\t 2 & A\\\\\n\t 3 & A\\\\\n\t x & B\\\\\n\t y & B\\\\\n\t z & B\\\\\n\\end{tabular}\n",
            "text/plain": [
              "  values ind\n",
              "1 1      A  \n",
              "2 2      A  \n",
              "3 3      A  \n",
              "4 x      B  \n",
              "5 y      B  \n",
              "6 z      B  "
            ]
          },
          "metadata": {}
        },
        {
          "output_type": "display_data",
          "data": {
            "text/html": [
              "<table class=\"dataframe\">\n",
              "<caption>A data.frame: 3 × 2</caption>\n",
              "<thead>\n",
              "\t<tr><th scope=col>A</th><th scope=col>B</th></tr>\n",
              "\t<tr><th scope=col>&lt;chr&gt;</th><th scope=col>&lt;chr&gt;</th></tr>\n",
              "</thead>\n",
              "<tbody>\n",
              "\t<tr><td>1</td><td>x</td></tr>\n",
              "\t<tr><td>2</td><td>y</td></tr>\n",
              "\t<tr><td>3</td><td>z</td></tr>\n",
              "</tbody>\n",
              "</table>\n"
            ],
            "text/markdown": "\nA data.frame: 3 × 2\n\n| A &lt;chr&gt; | B &lt;chr&gt; |\n|---|---|\n| 1 | x |\n| 2 | y |\n| 3 | z |\n\n",
            "text/latex": "A data.frame: 3 × 2\n\\begin{tabular}{ll}\n A & B\\\\\n <chr> & <chr>\\\\\n\\hline\n\t 1 & x\\\\\n\t 2 & y\\\\\n\t 3 & z\\\\\n\\end{tabular}\n",
            "text/plain": [
              "  A B\n",
              "1 1 x\n",
              "2 2 y\n",
              "3 3 z"
            ]
          },
          "metadata": {}
        },
        {
          "output_type": "display_data",
          "data": {
            "text/html": [
              "<table class=\"dataframe\">\n",
              "<caption>A data.frame: 6 × 3</caption>\n",
              "<thead>\n",
              "\t<tr><th></th><th scope=col>time</th><th scope=col>A</th><th scope=col>id</th></tr>\n",
              "\t<tr><th></th><th scope=col>&lt;int&gt;</th><th scope=col>&lt;chr&gt;</th><th scope=col>&lt;int&gt;</th></tr>\n",
              "</thead>\n",
              "<tbody>\n",
              "\t<tr><th scope=row>1.1</th><td>1</td><td>1</td><td>1</td></tr>\n",
              "\t<tr><th scope=row>2.1</th><td>1</td><td>2</td><td>2</td></tr>\n",
              "\t<tr><th scope=row>3.1</th><td>1</td><td>3</td><td>3</td></tr>\n",
              "\t<tr><th scope=row>1.2</th><td>2</td><td>x</td><td>1</td></tr>\n",
              "\t<tr><th scope=row>2.2</th><td>2</td><td>y</td><td>2</td></tr>\n",
              "\t<tr><th scope=row>3.2</th><td>2</td><td>z</td><td>3</td></tr>\n",
              "</tbody>\n",
              "</table>\n"
            ],
            "text/markdown": "\nA data.frame: 6 × 3\n\n| <!--/--> | time &lt;int&gt; | A &lt;chr&gt; | id &lt;int&gt; |\n|---|---|---|---|\n| 1.1 | 1 | 1 | 1 |\n| 2.1 | 1 | 2 | 2 |\n| 3.1 | 1 | 3 | 3 |\n| 1.2 | 2 | x | 1 |\n| 2.2 | 2 | y | 2 |\n| 3.2 | 2 | z | 3 |\n\n",
            "text/latex": "A data.frame: 6 × 3\n\\begin{tabular}{r|lll}\n  & time & A & id\\\\\n  & <int> & <chr> & <int>\\\\\n\\hline\n\t1.1 & 1 & 1 & 1\\\\\n\t2.1 & 1 & 2 & 2\\\\\n\t3.1 & 1 & 3 & 3\\\\\n\t1.2 & 2 & x & 1\\\\\n\t2.2 & 2 & y & 2\\\\\n\t3.2 & 2 & z & 3\\\\\n\\end{tabular}\n",
            "text/plain": [
              "    time A id\n",
              "1.1 1    1 1 \n",
              "2.1 1    2 2 \n",
              "3.1 1    3 3 \n",
              "1.2 2    x 1 \n",
              "2.2 2    y 2 \n",
              "3.2 2    z 3 "
            ]
          },
          "metadata": {}
        }
      ]
    },
    {
      "cell_type": "markdown",
      "source": [
        "## Control Flow & Programming"
      ],
      "metadata": {
        "id": "ZsfYy_Uq6wxF"
      }
    },
    {
      "cell_type": "code",
      "source": [
        "ifelse(c(1, 2, 3) > 2, \"big\", \"small\")  # Vectorized conditional statement\n",
        "for(i in 1:5) print(i)  # Loop over sequence\n",
        "i <- 1; while(i <= 3) { print(i); i <- i + 1 }  # Loop while condition holds\n",
        "repeat { print(\"Looping\"); break }  # Infinite loop (until break)\n",
        "function(x) x^2  # Define a function\n",
        "return(10)  # Return value from function\n",
        "stop(\"Error!\")  # Halt execution with error\n",
        "warning(\"Warning!\")  # Generate a warning message\n",
        "try(log(\"A\"))  # Catch errors\n",
        "tryCatch(log(\"A\"), error = function(e) print(\"Error handled\"))  # Advanced error handling\n"
      ],
      "metadata": {
        "id": "qiGZ6f4EsOJP",
        "colab": {
          "base_uri": "https://localhost:8080/",
          "height": 453
        },
        "outputId": "0b6ad3dc-31c4-42ff-ffca-fefbabf392b7"
      },
      "execution_count": 50,
      "outputs": [
        {
          "output_type": "display_data",
          "data": {
            "text/html": [
              "<style>\n",
              ".list-inline {list-style: none; margin:0; padding: 0}\n",
              ".list-inline>li {display: inline-block}\n",
              ".list-inline>li:not(:last-child)::after {content: \"\\00b7\"; padding: 0 .5ex}\n",
              "</style>\n",
              "<ol class=list-inline><li>'small'</li><li>'small'</li><li>'big'</li></ol>\n"
            ],
            "text/markdown": "1. 'small'\n2. 'small'\n3. 'big'\n\n\n",
            "text/latex": "\\begin{enumerate*}\n\\item 'small'\n\\item 'small'\n\\item 'big'\n\\end{enumerate*}\n",
            "text/plain": [
              "[1] \"small\" \"small\" \"big\"  "
            ]
          },
          "metadata": {}
        },
        {
          "output_type": "stream",
          "name": "stdout",
          "text": [
            "[1] 1\n",
            "[1] 2\n",
            "[1] 3\n",
            "[1] 4\n",
            "[1] 5\n",
            "[1] 1\n",
            "[1] 2\n",
            "[1] 3\n",
            "[1] \"Looping\"\n"
          ]
        },
        {
          "output_type": "display_data",
          "data": {
            "text/html": [
              "<pre class=language-r><code>function (x) \n",
              "x^2</code></pre>"
            ],
            "text/markdown": "```r\nfunction (x) \nx^2\n```",
            "text/latex": "\\begin{minted}{r}\nfunction (x) \nx\\textasciicircum{}2\n\\end{minted}",
            "text/plain": [
              "function (x) \n",
              "x^2"
            ]
          },
          "metadata": {}
        },
        {
          "output_type": "display_data",
          "data": {
            "text/html": [
              "10"
            ],
            "text/markdown": "10",
            "text/latex": "10",
            "text/plain": [
              "[1] 10"
            ]
          },
          "metadata": {}
        },
        {
          "output_type": "error",
          "ename": "ERROR",
          "evalue": "Error: Error!\n",
          "traceback": [
            "Error: Error!\nTraceback:\n",
            "1. .handleSimpleError(function (cnd) \n . {\n .     watcher$capture_plot_and_output()\n .     cnd <- sanitize_call(cnd)\n .     watcher$push(cnd)\n .     switch(on_error, continue = invokeRestart(\"eval_continue\"), \n .         stop = invokeRestart(\"eval_stop\"), error = NULL)\n . }, \"Error!\", base::quote(eval(expr, envir)))"
          ]
        }
      ]
    },
    {
      "cell_type": "markdown",
      "source": [
        "## Working with Files"
      ],
      "metadata": {
        "id": "rweFWEAI631r"
      }
    },
    {
      "cell_type": "code",
      "source": [
        "getwd()  # Get working directory\n",
        "setwd(\"/path/to/folder\")  # Set working directory\n",
        "list.files()  # List files in directory\n",
        "file.exists(\"file.txt\")  # Check if file exists\n",
        "file.remove(\"file.txt\")  # Delete a file\n",
        "write.csv(df, \"data.csv\")  # Write CSV file\n",
        "read.csv(\"data.csv\")  # Read CSV file\n",
        "saveRDS(df, \"data.rds\")  # Save R object\n",
        "readRDS(\"data.rds\")  # Read R object\n"
      ],
      "metadata": {
        "id": "vND89cFEsSPr",
        "colab": {
          "base_uri": "https://localhost:8080/",
          "height": 245
        },
        "outputId": "49cb3070-8c63-48d1-9c76-a8c727b1f544"
      },
      "execution_count": 51,
      "outputs": [
        {
          "output_type": "display_data",
          "data": {
            "text/html": [
              "'/content'"
            ],
            "text/markdown": "'/content'",
            "text/latex": "'/content'",
            "text/plain": [
              "[1] \"/content\""
            ]
          },
          "metadata": {}
        },
        {
          "output_type": "error",
          "ename": "ERROR",
          "evalue": "Error in setwd(\"/path/to/folder\"): cannot change working directory\n",
          "traceback": [
            "Error in setwd(\"/path/to/folder\"): cannot change working directory\nTraceback:\n",
            "1. .handleSimpleError(function (cnd) \n . {\n .     watcher$capture_plot_and_output()\n .     cnd <- sanitize_call(cnd)\n .     watcher$push(cnd)\n .     switch(on_error, continue = invokeRestart(\"eval_continue\"), \n .         stop = invokeRestart(\"eval_stop\"), error = NULL)\n . }, \"cannot change working directory\", base::quote(setwd(\"/path/to/folder\")))"
          ]
        }
      ]
    },
    {
      "cell_type": "markdown",
      "source": [
        " ## Date & Time Handling"
      ],
      "metadata": {
        "id": "Bpt6_ZPq6-Ov"
      }
    },
    {
      "cell_type": "code",
      "source": [
        "as.POSIXct(\"2024-02-05 10:00:00\")  # Convert to date-time format\n",
        "difftime(Sys.time(), as.POSIXct(\"2024-02-01\"))  # Compute time difference\n",
        "format(Sys.Date(), \"%B %d, %Y\")  # Format dates\n"
      ],
      "metadata": {
        "id": "hrLCJvWisTSH",
        "colab": {
          "base_uri": "https://localhost:8080/",
          "height": 69
        },
        "outputId": "60701ac4-f92e-4e21-9caa-5106a9c7f98c"
      },
      "execution_count": 52,
      "outputs": [
        {
          "output_type": "display_data",
          "data": {
            "text/plain": [
              "[1] \"2024-02-05 10:00:00 UTC\""
            ]
          },
          "metadata": {}
        },
        {
          "output_type": "display_data",
          "data": {
            "text/plain": [
              "Time difference of 370.297 days"
            ]
          },
          "metadata": {}
        },
        {
          "output_type": "display_data",
          "data": {
            "text/html": [
              "'February 05, 2025'"
            ],
            "text/markdown": "'February 05, 2025'",
            "text/latex": "'February 05, 2025'",
            "text/plain": [
              "[1] \"February 05, 2025\""
            ]
          },
          "metadata": {}
        }
      ]
    }
  ]
}