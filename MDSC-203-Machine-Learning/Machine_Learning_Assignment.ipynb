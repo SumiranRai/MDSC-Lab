{
  "cells": [
    {
      "cell_type": "markdown",
      "metadata": {
        "id": "view-in-github",
        "colab_type": "text"
      },
      "source": [
        "<a href=\"https://colab.research.google.com/github/SumiranRai/MDSC-Lab/blob/main/MDSC-203-Machine-Learning/Machine_Learning_Assignment.ipynb\" target=\"_parent\"><img src=\"https://colab.research.google.com/assets/colab-badge.svg\" alt=\"Open In Colab\"/></a>"
      ]
    },
    {
      "cell_type": "markdown",
      "metadata": {
        "id": "G1CMk60iq2F6"
      },
      "source": [
        "# Machine Learning Assignment (Classification Task)\n",
        "\n",
        "By Sumiran Rai\n",
        "\n",
        "Regd. No. - 24040208007"
      ]
    },
    {
      "cell_type": "markdown",
      "source": [
        "### Dataset Overview\n",
        "This dataset is derived from the BRFSS 2015 (Behavioral Risk Factor Surveillance System), a CDC survey on health behaviors and chronic conditions. We are using the diabetes_012_health_indicators_BRFSS2015.csv dataset, which contains 253,680 responses and 21 features.\n",
        "\n",
        "#### Target Variable (Diabetes_012)\n",
        "* 0 → No diabetes (or gestational diabetes)\n",
        "* 1 → Prediabetes\n",
        "* 2 → Diabetes\n",
        "\n",
        "The dataset is imbalanced, with fewer prediabetes cases compared to the other classes.\n",
        "\n",
        "#### About Diabetes\n",
        "Diabetes is a chronic condition where the body struggles to regulate blood sugar due to insulin resistance or deficiency. It increases the risk of heart disease, kidney failure, vision loss, and amputations. Early detection enables preventive care and better health outcomes."
      ],
      "metadata": {
        "id": "yxJ_PHYGmQX_"
      }
    },
    {
      "cell_type": "markdown",
      "metadata": {
        "id": "VbEn-LO-r2Qd"
      },
      "source": [
        "### Understanding the Data"
      ]
    },
    {
      "cell_type": "markdown",
      "metadata": {
        "id": "78Davrjuq6DR"
      },
      "source": [
        "Importing required libraries"
      ]
    },
    {
      "cell_type": "code",
      "execution_count": 2,
      "metadata": {
        "id": "Bp5Tr7bHaxZG"
      },
      "outputs": [],
      "source": [
        "import numpy as np\n",
        "import seaborn as sns\n",
        "import matplotlib.pyplot as plt\n",
        "import pandas as pd"
      ]
    },
    {
      "cell_type": "markdown",
      "metadata": {
        "id": "v06rL0yaq9ym"
      },
      "source": [
        "Loading the data"
      ]
    },
    {
      "cell_type": "code",
      "execution_count": 3,
      "metadata": {
        "colab": {
          "base_uri": "https://localhost:8080/",
          "height": 255
        },
        "id": "7k3SGMy-erht",
        "outputId": "dbe527c9-4393-496c-92d8-35c0376d7ed9"
      },
      "outputs": [
        {
          "output_type": "execute_result",
          "data": {
            "text/plain": [
              "   Diabetes_012  HighBP  HighChol  CholCheck   BMI  Smoker  Stroke  \\\n",
              "0           0.0     1.0       1.0        1.0  40.0     1.0     0.0   \n",
              "1           0.0     0.0       0.0        0.0  25.0     1.0     0.0   \n",
              "2           0.0     1.0       1.0        1.0  28.0     0.0     0.0   \n",
              "3           0.0     1.0       0.0        1.0  27.0     0.0     0.0   \n",
              "4           0.0     1.0       1.0        1.0  24.0     0.0     0.0   \n",
              "\n",
              "   HeartDiseaseorAttack  PhysActivity  Fruits  ...  AnyHealthcare  \\\n",
              "0                   0.0           0.0     0.0  ...            1.0   \n",
              "1                   0.0           1.0     0.0  ...            0.0   \n",
              "2                   0.0           0.0     1.0  ...            1.0   \n",
              "3                   0.0           1.0     1.0  ...            1.0   \n",
              "4                   0.0           1.0     1.0  ...            1.0   \n",
              "\n",
              "   NoDocbcCost  GenHlth  MentHlth  PhysHlth  DiffWalk  Sex   Age  Education  \\\n",
              "0          0.0      5.0      18.0      15.0       1.0  0.0   9.0        4.0   \n",
              "1          1.0      3.0       0.0       0.0       0.0  0.0   7.0        6.0   \n",
              "2          1.0      5.0      30.0      30.0       1.0  0.0   9.0        4.0   \n",
              "3          0.0      2.0       0.0       0.0       0.0  0.0  11.0        3.0   \n",
              "4          0.0      2.0       3.0       0.0       0.0  0.0  11.0        5.0   \n",
              "\n",
              "   Income  \n",
              "0     3.0  \n",
              "1     1.0  \n",
              "2     8.0  \n",
              "3     6.0  \n",
              "4     4.0  \n",
              "\n",
              "[5 rows x 22 columns]"
            ],
            "text/html": [
              "\n",
              "  <div id=\"df-525b3feb-2fda-4e2c-a340-c8d95512ab65\" class=\"colab-df-container\">\n",
              "    <div>\n",
              "<style scoped>\n",
              "    .dataframe tbody tr th:only-of-type {\n",
              "        vertical-align: middle;\n",
              "    }\n",
              "\n",
              "    .dataframe tbody tr th {\n",
              "        vertical-align: top;\n",
              "    }\n",
              "\n",
              "    .dataframe thead th {\n",
              "        text-align: right;\n",
              "    }\n",
              "</style>\n",
              "<table border=\"1\" class=\"dataframe\">\n",
              "  <thead>\n",
              "    <tr style=\"text-align: right;\">\n",
              "      <th></th>\n",
              "      <th>Diabetes_012</th>\n",
              "      <th>HighBP</th>\n",
              "      <th>HighChol</th>\n",
              "      <th>CholCheck</th>\n",
              "      <th>BMI</th>\n",
              "      <th>Smoker</th>\n",
              "      <th>Stroke</th>\n",
              "      <th>HeartDiseaseorAttack</th>\n",
              "      <th>PhysActivity</th>\n",
              "      <th>Fruits</th>\n",
              "      <th>...</th>\n",
              "      <th>AnyHealthcare</th>\n",
              "      <th>NoDocbcCost</th>\n",
              "      <th>GenHlth</th>\n",
              "      <th>MentHlth</th>\n",
              "      <th>PhysHlth</th>\n",
              "      <th>DiffWalk</th>\n",
              "      <th>Sex</th>\n",
              "      <th>Age</th>\n",
              "      <th>Education</th>\n",
              "      <th>Income</th>\n",
              "    </tr>\n",
              "  </thead>\n",
              "  <tbody>\n",
              "    <tr>\n",
              "      <th>0</th>\n",
              "      <td>0.0</td>\n",
              "      <td>1.0</td>\n",
              "      <td>1.0</td>\n",
              "      <td>1.0</td>\n",
              "      <td>40.0</td>\n",
              "      <td>1.0</td>\n",
              "      <td>0.0</td>\n",
              "      <td>0.0</td>\n",
              "      <td>0.0</td>\n",
              "      <td>0.0</td>\n",
              "      <td>...</td>\n",
              "      <td>1.0</td>\n",
              "      <td>0.0</td>\n",
              "      <td>5.0</td>\n",
              "      <td>18.0</td>\n",
              "      <td>15.0</td>\n",
              "      <td>1.0</td>\n",
              "      <td>0.0</td>\n",
              "      <td>9.0</td>\n",
              "      <td>4.0</td>\n",
              "      <td>3.0</td>\n",
              "    </tr>\n",
              "    <tr>\n",
              "      <th>1</th>\n",
              "      <td>0.0</td>\n",
              "      <td>0.0</td>\n",
              "      <td>0.0</td>\n",
              "      <td>0.0</td>\n",
              "      <td>25.0</td>\n",
              "      <td>1.0</td>\n",
              "      <td>0.0</td>\n",
              "      <td>0.0</td>\n",
              "      <td>1.0</td>\n",
              "      <td>0.0</td>\n",
              "      <td>...</td>\n",
              "      <td>0.0</td>\n",
              "      <td>1.0</td>\n",
              "      <td>3.0</td>\n",
              "      <td>0.0</td>\n",
              "      <td>0.0</td>\n",
              "      <td>0.0</td>\n",
              "      <td>0.0</td>\n",
              "      <td>7.0</td>\n",
              "      <td>6.0</td>\n",
              "      <td>1.0</td>\n",
              "    </tr>\n",
              "    <tr>\n",
              "      <th>2</th>\n",
              "      <td>0.0</td>\n",
              "      <td>1.0</td>\n",
              "      <td>1.0</td>\n",
              "      <td>1.0</td>\n",
              "      <td>28.0</td>\n",
              "      <td>0.0</td>\n",
              "      <td>0.0</td>\n",
              "      <td>0.0</td>\n",
              "      <td>0.0</td>\n",
              "      <td>1.0</td>\n",
              "      <td>...</td>\n",
              "      <td>1.0</td>\n",
              "      <td>1.0</td>\n",
              "      <td>5.0</td>\n",
              "      <td>30.0</td>\n",
              "      <td>30.0</td>\n",
              "      <td>1.0</td>\n",
              "      <td>0.0</td>\n",
              "      <td>9.0</td>\n",
              "      <td>4.0</td>\n",
              "      <td>8.0</td>\n",
              "    </tr>\n",
              "    <tr>\n",
              "      <th>3</th>\n",
              "      <td>0.0</td>\n",
              "      <td>1.0</td>\n",
              "      <td>0.0</td>\n",
              "      <td>1.0</td>\n",
              "      <td>27.0</td>\n",
              "      <td>0.0</td>\n",
              "      <td>0.0</td>\n",
              "      <td>0.0</td>\n",
              "      <td>1.0</td>\n",
              "      <td>1.0</td>\n",
              "      <td>...</td>\n",
              "      <td>1.0</td>\n",
              "      <td>0.0</td>\n",
              "      <td>2.0</td>\n",
              "      <td>0.0</td>\n",
              "      <td>0.0</td>\n",
              "      <td>0.0</td>\n",
              "      <td>0.0</td>\n",
              "      <td>11.0</td>\n",
              "      <td>3.0</td>\n",
              "      <td>6.0</td>\n",
              "    </tr>\n",
              "    <tr>\n",
              "      <th>4</th>\n",
              "      <td>0.0</td>\n",
              "      <td>1.0</td>\n",
              "      <td>1.0</td>\n",
              "      <td>1.0</td>\n",
              "      <td>24.0</td>\n",
              "      <td>0.0</td>\n",
              "      <td>0.0</td>\n",
              "      <td>0.0</td>\n",
              "      <td>1.0</td>\n",
              "      <td>1.0</td>\n",
              "      <td>...</td>\n",
              "      <td>1.0</td>\n",
              "      <td>0.0</td>\n",
              "      <td>2.0</td>\n",
              "      <td>3.0</td>\n",
              "      <td>0.0</td>\n",
              "      <td>0.0</td>\n",
              "      <td>0.0</td>\n",
              "      <td>11.0</td>\n",
              "      <td>5.0</td>\n",
              "      <td>4.0</td>\n",
              "    </tr>\n",
              "  </tbody>\n",
              "</table>\n",
              "<p>5 rows × 22 columns</p>\n",
              "</div>\n",
              "    <div class=\"colab-df-buttons\">\n",
              "\n",
              "  <div class=\"colab-df-container\">\n",
              "    <button class=\"colab-df-convert\" onclick=\"convertToInteractive('df-525b3feb-2fda-4e2c-a340-c8d95512ab65')\"\n",
              "            title=\"Convert this dataframe to an interactive table.\"\n",
              "            style=\"display:none;\">\n",
              "\n",
              "  <svg xmlns=\"http://www.w3.org/2000/svg\" height=\"24px\" viewBox=\"0 -960 960 960\">\n",
              "    <path d=\"M120-120v-720h720v720H120Zm60-500h600v-160H180v160Zm220 220h160v-160H400v160Zm0 220h160v-160H400v160ZM180-400h160v-160H180v160Zm440 0h160v-160H620v160ZM180-180h160v-160H180v160Zm440 0h160v-160H620v160Z\"/>\n",
              "  </svg>\n",
              "    </button>\n",
              "\n",
              "  <style>\n",
              "    .colab-df-container {\n",
              "      display:flex;\n",
              "      gap: 12px;\n",
              "    }\n",
              "\n",
              "    .colab-df-convert {\n",
              "      background-color: #E8F0FE;\n",
              "      border: none;\n",
              "      border-radius: 50%;\n",
              "      cursor: pointer;\n",
              "      display: none;\n",
              "      fill: #1967D2;\n",
              "      height: 32px;\n",
              "      padding: 0 0 0 0;\n",
              "      width: 32px;\n",
              "    }\n",
              "\n",
              "    .colab-df-convert:hover {\n",
              "      background-color: #E2EBFA;\n",
              "      box-shadow: 0px 1px 2px rgba(60, 64, 67, 0.3), 0px 1px 3px 1px rgba(60, 64, 67, 0.15);\n",
              "      fill: #174EA6;\n",
              "    }\n",
              "\n",
              "    .colab-df-buttons div {\n",
              "      margin-bottom: 4px;\n",
              "    }\n",
              "\n",
              "    [theme=dark] .colab-df-convert {\n",
              "      background-color: #3B4455;\n",
              "      fill: #D2E3FC;\n",
              "    }\n",
              "\n",
              "    [theme=dark] .colab-df-convert:hover {\n",
              "      background-color: #434B5C;\n",
              "      box-shadow: 0px 1px 3px 1px rgba(0, 0, 0, 0.15);\n",
              "      filter: drop-shadow(0px 1px 2px rgba(0, 0, 0, 0.3));\n",
              "      fill: #FFFFFF;\n",
              "    }\n",
              "  </style>\n",
              "\n",
              "    <script>\n",
              "      const buttonEl =\n",
              "        document.querySelector('#df-525b3feb-2fda-4e2c-a340-c8d95512ab65 button.colab-df-convert');\n",
              "      buttonEl.style.display =\n",
              "        google.colab.kernel.accessAllowed ? 'block' : 'none';\n",
              "\n",
              "      async function convertToInteractive(key) {\n",
              "        const element = document.querySelector('#df-525b3feb-2fda-4e2c-a340-c8d95512ab65');\n",
              "        const dataTable =\n",
              "          await google.colab.kernel.invokeFunction('convertToInteractive',\n",
              "                                                    [key], {});\n",
              "        if (!dataTable) return;\n",
              "\n",
              "        const docLinkHtml = 'Like what you see? Visit the ' +\n",
              "          '<a target=\"_blank\" href=https://colab.research.google.com/notebooks/data_table.ipynb>data table notebook</a>'\n",
              "          + ' to learn more about interactive tables.';\n",
              "        element.innerHTML = '';\n",
              "        dataTable['output_type'] = 'display_data';\n",
              "        await google.colab.output.renderOutput(dataTable, element);\n",
              "        const docLink = document.createElement('div');\n",
              "        docLink.innerHTML = docLinkHtml;\n",
              "        element.appendChild(docLink);\n",
              "      }\n",
              "    </script>\n",
              "  </div>\n",
              "\n",
              "\n",
              "<div id=\"df-6ee4ad20-aaa2-49b2-b243-b16cb8e334dd\">\n",
              "  <button class=\"colab-df-quickchart\" onclick=\"quickchart('df-6ee4ad20-aaa2-49b2-b243-b16cb8e334dd')\"\n",
              "            title=\"Suggest charts\"\n",
              "            style=\"display:none;\">\n",
              "\n",
              "<svg xmlns=\"http://www.w3.org/2000/svg\" height=\"24px\"viewBox=\"0 0 24 24\"\n",
              "     width=\"24px\">\n",
              "    <g>\n",
              "        <path d=\"M19 3H5c-1.1 0-2 .9-2 2v14c0 1.1.9 2 2 2h14c1.1 0 2-.9 2-2V5c0-1.1-.9-2-2-2zM9 17H7v-7h2v7zm4 0h-2V7h2v10zm4 0h-2v-4h2v4z\"/>\n",
              "    </g>\n",
              "</svg>\n",
              "  </button>\n",
              "\n",
              "<style>\n",
              "  .colab-df-quickchart {\n",
              "      --bg-color: #E8F0FE;\n",
              "      --fill-color: #1967D2;\n",
              "      --hover-bg-color: #E2EBFA;\n",
              "      --hover-fill-color: #174EA6;\n",
              "      --disabled-fill-color: #AAA;\n",
              "      --disabled-bg-color: #DDD;\n",
              "  }\n",
              "\n",
              "  [theme=dark] .colab-df-quickchart {\n",
              "      --bg-color: #3B4455;\n",
              "      --fill-color: #D2E3FC;\n",
              "      --hover-bg-color: #434B5C;\n",
              "      --hover-fill-color: #FFFFFF;\n",
              "      --disabled-bg-color: #3B4455;\n",
              "      --disabled-fill-color: #666;\n",
              "  }\n",
              "\n",
              "  .colab-df-quickchart {\n",
              "    background-color: var(--bg-color);\n",
              "    border: none;\n",
              "    border-radius: 50%;\n",
              "    cursor: pointer;\n",
              "    display: none;\n",
              "    fill: var(--fill-color);\n",
              "    height: 32px;\n",
              "    padding: 0;\n",
              "    width: 32px;\n",
              "  }\n",
              "\n",
              "  .colab-df-quickchart:hover {\n",
              "    background-color: var(--hover-bg-color);\n",
              "    box-shadow: 0 1px 2px rgba(60, 64, 67, 0.3), 0 1px 3px 1px rgba(60, 64, 67, 0.15);\n",
              "    fill: var(--button-hover-fill-color);\n",
              "  }\n",
              "\n",
              "  .colab-df-quickchart-complete:disabled,\n",
              "  .colab-df-quickchart-complete:disabled:hover {\n",
              "    background-color: var(--disabled-bg-color);\n",
              "    fill: var(--disabled-fill-color);\n",
              "    box-shadow: none;\n",
              "  }\n",
              "\n",
              "  .colab-df-spinner {\n",
              "    border: 2px solid var(--fill-color);\n",
              "    border-color: transparent;\n",
              "    border-bottom-color: var(--fill-color);\n",
              "    animation:\n",
              "      spin 1s steps(1) infinite;\n",
              "  }\n",
              "\n",
              "  @keyframes spin {\n",
              "    0% {\n",
              "      border-color: transparent;\n",
              "      border-bottom-color: var(--fill-color);\n",
              "      border-left-color: var(--fill-color);\n",
              "    }\n",
              "    20% {\n",
              "      border-color: transparent;\n",
              "      border-left-color: var(--fill-color);\n",
              "      border-top-color: var(--fill-color);\n",
              "    }\n",
              "    30% {\n",
              "      border-color: transparent;\n",
              "      border-left-color: var(--fill-color);\n",
              "      border-top-color: var(--fill-color);\n",
              "      border-right-color: var(--fill-color);\n",
              "    }\n",
              "    40% {\n",
              "      border-color: transparent;\n",
              "      border-right-color: var(--fill-color);\n",
              "      border-top-color: var(--fill-color);\n",
              "    }\n",
              "    60% {\n",
              "      border-color: transparent;\n",
              "      border-right-color: var(--fill-color);\n",
              "    }\n",
              "    80% {\n",
              "      border-color: transparent;\n",
              "      border-right-color: var(--fill-color);\n",
              "      border-bottom-color: var(--fill-color);\n",
              "    }\n",
              "    90% {\n",
              "      border-color: transparent;\n",
              "      border-bottom-color: var(--fill-color);\n",
              "    }\n",
              "  }\n",
              "</style>\n",
              "\n",
              "  <script>\n",
              "    async function quickchart(key) {\n",
              "      const quickchartButtonEl =\n",
              "        document.querySelector('#' + key + ' button');\n",
              "      quickchartButtonEl.disabled = true;  // To prevent multiple clicks.\n",
              "      quickchartButtonEl.classList.add('colab-df-spinner');\n",
              "      try {\n",
              "        const charts = await google.colab.kernel.invokeFunction(\n",
              "            'suggestCharts', [key], {});\n",
              "      } catch (error) {\n",
              "        console.error('Error during call to suggestCharts:', error);\n",
              "      }\n",
              "      quickchartButtonEl.classList.remove('colab-df-spinner');\n",
              "      quickchartButtonEl.classList.add('colab-df-quickchart-complete');\n",
              "    }\n",
              "    (() => {\n",
              "      let quickchartButtonEl =\n",
              "        document.querySelector('#df-6ee4ad20-aaa2-49b2-b243-b16cb8e334dd button');\n",
              "      quickchartButtonEl.style.display =\n",
              "        google.colab.kernel.accessAllowed ? 'block' : 'none';\n",
              "    })();\n",
              "  </script>\n",
              "</div>\n",
              "\n",
              "    </div>\n",
              "  </div>\n"
            ],
            "application/vnd.google.colaboratory.intrinsic+json": {
              "type": "dataframe",
              "variable_name": "data"
            }
          },
          "metadata": {},
          "execution_count": 3
        }
      ],
      "source": [
        "url = \"https://raw.githubusercontent.com/SumiranRai/MDSC-Lab/main/MDSC-203-Machine-Learning/diabetes_012_health_indicators_BRFSS2015.csv\"\n",
        "data = pd.read_csv(url)\n",
        "data.head()"
      ]
    },
    {
      "cell_type": "markdown",
      "metadata": {
        "id": "wxvDUDS1rAqq"
      },
      "source": [
        "Shape of the data"
      ]
    },
    {
      "cell_type": "code",
      "execution_count": 4,
      "metadata": {
        "colab": {
          "base_uri": "https://localhost:8080/"
        },
        "id": "KlAmdT9BfDAj",
        "outputId": "ce788187-bdee-4211-a985-431a3ab96ff1"
      },
      "outputs": [
        {
          "output_type": "stream",
          "name": "stdout",
          "text": [
            "(253680, 22)\n"
          ]
        }
      ],
      "source": [
        "print(data.shape)"
      ]
    },
    {
      "cell_type": "markdown",
      "metadata": {
        "id": "rogGkh51rCyX"
      },
      "source": [
        "Data type of each feature"
      ]
    },
    {
      "cell_type": "code",
      "execution_count": 5,
      "metadata": {
        "colab": {
          "base_uri": "https://localhost:8080/"
        },
        "id": "nxaCmZ7rNwAX",
        "outputId": "0a5bcad7-5022-4ae0-be5f-e605f053b714"
      },
      "outputs": [
        {
          "output_type": "stream",
          "name": "stdout",
          "text": [
            "Diabetes_012            float64\n",
            "HighBP                  float64\n",
            "HighChol                float64\n",
            "CholCheck               float64\n",
            "BMI                     float64\n",
            "Smoker                  float64\n",
            "Stroke                  float64\n",
            "HeartDiseaseorAttack    float64\n",
            "PhysActivity            float64\n",
            "Fruits                  float64\n",
            "Veggies                 float64\n",
            "HvyAlcoholConsump       float64\n",
            "AnyHealthcare           float64\n",
            "NoDocbcCost             float64\n",
            "GenHlth                 float64\n",
            "MentHlth                float64\n",
            "PhysHlth                float64\n",
            "DiffWalk                float64\n",
            "Sex                     float64\n",
            "Age                     float64\n",
            "Education               float64\n",
            "Income                  float64\n",
            "dtype: object\n"
          ]
        }
      ],
      "source": [
        "types = data.dtypes\n",
        "print(types)"
      ]
    },
    {
      "cell_type": "markdown",
      "metadata": {
        "id": "XVvjRkUmrIpX"
      },
      "source": [
        "Let's understand the data"
      ]
    },
    {
      "cell_type": "code",
      "execution_count": 6,
      "metadata": {
        "colab": {
          "base_uri": "https://localhost:8080/"
        },
        "id": "qs0F7h3SOoFD",
        "outputId": "10d0291f-dabc-43a8-a0cd-e02689249d7b"
      },
      "outputs": [
        {
          "output_type": "stream",
          "name": "stdout",
          "text": [
            "       Diabetes_012     HighBP   HighChol  CholCheck        BMI     Smoker     Stroke  HeartDiseaseorAttack  PhysActivity     Fruits  ...  \\\n",
            "count      253680.0  253680.00  253680.00  253680.00  253680.00  253680.00  253680.00             253680.00     253680.00  253680.00  ...   \n",
            "mean            0.3       0.43       0.42       0.96      28.38       0.44       0.04                  0.09          0.76       0.63  ...   \n",
            "std             0.7       0.49       0.49       0.19       6.61       0.50       0.20                  0.29          0.43       0.48  ...   \n",
            "min             0.0       0.00       0.00       0.00      12.00       0.00       0.00                  0.00          0.00       0.00  ...   \n",
            "25%             0.0       0.00       0.00       1.00      24.00       0.00       0.00                  0.00          1.00       0.00  ...   \n",
            "50%             0.0       0.00       0.00       1.00      27.00       0.00       0.00                  0.00          1.00       1.00  ...   \n",
            "75%             0.0       1.00       1.00       1.00      31.00       1.00       0.00                  0.00          1.00       1.00  ...   \n",
            "max             2.0       1.00       1.00       1.00      98.00       1.00       1.00                  1.00          1.00       1.00  ...   \n",
            "\n",
            "       AnyHealthcare  NoDocbcCost    GenHlth   MentHlth   PhysHlth   DiffWalk        Sex        Age  Education     Income  \n",
            "count      253680.00    253680.00  253680.00  253680.00  253680.00  253680.00  253680.00  253680.00  253680.00  253680.00  \n",
            "mean            0.95         0.08       2.51       3.18       4.24       0.17       0.44       8.03       5.05       6.05  \n",
            "std             0.22         0.28       1.07       7.41       8.72       0.37       0.50       3.05       0.99       2.07  \n",
            "min             0.00         0.00       1.00       0.00       0.00       0.00       0.00       1.00       1.00       1.00  \n",
            "25%             1.00         0.00       2.00       0.00       0.00       0.00       0.00       6.00       4.00       5.00  \n",
            "50%             1.00         0.00       2.00       0.00       0.00       0.00       0.00       8.00       5.00       7.00  \n",
            "75%             1.00         0.00       3.00       2.00       3.00       0.00       1.00      10.00       6.00       8.00  \n",
            "max             1.00         1.00       5.00      30.00      30.00       1.00       1.00      13.00       6.00       8.00  \n",
            "\n",
            "[8 rows x 22 columns]\n"
          ]
        }
      ],
      "source": [
        "from pandas import set_option\n",
        "with pd.option_context('display.width', 150, 'display.precision', 2):\n",
        "  description = data.describe()\n",
        "  print(description)"
      ]
    },
    {
      "cell_type": "markdown",
      "metadata": {
        "id": "puIRRABfrOaE"
      },
      "source": [
        "###Dataset is Imbalanced!\n",
        "\n",
        "0 - No Diabetes\n",
        "\n",
        "1 - Pre-Diabetic\n",
        "\n",
        "2 - Diabetic"
      ]
    },
    {
      "cell_type": "code",
      "execution_count": 7,
      "metadata": {
        "colab": {
          "base_uri": "https://localhost:8080/"
        },
        "id": "xPuSSX51O07W",
        "outputId": "03260df2-5090-4eb5-a2b0-b072b01f4363"
      },
      "outputs": [
        {
          "output_type": "stream",
          "name": "stdout",
          "text": [
            "Diabetes_012\n",
            "0.0    213703\n",
            "1.0      4631\n",
            "2.0     35346\n",
            "dtype: int64\n"
          ]
        }
      ],
      "source": [
        "class_counts = data.groupby('Diabetes_012').size()\n",
        "print(class_counts)"
      ]
    },
    {
      "cell_type": "markdown",
      "metadata": {
        "id": "SkJDoiBvrpiL"
      },
      "source": [
        "Correlations"
      ]
    },
    {
      "cell_type": "code",
      "execution_count": 8,
      "metadata": {
        "colab": {
          "base_uri": "https://localhost:8080/"
        },
        "id": "Xu1CUPSoo8sr",
        "outputId": "e4f76db1-24d4-4d2c-a043-1f80d000dd9e"
      },
      "outputs": [
        {
          "output_type": "stream",
          "name": "stdout",
          "text": [
            "                      Diabetes_012    HighBP  HighChol  CholCheck   BMI    Smoker    Stroke  HeartDiseaseorAttack  PhysActivity  Fruits  ...  \\\n",
            "Diabetes_012                  1.00  2.72e-01      0.21   6.75e-02  0.22  6.29e-02  1.07e-01                  0.18     -1.22e-01   -0.04  ...   \n",
            "HighBP                        0.27  1.00e+00      0.30   9.85e-02  0.21  9.70e-02  1.30e-01                  0.21     -1.25e-01   -0.04  ...   \n",
            "HighChol                      0.21  2.98e-01      1.00   8.56e-02  0.11  9.13e-02  9.26e-02                  0.18     -7.80e-02   -0.04  ...   \n",
            "CholCheck                     0.07  9.85e-02      0.09   1.00e+00  0.03 -9.93e-03  2.42e-02                  0.04      4.19e-03    0.02  ...   \n",
            "BMI                           0.22  2.14e-01      0.11   3.45e-02  1.00  1.38e-02  2.02e-02                  0.05     -1.47e-01   -0.09  ...   \n",
            "Smoker                        0.06  9.70e-02      0.09  -9.93e-03  0.01  1.00e+00  6.12e-02                  0.11     -8.74e-02   -0.08  ...   \n",
            "Stroke                        0.11  1.30e-01      0.09   2.42e-02  0.02  6.12e-02  1.00e+00                  0.20     -6.92e-02   -0.01  ...   \n",
            "HeartDiseaseorAttack          0.18  2.09e-01      0.18   4.42e-02  0.05  1.14e-01  2.03e-01                  1.00     -8.73e-02   -0.02  ...   \n",
            "PhysActivity                 -0.12 -1.25e-01     -0.08   4.19e-03 -0.15 -8.74e-02 -6.92e-02                 -0.09      1.00e+00    0.14  ...   \n",
            "Fruits                       -0.04 -4.06e-02     -0.04   2.38e-02 -0.09 -7.77e-02 -1.34e-02                 -0.02      1.43e-01    1.00  ...   \n",
            "Veggies                      -0.06 -6.13e-02     -0.04   6.12e-03 -0.06 -3.07e-02 -4.11e-02                 -0.04      1.53e-01    0.25  ...   \n",
            "HvyAlcoholConsump            -0.06 -3.97e-03     -0.01  -2.37e-02 -0.05  1.02e-01 -1.70e-02                 -0.03      1.24e-02   -0.04  ...   \n",
            "AnyHealthcare                 0.02  3.84e-02      0.04   1.18e-01 -0.02 -2.33e-02  8.78e-03                  0.02      3.55e-02    0.03  ...   \n",
            "NoDocbcCost                   0.04  1.74e-02      0.01  -5.83e-02  0.06  4.89e-02  3.48e-02                  0.03     -6.16e-02   -0.04  ...   \n",
            "GenHlth                       0.30  3.01e-01      0.21   4.66e-02  0.24  1.63e-01  1.78e-01                  0.26     -2.66e-01   -0.10  ...   \n",
            "MentHlth                      0.07  5.65e-02      0.06  -8.37e-03  0.09  9.22e-02  7.02e-02                  0.06     -1.26e-01   -0.07  ...   \n",
            "PhysHlth                      0.18  1.61e-01      0.12   3.18e-02  0.12  1.16e-01  1.49e-01                  0.18     -2.19e-01   -0.04  ...   \n",
            "DiffWalk                      0.22  2.24e-01      0.14   4.06e-02  0.20  1.22e-01  1.77e-01                  0.21     -2.53e-01   -0.05  ...   \n",
            "Sex                           0.03  5.22e-02      0.03  -2.21e-02  0.04  9.37e-02  2.98e-03                  0.09      3.25e-02   -0.09  ...   \n",
            "Age                           0.19  3.44e-01      0.27   9.03e-02 -0.04  1.21e-01  1.27e-01                  0.22     -9.25e-02    0.06  ...   \n",
            "Education                    -0.13 -1.41e-01     -0.07   1.51e-03 -0.10 -1.62e-01 -7.60e-02                 -0.10      2.00e-01    0.11  ...   \n",
            "Income                       -0.17 -1.71e-01     -0.09   1.43e-02 -0.10 -1.24e-01 -1.29e-01                 -0.14      1.99e-01    0.08  ...   \n",
            "\n",
            "                      AnyHealthcare  NoDocbcCost   GenHlth  MentHlth  PhysHlth  DiffWalk       Sex       Age  Education  Income  \n",
            "Diabetes_012               1.54e-02     3.54e-02  3.03e-01  7.35e-02  1.76e-01  2.24e-01  3.10e-02  1.85e-01  -1.31e-01   -0.17  \n",
            "HighBP                     3.84e-02     1.74e-02  3.01e-01  5.65e-02  1.61e-01  2.24e-01  5.22e-02  3.44e-01  -1.41e-01   -0.17  \n",
            "HighChol                   4.22e-02     1.33e-02  2.08e-01  6.21e-02  1.22e-01  1.45e-01  3.12e-02  2.72e-01  -7.08e-02   -0.09  \n",
            "CholCheck                  1.18e-01    -5.83e-02  4.66e-02 -8.37e-03  3.18e-02  4.06e-02 -2.21e-02  9.03e-02   1.51e-03    0.01  \n",
            "BMI                       -1.85e-02     5.82e-02  2.39e-01  8.53e-02  1.21e-01  1.97e-01  4.30e-02 -3.66e-02  -1.04e-01   -0.10  \n",
            "Smoker                    -2.33e-02     4.89e-02  1.63e-01  9.22e-02  1.16e-01  1.22e-01  9.37e-02  1.21e-01  -1.62e-01   -0.12  \n",
            "Stroke                     8.78e-03     3.48e-02  1.78e-01  7.02e-02  1.49e-01  1.77e-01  2.98e-03  1.27e-01  -7.60e-02   -0.13  \n",
            "HeartDiseaseorAttack       1.87e-02     3.10e-02  2.58e-01  6.46e-02  1.82e-01  2.13e-01  8.61e-02  2.22e-01  -9.96e-02   -0.14  \n",
            "PhysActivity               3.55e-02    -6.16e-02 -2.66e-01 -1.26e-01 -2.19e-01 -2.53e-01  3.25e-02 -9.25e-02   2.00e-01    0.20  \n",
            "Fruits                     3.15e-02    -4.42e-02 -1.04e-01 -6.82e-02 -4.46e-02 -4.84e-02 -9.12e-02  6.45e-02   1.10e-01    0.08  \n",
            "Veggies                    2.96e-02    -3.22e-02 -1.23e-01 -5.89e-02 -6.43e-02 -8.05e-02 -6.48e-02 -9.77e-03   1.54e-01    0.15  \n",
            "HvyAlcoholConsump         -1.05e-02     4.68e-03 -3.67e-02  2.47e-02 -2.64e-02 -3.77e-02  5.74e-03 -3.46e-02   2.40e-02    0.05  \n",
            "AnyHealthcare              1.00e+00    -2.33e-01 -4.08e-02 -5.27e-02 -8.28e-03  7.07e-03 -1.94e-02  1.38e-01   1.23e-01    0.16  \n",
            "NoDocbcCost               -2.33e-01     1.00e+00  1.66e-01  1.92e-01  1.49e-01  1.18e-01 -4.49e-02 -1.20e-01  -1.01e-01   -0.20  \n",
            "GenHlth                   -4.08e-02     1.66e-01  1.00e+00  3.02e-01  5.24e-01  4.57e-01 -6.09e-03  1.52e-01  -2.85e-01   -0.37  \n",
            "MentHlth                  -5.27e-02     1.92e-01  3.02e-01  1.00e+00  3.54e-01  2.34e-01 -8.07e-02 -9.21e-02  -1.02e-01   -0.21  \n",
            "PhysHlth                  -8.28e-03     1.49e-01  5.24e-01  3.54e-01  1.00e+00  4.78e-01 -4.31e-02  9.91e-02  -1.55e-01   -0.27  \n",
            "DiffWalk                   7.07e-03     1.18e-01  4.57e-01  2.34e-01  4.78e-01  1.00e+00 -7.03e-02  2.04e-01  -1.93e-01   -0.32  \n",
            "Sex                       -1.94e-02    -4.49e-02 -6.09e-03 -8.07e-02 -4.31e-02 -7.03e-02  1.00e+00 -2.73e-02   1.95e-02    0.13  \n",
            "Age                        1.38e-01    -1.20e-01  1.52e-01 -9.21e-02  9.91e-02  2.04e-01 -2.73e-02  1.00e+00  -1.02e-01   -0.13  \n",
            "Education                  1.23e-01    -1.01e-01 -2.85e-01 -1.02e-01 -1.55e-01 -1.93e-01  1.95e-02 -1.02e-01   1.00e+00    0.45  \n",
            "Income                     1.58e-01    -2.03e-01 -3.70e-01 -2.10e-01 -2.67e-01 -3.20e-01  1.27e-01 -1.28e-01   4.49e-01    1.00  \n",
            "\n",
            "[22 rows x 22 columns]\n"
          ]
        }
      ],
      "source": [
        "with pd.option_context('display.width', 150, 'display.precision', 2):\n",
        "  correlations = data.corr(method='pearson')\n",
        "  print(correlations)"
      ]
    },
    {
      "cell_type": "markdown",
      "metadata": {
        "id": "LOnTBhIHrtDd"
      },
      "source": [
        "Skewness"
      ]
    },
    {
      "cell_type": "code",
      "execution_count": 9,
      "metadata": {
        "colab": {
          "base_uri": "https://localhost:8080/"
        },
        "id": "AJESHpbfqUDB",
        "outputId": "2c47aab8-139e-40e7-90e6-cfc30a2b055b"
      },
      "outputs": [
        {
          "output_type": "stream",
          "name": "stdout",
          "text": [
            "Diabetes_012            1.976390\n",
            "HighBP                  0.286904\n",
            "HighChol                0.307075\n",
            "CholCheck              -4.881271\n",
            "BMI                     2.122004\n",
            "Smoker                  0.228810\n",
            "Stroke                  4.657340\n",
            "HeartDiseaseorAttack    2.778742\n",
            "PhysActivity           -1.195546\n",
            "Fruits                 -0.557500\n",
            "Veggies                -1.592239\n",
            "HvyAlcoholConsump       3.854132\n",
            "AnyHealthcare          -4.181116\n",
            "NoDocbcCost             2.995290\n",
            "GenHlth                 0.422867\n",
            "MentHlth                2.721148\n",
            "PhysHlth                2.207395\n",
            "DiffWalk                1.773907\n",
            "Sex                     0.240350\n",
            "Age                    -0.359903\n",
            "Education              -0.777255\n",
            "Income                 -0.891345\n",
            "dtype: float64\n"
          ]
        }
      ],
      "source": [
        "skew = data.skew()\n",
        "print(skew)"
      ]
    },
    {
      "cell_type": "markdown",
      "metadata": {
        "id": "CvkUxF5arvdI"
      },
      "source": [
        "### Visualizing the Data"
      ]
    },
    {
      "cell_type": "markdown",
      "metadata": {
        "id": "_ki4lF63tcPN"
      },
      "source": [
        "#### Histograms"
      ]
    },
    {
      "cell_type": "code",
      "execution_count": 10,
      "metadata": {
        "colab": {
          "base_uri": "https://localhost:8080/",
          "height": 600
        },
        "id": "8xqeHhJrqxbm",
        "outputId": "cd46b8ec-56c5-41be-a5e3-3ea58c1a6849"
      },
      "outputs": [
        {
          "output_type": "display_data",
          "data": {
            "text/plain": [
              "<Figure size 1000x600 with 25 Axes>"
            ],
            "image/png": "[encoded data removed]"
          },
          "metadata": {}
        }
      ],
      "source": [
        "# Create histograms\n",
        "fig = data.hist(figsize=(10, 6), bins=20, grid=True)\n",
        "\n",
        "# Adjust layout and font sizes\n",
        "plt.tight_layout()\n",
        "plt.subplots_adjust(hspace=1, wspace=1)  # Adjust spacing between subplots\n",
        "\n",
        "# Reduce font size for better readability\n",
        "for ax in fig.flatten():\n",
        "    ax.set_xlabel(ax.get_xlabel(), fontsize=10)\n",
        "    ax.set_ylabel(ax.get_ylabel(), fontsize=10)\n",
        "    ax.set_title(ax.get_title(), fontsize=12)\n",
        "    ax.tick_params(axis='both', labelsize=8)  # Reduce tick label font size\n",
        "\n",
        "plt.show()"
      ]
    },
    {
      "cell_type": "markdown",
      "metadata": {
        "id": "SXmW1dLGtv_N"
      },
      "source": [
        "\n",
        "#### Density Plots"
      ]
    },
    {
      "cell_type": "code",
      "execution_count": 11,
      "metadata": {
        "id": "-ovTSQQxsA-2"
      },
      "outputs": [],
      "source": [
        "# Takes too much time for a large Dataset.\n",
        "#data.plot(kind='density', subplots=True, layout=(5,5), sharex=False)\n",
        "#plt.show()\n"
      ]
    },
    {
      "cell_type": "markdown",
      "metadata": {
        "id": "-8Dpgu9audfz"
      },
      "source": [
        "#### Box and Whisker Plots"
      ]
    },
    {
      "cell_type": "code",
      "execution_count": 12,
      "metadata": {
        "colab": {
          "base_uri": "https://localhost:8080/",
          "height": 826
        },
        "id": "sc642PLitlkz",
        "outputId": "48bfc403-0074-4bb0-9b41-275f21d259e9"
      },
      "outputs": [
        {
          "output_type": "display_data",
          "data": {
            "text/plain": [
              "<Figure size 1200x1000 with 25 Axes>"
            ],
            "image/png": "[encoded data removed]"
          },
          "metadata": {}
        }
      ],
      "source": [
        "axes = data.plot(kind='box', subplots=True, layout=(5, 5), sharex=False, sharey=False, figsize=(12, 10), patch_artist=True, vert=True)\n",
        "\n",
        "plt.tight_layout()\n",
        "plt.subplots_adjust(hspace=0.5, wspace=0.5)\n",
        "\n",
        "if isinstance(axes, np.ndarray):  # If axes is an array\n",
        "    axes = axes.flatten()\n",
        "else:  # If only one subplot exists (Series case)\n",
        "    axes = [axes]\n",
        "\n",
        "plt.show()"
      ]
    },
    {
      "cell_type": "markdown",
      "metadata": {
        "id": "N6zXkCyiwhRy"
      },
      "source": [
        "#### Correlation matrix"
      ]
    },
    {
      "cell_type": "code",
      "execution_count": 13,
      "metadata": {
        "colab": {
          "base_uri": "https://localhost:8080/",
          "height": 669
        },
        "id": "xRCnAut9t4-n",
        "outputId": "08afe7d9-cee2-404d-e7f9-103da6f9c6f1"
      },
      "outputs": [
        {
          "output_type": "display_data",
          "data": {
            "text/plain": [
              "<Figure size 800x600 with 2 Axes>"
            ],
            "image/png": "[encoded data removed]"
          },
          "metadata": {}
        }
      ],
      "source": [
        "# Plot correlation matrix\n",
        "fig, ax = plt.subplots(figsize=(8, 6))\n",
        "cax = ax.matshow(correlations, vmin=-1, vmax=1, cmap='coolwarm')\n",
        "fig.colorbar(cax)\n",
        "\n",
        "# Set ticks and labels\n",
        "ticks = np.arange(len(data.columns))\n",
        "ax.set_xticks(ticks)\n",
        "ax.set_yticks(ticks)\n",
        "ax.set_xticklabels(data.columns, rotation=90)  # Rotate for better readability\n",
        "ax.set_yticklabels(data.columns)\n",
        "\n",
        "plt.show()"
      ]
    },
    {
      "cell_type": "markdown",
      "metadata": {
        "id": "R6sJHjpEuqXd"
      },
      "source": [
        "Generic Correlation Matrix"
      ]
    },
    {
      "cell_type": "code",
      "execution_count": 14,
      "metadata": {
        "colab": {
          "base_uri": "https://localhost:8080/",
          "height": 438
        },
        "id": "N4OjkunRua23",
        "outputId": "6b14156d-4fcf-4096-f6e6-85b276e9d083"
      },
      "outputs": [
        {
          "output_type": "display_data",
          "data": {
            "text/plain": [
              "<Figure size 640x480 with 2 Axes>"
            ],
            "image/png": "[encoded data removed]"
          },
          "metadata": {}
        }
      ],
      "source": [
        "#plot correlation matrix\n",
        "fig = plt.figure()\n",
        "ax = fig.add_subplot(111)\n",
        "cax = ax.matshow(correlations, vmin=-1, vmax=1, cmap='coolwarm')\n",
        "fig.colorbar(cax)\n",
        "plt.show()\n"
      ]
    },
    {
      "cell_type": "markdown",
      "metadata": {
        "id": "VOQjVXhXyk6D"
      },
      "source": [
        "#### Scatter Plot\n"
      ]
    },
    {
      "cell_type": "code",
      "source": [
        "# Avoided plotting because it takes too much computational time for a large Dataset.\n",
        "\"\"\"\n",
        "from pandas.plotting import scatter_matrix\n",
        "\n",
        "fig = scatter_matrix(data, figsize=(10, 10), diagonal='hist', marker='o', alpha=0.7, s=10, hist_kwds={'bins': 20})\n",
        "\n",
        "for ax in fig.flatten():\n",
        "    ax.xaxis.label.set_fontsize(10)\n",
        "    ax.yaxis.label.set_fontsize(10)\n",
        "    ax.tick_params(axis='both', labelsize=8)\n",
        "\n",
        "plt.xticks(rotation=45)\n",
        "plt.show()\n",
        "\"\"\""
      ],
      "metadata": {
        "colab": {
          "base_uri": "https://localhost:8080/",
          "height": 70
        },
        "id": "OmgOqMKpaty0",
        "outputId": "00ee128a-6de3-4f0c-cb68-655f091618f5"
      },
      "execution_count": 15,
      "outputs": [
        {
          "output_type": "execute_result",
          "data": {
            "text/plain": [
              "\"\\nfrom pandas.plotting import scatter_matrix\\n\\nfig = scatter_matrix(data, figsize=(10, 10), diagonal='hist', marker='o', alpha=0.7, s=10, hist_kwds={'bins': 20})\\n\\nfor ax in fig.flatten():\\n    ax.xaxis.label.set_fontsize(10)\\n    ax.yaxis.label.set_fontsize(10)\\n    ax.tick_params(axis='both', labelsize=8)\\n\\nplt.xticks(rotation=45)\\nplt.show()\\n\""
            ],
            "application/vnd.google.colaboratory.intrinsic+json": {
              "type": "string"
            }
          },
          "metadata": {},
          "execution_count": 15
        }
      ]
    },
    {
      "cell_type": "markdown",
      "metadata": {
        "id": "m0uBOcRO1L6B"
      },
      "source": [
        "### Data Preparation"
      ]
    },
    {
      "cell_type": "markdown",
      "metadata": {
        "id": "YlWZGl-C1h8n"
      },
      "source": [
        "#### Rescale Data"
      ]
    },
    {
      "cell_type": "code",
      "source": [
        "array = data.values\n",
        "\n",
        "# First column (index 0) is the target (Y)\n",
        "Y = array[:, 0]\n",
        "\n",
        "# Remaining 21 columns (index 1 to 21) are features (X)\n",
        "X = array[:, 1:22]"
      ],
      "metadata": {
        "id": "SsN5OtgpYVan"
      },
      "execution_count": 16,
      "outputs": []
    },
    {
      "cell_type": "code",
      "execution_count": 17,
      "metadata": {
        "colab": {
          "base_uri": "https://localhost:8080/"
        },
        "id": "4PcYGpJI0lCW",
        "outputId": "69b389d9-6518-41b7-ebbf-9b047b377356"
      },
      "outputs": [
        {
          "output_type": "stream",
          "name": "stdout",
          "text": [
            "[[1.    1.    1.    0.326 1.    0.    0.    0.    0.    1.    0.    1.\n",
            "  0.    1.    0.6   0.5   1.    0.    0.667 0.6   0.286]\n",
            " [0.    0.    0.    0.151 1.    0.    0.    1.    0.    0.    0.    0.\n",
            "  1.    0.5   0.    0.    0.    0.    0.5   1.    0.   ]\n",
            " [1.    1.    1.    0.186 0.    0.    0.    0.    1.    0.    0.    1.\n",
            "  1.    1.    1.    1.    1.    0.    0.667 0.6   1.   ]\n",
            " [1.    0.    1.    0.174 0.    0.    0.    1.    1.    1.    0.    1.\n",
            "  0.    0.25  0.    0.    0.    0.    0.833 0.4   0.714]\n",
            " [1.    1.    1.    0.14  0.    0.    0.    1.    1.    1.    0.    1.\n",
            "  0.    0.25  0.1   0.    0.    0.    0.833 0.8   0.429]]\n"
          ]
        }
      ],
      "source": [
        "from numpy import set_printoptions\n",
        "from sklearn.preprocessing import MinMaxScaler\n",
        "\n",
        "# Apply Min-Max Scaling to features only\n",
        "scaler = MinMaxScaler(feature_range=(0, 1))\n",
        "rescaledX = scaler.fit_transform(X)\n",
        "\n",
        "# Print first 5 rows of scaled data\n",
        "set_printoptions(precision=3)\n",
        "print(rescaledX[0:5, :])"
      ]
    },
    {
      "cell_type": "markdown",
      "metadata": {
        "id": "0LOWgaHQ2582"
      },
      "source": [
        "#### Standardize Data"
      ]
    },
    {
      "cell_type": "code",
      "execution_count": 18,
      "metadata": {
        "colab": {
          "base_uri": "https://localhost:8080/"
        },
        "id": "XRZ6b6gd2FXo",
        "outputId": "3c2c03a9-050d-47b3-8ebf-89da523213d8"
      },
      "outputs": [
        {
          "output_type": "stream",
          "name": "stdout",
          "text": [
            "[[ 1.154  1.165  0.197  1.758  1.121 -0.206 -0.322 -1.763 -1.317  0.482\n",
            "  -0.244  0.227 -0.303  2.329  1.999  1.234  2.224 -0.887  0.317 -1.066\n",
            "  -1.474]\n",
            " [-0.867 -0.858 -5.078 -0.512  1.121 -0.206 -0.322  0.567 -1.317 -2.074\n",
            "  -0.244 -4.408  3.298  0.457 -0.43  -0.487 -0.45  -0.887 -0.338  0.963\n",
            "  -2.44 ]\n",
            " [ 1.154  1.165  0.197 -0.058 -0.892 -0.206 -0.322 -1.763  0.759 -2.074\n",
            "  -0.244  0.227  3.298  2.329  3.617  2.955  2.224 -0.887  0.317 -1.066\n",
            "   0.94 ]\n",
            " [ 1.154 -0.858  0.197 -0.209 -0.892 -0.206 -0.322  0.567  0.759  0.482\n",
            "  -0.244  0.227 -0.303 -0.479 -0.43  -0.487 -0.45  -0.887  0.972 -2.08\n",
            "  -0.026]\n",
            " [ 1.154  1.165  0.197 -0.663 -0.892 -0.206 -0.322  0.567  0.759  0.482\n",
            "  -0.244  0.227 -0.303 -0.479 -0.025 -0.487 -0.45  -0.887  0.972 -0.051\n",
            "  -0.992]]\n"
          ]
        }
      ],
      "source": [
        "from sklearn.preprocessing import StandardScaler\n",
        "\n",
        "scaler = StandardScaler().fit(X)\n",
        "rescaledX = scaler.transform(X)\n",
        "# summarize transformed data\n",
        "set_printoptions(precision=3)\n",
        "print(rescaledX[0:5,:])"
      ]
    },
    {
      "cell_type": "markdown",
      "metadata": {
        "id": "InLMWzaK3aVI"
      },
      "source": [
        "#### Normalize Data"
      ]
    },
    {
      "cell_type": "code",
      "execution_count": 19,
      "metadata": {
        "colab": {
          "base_uri": "https://localhost:8080/"
        },
        "id": "kVcynE2j3Ri-",
        "outputId": "934c09cd-38d4-4c7b-dfcf-7da8dc18ff24"
      },
      "outputs": [
        {
          "output_type": "stream",
          "name": "stdout",
          "text": [
            "[[0.021 0.021 0.021 0.836 0.021 0.    0.    0.    0.    0.021 0.    0.021\n",
            "  0.    0.105 0.376 0.314 0.021 0.    0.188 0.084 0.063]\n",
            " [0.    0.    0.    0.93  0.037 0.    0.    0.037 0.    0.    0.    0.\n",
            "  0.037 0.112 0.    0.    0.    0.    0.26  0.223 0.037]\n",
            " [0.019 0.019 0.019 0.531 0.    0.    0.    0.    0.019 0.    0.    0.019\n",
            "  0.019 0.095 0.569 0.569 0.019 0.    0.171 0.076 0.152]\n",
            " [0.033 0.    0.033 0.898 0.    0.    0.    0.033 0.033 0.033 0.    0.033\n",
            "  0.    0.066 0.    0.    0.    0.    0.366 0.1   0.199]\n",
            " [0.036 0.036 0.036 0.872 0.    0.    0.    0.036 0.036 0.036 0.    0.036\n",
            "  0.    0.073 0.109 0.    0.    0.    0.4   0.182 0.145]]\n"
          ]
        }
      ],
      "source": [
        "from sklearn.preprocessing import Normalizer\n",
        "\n",
        "scaler = Normalizer().fit(X)\n",
        "normalizedX = scaler.transform(X)\n",
        "# summarize transformed data\n",
        "set_printoptions(precision=3)\n",
        "print(normalizedX[0:5,:])"
      ]
    },
    {
      "cell_type": "markdown",
      "metadata": {
        "id": "yQzzZXql32LU"
      },
      "source": [
        "#### Binarize Data"
      ]
    },
    {
      "cell_type": "code",
      "execution_count": 20,
      "metadata": {
        "colab": {
          "base_uri": "https://localhost:8080/"
        },
        "id": "lYXROT4J3pc0",
        "outputId": "e95dc731-039b-450c-ec6d-15c69e4f0eec"
      },
      "outputs": [
        {
          "output_type": "stream",
          "name": "stdout",
          "text": [
            "[[1. 1. 1. 1. 1. 0. 0. 0. 0. 1. 0. 1. 0. 1. 1. 1. 1. 0. 1. 1. 1.]\n",
            " [0. 0. 0. 1. 1. 0. 0. 1. 0. 0. 0. 0. 1. 1. 0. 0. 0. 0. 1. 1. 1.]\n",
            " [1. 1. 1. 1. 0. 0. 0. 0. 1. 0. 0. 1. 1. 1. 1. 1. 1. 0. 1. 1. 1.]\n",
            " [1. 0. 1. 1. 0. 0. 0. 1. 1. 1. 0. 1. 0. 1. 0. 0. 0. 0. 1. 1. 1.]\n",
            " [1. 1. 1. 1. 0. 0. 0. 1. 1. 1. 0. 1. 0. 1. 1. 0. 0. 0. 1. 1. 1.]]\n"
          ]
        }
      ],
      "source": [
        "from sklearn.preprocessing import Binarizer\n",
        "\n",
        "binarizer = Binarizer(threshold=0.0).fit(X)\n",
        "binaryX = binarizer.transform(X)\n",
        "# summarize transformed data\n",
        "set_printoptions(precision=3)\n",
        "print(binaryX[0:5,:])"
      ]
    },
    {
      "cell_type": "markdown",
      "metadata": {
        "id": "9ETyfxQ18yWW"
      },
      "source": [
        "### Feature Selection"
      ]
    },
    {
      "cell_type": "markdown",
      "metadata": {
        "id": "raBwwFpTABB_"
      },
      "source": [
        "#### Univariate Selection\n",
        "\n",
        "Statistical tests can be used to select those features that have the strongest relationship with\n",
        "the output variable.\n",
        "The scikit-learn library provides the SelectKBest class2\n",
        "that can be used\n",
        "with a suite of different statistical tests to select a specific number of features. The example\n",
        "below uses the chi-squared (chi2\n",
        ") statistical test for non-negative features to select 11 of the best\n",
        "features from the dataset."
      ]
    },
    {
      "cell_type": "code",
      "execution_count": 21,
      "metadata": {
        "colab": {
          "base_uri": "https://localhost:8080/"
        },
        "id": "xccywB_36Y1j",
        "outputId": "c25102b3-52f8-4a8f-d91c-65ec12fcaffb"
      },
      "outputs": [
        {
          "output_type": "stream",
          "name": "stdout",
          "text": [
            "Feature Scores:\n",
            " [1.073e+04 6.484e+03 4.382e+01 1.978e+04 5.627e+02 2.798e+03 7.468e+03\n",
            " 9.225e+02 1.662e+02 1.686e+02 8.025e+02 3.381e+00 3.627e+02 1.060e+04\n",
            " 2.461e+04 1.416e+05 1.063e+04 1.404e+02 1.023e+04 8.492e+02 5.380e+03]\n",
            "\n",
            "Selected Features:\n",
            " Index(['HighBP', 'HighChol', 'BMI', 'Stroke', 'HeartDiseaseorAttack',\n",
            "       'GenHlth', 'MentHlth', 'PhysHlth', 'DiffWalk', 'Age', 'Income'],\n",
            "      dtype='object')\n",
            "   HighBP  HighChol   BMI  Stroke  HeartDiseaseorAttack  GenHlth  MentHlth  \\\n",
            "0     1.0       1.0  40.0     0.0                   0.0      5.0      18.0   \n",
            "1     0.0       0.0  25.0     0.0                   0.0      3.0       0.0   \n",
            "2     1.0       1.0  28.0     0.0                   0.0      5.0      30.0   \n",
            "3     1.0       0.0  27.0     0.0                   0.0      2.0       0.0   \n",
            "4     1.0       1.0  24.0     0.0                   0.0      2.0       3.0   \n",
            "\n",
            "   PhysHlth  DiffWalk   Age  Income  \n",
            "0      15.0       1.0   9.0     3.0  \n",
            "1       0.0       0.0   7.0     1.0  \n",
            "2      30.0       1.0   9.0     8.0  \n",
            "3       0.0       0.0  11.0     6.0  \n",
            "4       0.0       0.0  11.0     4.0  \n"
          ]
        }
      ],
      "source": [
        "from sklearn.feature_selection import SelectKBest, chi2\n",
        "\n",
        "# Feature selection\n",
        "X = data.iloc[:, 1:22]  # Selecting feature columns\n",
        "Y = data.iloc[:, 0]     # Target column\n",
        "\n",
        "# Applying SelectKBest\n",
        "test = SelectKBest(score_func=chi2, k=11)\n",
        "fit = test.fit(X, Y)\n",
        "\n",
        "# Get selected feature indices\n",
        "selected_indices = fit.get_support(indices=True)\n",
        "\n",
        "# Get the feature names\n",
        "selected_features = X.columns[selected_indices]\n",
        "\n",
        "# Print scores and selected feature names\n",
        "print(\"Feature Scores:\\n\", fit.scores_)\n",
        "print(\"\\nSelected Features:\\n\", selected_features)\n",
        "\n",
        "# Transform dataset to include only selected features\n",
        "X_selected = fit.transform(X)\n",
        "\n",
        "# Convert to DataFrame for better readability\n",
        "X_selected_df = pd.DataFrame(X_selected, columns=selected_features)\n",
        "\n",
        "# Display first 5 rows of selected features\n",
        "print(X_selected_df.head())"
      ]
    },
    {
      "cell_type": "markdown",
      "metadata": {
        "id": "z6X9nBrFAhXb"
      },
      "source": [
        "#### Recursive Feature Elimination\n",
        "\n",
        "The Recursive Feature Elimination (or RFE) works by recursively removing attributes and\n",
        "building a model on those attributes that remain. It uses the model accuracy to identify which attributes (and combination of attributes) contribute the most to predicting the target attribute."
      ]
    },
    {
      "cell_type": "code",
      "execution_count": 22,
      "metadata": {
        "colab": {
          "base_uri": "https://localhost:8080/"
        },
        "id": "OlPzBwbD9Xn6",
        "outputId": "f8080ad5-77a4-4eee-bb2b-c1e07fd191e9"
      },
      "outputs": [
        {
          "output_type": "stream",
          "name": "stdout",
          "text": [
            "Selected 7 Features: ['HighBP', 'HighChol', 'CholCheck', 'HeartDiseaseorAttack', 'HvyAlcoholConsump', 'GenHlth', 'DiffWalk']\n",
            "Feature Ranking: [ 1  1  1  9 13  4  1 12 10 11  1  5  2  1 15 14  1  3  7  6  8]\n",
            "   HighBP  HighChol  CholCheck  HeartDiseaseorAttack  HvyAlcoholConsump  \\\n",
            "0     1.0       1.0        1.0                   0.0                0.0   \n",
            "1     0.0       0.0        0.0                   0.0                0.0   \n",
            "2     1.0       1.0        1.0                   0.0                0.0   \n",
            "3     1.0       0.0        1.0                   0.0                0.0   \n",
            "4     1.0       1.0        1.0                   0.0                0.0   \n",
            "\n",
            "   GenHlth  DiffWalk  \n",
            "0      5.0       1.0  \n",
            "1      3.0       0.0  \n",
            "2      5.0       1.0  \n",
            "3      2.0       0.0  \n",
            "4      2.0       0.0  \n"
          ]
        }
      ],
      "source": [
        "from sklearn.feature_selection import RFE\n",
        "from sklearn.linear_model import LogisticRegression\n",
        "\n",
        "feature_names = X.columns  # Get column names\n",
        "\n",
        "# Define model\n",
        "model = LogisticRegression(solver='liblinear')\n",
        "\n",
        "# Apply RFE\n",
        "num_features = 7  # Change as needed\n",
        "rfe = RFE(estimator=model, n_features_to_select=num_features)\n",
        "rfe.fit(X, Y)\n",
        "\n",
        "# Get selected feature names\n",
        "selected_features = X.columns[rfe.support_]\n",
        "\n",
        "# Print results\n",
        "print(f\"Selected {num_features} Features:\", list(selected_features))\n",
        "print(\"Feature Ranking:\", rfe.ranking_)\n",
        "\n",
        "# Create DataFrame with selected features\n",
        "X_selected_df = X.loc[:, rfe.support_]\n",
        "print(X_selected_df.head())  # Display first 5 rows"
      ]
    },
    {
      "cell_type": "markdown",
      "metadata": {
        "id": "s4sWLFZRCPGC"
      },
      "source": [
        "#### Principal Component Analysis\n",
        "\n",
        "Principal Component Analysis (or PCA) uses linear algebra to transform the dataset into a\n",
        "compressed form. Generally this is called a data reduction technique. A property of PCA is that\n",
        "you can choose the number of dimensions or principal components in the transformed result."
      ]
    },
    {
      "cell_type": "markdown",
      "metadata": {
        "id": "tbtzZPOiD2Tq"
      },
      "source": [
        "PCA with Feature Labels"
      ]
    },
    {
      "cell_type": "code",
      "execution_count": 23,
      "metadata": {
        "colab": {
          "base_uri": "https://localhost:8080/"
        },
        "id": "33Ctz8kTCOtx",
        "outputId": "dbd59d3a-c281-4830-9a6d-b58de0dad23b"
      },
      "outputs": [
        {
          "output_type": "stream",
          "name": "stdout",
          "text": [
            "Explained Variance Ratio: [0.483]\n",
            "\n",
            "Feature Contributions to Each Principal Component:\n",
            "        HighBP  HighChol  CholCheck       BMI    Smoker    Stroke  \\\n",
            "PC1  0.008993  0.006827    0.00049  0.166758  0.006724  0.002997   \n",
            "\n",
            "     HeartDiseaseorAttack  PhysActivity    Fruits   Veggies  ...  \\\n",
            "PC1              0.005266     -0.010608 -0.003662 -0.003364  ...   \n",
            "\n",
            "     AnyHealthcare  NoDocbcCost   GenHlth  MentHlth  PhysHlth  DiffWalk  \\\n",
            "PC1      -0.000716     0.005769  0.061694  0.527125  0.827455  0.018847   \n",
            "\n",
            "          Sex       Age  Education    Income  \n",
            "PC1 -0.003208  0.012785  -0.018467 -0.067764  \n",
            "\n",
            "[1 rows x 21 columns]\n",
            "\n",
            "First 5 rows of transformed PCA features:\n",
            "          PC1\n",
            "0  19.079268\n",
            "1  -5.408459\n",
            "2  35.475433\n",
            "3  -5.379667\n",
            "4  -4.193144\n"
          ]
        }
      ],
      "source": [
        "from sklearn.decomposition import PCA\n",
        "\n",
        "# Apply PCA\n",
        "n_components = 1 # Change as needed\n",
        "pca = PCA(n_components=n_components)\n",
        "X_pca = pca.fit_transform(X)\n",
        "\n",
        "# Create a DataFrame with PCA components\n",
        "pca_df = pd.DataFrame(X_pca, columns=[f'PC{i+1}' for i in range(n_components)])\n",
        "\n",
        "# Print explained variance ratio\n",
        "print(\"Explained Variance Ratio:\", pca.explained_variance_ratio_)\n",
        "\n",
        "# Get feature contributions to principal components\n",
        "pca_components = pd.DataFrame(pca.components_, columns=feature_names,\n",
        "                              index=[f'PC{i+1}' for i in range(n_components)])\n",
        "print(\"\\nFeature Contributions to Each Principal Component:\\n\", pca_components)\n",
        "\n",
        "# Show the transformed PCA dataset\n",
        "print(\"\\nFirst 5 rows of transformed PCA features:\\n\", pca_df.head())"
      ]
    },
    {
      "cell_type": "markdown",
      "metadata": {
        "id": "D-uWdoluEubH"
      },
      "source": [
        "Determine the Optimal Number of Components"
      ]
    },
    {
      "cell_type": "code",
      "execution_count": 24,
      "metadata": {
        "colab": {
          "base_uri": "https://localhost:8080/",
          "height": 472
        },
        "id": "o6Y_B48gBNGK",
        "outputId": "1121a9e3-464b-45ab-c8f4-cd4b7a62d0d0"
      },
      "outputs": [
        {
          "output_type": "display_data",
          "data": {
            "text/plain": [
              "<Figure size 640x480 with 1 Axes>"
            ],
            "image/png": "[encoded data removed]"
          },
          "metadata": {}
        }
      ],
      "source": [
        "pca_full = PCA().fit(X)  # Fit PCA with all components\n",
        "explained_variance = np.cumsum(pca_full.explained_variance_ratio_)\n",
        "\n",
        "plt.plot(range(1, len(explained_variance)+1), explained_variance, marker='o', linestyle='--')\n",
        "plt.xlabel('Number of Principal Components')\n",
        "plt.ylabel('Cumulative Explained Variance')\n",
        "plt.title('Scree Plot')\n",
        "plt.grid()\n",
        "plt.show()"
      ]
    },
    {
      "cell_type": "markdown",
      "metadata": {
        "id": "0czMuolrE6ZN"
      },
      "source": [
        " Automatic Selection (95% Variance)\n",
        "\n",
        " If the optimal number of principal components (PCs) is 1, it means that a single principal component explains most of the variance in your dataset."
      ]
    },
    {
      "cell_type": "code",
      "execution_count": 25,
      "metadata": {
        "colab": {
          "base_uri": "https://localhost:8080/"
        },
        "id": "DgqtjZF7DwSl",
        "outputId": "ec0340d2-72a2-4c2c-aa44-4013820af360"
      },
      "outputs": [
        {
          "output_type": "stream",
          "name": "stdout",
          "text": [
            "Optimal number of components: 4\n"
          ]
        }
      ],
      "source": [
        "cumulative_variance = np.cumsum(pca_full.explained_variance_ratio_)\n",
        "optimal_components = np.argmax(cumulative_variance >= 0.95) + 1  # First index where ≥ 95%\n",
        "print(f\"Optimal number of components: {optimal_components}\")\n"
      ]
    },
    {
      "cell_type": "markdown",
      "metadata": {
        "id": "OEWgy19oFaTS"
      },
      "source": [
        "#### Feature Importance\n",
        "\n",
        "Bagged decision trees like Random Forest and Extra Trees can be used to estimate the importance\n",
        "of features."
      ]
    },
    {
      "cell_type": "code",
      "execution_count": null,
      "metadata": {
        "id": "neQVXUeKEz0Q"
      },
      "outputs": [],
      "source": [
        "from sklearn.ensemble import ExtraTreesClassifier\n",
        "\n",
        "# Feature importance with Extra Trees Classifier\n",
        "model = ExtraTreesClassifier(n_estimators=100, random_state=42)  # Use more trees for better stability\n",
        "model.fit(X, Y)\n",
        "\n",
        "# Get feature importance scores\n",
        "feature_importance = model.feature_importances_\n",
        "\n",
        "# Create DataFrame for better visualization\n",
        "importance_df = pd.DataFrame({\"Feature\": feature_names, \"Importance\": feature_importance})\n",
        "importance_df = importance_df.sort_values(by=\"Importance\", ascending=False)  # Sort by importance\n",
        "\n",
        "# Print sorted feature importance\n",
        "print(importance_df)\n",
        "\n",
        "# Optional: Plot the feature importance\n",
        "import matplotlib.pyplot as plt\n",
        "\n",
        "plt.figure(figsize=(10, 5))\n",
        "plt.barh(importance_df[\"Feature\"], importance_df[\"Importance\"], color='skyblue')\n",
        "plt.xlabel(\"Feature Importance Score\")\n",
        "plt.ylabel(\"Feature\")\n",
        "plt.title(\"Feature Importance using Extra Trees Classifier\")\n",
        "plt.gca().invert_yaxis()  # Reverse order for better visualization\n",
        "plt.show()"
      ]
    },
    {
      "cell_type": "markdown",
      "metadata": {
        "id": "LSXyVlBvGj6B"
      },
      "source": [
        "### Performance Evaluation of ML Algorithms"
      ]
    },
    {
      "cell_type": "markdown",
      "metadata": {
        "id": "OJ2geCupG4i-"
      },
      "source": [
        "#### Split into Train and Test Sets\n",
        "\n",
        "70% - Training set\n",
        "\n",
        "30% - Test set"
      ]
    },
    {
      "cell_type": "code",
      "execution_count": null,
      "metadata": {
        "id": "mzR7iYTcGJqF"
      },
      "outputs": [],
      "source": [
        "from sklearn.model_selection import train_test_split\n",
        "from sklearn.exceptions import ConvergenceWarning\n",
        "import warnings\n",
        "\n",
        "# Ignore convergence warnings\n",
        "warnings.filterwarnings(\"ignore\", category=ConvergenceWarning)\n",
        "\n",
        "# Split dataset\n",
        "X_train, X_test, Y_train, Y_test = train_test_split(X, Y, test_size=0.30, random_state=7)\n",
        "\n",
        "# Feature Scaling (Standardization)\n",
        "scaler = StandardScaler()\n",
        "X_train = scaler.fit_transform(X_train)\n",
        "X_test = scaler.transform(X_test)\n",
        "\n",
        "# Define & Train Logistic Regression\n",
        "model = LogisticRegression(solver='saga', max_iter=1000, C=1.0)  # C=1.0 (default regularization)\n",
        "model.fit(X_train, Y_train)\n",
        "\n",
        "# Evaluate Model\n",
        "accuracy = model.score(X_test, Y_test) * 100.0\n",
        "print(f\"Accuracy: {accuracy:.3f}%\")\n"
      ]
    },
    {
      "cell_type": "markdown",
      "metadata": {
        "id": "0IKX6VuqIvrH"
      },
      "source": [
        "#### K-fold Cross Validation\n",
        "\n",
        "K-Fold Cross Validation is a technique to estimate model performance with lower variance than a single train-test split. It works by dividing the dataset into k equal parts (folds), where the model is trained on k-1 folds and tested on the remaining one. This process repeats k times, with each fold serving as the test set once.\n",
        "\n",
        "After training, we get k performance scores, which are averaged to provide a more reliable estimate of the model's performance. Common values of k are 3, 5, or 10, depending on dataset size. This method ensures the model is tested on different data, leading to a more generalizable evaluation."
      ]
    },
    {
      "cell_type": "code",
      "execution_count": null,
      "metadata": {
        "id": "OnurV-J4HbNm"
      },
      "outputs": [],
      "source": [
        "from sklearn.model_selection import KFold, cross_val_score\n",
        "\n",
        "# Define k-fold cross-validation\n",
        "num_folds = 10\n",
        "seed = 7\n",
        "kfold = KFold(n_splits=num_folds, shuffle=True, random_state=seed)  # Fixed issue\n",
        "\n",
        "# Normalize features\n",
        "scaler = StandardScaler()\n",
        "X_scaled = scaler.fit_transform(X)  # Scale the entire dataset\n",
        "\n",
        "# Define model\n",
        "model = LogisticRegression(solver='saga', max_iter=1000)  # saga is better for large datasets\n",
        "\n",
        "# Evaluate model using cross-validation\n",
        "results = cross_val_score(model, X_scaled, Y, cv=kfold, scoring='accuracy')\n",
        "\n",
        "# Print results\n",
        "print(f\"Accuracy: {results.mean() * 100:.3f}% ± {results.std() * 100:.3f}%\")"
      ]
    },
    {
      "cell_type": "markdown",
      "metadata": {
        "id": "gZkGs13iKVuC"
      },
      "source": [
        "#### Leave One Out Cross Validation\n",
        "\n",
        "This variation of cross validation is called leave-one-out cross\n",
        "validation. The result is a large number of performance measures that can be summarized in an effort to give a more reasonable estimate of the accuracy of your model on unseen data.\n",
        "\n",
        "A downside is that it can be a computationally more expensive procedure than k-fold cross\n",
        "validation.\n",
        "\n",
        "Leave-One-Out (LOO) is computationally expensive → Not ideal for large datasets (250,000 instances)."
      ]
    },
    {
      "cell_type": "code",
      "execution_count": null,
      "metadata": {
        "id": "VRdEwCa3KCjE"
      },
      "outputs": [],
      "source": [
        "\"\"\"\n",
        "from sklearn.model_selection import LeaveOneOut, cross_val_score\n",
        "from sklearn.linear_model import LogisticRegression\n",
        "from sklearn.preprocessing import StandardScaler\n",
        "import numpy as np\n",
        "\n",
        "# Normalize features\n",
        "scaler = StandardScaler()\n",
        "X_scaled = scaler.fit_transform(X)  # Scale the entire dataset\n",
        "\n",
        "# Define Leave-One-Out Cross-Validation\n",
        "loocv = LeaveOneOut()\n",
        "\n",
        "# Define Model\n",
        "model = LogisticRegression(solver='saga', max_iter=1000)  # 'saga' is better for large datasets\n",
        "\n",
        "# Evaluate Model\n",
        "results = cross_val_score(model, X_scaled, Y, cv=loocv, scoring='accuracy')\n",
        "\n",
        "# Print Results\n",
        "print(f\"Accuracy: {results.mean() * 100:.3f}% ± {results.std() * 100:.3f}%\")\n",
        "\"\"\"\n",
        "\n",
        "# Skipped evaluating because it took too much time."
      ]
    },
    {
      "cell_type": "markdown",
      "metadata": {
        "id": "jVOq_3wkLywf"
      },
      "source": [
        "#### Repeated Random Test-Train Splits\n",
        "\n",
        "Repeated Random Train-Test Splitting is a variation of k-fold cross-validation that repeatedly splits the dataset into training and testing sets. It offers:\n",
        "\n",
        "✔ Faster evaluation than k-fold cross-validation.\n",
        "\n",
        "✔ Lower variance than a single train-test split.\n",
        "\n",
        "✔ More repetitions for improved accuracy.\n",
        "\n",
        "🔹 Downside: Some data points may appear in multiple test sets, causing redundancy.\n"
      ]
    },
    {
      "cell_type": "code",
      "execution_count": null,
      "metadata": {
        "id": "UmoR5IB0LRO_"
      },
      "outputs": [],
      "source": [
        "from sklearn.model_selection import ShuffleSplit, cross_val_score\n",
        "\n",
        "# Normalize features\n",
        "scaler = StandardScaler()\n",
        "X_scaled = scaler.fit_transform(X)\n",
        "\n",
        "# Define Shuffle Split CV\n",
        "n_splits = 10\n",
        "test_size = 0.33\n",
        "seed = 7\n",
        "shuffle_split = ShuffleSplit(n_splits=n_splits, test_size=test_size, random_state=seed)\n",
        "\n",
        "# Define Model\n",
        "model = LogisticRegression(solver='saga', max_iter=1000)  # 'saga' works well for large datasets\n",
        "\n",
        "# Evaluate Model\n",
        "results = cross_val_score(model, X_scaled, Y, cv=shuffle_split, scoring='accuracy')\n",
        "\n",
        "# Print Results\n",
        "print(f\"Accuracy: {results.mean() * 100:.3f}% ± {results.std() * 100:.3f}%\")\n"
      ]
    },
    {
      "cell_type": "markdown",
      "metadata": {
        "id": "CSsSXIZaODCx"
      },
      "source": [
        "### ML Algorithm Performance Metrics"
      ]
    },
    {
      "cell_type": "markdown",
      "metadata": {
        "id": "TPF_zeD0PpW4"
      },
      "source": [
        "#### Classification Accuracy\n",
        "\n",
        "Classification accuracy is the number of correct predictions made as a ratio of all predictions\n",
        "made. This is the most common evaluation metric for classification problems, it is also the most\n",
        "misused. It is really only suitable when there are an equal number of observations in each class\n",
        "(which is rarely the case) and that all predictions and prediction errors are equally important,\n",
        "which is often not the case."
      ]
    },
    {
      "cell_type": "code",
      "execution_count": null,
      "metadata": {
        "id": "nd5g7EZwNPYg"
      },
      "outputs": [],
      "source": [
        "from sklearn.model_selection import KFold, cross_val_score\n",
        "\n",
        "# Define K-Fold CV\n",
        "kfold = KFold(n_splits=10, random_state=7, shuffle=True)  # Added shuffle for randomness\n",
        "\n",
        "# Define Model\n",
        "model = LogisticRegression(solver='saga', max_iter=1000)  # 'saga' for large datasets\n",
        "\n",
        "# Evaluate Model\n",
        "results = cross_val_score(model, X_scaled, Y, cv=kfold, scoring='accuracy')\n",
        "\n",
        "# Print Results\n",
        "print(f\"Accuracy: {results.mean():.3f} ± {results.std():.3f}\")"
      ]
    },
    {
      "cell_type": "markdown",
      "metadata": {
        "id": "F1Eig8PwQCcv"
      },
      "source": [
        "#### Logatrithmic Loss\n",
        "\n",
        "Logarithmic loss (or logloss) is a performance metric for evaluating the predictions of probabilities\n",
        "of membership to a given class. The scalar probability between 0 and 1 can be seen as a measure\n",
        "of confidence for a prediction by an algorithm. Predictions that are correct or incorrect are\n",
        "rewarded or punished proportionally to the confidence of the prediction."
      ]
    },
    {
      "cell_type": "code",
      "execution_count": null,
      "metadata": {
        "id": "KNzhYhqkPogU"
      },
      "outputs": [],
      "source": [
        "# Use Log Loss as the evaluation metric\n",
        "scoring = 'neg_log_loss'\n",
        "results = cross_val_score(model, X_scaled, Y, cv=kfold, scoring=scoring)\n",
        "\n",
        "# Print log loss correctly\n",
        "print(f\"Log Loss: {results.mean():.3f} ({results.std():.3f})\")\n"
      ]
    },
    {
      "cell_type": "markdown",
      "metadata": {
        "id": "o8AtOBCtQ4Ji"
      },
      "source": [
        "#### Area Under ROC Curve\n",
        "\n",
        "Area under ROC Curve (or AUC for short) is a performance metric for binary classification\n",
        "problems. The AUC represents a model’s ability to discriminate between positive and negative\n",
        "classes.\n",
        "\n",
        "An area of 1.0 represents a model that made all predictions perfectly. An area of\n",
        "0.5 represents a model that is as good as random.\n"
      ]
    },
    {
      "cell_type": "code",
      "execution_count": null,
      "metadata": {
        "id": "lYPwTnyZQBfy"
      },
      "outputs": [],
      "source": [
        "from sklearn.multiclass import OneVsRestClassifier\n",
        "\n",
        "# Define model with multi-class support\n",
        "model = OneVsRestClassifier(LogisticRegression(solver='saga', max_iter=500))  # or 'multinomial'\n",
        "\n",
        "# Use ROC AUC for multi-class classification\n",
        "scoring = 'roc_auc_ovr'  # Use 'roc_auc_ovo' for one-vs-one\n",
        "results = cross_val_score(model, X_scaled, Y, cv=kfold, scoring=scoring)\n",
        "\n",
        "# Print ROC AUC correctly\n",
        "print(f\"AUC: {results.mean():.3f} ({results.std():.3f})\")"
      ]
    },
    {
      "cell_type": "markdown",
      "metadata": {
        "id": "Q0b2F8-sR6WW"
      },
      "source": [
        "#### Confusion Matrix\n",
        "\n",
        "A confusion matrix summarizes model performance by comparing predicted vs. actual class labels. Rows represent actual classes, columns represent predictions, and cells show correct and incorrect counts. It helps evaluate classification accuracy for both binary and multi-class problems."
      ]
    },
    {
      "cell_type": "code",
      "execution_count": null,
      "metadata": {
        "id": "iP7_O1ZTQ21V"
      },
      "outputs": [],
      "source": [
        "from sklearn.metrics import confusion_matrix\n",
        "\n",
        "X_train, X_test, Y_train, Y_test = train_test_split(X, Y, test_size=test_size, random_state=seed)\n",
        "\n",
        "# Define logistic regression model with multi-class support\n",
        "model = OneVsRestClassifier(LogisticRegression(solver='saga', max_iter=500) ) # or 'multinomial'\n",
        "model.fit(X_train, Y_train)\n",
        "\n",
        "# Make predictions\n",
        "predicted = model.predict(X_test)\n",
        "\n",
        "# Compute confusion matrix\n",
        "matrix = confusion_matrix(Y_test, predicted)\n",
        "\n",
        "# Print the confusion matrix\n",
        "print(\"Confusion Matrix:\")\n",
        "print(matrix)\n"
      ]
    },
    {
      "cell_type": "markdown",
      "metadata": {
        "id": "qNahu1tZR51Q"
      },
      "source": [
        "#### Classification Report"
      ]
    },
    {
      "cell_type": "code",
      "execution_count": null,
      "metadata": {
        "id": "N7czczkJR27s"
      },
      "outputs": [],
      "source": [
        "# Cross Validation Classification Report\n",
        "from sklearn.metrics import classification_report\n",
        "\n",
        "report = classification_report(Y_test, predicted, zero_division=1)\n",
        "print(report)"
      ]
    },
    {
      "cell_type": "markdown",
      "source": [
        "### Regression Metrics\n",
        "\n",
        "Will do later for evaluating predictions on regression machine learning problems.\n",
        "\n",
        "1. Mean Absolute Error\n",
        "\n",
        "2. Mean Squared Error\n",
        "\n",
        "3. R^2"
      ],
      "metadata": {
        "id": "7pIMZGw5Xs1s"
      }
    },
    {
      "cell_type": "markdown",
      "source": [
        "### Spot-Check Classification Algorithms (Linear ML Algorithms)"
      ],
      "metadata": {
        "id": "2BdP4ZoCbl4e"
      }
    },
    {
      "cell_type": "markdown",
      "source": [
        "#### Logistic Regression\n",
        "\n",
        "Logistic regression assumes a Gaussian distribution for the numeric input variables and can\n",
        "model binary classification problems.\n",
        "\n",
        "In my case logistic regression is optimized to scale for large dataset case and modified to solve a multi-class problem"
      ],
      "metadata": {
        "id": "jPuU7m3Tbsun"
      }
    },
    {
      "cell_type": "code",
      "source": [
        "from sklearn.model_selection import KFold, cross_val_score\n",
        "from sklearn.linear_model import LogisticRegression\n",
        "from sklearn.preprocessing import StandardScaler\n",
        "from sklearn.pipeline import make_pipeline\n",
        "\n",
        "# Define cross-validation strategy\n",
        "kfold = KFold(n_splits=10, random_state=7, shuffle=True)\n",
        "\n",
        "# Create pipeline: StandardScaler + Multi-class Logistic Regression\n",
        "model = make_pipeline(StandardScaler(),\n",
        "                      LogisticRegression(solver='saga', max_iter=5000))  # No need for multi_class='multinomial'\n",
        "\n",
        "# Perform cross-validation\n",
        "results = cross_val_score(model, X, Y, cv=kfold, scoring='accuracy')\n",
        "\n",
        "# Print mean accuracy across folds\n",
        "print(f\"Mean Accuracy: {results.mean():.3f} (+/- {results.std():.3f})\")"
      ],
      "metadata": {
        "id": "i0QYZioScMSg"
      },
      "execution_count": null,
      "outputs": []
    },
    {
      "cell_type": "markdown",
      "source": [
        "#### Linear Discriminant Analysis\n",
        "\n",
        "LDA is a supervised machine learning algorithm used for classification and dimensionality reduction. It works by finding a linear combination of features that best separate different classes."
      ],
      "metadata": {
        "id": "P8tR7D0pctBY"
      }
    },
    {
      "cell_type": "code",
      "source": [
        "from sklearn.discriminant_analysis import LinearDiscriminantAnalysis\n",
        "\n",
        "# Define cross-validation strategy\n",
        "kfold = KFold(n_splits=10, random_state=7, shuffle=True)\n",
        "\n",
        "# Initialize LDA model\n",
        "model = LinearDiscriminantAnalysis()\n",
        "\n",
        "# Perform cross-validation\n",
        "results = cross_val_score(model, X, Y, cv=kfold, scoring='accuracy')\n",
        "\n",
        "# Print mean accuracy across folds\n",
        "print(f\"Mean Accuracy: {results.mean():.3f} (+/- {results.std():.3f})\")"
      ],
      "metadata": {
        "id": "c7rIcfBsb-o9"
      },
      "execution_count": null,
      "outputs": []
    },
    {
      "cell_type": "markdown",
      "source": [
        "### Spot-Check Classification Algorithms (Non-Linear ML Algorithms)"
      ],
      "metadata": {
        "id": "7E3i5QP-dRo6"
      }
    },
    {
      "cell_type": "markdown",
      "source": [
        "#### k-Nearest Neighbors\n",
        "\n",
        "The k-Nearest Neighbors algorithm (or KNN) uses a distance metric to find the k most similar\n",
        "instances in the training data for a new instance and takes the mean outcome of the neighbors\n",
        "as the prediction."
      ],
      "metadata": {
        "id": "uEKERmHZgHFr"
      }
    },
    {
      "cell_type": "code",
      "source": [
        "from sklearn.neighbors import KNeighborsClassifier\n",
        "\n",
        "# Define cross-validation strategy\n",
        "kfold = KFold(n_splits=10, random_state=7, shuffle=True)  # Shuffling for better results\n",
        "\n",
        "# Define model\n",
        "model = KNeighborsClassifier()\n",
        "\n",
        "# Perform cross-validation\n",
        "results = cross_val_score(model, X_scaled, Y, cv=kfold, scoring='accuracy')\n",
        "\n",
        "# Print accuracy score\n",
        "print(f\"Accuracy: {results.mean():.3f} ({results.std():.3f})\")"
      ],
      "metadata": {
        "id": "soFN7HHCgamN"
      },
      "execution_count": null,
      "outputs": []
    },
    {
      "cell_type": "markdown",
      "source": [
        "#### Naive Bayes\n",
        "\n",
        "Naive Bayes estimates class probabilities and conditional probabilities for each input, assuming independence. For real-valued data, it uses a Gaussian distribution to compute probabilities with the Gaussian Probability Density Function."
      ],
      "metadata": {
        "id": "4d1XXX4Edusn"
      }
    },
    {
      "cell_type": "code",
      "source": [
        "from sklearn.naive_bayes import GaussianNB\n",
        "\n",
        "# Define cross-validation strategy\n",
        "kfold = KFold(n_splits=10, random_state=7, shuffle=True)  # Shuffling for better results\n",
        "\n",
        "# Define model\n",
        "model = GaussianNB()\n",
        "\n",
        "# Perform cross-validation\n",
        "results = cross_val_score(model, X_scaled, Y, cv=kfold, scoring='accuracy')\n",
        "\n",
        "# Print accuracy score\n",
        "print(f\"Accuracy: {results.mean():.3f} ({results.std():.3f})\")"
      ],
      "metadata": {
        "id": "U6UwucssXuQZ"
      },
      "execution_count": null,
      "outputs": []
    },
    {
      "cell_type": "markdown",
      "source": [
        "#### Decision Trees\n",
        "\n",
        "Classification and Regression Trees (CART or just decision trees) construct a binary tree from\n",
        "the training data. Split points are chosen greedily by evaluating each attribute and each value\n",
        "of each attribute in the training data in order to minimize a cost function (like the Gini index).\n"
      ],
      "metadata": {
        "id": "S9iNHD-jeMbR"
      }
    },
    {
      "cell_type": "code",
      "source": [
        "from sklearn.model_selection import StratifiedKFold\n",
        "from sklearn.tree import DecisionTreeClassifier\n",
        "\n",
        "# Define stratified cross-validation (better for class imbalance)\n",
        "kfold = StratifiedKFold(n_splits=10, random_state=7, shuffle=True)\n",
        "\n",
        "# Initialize Decision Tree model\n",
        "model = DecisionTreeClassifier(random_state=7)\n",
        "\n",
        "# Perform cross-validation\n",
        "results = cross_val_score(model, X, Y, cv=kfold, scoring='accuracy')\n",
        "\n",
        "# Print mean accuracy across folds\n",
        "print(f\"Mean Accuracy: {results.mean():.3f} (+/- {results.std():.3f})\")"
      ],
      "metadata": {
        "id": "U-O3ah5Jdt1R"
      },
      "execution_count": null,
      "outputs": []
    },
    {
      "cell_type": "markdown",
      "source": [
        "#### Support Vector Machines\n",
        "\n",
        "Support Vector Machines (or SVM) seek a line that best separates two classes. Those data\n",
        "instances that are closest to the line that best separates the classes are called support vectors\n",
        "and influence where the line is placed. SVM has been extended to support multiple classes.\n",
        "\n",
        "Uses LinearSVC for better speed. SVM takes too much computational time for large dataset which is not ideal."
      ],
      "metadata": {
        "id": "ZXCZNFzdfJfg"
      }
    },
    {
      "cell_type": "code",
      "source": [
        "from sklearn.model_selection import KFold, cross_val_score\n",
        "from sklearn.svm import LinearSVC\n",
        "from sklearn.preprocessing import StandardScaler\n",
        "from sklearn.pipeline import make_pipeline\n",
        "\n",
        "# Define cross-validation strategy\n",
        "kfold = KFold(n_splits=10, random_state=7, shuffle=True)\n",
        "\n",
        "# Create pipeline: StandardScaler + LinearSVC\n",
        "model = make_pipeline(StandardScaler(), LinearSVC(dual=False, max_iter=5000))\n",
        "\n",
        "# Perform cross-validation\n",
        "results = cross_val_score(model, X, Y, cv=kfold, scoring='accuracy')\n",
        "\n",
        "# Print mean accuracy across folds\n",
        "print(f\"Mean Accuracy: {results.mean():.3f} (+/- {results.std():.3f})\")\n"
      ],
      "metadata": {
        "id": "ky6X1PfdecVG"
      },
      "execution_count": null,
      "outputs": []
    },
    {
      "cell_type": "markdown",
      "source": [
        "### Spot-Check Regression Algorithms\n",
        "\n",
        "Will Do Later for a Regression ML problem.\n",
        "\n",
        "#### Overview\n",
        "\n",
        "Linear Case:\n",
        "\n",
        "1. Linear Regression\n",
        "2. Ridge Regression\n",
        "3. LASSO Linear Regression\n",
        "4. Elastic Net Regression\n",
        "\n",
        "Non-linear Case:\n",
        "\n",
        "1. k-Nearest Neighbors\n",
        "2. CART (Regression Trees)\n",
        "3. Support Vector Machines (SVM)"
      ],
      "metadata": {
        "id": "RHM8Fnfwds2s"
      }
    },
    {
      "cell_type": "markdown",
      "source": [
        "### Compare ML Algorithms\n",
        "\n",
        "Let's re-run all the algorithms we have learned so far for a fair evaluation.\n",
        "\n",
        "We have standarized the features for optimized training."
      ],
      "metadata": {
        "id": "8SaBmmLQehlA"
      }
    },
    {
      "cell_type": "code",
      "source": [
        "# Standardize features\n",
        "scaler = StandardScaler()\n",
        "X_scaled = scaler.fit_transform(X)\n",
        "\n",
        "# Define models (using LinearSVC)\n",
        "models = [\n",
        "    ('LR', OneVsRestClassifier(LogisticRegression(solver='saga', max_iter=500))),\n",
        "    ('LDA', LinearDiscriminantAnalysis()),\n",
        "    ('KNN', KNeighborsClassifier()),\n",
        "    ('CART', DecisionTreeClassifier()),\n",
        "    ('NB', GaussianNB()),\n",
        "    ('LinearSVC', OneVsRestClassifier(LinearSVC(max_iter=10000)))\n",
        "]\n",
        "\n",
        "# Cross-validation setup\n",
        "kfold = KFold(n_splits=10, random_state=7, shuffle=True)\n",
        "results = []\n",
        "names = []\n",
        "\n",
        "# Evaluate models\n",
        "for name, model in models:\n",
        "    cv_results = cross_val_score(model, X_scaled, Y, cv=kfold, scoring='accuracy')\n",
        "    results.append(cv_results)\n",
        "    names.append(name)\n",
        "    print(f\"{name}: {cv_results.mean():.3f} (+/- {cv_results.std():.3f})\")\n"
      ],
      "metadata": {
        "id": "VCHDV6iAfv4k"
      },
      "execution_count": null,
      "outputs": []
    },
    {
      "cell_type": "code",
      "source": [
        "plt.figure(figsize=(10, 6))\n",
        "plt.boxplot(results, tick_labels=names)  # Use tick_labels instead of labels\n",
        "plt.title('Algorithm Comparison')\n",
        "plt.ylabel('Accuracy')\n",
        "plt.grid()\n",
        "plt.show()"
      ],
      "metadata": {
        "id": "7MXNyOpUjfY0"
      },
      "execution_count": null,
      "outputs": []
    },
    {
      "cell_type": "markdown",
      "source": [
        "### Automating ML Workflows with Pipelines\n",
        "\n",
        "#### What is Pipelining in Machine Learning?\n",
        "\n",
        "Pipelining is a technique used to streamline the process of applying multiple transformations and models in a structured sequence. Instead of manually performing each step separately (e.g., feature scaling, model training), a pipeline automates the workflow.\n",
        "\n",
        "#### Why Use Pipelines?\n",
        "\n",
        "✔ Automation – Eliminates repetitive tasks\n",
        "\n",
        "✔ Code Cleanliness – Reduces redundant code\n",
        "\n",
        "✔ Prevents Data Leakage – Ensures transformations (e.g., scaling) are only fitted on training data\n",
        "\n",
        "✔ Consistency – Guarantees that preprocessing steps are applied correctly to training and test data\n"
      ],
      "metadata": {
        "id": "DNo4qYSwhUJi"
      }
    },
    {
      "cell_type": "markdown",
      "source": [
        "#### Data Preparation and Modeling Pipeline\n",
        "\n",
        "The pipeline is defined with two steps:\n",
        "1. Standardize the data.\n",
        "2. Learn a Linear Discriminant Analysis model.\n",
        "\n",
        "The pipeline is then evaluated using 10-fold cross validation.\n"
      ],
      "metadata": {
        "id": "TPNC_BxoiBYV"
      }
    },
    {
      "cell_type": "code",
      "source": [
        "from sklearn.pipeline import Pipeline\n",
        "\n",
        "# Define LDA pipeline\n",
        "lda_pipeline = Pipeline([\n",
        "    ('scaler', StandardScaler()),  # Standardize features\n",
        "    ('lda', LinearDiscriminantAnalysis())  # Apply LDA\n",
        "])\n",
        "\n",
        "# Cross-validation setup\n",
        "kfold = KFold(n_splits=10, random_state=7, shuffle=True)\n",
        "\n",
        "# Evaluate LDA pipeline\n",
        "cv_results = cross_val_score(lda_pipeline, X, Y, cv=kfold, scoring='accuracy')\n",
        "\n",
        "# Print results\n",
        "print(f\"LDA: {cv_results.mean():.3f} (+/- {cv_results.std():.3f})\")\n"
      ],
      "metadata": {
        "id": "JWBAaAxmfs9D"
      },
      "execution_count": null,
      "outputs": []
    },
    {
      "cell_type": "markdown",
      "source": [
        "#### Feature Extraction and Modeling Pipeline\n",
        "\n",
        "This pipeline is defined with four steps:\n",
        "\n",
        "1. Feature Extraction with Principal Component Analysis (3 features).\n",
        "2. Feature Extraction with Statistical Selection (6 features).\n",
        "3. Feature Union.\n",
        "4. Learn a Logistic Regression Model.\n",
        "\n",
        "The pipeline is then evaluated using 10-fold cross validation."
      ],
      "metadata": {
        "id": "1WPjSrNqioVA"
      }
    },
    {
      "cell_type": "code",
      "source": [
        "from sklearn.pipeline import FeatureUnion\n",
        "\n",
        "# Define feature extraction (PCA + SelectKBest)\n",
        "feature_union = FeatureUnion([\n",
        "    ('pca', PCA(n_components=3)),      # Extract top 3 principal components\n",
        "    ('select_best', SelectKBest(k=6))  # Select top 6 best features\n",
        "])\n",
        "\n",
        "# Define pipeline (Standardization → Feature Extraction → Logistic Regression)\n",
        "pipeline = Pipeline([\n",
        "    ('scaler', StandardScaler()),\n",
        "    ('feature_union', feature_union),\n",
        "    ('logistic', OneVsRestClassifier(LogisticRegression(solver='saga', max_iter=500)))\n",
        "\n",
        "])\n",
        "\n",
        "# Cross-validation setup\n",
        "kfold = KFold(n_splits=10, random_state=7, shuffle=True)\n",
        "\n",
        "# Evaluate pipeline\n",
        "cv_results = cross_val_score(pipeline, X, Y, cv=kfold, scoring='accuracy')\n",
        "\n",
        "# Print results\n",
        "print(f\"Logistic Regression with Feature Extraction: {cv_results.mean():.3f} (+/- {cv_results.std():.3f})\")\n"
      ],
      "metadata": {
        "id": "BqNXoSffhlQq"
      },
      "execution_count": null,
      "outputs": []
    },
    {
      "cell_type": "markdown",
      "source": [
        "### Improve Performance with Ensembles\n",
        "\n",
        "Ensembles can give you a boost in accuracy on your dataset."
      ],
      "metadata": {
        "id": "Jna4mcRzj3As"
      }
    },
    {
      "cell_type": "markdown",
      "source": [
        "Bagging, Boosting and Voting\n",
        "\n",
        "Will do later."
      ],
      "metadata": {
        "id": "wepOBe_-kJti"
      }
    },
    {
      "cell_type": "code",
      "source": [],
      "metadata": {
        "id": "DMW4jCoGryFq"
      },
      "execution_count": null,
      "outputs": []
    }
  ],
  "metadata": {
    "colab": {
      "provenance": [],
      "toc_visible": true,
      "name": "Machine_Learning_Assignment.ipynb",
      "authorship_tag": "ABX9TyPY5G5r5+NA6fIFHhcsjoQt",
      "include_colab_link": true
    },
    "kernelspec": {
      "display_name": "Python 3",
      "name": "python3"
    },
    "language_info": {
      "name": "python"
    }
  },
  "nbformat": 4,
  "nbformat_minor": 0
}