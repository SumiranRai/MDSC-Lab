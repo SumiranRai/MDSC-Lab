{
 "cells": [
  {
   "cell_type": "markdown",
   "metadata": {},
   "source": [
    "# Pearson Correlation Coefficient"
   ]
  },
  {
   "cell_type": "code",
   "execution_count": 22,
   "metadata": {},
   "outputs": [
    {
     "name": "stdout",
     "output_type": "stream",
     "text": [
      "Data Table:\n",
      "   Student  Hours Studied  Test Score\n",
      "0        1              2          50\n",
      "1        2              3          60\n",
      "2        3              5          80\n",
      "3        4              7          85\n",
      "4        5              9          90\n",
      "\n",
      "Pearson Correlation Coefficient: 0.9505253002546235\n"
     ]
    }
   ],
   "source": [
    "import numpy as np\n",
    "import pandas as pd\n",
    "\n",
    "students = np.array([1, 2, 3, 4, 5]) # Student IDs\n",
    "X = np.array([2, 3, 5, 7, 9])  # Hours Studied\n",
    "Y = np.array([50, 60, 80, 85, 90])  # Test Scores\n",
    "\n",
    "df = pd.DataFrame({\n",
    "    'Student': students,\n",
    "    'Hours Studied': X,\n",
    "    'Test Score': Y\n",
    "})\n",
    "\n",
    "print(\"Data Table:\")\n",
    "print(df)\n",
    "\n",
    "# Mean Function\n",
    "def calculate_mean(df, column):\n",
    "    total_sum, count = 0, 0\n",
    "    for value in df[column]:\n",
    "        total_sum += value\n",
    "        count += 1\n",
    "    mean = total_sum / count\n",
    "    return mean\n",
    "\n",
    "# Calculate the means of X and Y\n",
    "mean_X = calculate_mean(df, 'Hours Studied')\n",
    "mean_Y = calculate_mean(df, 'Test Score')\n",
    "\n",
    "# Standard Deviation\n",
    "deviation_X = X - mean_X\n",
    "deviation_Y = Y - mean_Y\n",
    "\n",
    "# Product of Deviations\n",
    "product_of_deviation = deviation_X * deviation_Y\n",
    "\n",
    "# Calculate Sum Function\n",
    "def calculate_sum(var):\n",
    "    total_sum = 0\n",
    "    for value in var:\n",
    "        total_sum += value\n",
    "    return total_sum\n",
    "\n",
    "# Sum the products of the deviations\n",
    "sum_of_products = calculate_sum(product_of_deviation)\n",
    "\n",
    "# Calculate the squared deviations for X and Y\n",
    "squared_deviation_X = calculate_sum(deviation_X ** 2)\n",
    "squared_deviation_Y = calculate_sum(deviation_Y ** 2)\n",
    "\n",
    "# Calculate the Pearson Correlation Coefficient\n",
    "pearson_r = sum_of_products / np.sqrt(squared_deviation_X * squared_deviation_Y)\n",
    "\n",
    "print(\"\\nPearson Correlation Coefficient:\", pearson_r)\n"
   ]
  },
  {
   "cell_type": "markdown",
   "metadata": {},
   "source": [
    "# Phi Coefficient"
   ]
  },
  {
   "cell_type": "code",
   "execution_count": 1,
   "metadata": {},
   "outputs": [
    {
     "name": "stdout",
     "output_type": "stream",
     "text": [
      "Phi Correlation Coefficient: 0.4082482904638631\n"
     ]
    }
   ],
   "source": [
    "from math import sqrt\n",
    "\n",
    "a = 40  # Completed course and passed\n",
    "b = 10  # Completed course and failed\n",
    "c = 20  # Did not complete course and passed\n",
    "d = 30  # Did not complete course and failed\n",
    "\n",
    "# Phi correlation formula\n",
    "phi = (a * d - b * c) / sqrt((a + b) * (c + d) * (a + c) * (b + d))\n",
    "\n",
    "# Display the result\n",
    "print(f\"Phi Correlation Coefficient:\", phi)"
   ]
  }
 ],
 "metadata": {
  "kernelspec": {
   "display_name": "Python 3",
   "language": "python",
   "name": "python3"
  },
  "language_info": {
   "codemirror_mode": {
    "name": "ipython",
    "version": 3
   },
   "file_extension": ".py",
   "mimetype": "text/x-python",
   "name": "python",
   "nbconvert_exporter": "python",
   "pygments_lexer": "ipython3",
   "version": "3.12.0"
  }
 },
 "nbformat": 4,
 "nbformat_minor": 2
}
