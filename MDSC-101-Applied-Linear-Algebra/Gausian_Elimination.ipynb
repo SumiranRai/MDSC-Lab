{
  "nbformat": 4,
  "nbformat_minor": 0,
  "metadata": {
    "colab": {
      "provenance": [],
      "authorship_tag": "ABX9TyNesNE6t6tRAWMKiEjrO9u1",
      "include_colab_link": true
    },
    "kernelspec": {
      "name": "python3",
      "display_name": "Python 3"
    },
    "language_info": {
      "name": "python"
    }
  },
  "cells": [
    {
      "cell_type": "markdown",
      "metadata": {
        "id": "view-in-github",
        "colab_type": "text"
      },
      "source": [
        "<a href=\"https://colab.research.google.com/github/SumiranRai/MDSC-Lab/blob/main/MDSC-101-Applied-Linear-Algebra/Gausian_Elimination.ipynb\" target=\"_parent\"><img src=\"https://colab.research.google.com/assets/colab-badge.svg\" alt=\"Open In Colab\"/></a>"
      ]
    },
    {
      "cell_type": "markdown",
      "source": [
        "### Gaussian Elimination with Basic Python"
      ],
      "metadata": {
        "id": "x_n0khiihBYV"
      }
    },
    {
      "cell_type": "code",
      "execution_count": null,
      "metadata": {
        "colab": {
          "base_uri": "https://localhost:8080/"
        },
        "id": "B8wfyEasRQvz",
        "outputId": "76d181d3-3b94-4533-dc2e-3caf95674590"
      },
      "outputs": [
        {
          "output_type": "stream",
          "name": "stdout",
          "text": [
            "Enter number of rows: 2\n",
            "Enter number of columns (rows + 1 for augmented matrix): 3\n",
            "Enter the elements row by row (separated by spaces):\n",
            "Row 1: 2 4 5\n",
            "Row 2: 4 1 2\n",
            "\n",
            "Original Matrix:\n",
            "2.00 4.00 5.00\n",
            "4.00 1.00 2.00\n",
            "\n",
            "Matrix after Gaussian Elimination:\n",
            "1.00 0.00 0.21\n",
            "-0.00 1.00 1.14\n"
          ]
        }
      ],
      "source": [
        "def gaussian_elimination(matrix):\n",
        "    rows = len(matrix)\n",
        "    cols = len(matrix[0])\n",
        "\n",
        "    # Forward elimination\n",
        "    for i in range(rows):\n",
        "        # Find the pivot\n",
        "        if matrix[i][i] == 0:\n",
        "            # Find a row below to swap with\n",
        "            for k in range(i + 1, rows):\n",
        "                if matrix[k][i] != 0:\n",
        "                    matrix[i], matrix[k] = matrix[k], matrix[i]\n",
        "                    break\n",
        "\n",
        "        # Make the diagonal element 1 and eliminate the column below\n",
        "        pivot = matrix[i][i]\n",
        "        if pivot != 0:\n",
        "            matrix[i] = [element / pivot for element in matrix[i]]\n",
        "\n",
        "        for j in range(i + 1, rows):\n",
        "            ratio = matrix[j][i]\n",
        "            matrix[j] = [matrix[j][k] - ratio * matrix[i][k] for k in range(cols)]\n",
        "\n",
        "    # Back substitution\n",
        "    for i in range(rows - 1, -1, -1):\n",
        "        for j in range(i - 1, -1, -1):\n",
        "            ratio = matrix[j][i]\n",
        "            matrix[j] = [matrix[j][k] - ratio * matrix[i][k] for k in range(cols)]\n",
        "\n",
        "    return matrix\n",
        "\n",
        "def print_matrix(matrix):\n",
        "    for row in matrix:\n",
        "        print(\" \".join(f\"{elem:.2f}\" for elem in row))\n",
        "\n",
        "def get_matrix_input():\n",
        "    # Get number of rows and columns from user\n",
        "    rows = int(input(\"Enter number of rows: \"))\n",
        "    cols = int(input(\"Enter number of columns (rows + 1 for augmented matrix): \"))\n",
        "\n",
        "    # Initialize the matrix\n",
        "    matrix = []\n",
        "\n",
        "    print(f\"Enter the elements row by row (separated by spaces):\")\n",
        "    for i in range(rows):\n",
        "        row = list(map(float, input(f\"Row {i+1}: \").split()))\n",
        "        if len(row) != cols:\n",
        "            print(f\"Error: Row {i+1} must have {cols} elements!\")\n",
        "            return None\n",
        "        matrix.append(row)\n",
        "\n",
        "    return matrix\n",
        "\n",
        "# Get matrix input from the user\n",
        "matrix = get_matrix_input()\n",
        "\n",
        "if matrix:\n",
        "    print(\"\\nOriginal Matrix:\")\n",
        "    print_matrix(matrix)\n",
        "\n",
        "    # Perform Gaussian elimination\n",
        "    reduced_matrix = gaussian_elimination(matrix)\n",
        "\n",
        "    print(\"\\nMatrix after Gaussian Elimination:\")\n",
        "    print_matrix(reduced_matrix)\n"
      ]
    }
  ]
}