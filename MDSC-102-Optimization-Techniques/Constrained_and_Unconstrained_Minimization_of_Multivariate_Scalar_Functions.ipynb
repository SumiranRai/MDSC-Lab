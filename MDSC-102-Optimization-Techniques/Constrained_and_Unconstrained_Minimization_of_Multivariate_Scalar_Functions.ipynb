{
  "nbformat": 4,
  "nbformat_minor": 0,
  "metadata": {
    "colab": {
      "provenance": [],
      "authorship_tag": "ABX9TyMes4eMhnRUOXXXyZVNNKGn",
      "include_colab_link": true
    },
    "kernelspec": {
      "name": "python3",
      "display_name": "Python 3"
    },
    "language_info": {
      "name": "python"
    }
  },
  "cells": [
    {
      "cell_type": "markdown",
      "metadata": {
        "id": "view-in-github",
        "colab_type": "text"
      },
      "source": [
        "<a href=\"https://colab.research.google.com/github/SumiranRai/MDSC-Lab/blob/main/MDSC-102-Optimization-Techniques/Constrained_and_Unconstrained_Minimization_of_Multivariate_Scalar_Functions.ipynb\" target=\"_parent\"><img src=\"https://colab.research.google.com/assets/colab-badge.svg\" alt=\"Open In Colab\"/></a>"
      ]
    },
    {
      "cell_type": "markdown",
      "source": [
        "# Constrained and Unconstrained Minimization\n",
        "\n",
        "Using 'scipy.optimize.minimize'\n",
        "\n",
        "### 1. Unconstrained Minimization"
      ],
      "metadata": {
        "id": "g4tt0jPZIjGh"
      }
    },
    {
      "cell_type": "code",
      "source": [
        "import numpy as np\n",
        "from scipy.optimize import minimize"
      ],
      "metadata": {
        "id": "AWmaF51uIpLp"
      },
      "execution_count": null,
      "outputs": []
    },
    {
      "cell_type": "markdown",
      "source": [
        "### Multivariate Funciton"
      ],
      "metadata": {
        "id": "AY-KRnSzI1Io"
      }
    },
    {
      "cell_type": "code",
      "source": [
        "# Defining a Multivariate function (x, y)"
      ],
      "metadata": {
        "id": "gmtr-Ji7Ix6B"
      },
      "execution_count": null,
      "outputs": []
    },
    {
      "cell_type": "code",
      "source": [
        "def f(xy):\n",
        "  x, y = xy\n",
        "  print(x, y)\n",
        "  return (x-1)**2 + (y-2)**2"
      ],
      "metadata": {
        "id": "MpekZyTjI7GY"
      },
      "execution_count": null,
      "outputs": []
    },
    {
      "cell_type": "code",
      "source": [
        "result = minimize(f, [0, 0], method = \"BFGS\")\n",
        "print(\"Optimization Result: \")\n",
        "print(result)"
      ],
      "metadata": {
        "colab": {
          "base_uri": "https://localhost:8080/"
        },
        "id": "cLJe9onHKjRr",
        "outputId": "e676719a-dd73-4e5a-ffb5-7554f8cdf81d"
      },
      "execution_count": null,
      "outputs": [
        {
          "output_type": "stream",
          "name": "stdout",
          "text": [
            "0.0 0.0\n",
            "1.4901161193847656e-08 0.0\n",
            "0.0 1.4901161193847656e-08\n",
            "0.45168573145495755 0.9033714629099151\n",
            "0.45168574635611874 0.9033714629099151\n",
            "0.45168573145495755 0.9033714778110763\n",
            "0.9999999941591433 1.9999999883182862\n",
            "1.0000000090603045 1.9999999883182862\n",
            "0.9999999941591433 2.0000000032194474\n",
            "Optimization Result: \n",
            "  message: Optimization terminated successfully.\n",
            "  success: True\n",
            "   status: 0\n",
            "      fun: 1.705780445775116e-16\n",
            "        x: [ 1.000e+00  2.000e+00]\n",
            "      nit: 2\n",
            "      jac: [ 3.219e-09 -8.462e-09]\n",
            " hess_inv: [[ 9.000e-01 -2.000e-01]\n",
            "            [-2.000e-01  6.000e-01]]\n",
            "     nfev: 9\n",
            "     njev: 3\n"
          ]
        }
      ]
    }
  ]
}