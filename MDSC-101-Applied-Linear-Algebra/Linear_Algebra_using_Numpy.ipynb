{
  "cells": [
    {
      "cell_type": "markdown",
      "metadata": {
        "id": "view-in-github",
        "colab_type": "text"
      },
      "source": [
        "<a href=\"https://colab.research.google.com/github/SumiranRai/MDSC-Lab/blob/main/MDSC-101-Applied-Linear-Algebra/Linear_Algebra_using_Numpy.ipynb\" target=\"_parent\"><img src=\"https://colab.research.google.com/assets/colab-badge.svg\" alt=\"Open In Colab\"/></a>"
      ]
    },
    {
      "cell_type": "markdown",
      "metadata": {
        "id": "3e6lLBXYb9PN"
      },
      "source": [
        "# Calculating Eigenvalues, Eigenvectors, SVD  & Matrix Exponential using Numpy"
      ]
    },
    {
      "cell_type": "code",
      "execution_count": 2,
      "metadata": {
        "id": "pnM2KFwQcs9q"
      },
      "outputs": [],
      "source": [
        "import numpy as np"
      ]
    },
    {
      "cell_type": "code",
      "execution_count": 3,
      "metadata": {
        "id": "lRBqJxqSdUnu"
      },
      "outputs": [],
      "source": [
        "def get_matrix_input():\n",
        "    rows = int(input(\"Enter the number of rows: \"))\n",
        "    cols = int(input(\"Enter the number of columns: \"))\n",
        "    matrix = []\n",
        "\n",
        "    print(f\"Enter the elements row by row (separated by spaces):\")\n",
        "    for i in range(rows):\n",
        "        row = list(map(float, input(f\"Row {i+1}: \").split()))\n",
        "        if len(row) != cols:\n",
        "            print(f\"Error: Row {i+1} must have {cols} elements!\")\n",
        "            return None\n",
        "        matrix.append(row)\n",
        "\n",
        "    return np.array(matrix)"
      ]
    },
    {
      "cell_type": "markdown",
      "metadata": {
        "id": "gZkao9PFe0B7"
      },
      "source": [
        "Eigenvalues & Eigenvectors"
      ]
    },
    {
      "cell_type": "code",
      "execution_count": 4,
      "metadata": {
        "id": "MTtcSDZCdZ8s"
      },
      "outputs": [],
      "source": [
        "def calculate_eigen(matrix):\n",
        "    eigenvalues, eigenvectors = np.linalg.eig(matrix)\n",
        "    print(\"\\nEigenvalues:\")\n",
        "    print(eigenvalues)\n",
        "    print(\"\\nEigenvectors:\")\n",
        "    print(eigenvectors)"
      ]
    },
    {
      "cell_type": "markdown",
      "metadata": {
        "id": "VyAEQBJye4JR"
      },
      "source": [
        "Single Value Decomposition (SVD)"
      ]
    },
    {
      "cell_type": "code",
      "execution_count": 5,
      "metadata": {
        "id": "IAz4_VjQdfnG"
      },
      "outputs": [],
      "source": [
        "def calculate_svd(matrix):\n",
        "    U, S, Vt = np.linalg.svd(matrix)\n",
        "    print(\"\\nSingular Value Decomposition:\")\n",
        "    print(\"U matrix:\")\n",
        "    print(U)\n",
        "    print(\"\\nSingular values:\")\n",
        "    print(S)\n",
        "    print(\"\\nV transpose matrix:\")\n",
        "    print(Vt)\n"
      ]
    },
    {
      "cell_type": "markdown",
      "metadata": {
        "id": "9_rjiRiae9v5"
      },
      "source": [
        "Matrix Exponential"
      ]
    },
    {
      "cell_type": "code",
      "execution_count": 6,
      "metadata": {
        "id": "HP7IuKfxdtET"
      },
      "outputs": [],
      "source": [
        "from scipy.linalg import expm"
      ]
    },
    {
      "cell_type": "code",
      "execution_count": 7,
      "metadata": {
        "id": "W4zrVE52di5I"
      },
      "outputs": [],
      "source": [
        "def calculate_matrix_exponential(matrix):\n",
        "    matrix_exp = expm(matrix)\n",
        "    print(\"\\nMatrix Exponential:\")\n",
        "    print(matrix_exp)"
      ]
    },
    {
      "cell_type": "markdown",
      "metadata": {
        "id": "_Uq_xOpsfGxR"
      },
      "source": [
        "Main Function"
      ]
    },
    {
      "cell_type": "code",
      "execution_count": 8,
      "metadata": {
        "id": "aChMn455dp0V"
      },
      "outputs": [],
      "source": [
        "def main():\n",
        "    # Get matrix from user\n",
        "    matrix = get_matrix_input()\n",
        "    if matrix is None:\n",
        "        return\n",
        "\n",
        "    print(\"\\nOriginal Matrix:\")\n",
        "    print(matrix)\n",
        "\n",
        "    # Perform Eigenvalue and Eigenvector calculation\n",
        "    calculate_eigen(matrix)\n",
        "\n",
        "    # Perform Singular Value Decomposition (SVD)\n",
        "    calculate_svd(matrix)\n",
        "\n",
        "    # Perform Matrix Exponential\n",
        "    if matrix.shape[0] == matrix.shape[1]:\n",
        "        calculate_matrix_exponential(matrix)\n",
        "    else:\n",
        "        print(\"\\nMatrix Exponential is not defined for non-square matrices.\")"
      ]
    },
    {
      "cell_type": "code",
      "execution_count": 9,
      "metadata": {
        "colab": {
          "base_uri": "https://localhost:8080/"
        },
        "id": "rh6dh-bnd8a9",
        "outputId": "8eb3b50e-44fc-44aa-f9e7-08ca4a36c42e"
      },
      "outputs": [
        {
          "output_type": "stream",
          "name": "stdout",
          "text": [
            "Enter the number of rows: 2\n",
            "Enter the number of columns: 2\n",
            "Enter the elements row by row (separated by spaces):\n",
            "Row 1: 10 17\n",
            "Row 2: 24 87\n",
            "\n",
            "Original Matrix:\n",
            "[[10. 17.]\n",
            " [24. 87.]]\n",
            "\n",
            "Eigenvalues:\n",
            "[ 5.02299458 91.97700542]\n",
            "\n",
            "Eigenvectors:\n",
            "[[-0.95971616 -0.20305504]\n",
            " [ 0.28097133 -0.97916732]]\n",
            "\n",
            "Singular Value Decomposition:\n",
            "U matrix:\n",
            "[[-0.20711146 -0.97831735]\n",
            " [-0.97831735  0.20711146]]\n",
            "\n",
            "Singular values:\n",
            "[92.24378164  5.00846769]\n",
            "\n",
            "V transpose matrix:\n",
            "[[-0.27699137 -0.96087241]\n",
            " [-0.96087241  0.27699137]]\n",
            "\n",
            "Matrix Exponential:\n",
            "[[5.04410837e+38 1.72292041e+39]\n",
            " [2.43235823e+39 8.30822683e+39]]\n"
          ]
        }
      ],
      "source": [
        "# Run the default matrix operations\n",
        "main()"
      ]
    },
    {
      "cell_type": "markdown",
      "metadata": {
        "id": "v3tX4NYbfTBZ"
      },
      "source": [
        "# Linear Regression"
      ]
    },
    {
      "cell_type": "code",
      "execution_count": 11,
      "metadata": {
        "colab": {
          "base_uri": "https://localhost:8080/"
        },
        "id": "B6c3iSDYR3kw",
        "outputId": "49cee264-0cf5-4eb5-e6d6-87b4c926d958"
      },
      "outputs": [
        {
          "output_type": "stream",
          "name": "stdout",
          "text": [
            "\n",
            "--- Linear Regression Module ---\n",
            "Enter the number of rows: 2\n",
            "Enter the number of columns: 2\n",
            "Enter the elements row by row (separated by spaces):\n",
            "Row 1: 12 44\n",
            "Row 2: 32 87\n",
            "\n",
            "Enter the vector for Linear Regression (space separated):\n",
            "23 84\n",
            "\n",
            "Linear Regression Coefficients (intercept and slope):\n",
            "[-134.        4.6875   -1.375 ]\n"
          ]
        }
      ],
      "source": [
        "def get_vector_input():\n",
        "    print(\"\\nEnter the vector for Linear Regression (space separated):\")\n",
        "    try:\n",
        "        return np.array(list(map(float, input().split())))\n",
        "    except ValueError:\n",
        "        print(\"Invalid input. Please enter numeric values.\")\n",
        "        return None\n",
        "\n",
        "def perform_linear_regression(X, y):\n",
        "    if X is None or y is None:\n",
        "        print(\"\\nError: X or y is None!\")\n",
        "        return\n",
        "\n",
        "    if len(X) != len(y):\n",
        "        print(\"\\nError: The number of rows in X and elements in y must be the same!\")\n",
        "        return\n",
        "\n",
        "    # Add a column of ones for the intercept term (X becomes 2D)\n",
        "    X_b = np.c_[np.ones((len(X), 1)), X]  # Add intercept term\n",
        "\n",
        "    try:\n",
        "        # Compute the best-fit coefficients using the normal equation\n",
        "        theta_best = np.linalg.inv(X_b.T.dot(X_b)).dot(X_b.T).dot(y)\n",
        "        print(\"\\nLinear Regression Coefficients (intercept and slope):\")\n",
        "        print(theta_best)\n",
        "    except np.linalg.LinAlgError:\n",
        "        print(\"\\nError: Matrix inversion failed. Check if X'X is invertible.\")\n",
        "\n",
        "def linear_regression_module():\n",
        "    print(\"\\n--- Linear Regression Module ---\")\n",
        "\n",
        "    # Get feature matrix (X) and target vector (y) from the user\n",
        "    X = get_matrix_input()  # Assuming this function is defined elsewhere\n",
        "    if X is None:\n",
        "        return\n",
        "\n",
        "    y = get_vector_input()\n",
        "    if y is None:\n",
        "        return\n",
        "\n",
        "    perform_linear_regression(X, y)\n",
        "\n",
        "linear_regression_module()"
      ]
    }
  ],
  "metadata": {
    "colab": {
      "provenance": [],
      "authorship_tag": "ABX9TyMqQmtJa2d6DIBdKxxALHvH",
      "include_colab_link": true
    },
    "kernelspec": {
      "display_name": "Python 3",
      "name": "python3"
    },
    "language_info": {
      "name": "python"
    }
  },
  "nbformat": 4,
  "nbformat_minor": 0
}