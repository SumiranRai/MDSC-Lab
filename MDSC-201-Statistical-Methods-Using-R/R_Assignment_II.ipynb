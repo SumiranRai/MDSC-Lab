{
  "nbformat": 4,
  "nbformat_minor": 0,
  "metadata": {
    "colab": {
      "provenance": [],
      "authorship_tag": "ABX9TyPl3zI40BebJxlVr7gyFSqP",
      "include_colab_link": true
    },
    "kernelspec": {
      "name": "ir",
      "display_name": "R"
    },
    "language_info": {
      "name": "R"
    }
  },
  "cells": [
    {
      "cell_type": "markdown",
      "metadata": {
        "id": "view-in-github",
        "colab_type": "text"
      },
      "source": [
        "<a href=\"https://colab.research.google.com/github/SumiranRai/MDSC-Lab/blob/main/MDSC-201-Statistical-Methods-Using-R/R_Assignment_II.ipynb\" target=\"_parent\"><img src=\"https://colab.research.google.com/assets/colab-badge.svg\" alt=\"Open In Colab\"/></a>"
      ]
    },
    {
      "cell_type": "markdown",
      "source": [
        "R Programming Assignment II\n",
        "\n",
        "By Sumiran Rai\n",
        "\n",
        "Roll No: 24040208007\n",
        "\n",
        "#R Basics"
      ],
      "metadata": {
        "id": "NgxL_8F8Cg_6"
      }
    },
    {
      "cell_type": "markdown",
      "source": [
        "In R, numeric literals like 8 are treated as type double by default, not integer.\n",
        "To explicitly declare an integer, append L to the number, e.g., 8L."
      ],
      "metadata": {
        "id": "VrbD3nqfAzt0"
      }
    },
    {
      "cell_type": "code",
      "source": [
        "# Assign a value to a variable and check its type\n",
        "x <- 8\n",
        "#x <- 8L\n",
        "if (is.integer(x)) {  # Checks if 'x' is an integer\n",
        "  print(\"x is an Integer\")\n",
        "} else {\n",
        "  print(\"x is not an Integer\")  # Added an else statement for clarity\n",
        "}"
      ],
      "metadata": {
        "colab": {
          "base_uri": "https://localhost:8080/"
        },
        "id": "W99sS0lzANzO",
        "outputId": "942935e4-a7c4-4567-ced4-61b3ec52769b"
      },
      "execution_count": 33,
      "outputs": [
        {
          "output_type": "stream",
          "name": "stdout",
          "text": [
            "[1] \"x is not an Integer\"\n"
          ]
        }
      ]
    },
    {
      "cell_type": "code",
      "source": [
        "# Basic conditional statement\n",
        "if (2 > 0) {  # Always true since 2 is greater than 0\n",
        "  print(\"This statement is true\")\n",
        "}"
      ],
      "metadata": {
        "colab": {
          "base_uri": "https://localhost:8080/"
        },
        "id": "vmunet9lAX75",
        "outputId": "8a6b30d1-f347-4d7f-c1e5-2bc2e01d42d6"
      },
      "execution_count": 4,
      "outputs": [
        {
          "output_type": "stream",
          "name": "stdout",
          "text": [
            "[1] \"This statement is true\"\n"
          ]
        }
      ]
    },
    {
      "cell_type": "code",
      "source": [
        "# Check if an element exists in a vector (case-sensitive)\n",
        "x <- c(\"what\", \"is\", \"truth\")\n",
        "if (\"Truth\" %in% x) {  # Case-sensitive, \"Truth\" is not in 'x'\n",
        "  print(\"Truth is found\")\n",
        "} else {\n",
        "  print(\"Truth is not found\")\n",
        "}"
      ],
      "metadata": {
        "colab": {
          "base_uri": "https://localhost:8080/"
        },
        "id": "XkJkrcCMA6cw",
        "outputId": "fd05f4d1-a9c6-4aa9-b0cd-dffb1144e900"
      },
      "execution_count": 8,
      "outputs": [
        {
          "output_type": "stream",
          "name": "stdout",
          "text": [
            "[1] \"Truth is not found\"\n"
          ]
        }
      ]
    },
    {
      "cell_type": "code",
      "source": [
        "# Nested conditional checks for vector elements\n",
        "x <- c(\"what\", \"is\", \"truth\")\n",
        "if (\"Truth\" %in% x) {\n",
        "  print(\"Truth is found the first time\")\n",
        "} else if (\"truth\" %in% x) {  # Correct case, so this condition is true\n",
        "  print(\"truth is found the second time\")\n",
        "} else {\n",
        "  print(\"No truth found\")\n",
        "}"
      ],
      "metadata": {
        "colab": {
          "base_uri": "https://localhost:8080/"
        },
        "id": "fAbMHaoTA61K",
        "outputId": "7896c024-9b26-415f-dccb-5dccb0c9222f"
      },
      "execution_count": 9,
      "outputs": [
        {
          "output_type": "stream",
          "name": "stdout",
          "text": [
            "[1] \"truth is found the second time\"\n"
          ]
        }
      ]
    },
    {
      "cell_type": "code",
      "source": [
        "# While loop example: Print numbers from 1 to 3\n",
        "i <- 1\n",
        "while (i <= 3) {\n",
        "  print(i)  # Print the current value of 'i'\n",
        "  i <- i + 1  # Increment 'i'\n",
        "}"
      ],
      "metadata": {
        "colab": {
          "base_uri": "https://localhost:8080/"
        },
        "id": "evXG_lEWBLOs",
        "outputId": "99f2a414-bd73-4964-d076-9d3b354ea85a"
      },
      "execution_count": 10,
      "outputs": [
        {
          "output_type": "stream",
          "name": "stdout",
          "text": [
            "[1] 1\n",
            "[1] 2\n",
            "[1] 3\n"
          ]
        }
      ]
    },
    {
      "cell_type": "code",
      "source": [
        "# Repeat loop example: Print a vector 5 times\n",
        "v <- c(\"Hello\", \"loop\")\n",
        "count <- 1\n",
        "repeat {\n",
        "  print(v)  # Print the vector\n",
        "  count <- count + 1\n",
        "  if (count > 5) {  # Break after printing 5 times\n",
        "    break\n",
        "  }\n",
        "}"
      ],
      "metadata": {
        "colab": {
          "base_uri": "https://localhost:8080/"
        },
        "id": "3TJCIwSVBMYA",
        "outputId": "6c6d91e6-9496-47c9-92d4-69daea499d9b"
      },
      "execution_count": 11,
      "outputs": [
        {
          "output_type": "stream",
          "name": "stdout",
          "text": [
            "[1] \"Hello\" \"loop\" \n",
            "[1] \"Hello\" \"loop\" \n",
            "[1] \"Hello\" \"loop\" \n",
            "[1] \"Hello\" \"loop\" \n",
            "[1] \"Hello\" \"loop\" \n"
          ]
        }
      ]
    },
    {
      "cell_type": "code",
      "source": [
        "# For loop: Iterating over a character vector\n",
        "v <- LETTERS[1:4]  # A vector of first four uppercase letters\n",
        "for (i in v) {\n",
        "  print(i)  # Print each letter\n",
        "}"
      ],
      "metadata": {
        "colab": {
          "base_uri": "https://localhost:8080/"
        },
        "id": "TZ58gu8-BQaq",
        "outputId": "d0f728a7-e73b-476e-a7c5-fdd88dca70dd"
      },
      "execution_count": 12,
      "outputs": [
        {
          "output_type": "stream",
          "name": "stdout",
          "text": [
            "[1] \"A\"\n",
            "[1] \"B\"\n",
            "[1] \"C\"\n",
            "[1] \"D\"\n"
          ]
        }
      ]
    },
    {
      "cell_type": "code",
      "source": [
        "# For loop with a break statement\n",
        "for (i in 1:10) {\n",
        "  if (i == 5) {  # Stop the loop when 'i' equals 5\n",
        "    break\n",
        "  }\n",
        "  print(i)\n",
        "}"
      ],
      "metadata": {
        "colab": {
          "base_uri": "https://localhost:8080/"
        },
        "id": "68m_Bg97BU9D",
        "outputId": "47d75253-bdb5-40d2-c9f6-49728f33283b"
      },
      "execution_count": 13,
      "outputs": [
        {
          "output_type": "stream",
          "name": "stdout",
          "text": [
            "[1] 1\n",
            "[1] 2\n",
            "[1] 3\n",
            "[1] 4\n"
          ]
        }
      ]
    },
    {
      "cell_type": "code",
      "source": [
        "# For loop with a next statement (skips iteration when condition is met)\n",
        "v <- LETTERS[1:6]  # First six uppercase letters\n",
        "for (i in v) {\n",
        "  if (i == \"D\") {  # Skip \"D\"\n",
        "    next\n",
        "  }\n",
        "  print(i)\n",
        "}"
      ],
      "metadata": {
        "colab": {
          "base_uri": "https://localhost:8080/"
        },
        "id": "SeOLt0sQBX2V",
        "outputId": "45b31182-e671-40a6-d32e-c66b88e2b57c"
      },
      "execution_count": 14,
      "outputs": [
        {
          "output_type": "stream",
          "name": "stdout",
          "text": [
            "[1] \"A\"\n",
            "[1] \"B\"\n",
            "[1] \"C\"\n",
            "[1] \"E\"\n",
            "[1] \"F\"\n"
          ]
        }
      ]
    },
    {
      "cell_type": "code",
      "source": [
        "# If-else ladder example\n",
        "x <- 20\n",
        "if (x < 20) {\n",
        "  print(\"x is less than 20\")\n",
        "} else if (x > 20) {\n",
        "  print(\"x is greater than 20\")\n",
        "} else {\n",
        "  print(\"x is equal to 20\")\n",
        "}"
      ],
      "metadata": {
        "colab": {
          "base_uri": "https://localhost:8080/"
        },
        "id": "qCQBrwJSBa99",
        "outputId": "115fa808-e655-4c02-fa1e-82c73288b83f"
      },
      "execution_count": 15,
      "outputs": [
        {
          "output_type": "stream",
          "name": "stdout",
          "text": [
            "[1] \"x is equal to 20\"\n"
          ]
        }
      ]
    },
    {
      "cell_type": "code",
      "source": [
        "# Looping through a list of employee names\n",
        "employees <- list(\"Ayush\", \"Ram\", \"Guru\")\n",
        "for (employee in employees) {\n",
        "  print(employee)  # Print each employee's name\n",
        "}"
      ],
      "metadata": {
        "colab": {
          "base_uri": "https://localhost:8080/"
        },
        "id": "JzMQFfTHBesM",
        "outputId": "b2550295-98f1-4899-c244-5d753f84cb9d"
      },
      "execution_count": 16,
      "outputs": [
        {
          "output_type": "stream",
          "name": "stdout",
          "text": [
            "[1] \"Ayush\"\n",
            "[1] \"Ram\"\n",
            "[1] \"Guru\"\n"
          ]
        }
      ]
    },
    {
      "cell_type": "code",
      "source": [
        "# Generate a sequence of numbers\n",
        "print(seq(12, 21))  # Generates numbers from 12 to 21"
      ],
      "metadata": {
        "colab": {
          "base_uri": "https://localhost:8080/"
        },
        "id": "AFxVieqoBjF9",
        "outputId": "f6f87a7e-ff4b-4d64-eb75-9a95131c6894"
      },
      "execution_count": 17,
      "outputs": [
        {
          "output_type": "stream",
          "name": "stdout",
          "text": [
            " [1] 12 13 14 15 16 17 18 19 20 21\n"
          ]
        }
      ]
    },
    {
      "cell_type": "code",
      "source": [
        "# Calculate the mean of numbers from 25 to 82\n",
        "print(mean(25:82))  # Mean of numbers from 25 to 82"
      ],
      "metadata": {
        "colab": {
          "base_uri": "https://localhost:8080/"
        },
        "id": "S4433Bn5BmYM",
        "outputId": "af555d19-9587-4297-e350-84422ccd65f2"
      },
      "execution_count": 18,
      "outputs": [
        {
          "output_type": "stream",
          "name": "stdout",
          "text": [
            "[1] 53.5\n"
          ]
        }
      ]
    },
    {
      "cell_type": "code",
      "source": [
        "# Calculate the sum of numbers from 1 to 20\n",
        "print(sum(1:20))  # Sum of numbers from 1 to 20"
      ],
      "metadata": {
        "colab": {
          "base_uri": "https://localhost:8080/"
        },
        "id": "x3_2QltdBpRI",
        "outputId": "4e489735-fb00-4b87-ee14-774b66e61c17"
      },
      "execution_count": 19,
      "outputs": [
        {
          "output_type": "stream",
          "name": "stdout",
          "text": [
            "[1] 210\n"
          ]
        }
      ]
    },
    {
      "cell_type": "code",
      "source": [
        "# Function to print squares of numbers up to a given value\n",
        "Square <- function(n) {\n",
        "  for (i in 1:n) {\n",
        "    print(i^2)  # Print the square of 'i'\n",
        "  }\n",
        "}\n",
        "Square(5)  # Call function with an argument"
      ],
      "metadata": {
        "colab": {
          "base_uri": "https://localhost:8080/"
        },
        "id": "hDWQACNPBrtQ",
        "outputId": "e776e74d-2969-450e-80ec-e901756a876b"
      },
      "execution_count": 20,
      "outputs": [
        {
          "output_type": "stream",
          "name": "stdout",
          "text": [
            "[1] 1\n",
            "[1] 4\n",
            "[1] 9\n",
            "[1] 16\n",
            "[1] 25\n"
          ]
        }
      ]
    },
    {
      "cell_type": "code",
      "source": [
        "# Function with default arguments\n",
        "default <- function(a = 3, b = 6) {\n",
        "  z <- a * b\n",
        "  print(z)  # Print the product of 'a' and 'b'\n",
        "}\n",
        "default()  # Uses default values\n",
        "default(5, 7)  # Overrides default values"
      ],
      "metadata": {
        "colab": {
          "base_uri": "https://localhost:8080/"
        },
        "id": "NsZgSYgOBu1T",
        "outputId": "a6f1e72d-24f5-4544-f6f8-10ecf1695996"
      },
      "execution_count": 21,
      "outputs": [
        {
          "output_type": "stream",
          "name": "stdout",
          "text": [
            "[1] 18\n",
            "[1] 35\n"
          ]
        }
      ]
    },
    {
      "cell_type": "code",
      "source": [
        "# Lazy Evaluation\n",
        "new <- function(a, b) {\n",
        "  print(a^2)  # Uses a\n",
        "  print(a)    # Uses a again\n",
        "  print(b)    # Evaluates b only when needed\n",
        "}\n",
        "new(2)  # b is missing but not used"
      ],
      "metadata": {
        "colab": {
          "base_uri": "https://localhost:8080/",
          "height": 280
        },
        "id": "6Lmzmg-pCzuc",
        "outputId": "c0079bbd-fac8-451f-f8ca-becaf75dacc6"
      },
      "execution_count": 27,
      "outputs": [
        {
          "output_type": "stream",
          "name": "stdout",
          "text": [
            "[1] 4\n",
            "[1] 2\n"
          ]
        },
        {
          "output_type": "error",
          "ename": "ERROR",
          "evalue": "Error in new(2): argument \"b\" is missing, with no default\n",
          "traceback": [
            "Error in new(2): argument \"b\" is missing, with no default\nTraceback:\n",
            "1. print(b)",
            "2. .handleSimpleError(function (cnd) \n . {\n .     watcher$capture_plot_and_output()\n .     cnd <- sanitize_call(cnd)\n .     watcher$push(cnd)\n .     switch(on_error, continue = invokeRestart(\"eval_continue\"), \n .         stop = invokeRestart(\"eval_stop\"), error = NULL)\n . }, \"argument \\\"b\\\" is missing, with no default\", base::quote(new(2)))"
          ]
        }
      ]
    },
    {
      "cell_type": "code",
      "source": [
        "#Strings in R\n",
        "a <- 'Start and end with single quote'\n",
        "b <- \"Start and end with double quotes\"\n",
        "c <- \"Single quote ' in between double quotes\"\n",
        "d <- 'Double quotes \" in between single quotes'\n",
        "print(a)\n",
        "print(b)\n",
        "print(c)\n",
        "print(d)"
      ],
      "metadata": {
        "colab": {
          "base_uri": "https://localhost:8080/"
        },
        "id": "rnfK1PISC-X7",
        "outputId": "57b46b1c-ee57-475d-e2e9-139c9447f733"
      },
      "execution_count": 28,
      "outputs": [
        {
          "output_type": "stream",
          "name": "stdout",
          "text": [
            "[1] \"Start and end with single quote\"\n",
            "[1] \"Start and end with double quotes\"\n",
            "[1] \"Single quote ' in between double quotes\"\n",
            "[1] \"Double quotes \\\" in between single quotes\"\n"
          ]
        }
      ]
    },
    {
      "cell_type": "code",
      "source": [
        "# String manipulations\n",
        "a <- \"Hello\"\n",
        "b <- \"How\"\n",
        "c <- \"are you?\"\n",
        "\n",
        "# Concatenate strings with default separator (space)\n",
        "print(paste(a, b, c))  # Outputs: \"Hello How are you?\"\n",
        "\n",
        "# Concatenate strings with a custom separator\n",
        "print(paste(a, b, c, sep = \"-\"))  # Outputs: \"Hello-How-are you?\"\n",
        "\n",
        "# Collapsing strings into one\n",
        "print(paste(a, b, c, sep = \"\", collapse = \"\"))  # \"HelloHoware you?\""
      ],
      "metadata": {
        "colab": {
          "base_uri": "https://localhost:8080/"
        },
        "id": "2lEGHsFEByIn",
        "outputId": "489b2683-7f21-4963-fe6b-d7eaa90e001d"
      },
      "execution_count": 29,
      "outputs": [
        {
          "output_type": "stream",
          "name": "stdout",
          "text": [
            "[1] \"Hello How are you?\"\n",
            "[1] \"Hello-How-are you?\"\n",
            "[1] \"HelloHoware you?\"\n"
          ]
        }
      ]
    },
    {
      "cell_type": "code",
      "source": [
        "# String length\n",
        "print(nchar(\"Hello\"))  # Outputs: 5 (length of the string)"
      ],
      "metadata": {
        "colab": {
          "base_uri": "https://localhost:8080/"
        },
        "id": "ZGKDwiynB51g",
        "outputId": "84ac02e2-17db-49f4-e7ab-26e0509b1680"
      },
      "execution_count": 23,
      "outputs": [
        {
          "output_type": "stream",
          "name": "stdout",
          "text": [
            "[1] 5\n"
          ]
        }
      ]
    },
    {
      "cell_type": "code",
      "source": [
        "# Convert string to uppercase\n",
        "print(toupper(\"hello\"))  # Outputs: \"HELLO\"\n"
      ],
      "metadata": {
        "colab": {
          "base_uri": "https://localhost:8080/"
        },
        "id": "m3I8YWXiB-HG",
        "outputId": "5808f036-f7f7-4589-ee87-494808a39e79"
      },
      "execution_count": 24,
      "outputs": [
        {
          "output_type": "stream",
          "name": "stdout",
          "text": [
            "[1] \"HELLO\"\n"
          ]
        }
      ]
    },
    {
      "cell_type": "code",
      "source": [
        "# Convert string to lowercase\n",
        "print(tolower(\"HELLO\"))  # Outputs: \"hello\""
      ],
      "metadata": {
        "colab": {
          "base_uri": "https://localhost:8080/"
        },
        "id": "29ANnZYTCCKU",
        "outputId": "923c4560-8780-4e75-e4ac-ef724467a574"
      },
      "execution_count": 25,
      "outputs": [
        {
          "output_type": "stream",
          "name": "stdout",
          "text": [
            "[1] \"hello\"\n"
          ]
        }
      ]
    },
    {
      "cell_type": "code",
      "source": [
        "# Extract a substring\n",
        "text <- \"Hello World\"\n",
        "print(substring(text, 1, 5))  # Outputs: \"Hello\""
      ],
      "metadata": {
        "colab": {
          "base_uri": "https://localhost:8080/"
        },
        "id": "RNSxQph2CEmh",
        "outputId": "0231a54a-269f-4fe1-81f6-b13f10a65a53"
      },
      "execution_count": 26,
      "outputs": [
        {
          "output_type": "stream",
          "name": "stdout",
          "text": [
            "[1] \"Hello\"\n"
          ]
        }
      ]
    },
    {
      "cell_type": "markdown",
      "source": [
        "#Charts and Graphs in R"
      ],
      "metadata": {
        "id": "20zowEK9EhLV"
      }
    },
    {
      "cell_type": "markdown",
      "source": [
        "##Pie Chart\n",
        "Create a pie chart using the pie() function:"
      ],
      "metadata": {
        "id": "tzEDc4aUE62q"
      }
    },
    {
      "cell_type": "code",
      "source": [
        "# Example: Pie chart of percentages\n",
        "values <- c(30, 20, 50)  # Data values\n",
        "labels <- c(\"Protein\", \"Fat\", \"Carbohydrates\")  # Labels\n",
        "pie(values, labels = labels, main = \"Nutrient Content in Apple\", col = rainbow(length(values)), radius = 0.8)\n"
      ],
      "metadata": {
        "colab": {
          "base_uri": "https://localhost:8080/",
          "height": 437
        },
        "id": "FFRJ309CCOlJ",
        "outputId": "fc66accc-fb54-44a6-9ed2-66aa80a77918"
      },
      "execution_count": 34,
      "outputs": [
        {
          "output_type": "display_data",
          "data": {
            "text/plain": [
              "Plot with title “Nutrient Content in Apple”"
            ],
            "image/png": "[encoded data removed]"
          },
          "metadata": {
            "image/png": {
              "width": 420,
              "height": 420
            }
          }
        }
      ]
    },
    {
      "cell_type": "markdown",
      "source": [
        "##Bar Chart\n",
        "Create a bar chart using barplot():"
      ],
      "metadata": {
        "id": "3GulcLz4F3Dw"
      }
    },
    {
      "cell_type": "code",
      "source": [
        "# Example: Bar chart with vertical bars\n",
        "values <- c(10000, 20000, 15000, 30000)\n",
        "names <- c(\"Jan\", \"Feb\", \"Mar\", \"Apr\")\n",
        "barplot(values, names.arg = names, col = \"skyblue\", main = \"Monthly Sales in Stores (Rs)\", xlab = \"Month\", ylab = \"Sales\")\n",
        "\n"
      ],
      "metadata": {
        "colab": {
          "base_uri": "https://localhost:8080/",
          "height": 437
        },
        "id": "kvxCH05VFNOI",
        "outputId": "269a367a-8e64-498e-ee4d-17e7d5465ec7"
      },
      "execution_count": 44,
      "outputs": [
        {
          "output_type": "display_data",
          "data": {
            "text/plain": [
              "Plot with title “Monthly Sales in Stores (Rs)”"
            ],
            "image/png": "[encoded data removed]"
          },
          "metadata": {
            "image/png": {
              "width": 420,
              "height": 420
            }
          }
        }
      ]
    },
    {
      "cell_type": "code",
      "source": [
        "# Example: Horizontal bar chart\n",
        "barplot(values, names.arg = names, col = \"lightgreen\", main = \"Horizontal Bar Chart for Monthly Sales in Stores (Rs)\", horiz = TRUE, xlab = \"Sales\")"
      ],
      "metadata": {
        "colab": {
          "base_uri": "https://localhost:8080/",
          "height": 437
        },
        "id": "9kXB-fZWFNk4",
        "outputId": "cf3f157e-8c64-4233-98e3-4644eb731204"
      },
      "execution_count": 45,
      "outputs": [
        {
          "output_type": "display_data",
          "data": {
            "text/plain": [
              "Plot with title “Horizontal Bar Chart for Monthly Sales in Stores (Rs)”"
            ],
            "image/png": "[encoded data removed]"
          },
          "metadata": {
            "image/png": {
              "width": 420,
              "height": 420
            }
          }
        }
      ]
    },
    {
      "cell_type": "markdown",
      "source": [
        "##Boxplot\n",
        "Visualize data distribution with boxplot():"
      ],
      "metadata": {
        "id": "w2OxWzHpGUax"
      }
    },
    {
      "cell_type": "code",
      "source": [
        "# Example: Boxplot for a numeric vector\n",
        "data <- c(7, 8, 9, 10, 6, 7, 8, 12, 14, 7)\n",
        "boxplot(data, main = \"Boxplot Example\", ylab = \"Values\", col = \"orange\", notch = FALSE)\n"
      ],
      "metadata": {
        "colab": {
          "base_uri": "https://localhost:8080/",
          "height": 437
        },
        "id": "Lb4L4z8CFYGB",
        "outputId": "faa022a1-8932-4fcd-88da-2f81343d5fda"
      },
      "execution_count": 49,
      "outputs": [
        {
          "output_type": "display_data",
          "data": {
            "text/plain": [
              "Plot with title “Boxplot Example”"
            ],
            "image/png": "[encoded data removed]"
          },
          "metadata": {
            "image/png": {
              "width": 420,
              "height": 420
            }
          }
        }
      ]
    },
    {
      "cell_type": "code",
      "source": [
        "# Example: Comparing distributions\n",
        "data1 <- c(7, 8, 9, 10, 6, 7)\n",
        "data2 <- c(5, 6, 7, 8, 9, 10)\n",
        "boxplot(data1, data2, names = c(\"Set 1\", \"Set 2\"), main = \"Comparing Distributions\", col = c(\"lightblue\", \"pink\"))"
      ],
      "metadata": {
        "colab": {
          "base_uri": "https://localhost:8080/",
          "height": 437
        },
        "id": "Do1wXy36GGbE",
        "outputId": "ecb5c822-a7e0-4ea0-fb7e-d29a7beeb7da"
      },
      "execution_count": 50,
      "outputs": [
        {
          "output_type": "display_data",
          "data": {
            "text/plain": [
              "Plot with title “Comparing Distributions”"
            ],
            "image/png": "[encoded data removed]"
          },
          "metadata": {
            "image/png": {
              "width": 420,
              "height": 420
            }
          }
        }
      ]
    },
    {
      "cell_type": "markdown",
      "source": [
        "##Histogram\n",
        "Visualize frequency distribution using hist():"
      ],
      "metadata": {
        "id": "gUQANnQoIaVQ"
      }
    },
    {
      "cell_type": "code",
      "source": [
        "# Generate random exam scores for 100 students\n",
        "exam_scores <- rnorm(100, mean = 75, sd = 10)\n",
        "\n",
        "# Create a histogram\n",
        "hist(\n",
        "  exam_scores,\n",
        "  main = \"Distribution of Exam Scores\",  # Title of the histogram\n",
        "  xlab = \"Exam Scores\",  # Label for the x-axis\n",
        "  ylab = \"Number of Students\",  # Label for the y-axis\n",
        "  col = \"skyblue\",  # Bar color\n",
        "  border = \"black\",  # Border color\n",
        "  breaks = breaks  # Set dynamically calculated breaks\n",
        ")"
      ],
      "metadata": {
        "colab": {
          "base_uri": "https://localhost:8080/",
          "height": 437
        },
        "id": "SJbuX6BBGCTZ",
        "outputId": "6c88ca1a-fe21-4fc8-f468-abce8114f706"
      },
      "execution_count": 61,
      "outputs": [
        {
          "output_type": "display_data",
          "data": {
            "text/plain": [
              "Plot with title “Distribution of Exam Scores”"
            ],
            "image/png": "[encoded data removed]"
          },
          "metadata": {
            "image/png": {
              "width": 420,
              "height": 420
            }
          }
        }
      ]
    },
    {
      "cell_type": "markdown",
      "source": [
        "#Line Chart\n",
        "Plot trends using plot():"
      ],
      "metadata": {
        "id": "teUlFwcJIjCv"
      }
    },
    {
      "cell_type": "code",
      "source": [
        "# Example: Line chart for time series data\n",
        "time <- 1:10\n",
        "values <- c(2, 4, 6, 8, 10, 12, 14, 16, 18, 20)\n",
        "plot(time, values, type = \"o\", col = \"blue\", main = \"Line Chart For Time Series Data\", xlab = \"Time\", ylab = \"Values\")\n"
      ],
      "metadata": {
        "colab": {
          "base_uri": "https://localhost:8080/",
          "height": 437
        },
        "id": "MGR9nGO-GqSe",
        "outputId": "1813d94e-0ac5-43cc-bbb0-a584fd94ed50"
      },
      "execution_count": 57,
      "outputs": [
        {
          "output_type": "display_data",
          "data": {
            "text/plain": [
              "Plot with title “Line Chart For Time Series Data”"
            ],
            "image/png": "[encoded data removed]"
          },
          "metadata": {
            "image/png": {
              "width": 420,
              "height": 420
            }
          }
        }
      ]
    },
    {
      "cell_type": "markdown",
      "source": [
        "#Scatterplot\n",
        "Show relationships between two variables using plot():"
      ],
      "metadata": {
        "id": "yUNstKftInZ8"
      }
    },
    {
      "cell_type": "code",
      "source": [
        "# Example: Scatterplot\n",
        "x <- c(1, 2, 3, 4, 5)\n",
        "y <- c(2, 4, 3, 8, 7)\n",
        "plot(x, y, main = \"Scatterplot\", xlab = \"X-Axis\", ylab = \"Y-Axis\", col = \"red\", pch = 16)\n"
      ],
      "metadata": {
        "colab": {
          "base_uri": "https://localhost:8080/",
          "height": 437
        },
        "id": "3fOISwLpHvNj",
        "outputId": "143f5b50-7762-4c1a-8f07-8d5d7bf7965d"
      },
      "execution_count": 59,
      "outputs": [
        {
          "output_type": "display_data",
          "data": {
            "text/plain": [
              "Plot with title “Scatterplot”"
            ],
            "image/png": "[encoded data removed]"
          },
          "metadata": {
            "image/png": {
              "width": 420,
              "height": 420
            }
          }
        }
      ]
    }
  ]
}