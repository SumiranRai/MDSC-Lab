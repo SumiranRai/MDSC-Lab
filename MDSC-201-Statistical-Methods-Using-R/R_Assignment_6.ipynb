{
  "nbformat": 4,
  "nbformat_minor": 0,
  "metadata": {
    "colab": {
      "provenance": [],
      "authorship_tag": "ABX9TyPmSXEAKlvoMhXH49nzuGEb",
      "include_colab_link": true
    },
    "kernelspec": {
      "name": "ir",
      "display_name": "R"
    },
    "language_info": {
      "name": "R"
    }
  },
  "cells": [
    {
      "cell_type": "markdown",
      "metadata": {
        "id": "view-in-github",
        "colab_type": "text"
      },
      "source": [
        "<a href=\"https://colab.research.google.com/github/SumiranRai/MDSC-Lab/blob/main/MDSC-201-Statistical-Methods-Using-R/R_Assignment_6.ipynb\" target=\"_parent\"><img src=\"https://colab.research.google.com/assets/colab-badge.svg\" alt=\"Open In Colab\"/></a>"
      ]
    },
    {
      "cell_type": "markdown",
      "source": [
        "R Programming Assignment VI\n",
        "\n",
        "By Sumiran Rai\n",
        "\n",
        "Roll No: 24040208007"
      ],
      "metadata": {
        "id": "JEVlQ7PHnemX"
      }
    },
    {
      "cell_type": "markdown",
      "source": [
        "# **Breast Cancer Detection Using Linear Regression in R**"
      ],
      "metadata": {
        "id": "YTREHZWkzHCz"
      }
    },
    {
      "cell_type": "markdown",
      "source": [
        "\n",
        "## Wisconsin Diagnostic Breast Cancer (WDBC) Dataset\n",
        "\n",
        "### Overview\n",
        "The WDBC dataset is used for breast cancer classification, distinguishing between malignant (cancerous) and benign (non-cancerous) tumors based on numerical features extracted from digitized images of fine needle aspirates (FNA) of breast masses.\n",
        "\n",
        "### Dataset Details\n",
        "- Samples: 569\n",
        "- Features: 30 numerical + 1 target (`Diagnosis`)\n",
        "- Target Variable:\n",
        "  - Malignant (M) → `1`\n",
        "  - Benign (B) → `0`\n",
        "\n",
        "### Feature Categories\n",
        "Each feature represents a specific property of the cell nuclei and is measured in three variations: Mean, Standard Error (SE), and Worst (Largest Value):\n",
        "\n",
        "1. **Radius** – Mean of distances from the center to points on the perimeter\n",
        "2. **Texture** – Standard deviation of gray-scale values\n",
        "3. **Perimeter** – Perimeter of the tumor\n",
        "4. **Area** – Area of the tumor\n",
        "5. **Smoothness** – Local variation in radius lengths\n",
        "6. **Compactness** – (Perimeter² / Area - 1.0)\n",
        "7. **Concavity** – Severity of concave portions of the contour\n",
        "8. **Concave Points** – Number of concave portions of the contour\n",
        "9. **Symmetry** – Symmetry of the tumor shape\n",
        "10. **Fractal Dimension** – \"Coastline Approximation\" or complexity of the tumor boundary\n",
        "\n",
        "### Class Distribution\n",
        "- **Malignant (1):** 212 (~37.3%)\n",
        "- **Benign (0):** 357 (~62.7%)\n",
        "\n",
        "### Preprocessing Steps\n",
        "✔ **Removed `ID` column**  \n",
        "✔ **Converted `Diagnosis` to binary values (`M = 1`, `B = 0`)**  \n",
        "✔ **Saved the transformed dataset as `transformed_wdbc.csv`**  \n",
        "\n",
        "### Objective\n",
        "The goal is to build a **classification model** to classify breast tumors as **malignant or benign** using logistic regression and evaluate its performance using metrics like **confusion matrix, F1-score, ROC-AUC, and Precision-Recall curve**."
      ],
      "metadata": {
        "id": "44XOfzQcyO9E"
      }
    },
    {
      "cell_type": "markdown",
      "source": [
        "### Pre-processing the Data"
      ],
      "metadata": {
        "id": "uWyUS1VF0zXS"
      }
    },
    {
      "cell_type": "code",
      "source": [
        "# Load necessary libraries\n",
        "install.packages(\"ggplot2\")  # For visualization\n",
        "install.packages(\"pROC\")  # For ROC and AUC\n",
        "install.packages(\"dplyr\")  # For data manipulation\n",
        "install.packages(\"tibble\") # For special table\n",
        "\n",
        "library(ggplot2)\n",
        "library(pROC)\n",
        "library(dplyr)\n",
        "library(tibble)"
      ],
      "metadata": {
        "id": "KXca3Mjmp05e",
        "outputId": "9b2a7ca2-4c08-44fe-818f-984f13df83c1",
        "colab": {
          "base_uri": "https://localhost:8080/"
        }
      },
      "execution_count": 6,
      "outputs": [
        {
          "output_type": "stream",
          "name": "stderr",
          "text": [
            "Installing package into ‘/usr/local/lib/R/site-library’\n",
            "(as ‘lib’ is unspecified)\n",
            "\n",
            "Installing package into ‘/usr/local/lib/R/site-library’\n",
            "(as ‘lib’ is unspecified)\n",
            "\n",
            "Installing package into ‘/usr/local/lib/R/site-library’\n",
            "(as ‘lib’ is unspecified)\n",
            "\n",
            "Installing package into ‘/usr/local/lib/R/site-library’\n",
            "(as ‘lib’ is unspecified)\n",
            "\n",
            "\n",
            "Attaching package: ‘dplyr’\n",
            "\n",
            "\n",
            "The following objects are masked from ‘package:stats’:\n",
            "\n",
            "    filter, lag\n",
            "\n",
            "\n",
            "The following objects are masked from ‘package:base’:\n",
            "\n",
            "    intersect, setdiff, setequal, union\n",
            "\n",
            "\n"
          ]
        }
      ]
    },
    {
      "cell_type": "code",
      "source": [
        "# Load the dataset from GitHub\n",
        "url <- \"https://raw.githubusercontent.com/SumiranRai/MDSC-Lab/main/MDSC-201-Statistical-Methods-Using-R/wdbc.data\"\n",
        "data <- read.csv(url, header = FALSE)"
      ],
      "metadata": {
        "id": "7kx_V9siqHea"
      },
      "execution_count": 7,
      "outputs": []
    },
    {
      "cell_type": "code",
      "source": [
        "# Assign proper column names\n",
        "colnames(data) <- c(\"ID\", \"Diagnosis\", paste0(rep(c(\"radius\", \"texture\", \"perimeter\", \"area\",\n",
        "                                                     \"smoothness\", \"compactness\", \"concavity\",\n",
        "                                                     \"concave_points\", \"symmetry\", \"fractal_dimension\"),\n",
        "                                                   each=3), rep(1:3, 10)))\n"
      ],
      "metadata": {
        "id": "ZC0Vjx8DqQgn"
      },
      "execution_count": 8,
      "outputs": []
    },
    {
      "cell_type": "code",
      "source": [
        "# Convert to tibble for better display\n",
        "data <- as_tibble(data)"
      ],
      "metadata": {
        "id": "XHns36EirNn1"
      },
      "execution_count": 9,
      "outputs": []
    },
    {
      "cell_type": "code",
      "source": [
        "# Print first few rows\n",
        "cat(\"\\nData Preview (First Few Rows):\\n\")\n",
        "print(head(data))"
      ],
      "metadata": {
        "id": "npoKSTq0q0RQ",
        "outputId": "7f8e3af9-e96e-41d4-ee55-7df1e8d16e7c",
        "colab": {
          "base_uri": "https://localhost:8080/"
        }
      },
      "execution_count": 10,
      "outputs": [
        {
          "output_type": "stream",
          "name": "stdout",
          "text": [
            "\n",
            "Data Preview (First Few Rows):\n",
            "\u001b[90m# A tibble: 6 × 32\u001b[39m\n",
            "      ID Diagnosis radius1 radius2 radius3 texture1 texture2 texture3 perimeter1\n",
            "   \u001b[3m\u001b[90m<int>\u001b[39m\u001b[23m \u001b[3m\u001b[90m<chr>\u001b[39m\u001b[23m       \u001b[3m\u001b[90m<dbl>\u001b[39m\u001b[23m   \u001b[3m\u001b[90m<dbl>\u001b[39m\u001b[23m   \u001b[3m\u001b[90m<dbl>\u001b[39m\u001b[23m    \u001b[3m\u001b[90m<dbl>\u001b[39m\u001b[23m    \u001b[3m\u001b[90m<dbl>\u001b[39m\u001b[23m    \u001b[3m\u001b[90m<dbl>\u001b[39m\u001b[23m      \u001b[3m\u001b[90m<dbl>\u001b[39m\u001b[23m\n",
            "\u001b[90m1\u001b[39m 8.42\u001b[90me\u001b[39m5 M            18.0    10.4   123.     \u001b[4m1\u001b[24m001    0.118    0.278      0.300 \n",
            "\u001b[90m2\u001b[39m 8.43\u001b[90me\u001b[39m5 M            20.6    17.8   133.     \u001b[4m1\u001b[24m326    0.084\u001b[4m7\u001b[24m   0.078\u001b[4m6\u001b[24m     0.086\u001b[4m9\u001b[24m\n",
            "\u001b[90m3\u001b[39m 8.43\u001b[90me\u001b[39m7 M            19.7    21.2   130      \u001b[4m1\u001b[24m203    0.110    0.160      0.197 \n",
            "\u001b[90m4\u001b[39m 8.43\u001b[90me\u001b[39m7 M            11.4    20.4    77.6     386.   0.142    0.284      0.241 \n",
            "\u001b[90m5\u001b[39m 8.44\u001b[90me\u001b[39m7 M            20.3    14.3   135.     \u001b[4m1\u001b[24m297    0.100    0.133      0.198 \n",
            "\u001b[90m6\u001b[39m 8.44\u001b[90me\u001b[39m5 M            12.4    15.7    82.6     477.   0.128    0.17       0.158 \n",
            "\u001b[90m# ℹ 23 more variables: perimeter2 <dbl>, perimeter3 <dbl>, area1 <dbl>,\u001b[39m\n",
            "\u001b[90m#   area2 <dbl>, area3 <dbl>, smoothness1 <dbl>, smoothness2 <dbl>,\u001b[39m\n",
            "\u001b[90m#   smoothness3 <dbl>, compactness1 <dbl>, compactness2 <dbl>,\u001b[39m\n",
            "\u001b[90m#   compactness3 <dbl>, concavity1 <dbl>, concavity2 <dbl>, concavity3 <dbl>,\u001b[39m\n",
            "\u001b[90m#   concave_points1 <dbl>, concave_points2 <dbl>, concave_points3 <dbl>,\u001b[39m\n",
            "\u001b[90m#   symmetry1 <dbl>, symmetry2 <dbl>, symmetry3 <dbl>,\u001b[39m\n",
            "\u001b[90m#   fractal_dimension1 <dbl>, fractal_dimension2 <dbl>, …\u001b[39m\n"
          ]
        }
      ]
    },
    {
      "cell_type": "code",
      "source": [
        "# Display column names\n",
        "cat(\"\\nColumn Names:\\n\")\n",
        "print(colnames(data))"
      ],
      "metadata": {
        "id": "OTcc0plDsDJ0",
        "outputId": "05570587-e1b6-4ba1-b036-ebf64e658edd",
        "colab": {
          "base_uri": "https://localhost:8080/"
        }
      },
      "execution_count": 11,
      "outputs": [
        {
          "output_type": "stream",
          "name": "stdout",
          "text": [
            "\n",
            "Column Names:\n",
            " [1] \"ID\"                 \"Diagnosis\"          \"radius1\"           \n",
            " [4] \"radius2\"            \"radius3\"            \"texture1\"          \n",
            " [7] \"texture2\"           \"texture3\"           \"perimeter1\"        \n",
            "[10] \"perimeter2\"         \"perimeter3\"         \"area1\"             \n",
            "[13] \"area2\"              \"area3\"              \"smoothness1\"       \n",
            "[16] \"smoothness2\"        \"smoothness3\"        \"compactness1\"      \n",
            "[19] \"compactness2\"       \"compactness3\"       \"concavity1\"        \n",
            "[22] \"concavity2\"         \"concavity3\"         \"concave_points1\"   \n",
            "[25] \"concave_points2\"    \"concave_points3\"    \"symmetry1\"         \n",
            "[28] \"symmetry2\"          \"symmetry3\"          \"fractal_dimension1\"\n",
            "[31] \"fractal_dimension2\" \"fractal_dimension3\"\n"
          ]
        }
      ]
    },
    {
      "cell_type": "code",
      "source": [
        "# Display shape of the dataset\n",
        "cat(\"\\nShape of Data (Rows, Columns):\\n\")\n",
        "print(dim(data))"
      ],
      "metadata": {
        "id": "fvq91FFDsG54",
        "outputId": "f25ab597-62b2-402f-ca06-22ee16707f52",
        "colab": {
          "base_uri": "https://localhost:8080/"
        }
      },
      "execution_count": 12,
      "outputs": [
        {
          "output_type": "stream",
          "name": "stdout",
          "text": [
            "\n",
            "Shape of Data (Rows, Columns):\n",
            "[1] 569  32\n"
          ]
        }
      ]
    },
    {
      "cell_type": "code",
      "source": [
        "# Display data types\n",
        "cat(\"\\nData Types:\\n\")\n",
        "print(sapply(data, class))"
      ],
      "metadata": {
        "id": "3Hbztvm3sJW2",
        "outputId": "7292314e-cde7-414f-affb-62f41eb51ad8",
        "colab": {
          "base_uri": "https://localhost:8080/"
        }
      },
      "execution_count": 13,
      "outputs": [
        {
          "output_type": "stream",
          "name": "stdout",
          "text": [
            "\n",
            "Data Types:\n",
            "                ID          Diagnosis            radius1            radius2 \n",
            "         \"integer\"        \"character\"          \"numeric\"          \"numeric\" \n",
            "           radius3           texture1           texture2           texture3 \n",
            "         \"numeric\"          \"numeric\"          \"numeric\"          \"numeric\" \n",
            "        perimeter1         perimeter2         perimeter3              area1 \n",
            "         \"numeric\"          \"numeric\"          \"numeric\"          \"numeric\" \n",
            "             area2              area3        smoothness1        smoothness2 \n",
            "         \"numeric\"          \"numeric\"          \"numeric\"          \"numeric\" \n",
            "       smoothness3       compactness1       compactness2       compactness3 \n",
            "         \"numeric\"          \"numeric\"          \"numeric\"          \"numeric\" \n",
            "        concavity1         concavity2         concavity3    concave_points1 \n",
            "         \"numeric\"          \"numeric\"          \"numeric\"          \"numeric\" \n",
            "   concave_points2    concave_points3          symmetry1          symmetry2 \n",
            "         \"numeric\"          \"numeric\"          \"numeric\"          \"numeric\" \n",
            "         symmetry3 fractal_dimension1 fractal_dimension2 fractal_dimension3 \n",
            "         \"numeric\"          \"numeric\"          \"numeric\"          \"numeric\" \n"
          ]
        }
      ]
    },
    {
      "cell_type": "code",
      "source": [
        "# Remove ID column\n",
        "data <- data %>% select(-ID)  # Using dplyr\n",
        "\n",
        "# Display column names\n",
        "cat(\"\\nColumn Names:\\n\")\n",
        "print(colnames(data))"
      ],
      "metadata": {
        "id": "uYtptr4DsUob",
        "outputId": "588fd9b0-159e-4f35-a841-b5ad1aa6bae2",
        "colab": {
          "base_uri": "https://localhost:8080/"
        }
      },
      "execution_count": 14,
      "outputs": [
        {
          "output_type": "stream",
          "name": "stdout",
          "text": [
            "\n",
            "Column Names:\n",
            " [1] \"Diagnosis\"          \"radius1\"            \"radius2\"           \n",
            " [4] \"radius3\"            \"texture1\"           \"texture2\"          \n",
            " [7] \"texture3\"           \"perimeter1\"         \"perimeter2\"        \n",
            "[10] \"perimeter3\"         \"area1\"              \"area2\"             \n",
            "[13] \"area3\"              \"smoothness1\"        \"smoothness2\"       \n",
            "[16] \"smoothness3\"        \"compactness1\"       \"compactness2\"      \n",
            "[19] \"compactness3\"       \"concavity1\"         \"concavity2\"        \n",
            "[22] \"concavity3\"         \"concave_points1\"    \"concave_points2\"   \n",
            "[25] \"concave_points3\"    \"symmetry1\"          \"symmetry2\"         \n",
            "[28] \"symmetry3\"          \"fractal_dimension1\" \"fractal_dimension2\"\n",
            "[31] \"fractal_dimension3\"\n"
          ]
        }
      ]
    },
    {
      "cell_type": "code",
      "source": [
        "# Convert Diagnosis to binary (M = 1, B = 0)\n",
        "data$Diagnosis <- ifelse(data$Diagnosis == \"M\", 1, 0)\n",
        "\n",
        "# Print first few rows\n",
        "cat(\"\\nData Preview (First Few Rows):\\n\")\n",
        "print(head(data))"
      ],
      "metadata": {
        "id": "pb1iiZTMsd9o",
        "outputId": "a0c48507-86f5-47b6-f7f8-d3f31516b966",
        "colab": {
          "base_uri": "https://localhost:8080/"
        }
      },
      "execution_count": 15,
      "outputs": [
        {
          "output_type": "stream",
          "name": "stdout",
          "text": [
            "\n",
            "Data Preview (First Few Rows):\n",
            "\u001b[90m# A tibble: 6 × 31\u001b[39m\n",
            "  Diagnosis radius1 radius2 radius3 texture1 texture2 texture3 perimeter1\n",
            "      \u001b[3m\u001b[90m<dbl>\u001b[39m\u001b[23m   \u001b[3m\u001b[90m<dbl>\u001b[39m\u001b[23m   \u001b[3m\u001b[90m<dbl>\u001b[39m\u001b[23m   \u001b[3m\u001b[90m<dbl>\u001b[39m\u001b[23m    \u001b[3m\u001b[90m<dbl>\u001b[39m\u001b[23m    \u001b[3m\u001b[90m<dbl>\u001b[39m\u001b[23m    \u001b[3m\u001b[90m<dbl>\u001b[39m\u001b[23m      \u001b[3m\u001b[90m<dbl>\u001b[39m\u001b[23m\n",
            "\u001b[90m1\u001b[39m         1    18.0    10.4   123.     \u001b[4m1\u001b[24m001    0.118    0.278      0.300 \n",
            "\u001b[90m2\u001b[39m         1    20.6    17.8   133.     \u001b[4m1\u001b[24m326    0.084\u001b[4m7\u001b[24m   0.078\u001b[4m6\u001b[24m     0.086\u001b[4m9\u001b[24m\n",
            "\u001b[90m3\u001b[39m         1    19.7    21.2   130      \u001b[4m1\u001b[24m203    0.110    0.160      0.197 \n",
            "\u001b[90m4\u001b[39m         1    11.4    20.4    77.6     386.   0.142    0.284      0.241 \n",
            "\u001b[90m5\u001b[39m         1    20.3    14.3   135.     \u001b[4m1\u001b[24m297    0.100    0.133      0.198 \n",
            "\u001b[90m6\u001b[39m         1    12.4    15.7    82.6     477.   0.128    0.17       0.158 \n",
            "\u001b[90m# ℹ 23 more variables: perimeter2 <dbl>, perimeter3 <dbl>, area1 <dbl>,\u001b[39m\n",
            "\u001b[90m#   area2 <dbl>, area3 <dbl>, smoothness1 <dbl>, smoothness2 <dbl>,\u001b[39m\n",
            "\u001b[90m#   smoothness3 <dbl>, compactness1 <dbl>, compactness2 <dbl>,\u001b[39m\n",
            "\u001b[90m#   compactness3 <dbl>, concavity1 <dbl>, concavity2 <dbl>, concavity3 <dbl>,\u001b[39m\n",
            "\u001b[90m#   concave_points1 <dbl>, concave_points2 <dbl>, concave_points3 <dbl>,\u001b[39m\n",
            "\u001b[90m#   symmetry1 <dbl>, symmetry2 <dbl>, symmetry3 <dbl>,\u001b[39m\n",
            "\u001b[90m#   fractal_dimension1 <dbl>, fractal_dimension2 <dbl>, …\u001b[39m\n"
          ]
        }
      ]
    },
    {
      "cell_type": "code",
      "source": [
        "# Save the transformed dataset\n",
        "write.csv(data, \"transformed_wdbc.csv\", row.names = FALSE)"
      ],
      "metadata": {
        "id": "LNdQB6xVtgqI"
      },
      "execution_count": 16,
      "outputs": []
    },
    {
      "cell_type": "markdown",
      "source": [
        "### Training the Logistic Regression Model"
      ],
      "metadata": {
        "id": "afnfBqDK0cQ-"
      }
    },
    {
      "cell_type": "code",
      "source": [
        "# Train-Test Split (70-30)\n",
        "set.seed(7)  # For reproducibility\n",
        "train_idx <- sample(1:nrow(data), size = 0.7 * nrow(data))\n",
        "train_data <- data[train_idx, ]\n",
        "test_data <- data[-train_idx, ]"
      ],
      "metadata": {
        "id": "oS30S_GltqZ2"
      },
      "execution_count": 17,
      "outputs": []
    },
    {
      "cell_type": "code",
      "source": [
        "# Fitting a Linear Regression Model\n",
        "model <- lm(Diagnosis ~ ., data = train_data)"
      ],
      "metadata": {
        "id": "lWYdD2z_ttFH"
      },
      "execution_count": 18,
      "outputs": []
    },
    {
      "cell_type": "code",
      "source": [
        "# Predict probabilities on test data\n",
        "pred_probs <- predict(model, newdata = test_data, type = \"response\")"
      ],
      "metadata": {
        "id": "Kk3HuZYrOUv_"
      },
      "execution_count": 19,
      "outputs": []
    },
    {
      "cell_type": "code",
      "source": [
        "# Convert probabilities to binary predictions\n",
        "pred_labels <- ifelse(pred_probs > 0.5, 1, 0)"
      ],
      "metadata": {
        "id": "rpWbxtfgtwze"
      },
      "execution_count": 20,
      "outputs": []
    },
    {
      "cell_type": "markdown",
      "source": [
        "### Confusion Matrix"
      ],
      "metadata": {
        "id": "jQQOOHGN0Dxl"
      }
    },
    {
      "cell_type": "code",
      "source": [
        "# Confusion Matrix Calculation\n",
        "actual <- test_data$Diagnosis\n",
        "TP <- sum(actual == 1 & pred_labels == 1)\n",
        "TN <- sum(actual == 0 & pred_labels == 0)\n",
        "FP <- sum(actual == 0 & pred_labels == 1)\n",
        "FN <- sum(actual == 1 & pred_labels == 0)\n",
        "\n",
        "conf_matrix <- matrix(c(TN, FP, FN, TP), nrow = 2, byrow = TRUE,\n",
        "                      dimnames = list(\"Actual\" = c(\"0\", \"1\"), \"Predicted\" = c(\"0\", \"1\")))\n",
        "\n",
        "cat(\"\\nConfusion Matrix:\\n\")\n",
        "print(conf_matrix)\n"
      ],
      "metadata": {
        "id": "bBQuZQVbt83C",
        "outputId": "c02af5cd-a33c-4a2f-f0af-5b20dff83f3e",
        "colab": {
          "base_uri": "https://localhost:8080/"
        }
      },
      "execution_count": 21,
      "outputs": [
        {
          "output_type": "stream",
          "name": "stdout",
          "text": [
            "\n",
            "Confusion Matrix:\n",
            "      Predicted\n",
            "Actual   0  1\n",
            "     0 103  1\n",
            "     1   8 59\n"
          ]
        }
      ]
    },
    {
      "cell_type": "code",
      "source": [
        "# Plot Confusion Matrix\n",
        "cm_df <- as.data.frame(as.table(conf_matrix))\n",
        "colnames(cm_df) <- c(\"Actual\", \"Predicted\", \"Count\")\n",
        "\n",
        "ggplot(data = cm_df, aes(x = Predicted, y = Actual, fill = Count)) +\n",
        "  geom_tile(color = \"black\") +\n",
        "  geom_text(aes(label = Count), color = \"black\", size = 6, fontface = \"bold\") +\n",
        "  scale_fill_gradient(low = \"white\", high = \"darkblue\") +\n",
        "  labs(title = \"Confusion Matrix\", x = \"Predicted Label\", y = \"Actual Label\") +\n",
        "  theme_minimal() +\n",
        "  theme(plot.title = element_text(hjust = 0.5, face = \"bold\"))"
      ],
      "metadata": {
        "id": "pyFTnWK_uT2L",
        "outputId": "fe226d7c-6c5e-4c43-9569-52bd5899f0cc",
        "colab": {
          "base_uri": "https://localhost:8080/",
          "height": 437
        }
      },
      "execution_count": 22,
      "outputs": [
        {
          "output_type": "display_data",
          "data": {
            "text/plain": [
              "plot without title"
            ],
            "image/png": "[encoded data removed]"
          },
          "metadata": {
            "image/png": {
              "width": 420,
              "height": 420
            }
          }
        }
      ]
    },
    {
      "cell_type": "markdown",
      "source": [
        "### Performance Evaluation Metrics"
      ],
      "metadata": {
        "id": "swFUPani0NMn"
      }
    },
    {
      "cell_type": "code",
      "source": [
        "# Compute Metrics\n",
        "precision <- TP / (TP + FP)\n",
        "recall <- TP / (TP + FN)\n",
        "f1_score <- 2 * (precision * recall) / (precision + recall)\n",
        "specificity <- TN / (TN + FP)\n",
        "accuracy <- (TP + TN) / (TP + TN + FP + FN)\n",
        "\n",
        "cat(\"\\nPrecision:\", round(precision, 4))\n",
        "cat(\"\\nRecall (Sensitivity):\", round(recall, 4))\n",
        "cat(\"\\nSpecificity:\", round(specificity, 4))\n",
        "cat(\"\\nF1-Score:\", round(f1_score, 4))\n",
        "cat(\"\\nAccuracy:\", round(accuracy, 4))"
      ],
      "metadata": {
        "id": "oK-4Hz1wuREb",
        "outputId": "20bafdc7-8054-42fc-d845-77f137a1b7f2",
        "colab": {
          "base_uri": "https://localhost:8080/"
        }
      },
      "execution_count": 23,
      "outputs": [
        {
          "output_type": "stream",
          "name": "stdout",
          "text": [
            "\n",
            "Precision: 0.9833\n",
            "Recall (Sensitivity): 0.8806\n",
            "Specificity: 0.9904\n",
            "F1-Score: 0.9291\n",
            "Accuracy: 0.9474"
          ]
        }
      ]
    },
    {
      "cell_type": "code",
      "source": [
        "install.packages(\"pROC\")\n",
        "library(pROC)\n",
        "\n",
        "# Compute ROC curve\n",
        "roc_obj <- roc(train_data$Diagnosis, predict(model, train_data, type = \"response\"))\n",
        "\n",
        "# Plot ROC curve\n",
        "plot(roc_obj, col = \"blue\", main = \"ROC Curve for Breast Cancer Classification\")\n",
        "abline(a = 0, b = 1, lty = 2, col = \"red\")  # Diagonal reference line\n"
      ],
      "metadata": {
        "id": "83KwutDRxBkk",
        "outputId": "fa30f391-a30e-485b-bb87-69b9e2958ce1",
        "colab": {
          "base_uri": "https://localhost:8080/",
          "height": 558
        }
      },
      "execution_count": 27,
      "outputs": [
        {
          "output_type": "stream",
          "name": "stderr",
          "text": [
            "Installing package into ‘/usr/local/lib/R/site-library’\n",
            "(as ‘lib’ is unspecified)\n",
            "\n",
            "Setting levels: control = 0, case = 1\n",
            "\n",
            "Setting direction: controls < cases\n",
            "\n"
          ]
        },
        {
          "output_type": "display_data",
          "data": {
            "text/plain": [
              "Plot with title “ROC Curve for Breast Cancer Classification”"
            ],
            "image/png": "[encoded data removed]"
          },
          "metadata": {
            "image/png": {
              "width": 420,
              "height": 420
            }
          }
        }
      ]
    },
    {
      "cell_type": "markdown",
      "source": [
        "### Precision-Recall Curve"
      ],
      "metadata": {
        "id": "ld5KYwcS0ITu"
      }
    },
    {
      "cell_type": "code",
      "source": [
        "# Compute Precision-Recall values\n",
        "precision <- c()\n",
        "recall <- c()\n",
        "thresholds <- seq(0, 1, by = 0.01)\n",
        "\n",
        "for (t in thresholds) {\n",
        "  pred_labels <- ifelse(pred_probs > t, 1, 0)\n",
        "  TP <- sum(actual == 1 & pred_labels == 1)\n",
        "  FP <- sum(actual == 0 & pred_labels == 1)\n",
        "  FN <- sum(actual == 1 & pred_labels == 0)\n",
        "\n",
        "  prec <- TP / (TP + FP)\n",
        "  rec <- TP / (TP + FN)\n",
        "\n",
        "  precision <- c(precision, prec)\n",
        "  recall <- c(recall, rec)\n",
        "}\n",
        "\n",
        "# Convert to DataFrame\n",
        "pr_df <- data.frame(Recall = recall, Precision = precision)\n",
        "\n",
        "# Plot PR Curve\n",
        "ggplot(pr_df, aes(x = Recall, y = Precision)) +\n",
        "  geom_line(color = \"blue\") +\n",
        "  labs(title = \"Precision-Recall Curve\", x = \"Recall\", y = \"Precision\") +\n",
        "  theme_minimal()\n"
      ],
      "metadata": {
        "id": "aBUq5uE-uAQ6",
        "outputId": "9bf2bf6c-ef66-4a47-cabe-dd660a53a7b2",
        "colab": {
          "base_uri": "https://localhost:8080/",
          "height": 437
        }
      },
      "execution_count": 24,
      "outputs": [
        {
          "output_type": "display_data",
          "data": {
            "text/plain": [
              "plot without title"
            ],
            "image/png": "[encoded data removed]"
          },
          "metadata": {
            "image/png": {
              "width": 420,
              "height": 420
            }
          }
        }
      ]
    },
    {
      "cell_type": "markdown",
      "source": [
        "### Summary\n",
        "\n",
        "The dataset, consisting of 569 rows and 31 columns, was preprocessed by removing the ID column and converting the diagnosis column into binary values (Malignant = 1, Benign = 0). After transforming the data, it was saved as a new CSV file.\n",
        "\n",
        "A linear regression model was trained on a 70-30 train-test split. The model's performance was evaluated using a confusion matrix, precision, recall, F1-score, ROC curve, and AUC score. The chosen classification threshold impacts model sensitivity and specificity, which is crucial for cancer detection.\n",
        "\n",
        "Due to the high dimensionality of the dataset, plotting the logistic regression decision boundary is not feasible. However, PCA can be used to reduce dimensionality for visualization."
      ],
      "metadata": {
        "id": "BGEEtxk77pNh"
      }
    }
  ]
}