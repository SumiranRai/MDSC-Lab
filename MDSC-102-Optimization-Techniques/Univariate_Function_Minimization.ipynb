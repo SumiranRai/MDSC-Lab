{
  "nbformat": 4,
  "nbformat_minor": 0,
  "metadata": {
    "colab": {
      "provenance": [],
      "authorship_tag": "ABX9TyNa8Klzdv1iTYO6m8BYc2P8",
      "include_colab_link": true
    },
    "kernelspec": {
      "name": "python3",
      "display_name": "Python 3"
    },
    "language_info": {
      "name": "python"
    }
  },
  "cells": [
    {
      "cell_type": "markdown",
      "metadata": {
        "id": "view-in-github",
        "colab_type": "text"
      },
      "source": [
        "<a href=\"https://colab.research.google.com/github/SumiranRai/MDSC-Lab/blob/main/MDSC-102-Optimization-Techniques/Univariate_Function_Minimization.ipynb\" target=\"_parent\"><img src=\"https://colab.research.google.com/assets/colab-badge.svg\" alt=\"Open In Colab\"/></a>"
      ]
    },
    {
      "cell_type": "markdown",
      "source": [
        "### Univariate Function Minimization - Finding the Minimum of a Single Variable Function\n",
        "\n",
        "Using 'scipy.optimize.minimize_scalar'"
      ],
      "metadata": {
        "id": "krFyQQ7ZDxlx"
      }
    },
    {
      "cell_type": "code",
      "source": [
        "import numpy as np\n",
        "import matplotlib.pyplot as plt\n",
        "from scipy.optimize import minimize_scalar"
      ],
      "metadata": {
        "id": "PtArbhfdD4WJ"
      },
      "execution_count": null,
      "outputs": []
    },
    {
      "cell_type": "markdown",
      "source": [
        "Define a Univariate Function"
      ],
      "metadata": {
        "id": "e0TwrlFQEJpd"
      }
    },
    {
      "cell_type": "code",
      "source": [
        "def f(x):\n",
        "  print(x)\n",
        "  return (x-2)**2+1"
      ],
      "metadata": {
        "id": "ywl53zpxEFpy"
      },
      "execution_count": null,
      "outputs": []
    },
    {
      "cell_type": "markdown",
      "source": [
        "### Minimization Using 'minimize_scalar'\n",
        "\n",
        "We use 'minimize_scalar' function to find the minimum value of a given function 'f(x)'. The result is going to contain the minimum value of f(x) and its corresponding 'x' value"
      ],
      "metadata": {
        "id": "uU_KenQnEM5I"
      }
    },
    {
      "cell_type": "code",
      "source": [
        "result = minimize_scalar(f)"
      ],
      "metadata": {
        "colab": {
          "base_uri": "https://localhost:8080/"
        },
        "id": "pKJoXA_DEMfE",
        "outputId": "a67b43d6-dbe6-40cc-ba71-2bf354b2a75d"
      },
      "execution_count": null,
      "outputs": [
        {
          "output_type": "stream",
          "name": "stdout",
          "text": [
            "0.0\n",
            "1.0\n",
            "2.6180339999999998\n",
            "1.9999999999999998\n",
            "1.6180339999999998\n",
            "2.2360679748439996\n",
            "2.00000002961\n",
            "1.9999999703899998\n"
          ]
        }
      ]
    },
    {
      "cell_type": "code",
      "source": [
        "print(\"Optimization result : \")\n",
        "print(result)"
      ],
      "metadata": {
        "colab": {
          "base_uri": "https://localhost:8080/"
        },
        "id": "HL8j2BL7EwT5",
        "outputId": "a50d25ec-a9ce-4c3d-d401-57c0af7c5cfd"
      },
      "execution_count": null,
      "outputs": [
        {
          "output_type": "stream",
          "name": "stdout",
          "text": [
            "Optimization result : \n",
            " message: \n",
            "          Optimization terminated successfully;\n",
            "          The returned value satisfies the termination criteria\n",
            "          (using xtol = 1.48e-08 )\n",
            " success: True\n",
            "     fun: 1.0\n",
            "       x: 1.9999999999999998\n",
            "     nit: 4\n",
            "    nfev: 8\n"
          ]
        }
      ]
    },
    {
      "cell_type": "markdown",
      "source": [
        "Visualization"
      ],
      "metadata": {
        "id": "Z4RJNCe2FNMr"
      }
    },
    {
      "cell_type": "code",
      "source": [
        "# Generate x values\n",
        "x = np.linspace(-10, 10, 400)\n",
        "\n",
        "# Parabola equation\n",
        "y = f(x)\n",
        "\n",
        "# Create the plot\n",
        "plt.figure(figsize=(8,6))\n",
        "plt.plot(x, y, label = r'$f(x) = (x-2)^2 + 1$', color = 'red')\n",
        "\n",
        "# Mark the minimum point\n",
        "plt.plot(result.x, result.fun, \"ro\", label = \"Minimum value of f(x)\")\n",
        "\n",
        "plt.xlabel(\"x\")\n",
        "plt.ylabel(\"f(x)\")\n",
        "plt.title(\"Univariate Function Minimization\")\n",
        "plt.legend()\n",
        "\n",
        "plt.grid(True)\n",
        "plt.show()"
      ],
      "metadata": {
        "colab": {
          "base_uri": "https://localhost:8080/",
          "height": 1000
        },
        "id": "vNNjU3yKFFDW",
        "outputId": "ccbd9ed8-96db-44ea-aa28-bcd26d139cbd"
      },
      "execution_count": null,
      "outputs": [
        {
          "output_type": "stream",
          "name": "stdout",
          "text": [
            "[-10.          -9.94987469  -9.89974937  -9.84962406  -9.79949875\n",
            "  -9.74937343  -9.69924812  -9.64912281  -9.59899749  -9.54887218\n",
            "  -9.49874687  -9.44862155  -9.39849624  -9.34837093  -9.29824561\n",
            "  -9.2481203   -9.19799499  -9.14786967  -9.09774436  -9.04761905\n",
            "  -8.99749373  -8.94736842  -8.89724311  -8.84711779  -8.79699248\n",
            "  -8.74686717  -8.69674185  -8.64661654  -8.59649123  -8.54636591\n",
            "  -8.4962406   -8.44611529  -8.39598997  -8.34586466  -8.29573935\n",
            "  -8.24561404  -8.19548872  -8.14536341  -8.0952381   -8.04511278\n",
            "  -7.99498747  -7.94486216  -7.89473684  -7.84461153  -7.79448622\n",
            "  -7.7443609   -7.69423559  -7.64411028  -7.59398496  -7.54385965\n",
            "  -7.49373434  -7.44360902  -7.39348371  -7.3433584   -7.29323308\n",
            "  -7.24310777  -7.19298246  -7.14285714  -7.09273183  -7.04260652\n",
            "  -6.9924812   -6.94235589  -6.89223058  -6.84210526  -6.79197995\n",
            "  -6.74185464  -6.69172932  -6.64160401  -6.5914787   -6.54135338\n",
            "  -6.49122807  -6.44110276  -6.39097744  -6.34085213  -6.29072682\n",
            "  -6.2406015   -6.19047619  -6.14035088  -6.09022556  -6.04010025\n",
            "  -5.98997494  -5.93984962  -5.88972431  -5.839599    -5.78947368\n",
            "  -5.73934837  -5.68922306  -5.63909774  -5.58897243  -5.53884712\n",
            "  -5.4887218   -5.43859649  -5.38847118  -5.33834586  -5.28822055\n",
            "  -5.23809524  -5.18796992  -5.13784461  -5.0877193   -5.03759398\n",
            "  -4.98746867  -4.93734336  -4.88721805  -4.83709273  -4.78696742\n",
            "  -4.73684211  -4.68671679  -4.63659148  -4.58646617  -4.53634085\n",
            "  -4.48621554  -4.43609023  -4.38596491  -4.3358396   -4.28571429\n",
            "  -4.23558897  -4.18546366  -4.13533835  -4.08521303  -4.03508772\n",
            "  -3.98496241  -3.93483709  -3.88471178  -3.83458647  -3.78446115\n",
            "  -3.73433584  -3.68421053  -3.63408521  -3.5839599   -3.53383459\n",
            "  -3.48370927  -3.43358396  -3.38345865  -3.33333333  -3.28320802\n",
            "  -3.23308271  -3.18295739  -3.13283208  -3.08270677  -3.03258145\n",
            "  -2.98245614  -2.93233083  -2.88220551  -2.8320802   -2.78195489\n",
            "  -2.73182957  -2.68170426  -2.63157895  -2.58145363  -2.53132832\n",
            "  -2.48120301  -2.43107769  -2.38095238  -2.33082707  -2.28070175\n",
            "  -2.23057644  -2.18045113  -2.13032581  -2.0802005   -2.03007519\n",
            "  -1.97994987  -1.92982456  -1.87969925  -1.82957393  -1.77944862\n",
            "  -1.72932331  -1.67919799  -1.62907268  -1.57894737  -1.52882206\n",
            "  -1.47869674  -1.42857143  -1.37844612  -1.3283208   -1.27819549\n",
            "  -1.22807018  -1.17794486  -1.12781955  -1.07769424  -1.02756892\n",
            "  -0.97744361  -0.9273183   -0.87719298  -0.82706767  -0.77694236\n",
            "  -0.72681704  -0.67669173  -0.62656642  -0.5764411   -0.52631579\n",
            "  -0.47619048  -0.42606516  -0.37593985  -0.32581454  -0.27568922\n",
            "  -0.22556391  -0.1754386   -0.12531328  -0.07518797  -0.02506266\n",
            "   0.02506266   0.07518797   0.12531328   0.1754386    0.22556391\n",
            "   0.27568922   0.32581454   0.37593985   0.42606516   0.47619048\n",
            "   0.52631579   0.5764411    0.62656642   0.67669173   0.72681704\n",
            "   0.77694236   0.82706767   0.87719298   0.9273183    0.97744361\n",
            "   1.02756892   1.07769424   1.12781955   1.17794486   1.22807018\n",
            "   1.27819549   1.3283208    1.37844612   1.42857143   1.47869674\n",
            "   1.52882206   1.57894737   1.62907268   1.67919799   1.72932331\n",
            "   1.77944862   1.82957393   1.87969925   1.92982456   1.97994987\n",
            "   2.03007519   2.0802005    2.13032581   2.18045113   2.23057644\n",
            "   2.28070175   2.33082707   2.38095238   2.43107769   2.48120301\n",
            "   2.53132832   2.58145363   2.63157895   2.68170426   2.73182957\n",
            "   2.78195489   2.8320802    2.88220551   2.93233083   2.98245614\n",
            "   3.03258145   3.08270677   3.13283208   3.18295739   3.23308271\n",
            "   3.28320802   3.33333333   3.38345865   3.43358396   3.48370927\n",
            "   3.53383459   3.5839599    3.63408521   3.68421053   3.73433584\n",
            "   3.78446115   3.83458647   3.88471178   3.93483709   3.98496241\n",
            "   4.03508772   4.08521303   4.13533835   4.18546366   4.23558897\n",
            "   4.28571429   4.3358396    4.38596491   4.43609023   4.48621554\n",
            "   4.53634085   4.58646617   4.63659148   4.68671679   4.73684211\n",
            "   4.78696742   4.83709273   4.88721805   4.93734336   4.98746867\n",
            "   5.03759398   5.0877193    5.13784461   5.18796992   5.23809524\n",
            "   5.28822055   5.33834586   5.38847118   5.43859649   5.4887218\n",
            "   5.53884712   5.58897243   5.63909774   5.68922306   5.73934837\n",
            "   5.78947368   5.839599     5.88972431   5.93984962   5.98997494\n",
            "   6.04010025   6.09022556   6.14035088   6.19047619   6.2406015\n",
            "   6.29072682   6.34085213   6.39097744   6.44110276   6.49122807\n",
            "   6.54135338   6.5914787    6.64160401   6.69172932   6.74185464\n",
            "   6.79197995   6.84210526   6.89223058   6.94235589   6.9924812\n",
            "   7.04260652   7.09273183   7.14285714   7.19298246   7.24310777\n",
            "   7.29323308   7.3433584    7.39348371   7.44360902   7.49373434\n",
            "   7.54385965   7.59398496   7.64411028   7.69423559   7.7443609\n",
            "   7.79448622   7.84461153   7.89473684   7.94486216   7.99498747\n",
            "   8.04511278   8.0952381    8.14536341   8.19548872   8.24561404\n",
            "   8.29573935   8.34586466   8.39598997   8.44611529   8.4962406\n",
            "   8.54636591   8.59649123   8.64661654   8.69674185   8.74686717\n",
            "   8.79699248   8.84711779   8.89724311   8.94736842   8.99749373\n",
            "   9.04761905   9.09774436   9.14786967   9.19799499   9.2481203\n",
            "   9.29824561   9.34837093   9.39849624   9.44862155   9.49874687\n",
            "   9.54887218   9.59899749   9.64912281   9.69924812   9.74937343\n",
            "   9.79949875   9.84962406   9.89974937   9.94987469  10.        ]\n"
          ]
        },
        {
          "output_type": "display_data",
          "data": {
            "text/plain": [
              "<Figure size 800x600 with 1 Axes>"
            ],
            "image/png": "[encoded data removed]"
          },
          "metadata": {}
        }
      ]
    }
  ]
}