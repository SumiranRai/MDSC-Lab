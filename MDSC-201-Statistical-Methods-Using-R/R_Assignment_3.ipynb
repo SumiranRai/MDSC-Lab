{
  "nbformat": 4,
  "nbformat_minor": 0,
  "metadata": {
    "colab": {
      "provenance": [],
      "authorship_tag": "ABX9TyMRUmUyRhqGE9NGMCD6DjyO",
      "include_colab_link": true
    },
    "kernelspec": {
      "name": "ir",
      "display_name": "R"
    },
    "language_info": {
      "name": "R"
    }
  },
  "cells": [
    {
      "cell_type": "markdown",
      "metadata": {
        "id": "view-in-github",
        "colab_type": "text"
      },
      "source": [
        "<a href=\"https://colab.research.google.com/github/SumiranRai/MDSC-Lab/blob/main/MDSC-201-Statistical-Methods-Using-R/R_Assignment_3.ipynb\" target=\"_parent\"><img src=\"https://colab.research.google.com/assets/colab-badge.svg\" alt=\"Open In Colab\"/></a>"
      ]
    },
    {
      "cell_type": "markdown",
      "source": [
        "R Programming Assignment III\n",
        "\n",
        "By Sumiran Rai\n",
        "\n",
        "Roll No: 24040208007"
      ],
      "metadata": {
        "id": "E87-hJmMmReO"
      }
    },
    {
      "cell_type": "markdown",
      "source": [
        "# R Functions"
      ],
      "metadata": {
        "id": "0nPiBHK-mTgo"
      }
    },
    {
      "cell_type": "markdown",
      "source": [
        "##Basic Operations"
      ],
      "metadata": {
        "id": "cUbaHid6ncMg"
      }
    },
    {
      "cell_type": "code",
      "execution_count": 302,
      "metadata": {
        "colab": {
          "base_uri": "https://localhost:8080/"
        },
        "id": "uKFyjCwaQCBO",
        "outputId": "a6cc1a21-f9a5-4b19-892b-ff7c1e8f46dd"
      },
      "outputs": [
        {
          "output_type": "stream",
          "name": "stdout",
          "text": [
            "[1] 1 2 3 4\n"
          ]
        }
      ],
      "source": [
        "# 1. Create a vector\n",
        "x <- c(1, 2, 3, 4)\n",
        "print(x)"
      ]
    },
    {
      "cell_type": "code",
      "source": [
        "# 2. Generate sequences\n",
        "y <- seq(1, 10, by = 2)\n",
        "print(y)"
      ],
      "metadata": {
        "colab": {
          "base_uri": "https://localhost:8080/"
        },
        "id": "BQ6qKhA7nsde",
        "outputId": "33a93bb3-3dc6-48c3-8238-377ed3c8e7e8"
      },
      "execution_count": 303,
      "outputs": [
        {
          "output_type": "stream",
          "name": "stdout",
          "text": [
            "[1] 1 3 5 7 9\n"
          ]
        }
      ]
    },
    {
      "cell_type": "code",
      "source": [
        "# 3. Repeat elements\n",
        "z <- rep(1:3, each = 2)\n",
        "print(z)"
      ],
      "metadata": {
        "colab": {
          "base_uri": "https://localhost:8080/"
        },
        "id": "k62TJ-iBn1XV",
        "outputId": "0220b02e-1046-43cd-a0c7-d7ba09fe6134"
      },
      "execution_count": 304,
      "outputs": [
        {
          "output_type": "stream",
          "name": "stdout",
          "text": [
            "[1] 1 1 2 2 3 3\n"
          ]
        }
      ]
    },
    {
      "cell_type": "code",
      "source": [
        "# 4. Get vector length\n",
        "length(x)"
      ],
      "metadata": {
        "colab": {
          "base_uri": "https://localhost:8080/",
          "height": 34
        },
        "id": "LlkoqKzBoC1_",
        "outputId": "aab23c39-2f6d-40d2-eba8-bbb832a772f7"
      },
      "execution_count": 305,
      "outputs": [
        {
          "output_type": "display_data",
          "data": {
            "text/html": [
              "4"
            ],
            "text/markdown": "4",
            "text/latex": "4",
            "text/plain": [
              "[1] 4"
            ]
          },
          "metadata": {}
        }
      ]
    },
    {
      "cell_type": "code",
      "source": [
        "# 5. Sort values\n",
        "sort(c(3, 1, 4, 1, 5))"
      ],
      "metadata": {
        "colab": {
          "base_uri": "https://localhost:8080/",
          "height": 34
        },
        "id": "aPhbtkugoG7z",
        "outputId": "531ae92c-9c0c-4ef4-d41e-59f97cf9c112"
      },
      "execution_count": 306,
      "outputs": [
        {
          "output_type": "display_data",
          "data": {
            "text/html": [
              "<style>\n",
              ".list-inline {list-style: none; margin:0; padding: 0}\n",
              ".list-inline>li {display: inline-block}\n",
              ".list-inline>li:not(:last-child)::after {content: \"\\00b7\"; padding: 0 .5ex}\n",
              "</style>\n",
              "<ol class=list-inline><li>1</li><li>1</li><li>3</li><li>4</li><li>5</li></ol>\n"
            ],
            "text/markdown": "1. 1\n2. 1\n3. 3\n4. 4\n5. 5\n\n\n",
            "text/latex": "\\begin{enumerate*}\n\\item 1\n\\item 1\n\\item 3\n\\item 4\n\\item 5\n\\end{enumerate*}\n",
            "text/plain": [
              "[1] 1 1 3 4 5"
            ]
          },
          "metadata": {}
        }
      ]
    },
    {
      "cell_type": "markdown",
      "source": [
        "The order() function takes one or more vectors as arguments,\n",
        "and returns an integer vector indicating the order of the vectors"
      ],
      "metadata": {
        "id": "UxclUSuTouHL"
      }
    },
    {
      "cell_type": "code",
      "source": [
        "# 6. Get ordering\n",
        "order(c(3, 1, 4, 1, 5))"
      ],
      "metadata": {
        "colab": {
          "base_uri": "https://localhost:8080/",
          "height": 34
        },
        "id": "_-4jwNHFoPCZ",
        "outputId": "f59c02df-ec8f-43f4-fe21-48e2a628f63b"
      },
      "execution_count": 307,
      "outputs": [
        {
          "output_type": "display_data",
          "data": {
            "text/html": [
              "<style>\n",
              ".list-inline {list-style: none; margin:0; padding: 0}\n",
              ".list-inline>li {display: inline-block}\n",
              ".list-inline>li:not(:last-child)::after {content: \"\\00b7\"; padding: 0 .5ex}\n",
              "</style>\n",
              "<ol class=list-inline><li>2</li><li>4</li><li>1</li><li>3</li><li>5</li></ol>\n"
            ],
            "text/markdown": "1. 2\n2. 4\n3. 1\n4. 3\n5. 5\n\n\n",
            "text/latex": "\\begin{enumerate*}\n\\item 2\n\\item 4\n\\item 1\n\\item 3\n\\item 5\n\\end{enumerate*}\n",
            "text/plain": [
              "[1] 2 4 1 3 5"
            ]
          },
          "metadata": {}
        }
      ]
    },
    {
      "cell_type": "code",
      "source": [
        "# 7. Reverse elements\n",
        "rev(x)"
      ],
      "metadata": {
        "colab": {
          "base_uri": "https://localhost:8080/",
          "height": 34
        },
        "id": "ZC30c9cToTv9",
        "outputId": "2d2de3ec-fe11-4074-8f23-0a797606d73f"
      },
      "execution_count": 308,
      "outputs": [
        {
          "output_type": "display_data",
          "data": {
            "text/html": [
              "<style>\n",
              ".list-inline {list-style: none; margin:0; padding: 0}\n",
              ".list-inline>li {display: inline-block}\n",
              ".list-inline>li:not(:last-child)::after {content: \"\\00b7\"; padding: 0 .5ex}\n",
              "</style>\n",
              "<ol class=list-inline><li>4</li><li>3</li><li>2</li><li>1</li></ol>\n"
            ],
            "text/markdown": "1. 4\n2. 3\n3. 2\n4. 1\n\n\n",
            "text/latex": "\\begin{enumerate*}\n\\item 4\n\\item 3\n\\item 2\n\\item 1\n\\end{enumerate*}\n",
            "text/plain": [
              "[1] 4 3 2 1"
            ]
          },
          "metadata": {}
        }
      ]
    },
    {
      "cell_type": "code",
      "source": [
        "# 8. Find unique elements\n",
        "unique(c(1, 2, 2, 3, 3, 4))"
      ],
      "metadata": {
        "colab": {
          "base_uri": "https://localhost:8080/",
          "height": 34
        },
        "id": "GuaoSeplohF6",
        "outputId": "347f89cc-8e55-4fe6-acf6-a0837950d59d"
      },
      "execution_count": 309,
      "outputs": [
        {
          "output_type": "display_data",
          "data": {
            "text/html": [
              "<style>\n",
              ".list-inline {list-style: none; margin:0; padding: 0}\n",
              ".list-inline>li {display: inline-block}\n",
              ".list-inline>li:not(:last-child)::after {content: \"\\00b7\"; padding: 0 .5ex}\n",
              "</style>\n",
              "<ol class=list-inline><li>1</li><li>2</li><li>3</li><li>4</li></ol>\n"
            ],
            "text/markdown": "1. 1\n2. 2\n3. 3\n4. 4\n\n\n",
            "text/latex": "\\begin{enumerate*}\n\\item 1\n\\item 2\n\\item 3\n\\item 4\n\\end{enumerate*}\n",
            "text/plain": [
              "[1] 1 2 3 4"
            ]
          },
          "metadata": {}
        }
      ]
    },
    {
      "cell_type": "code",
      "source": [
        "# 9. Frequency table\n",
        "table(c(\"A\", \"B\", \"A\", \"C\", \"B\", \"A\"))"
      ],
      "metadata": {
        "colab": {
          "base_uri": "https://localhost:8080/",
          "height": 69
        },
        "id": "TyWzedaHo53g",
        "outputId": "8515536f-2bec-4eb4-dde9-7719da745f90"
      },
      "execution_count": 310,
      "outputs": [
        {
          "output_type": "display_data",
          "data": {
            "text/plain": [
              "\n",
              "A B C \n",
              "3 2 1 "
            ]
          },
          "metadata": {}
        }
      ]
    },
    {
      "cell_type": "code",
      "source": [
        "# 10. Find indices of matching values\n",
        "match(2, c(1, 3, 5, 2, 4))"
      ],
      "metadata": {
        "colab": {
          "base_uri": "https://localhost:8080/",
          "height": 34
        },
        "id": "Wai6JImApCGc",
        "outputId": "5a07afaa-0474-47a7-81e3-22883346a66c"
      },
      "execution_count": 311,
      "outputs": [
        {
          "output_type": "display_data",
          "data": {
            "text/html": [
              "4"
            ],
            "text/markdown": "4",
            "text/latex": "4",
            "text/plain": [
              "[1] 4"
            ]
          },
          "metadata": {}
        }
      ]
    },
    {
      "cell_type": "code",
      "source": [
        "# 11. Check if value exists in vector\n",
        "2 %in% c(1, 2, 3, 4)"
      ],
      "metadata": {
        "colab": {
          "base_uri": "https://localhost:8080/",
          "height": 34
        },
        "id": "e88y1XA3pGOR",
        "outputId": "00c6495a-70ae-4139-9c19-5a5f29ca7128"
      },
      "execution_count": 312,
      "outputs": [
        {
          "output_type": "display_data",
          "data": {
            "text/html": [
              "TRUE"
            ],
            "text/markdown": "TRUE",
            "text/latex": "TRUE",
            "text/plain": [
              "[1] TRUE"
            ]
          },
          "metadata": {}
        }
      ]
    },
    {
      "cell_type": "code",
      "source": [
        "# 12. Find index of elements satisfying a condition\n",
        "which(c(1, 2, 3, 4) > 2)"
      ],
      "metadata": {
        "colab": {
          "base_uri": "https://localhost:8080/",
          "height": 34
        },
        "id": "vDZifLKZpVMh",
        "outputId": "2df9fbb0-2ec4-464f-b126-d8955788648a"
      },
      "execution_count": 313,
      "outputs": [
        {
          "output_type": "display_data",
          "data": {
            "text/html": [
              "<style>\n",
              ".list-inline {list-style: none; margin:0; padding: 0}\n",
              ".list-inline>li {display: inline-block}\n",
              ".list-inline>li:not(:last-child)::after {content: \"\\00b7\"; padding: 0 .5ex}\n",
              "</style>\n",
              "<ol class=list-inline><li>3</li><li>4</li></ol>\n"
            ],
            "text/markdown": "1. 3\n2. 4\n\n\n",
            "text/latex": "\\begin{enumerate*}\n\\item 3\n\\item 4\n\\end{enumerate*}\n",
            "text/plain": [
              "[1] 3 4"
            ]
          },
          "metadata": {}
        }
      ]
    },
    {
      "cell_type": "code",
      "source": [
        "# 13. Check if any value is TRUE\n",
        "any(c(FALSE, TRUE, FALSE))"
      ],
      "metadata": {
        "colab": {
          "base_uri": "https://localhost:8080/",
          "height": 34
        },
        "id": "NFa0yIgTpbxV",
        "outputId": "ae752325-360f-40ab-b47e-d2af4165e851"
      },
      "execution_count": 314,
      "outputs": [
        {
          "output_type": "display_data",
          "data": {
            "text/html": [
              "TRUE"
            ],
            "text/markdown": "TRUE",
            "text/latex": "TRUE",
            "text/plain": [
              "[1] TRUE"
            ]
          },
          "metadata": {}
        }
      ]
    },
    {
      "cell_type": "code",
      "source": [
        "# 14. Check if all values are TRUE\n",
        "all(c(TRUE, TRUE, TRUE))"
      ],
      "metadata": {
        "colab": {
          "base_uri": "https://localhost:8080/",
          "height": 34
        },
        "id": "ock1LiyRqNnp",
        "outputId": "229c81c9-f221-4e34-9abd-1db00cd53608"
      },
      "execution_count": 315,
      "outputs": [
        {
          "output_type": "display_data",
          "data": {
            "text/html": [
              "TRUE"
            ],
            "text/markdown": "TRUE",
            "text/latex": "TRUE",
            "text/plain": [
              "[1] TRUE"
            ]
          },
          "metadata": {}
        }
      ]
    },
    {
      "cell_type": "code",
      "source": [
        "# 15. Check for missing values\n",
        "is.na(c(1, 2, NA, 4))"
      ],
      "metadata": {
        "id": "1KzhtrCoqa77",
        "colab": {
          "base_uri": "https://localhost:8080/",
          "height": 34
        },
        "outputId": "952574f6-de66-4c22-e79e-fbf42a5175d7"
      },
      "execution_count": 316,
      "outputs": [
        {
          "output_type": "display_data",
          "data": {
            "text/html": [
              "<style>\n",
              ".list-inline {list-style: none; margin:0; padding: 0}\n",
              ".list-inline>li {display: inline-block}\n",
              ".list-inline>li:not(:last-child)::after {content: \"\\00b7\"; padding: 0 .5ex}\n",
              "</style>\n",
              "<ol class=list-inline><li>FALSE</li><li>FALSE</li><li>TRUE</li><li>FALSE</li></ol>\n"
            ],
            "text/markdown": "1. FALSE\n2. FALSE\n3. TRUE\n4. FALSE\n\n\n",
            "text/latex": "\\begin{enumerate*}\n\\item FALSE\n\\item FALSE\n\\item TRUE\n\\item FALSE\n\\end{enumerate*}\n",
            "text/plain": [
              "[1] FALSE FALSE  TRUE FALSE"
            ]
          },
          "metadata": {}
        }
      ]
    },
    {
      "cell_type": "code",
      "source": [
        "# 16. Remove NA values\n",
        "na.omit(c(1, 2, NA, 4))"
      ],
      "metadata": {
        "colab": {
          "base_uri": "https://localhost:8080/",
          "height": 34
        },
        "id": "wNIZUceh5ef9",
        "outputId": "cd3a4833-a166-4aef-8422-f536adf7ba9e"
      },
      "execution_count": 317,
      "outputs": [
        {
          "output_type": "display_data",
          "data": {
            "text/html": [
              "<style>\n",
              ".list-inline {list-style: none; margin:0; padding: 0}\n",
              ".list-inline>li {display: inline-block}\n",
              ".list-inline>li:not(:last-child)::after {content: \"\\00b7\"; padding: 0 .5ex}\n",
              "</style>\n",
              "<ol class=list-inline><li>1</li><li>2</li><li>4</li></ol>\n"
            ],
            "text/markdown": "1. 1\n2. 2\n3. 4\n\n\n",
            "text/latex": "\\begin{enumerate*}\n\\item 1\n\\item 2\n\\item 4\n\\end{enumerate*}\n",
            "text/plain": [
              "[1] 1 2 4\n",
              "attr(,\"na.action\")\n",
              "[1] 3\n",
              "attr(,\"class\")\n",
              "[1] \"omit\""
            ]
          },
          "metadata": {}
        }
      ]
    },
    {
      "cell_type": "code",
      "source": [
        "# 17. Replace values in a vector\n",
        "replace(c(1, 2, 3, 2), 2, 10)"
      ],
      "metadata": {
        "colab": {
          "base_uri": "https://localhost:8080/",
          "height": 34
        },
        "id": "vOpgSF3P5maI",
        "outputId": "1e208517-b889-42c2-d493-3403360ccce7"
      },
      "execution_count": 318,
      "outputs": [
        {
          "output_type": "display_data",
          "data": {
            "text/html": [
              "<style>\n",
              ".list-inline {list-style: none; margin:0; padding: 0}\n",
              ".list-inline>li {display: inline-block}\n",
              ".list-inline>li:not(:last-child)::after {content: \"\\00b7\"; padding: 0 .5ex}\n",
              "</style>\n",
              "<ol class=list-inline><li>1</li><li>10</li><li>3</li><li>2</li></ol>\n"
            ],
            "text/markdown": "1. 1\n2. 10\n3. 3\n4. 2\n\n\n",
            "text/latex": "\\begin{enumerate*}\n\\item 1\n\\item 10\n\\item 3\n\\item 2\n\\end{enumerate*}\n",
            "text/plain": [
              "[1]  1 10  3  2"
            ]
          },
          "metadata": {}
        }
      ]
    },
    {
      "cell_type": "code",
      "source": [
        "# 18. Concatenate strings\n",
        "paste(\"Hello\", \"World\")"
      ],
      "metadata": {
        "colab": {
          "base_uri": "https://localhost:8080/",
          "height": 34
        },
        "id": "C0bjSweU5tAQ",
        "outputId": "754a0385-1664-441d-9acd-0ea673c8f2cf"
      },
      "execution_count": 319,
      "outputs": [
        {
          "output_type": "display_data",
          "data": {
            "text/html": [
              "'Hello World'"
            ],
            "text/markdown": "'Hello World'",
            "text/latex": "'Hello World'",
            "text/plain": [
              "[1] \"Hello World\""
            ]
          },
          "metadata": {}
        }
      ]
    },
    {
      "cell_type": "code",
      "source": [
        "# 19. Concatenate without spaces\n",
        "paste0(\"Hello\", \"World\")"
      ],
      "metadata": {
        "colab": {
          "base_uri": "https://localhost:8080/",
          "height": 34
        },
        "id": "DSEfyMHT5syz",
        "outputId": "4fea3526-1237-4a0f-f4a1-8307931b3352"
      },
      "execution_count": 320,
      "outputs": [
        {
          "output_type": "display_data",
          "data": {
            "text/html": [
              "'HelloWorld'"
            ],
            "text/markdown": "'HelloWorld'",
            "text/latex": "'HelloWorld'",
            "text/plain": [
              "[1] \"HelloWorld\""
            ]
          },
          "metadata": {}
        }
      ]
    },
    {
      "cell_type": "code",
      "source": [
        " # 20. Convert to uppercase\n",
        " toupper(\"hello\")"
      ],
      "metadata": {
        "colab": {
          "base_uri": "https://localhost:8080/",
          "height": 34
        },
        "id": "LIBu5sqn58iJ",
        "outputId": "1ca8d022-b269-4fc0-bb71-afd0f931f6a6"
      },
      "execution_count": 321,
      "outputs": [
        {
          "output_type": "display_data",
          "data": {
            "text/html": [
              "'HELLO'"
            ],
            "text/markdown": "'HELLO'",
            "text/latex": "'HELLO'",
            "text/plain": [
              "[1] \"HELLO\""
            ]
          },
          "metadata": {}
        }
      ]
    },
    {
      "cell_type": "code",
      "source": [
        "# 21. Convert to lowercase\n",
        "tolower(\"HELLO\")"
      ],
      "metadata": {
        "colab": {
          "base_uri": "https://localhost:8080/",
          "height": 34
        },
        "id": "-GVPMNcx58es",
        "outputId": "c11d7607-1480-4a6f-ff76-6f8b19497bba"
      },
      "execution_count": 322,
      "outputs": [
        {
          "output_type": "display_data",
          "data": {
            "text/html": [
              "'hello'"
            ],
            "text/markdown": "'hello'",
            "text/latex": "'hello'",
            "text/plain": [
              "[1] \"hello\""
            ]
          },
          "metadata": {}
        }
      ]
    },
    {
      "cell_type": "code",
      "source": [
        "# 22. Extract substring\n",
        "substr(\"HelloWorld\", 2, 5)"
      ],
      "metadata": {
        "colab": {
          "base_uri": "https://localhost:8080/",
          "height": 34
        },
        "id": "tl26FSoo58dE",
        "outputId": "87240b5a-0ea9-4b47-e58e-79a35254496c"
      },
      "execution_count": 323,
      "outputs": [
        {
          "output_type": "display_data",
          "data": {
            "text/html": [
              "'ello'"
            ],
            "text/markdown": "'ello'",
            "text/latex": "'ello'",
            "text/plain": [
              "[1] \"ello\""
            ]
          },
          "metadata": {}
        }
      ]
    },
    {
      "cell_type": "code",
      "source": [
        "# 23. Pattern matching\n",
        "grep(\"a\", c(\"apple\", \"banana\", \"cherry\"))"
      ],
      "metadata": {
        "colab": {
          "base_uri": "https://localhost:8080/",
          "height": 34
        },
        "id": "h2owHSgh58aX",
        "outputId": "391f44ba-d3f1-4489-f381-f2d219a4fde8"
      },
      "execution_count": 324,
      "outputs": [
        {
          "output_type": "display_data",
          "data": {
            "text/html": [
              "<style>\n",
              ".list-inline {list-style: none; margin:0; padding: 0}\n",
              ".list-inline>li {display: inline-block}\n",
              ".list-inline>li:not(:last-child)::after {content: \"\\00b7\"; padding: 0 .5ex}\n",
              "</style>\n",
              "<ol class=list-inline><li>1</li><li>2</li></ol>\n"
            ],
            "text/markdown": "1. 1\n2. 2\n\n\n",
            "text/latex": "\\begin{enumerate*}\n\\item 1\n\\item 2\n\\end{enumerate*}\n",
            "text/plain": [
              "[1] 1 2"
            ]
          },
          "metadata": {}
        }
      ]
    },
    {
      "cell_type": "code",
      "source": [
        "# 24. Replace pattern\n",
        "gsub(\"a\", \"@\", \"banana\")"
      ],
      "metadata": {
        "colab": {
          "base_uri": "https://localhost:8080/",
          "height": 34
        },
        "id": "Q5eRq8Jh58YD",
        "outputId": "b11c9a36-9c05-43f2-8f9d-5778e974d2c7"
      },
      "execution_count": 325,
      "outputs": [
        {
          "output_type": "display_data",
          "data": {
            "text/html": [
              "'b@n@n@'"
            ],
            "text/markdown": "'b@n@n@'",
            "text/latex": "'b@n@n@'",
            "text/plain": [
              "[1] \"b@n@n@\""
            ]
          },
          "metadata": {}
        }
      ]
    },
    {
      "cell_type": "code",
      "source": [
        "# 25. Split strings\n",
        "strsplit(\"apple,banana,grape\", \",\")"
      ],
      "metadata": {
        "colab": {
          "base_uri": "https://localhost:8080/",
          "height": 62
        },
        "id": "77_X8Ide6VGV",
        "outputId": "190faef8-e94f-412c-a107-a66af19e8a48"
      },
      "execution_count": 326,
      "outputs": [
        {
          "output_type": "display_data",
          "data": {
            "text/html": [
              "<ol>\n",
              "\t<li><style>\n",
              ".list-inline {list-style: none; margin:0; padding: 0}\n",
              ".list-inline>li {display: inline-block}\n",
              ".list-inline>li:not(:last-child)::after {content: \"\\00b7\"; padding: 0 .5ex}\n",
              "</style>\n",
              "<ol class=list-inline><li>'apple'</li><li>'banana'</li><li>'grape'</li></ol>\n",
              "</li>\n",
              "</ol>\n"
            ],
            "text/markdown": "1. 1. 'apple'\n2. 'banana'\n3. 'grape'\n\n\n\n\n\n",
            "text/latex": "\\begin{enumerate}\n\\item \\begin{enumerate*}\n\\item 'apple'\n\\item 'banana'\n\\item 'grape'\n\\end{enumerate*}\n\n\\end{enumerate}\n",
            "text/plain": [
              "[[1]]\n",
              "[1] \"apple\"  \"banana\" \"grape\" \n"
            ]
          },
          "metadata": {}
        }
      ]
    },
    {
      "cell_type": "code",
      "source": [
        " # 26. Convert to numeric\n",
        "as.numeric(\"10\")"
      ],
      "metadata": {
        "colab": {
          "base_uri": "https://localhost:8080/",
          "height": 34
        },
        "id": "tOMZVW8v6Z-T",
        "outputId": "062f7aa2-33b0-47e2-ffb1-68d26e01397b"
      },
      "execution_count": 327,
      "outputs": [
        {
          "output_type": "display_data",
          "data": {
            "text/html": [
              "10"
            ],
            "text/markdown": "10",
            "text/latex": "10",
            "text/plain": [
              "[1] 10"
            ]
          },
          "metadata": {}
        }
      ]
    },
    {
      "cell_type": "code",
      "source": [
        "# 27. Convert to character\n",
        "as.character(10)"
      ],
      "metadata": {
        "colab": {
          "base_uri": "https://localhost:8080/",
          "height": 34
        },
        "id": "WN_YiIbz6diq",
        "outputId": "c663578d-e926-4298-f405-77993ca2cb18"
      },
      "execution_count": 328,
      "outputs": [
        {
          "output_type": "display_data",
          "data": {
            "text/html": [
              "'10'"
            ],
            "text/markdown": "'10'",
            "text/latex": "'10'",
            "text/plain": [
              "[1] \"10\""
            ]
          },
          "metadata": {}
        }
      ]
    },
    {
      "cell_type": "code",
      "source": [
        "# 28. Convert to factor\n",
        "as.factor(c(\"low\", \"medium\", \"high\"))"
      ],
      "metadata": {
        "colab": {
          "base_uri": "https://localhost:8080/",
          "height": 52
        },
        "id": "yGyitUJY6htl",
        "outputId": "718868b1-2bbd-491b-b2af-03baa5d80df6"
      },
      "execution_count": 329,
      "outputs": [
        {
          "output_type": "display_data",
          "data": {
            "text/html": [
              "<style>\n",
              ".list-inline {list-style: none; margin:0; padding: 0}\n",
              ".list-inline>li {display: inline-block}\n",
              ".list-inline>li:not(:last-child)::after {content: \"\\00b7\"; padding: 0 .5ex}\n",
              "</style>\n",
              "<ol class=list-inline><li>low</li><li>medium</li><li>high</li></ol>\n",
              "\n",
              "<details>\n",
              "\t<summary style=display:list-item;cursor:pointer>\n",
              "\t\t<strong>Levels</strong>:\n",
              "\t</summary>\n",
              "\t<style>\n",
              "\t.list-inline {list-style: none; margin:0; padding: 0}\n",
              "\t.list-inline>li {display: inline-block}\n",
              "\t.list-inline>li:not(:last-child)::after {content: \"\\00b7\"; padding: 0 .5ex}\n",
              "\t</style>\n",
              "\t<ol class=list-inline><li>'high'</li><li>'low'</li><li>'medium'</li></ol>\n",
              "</details>"
            ],
            "text/markdown": "1. low\n2. medium\n3. high\n\n\n\n**Levels**: 1. 'high'\n2. 'low'\n3. 'medium'\n\n\n",
            "text/latex": "\\begin{enumerate*}\n\\item low\n\\item medium\n\\item high\n\\end{enumerate*}\n\n\\emph{Levels}: \\begin{enumerate*}\n\\item 'high'\n\\item 'low'\n\\item 'medium'\n\\end{enumerate*}\n",
            "text/plain": [
              "[1] low    medium high  \n",
              "Levels: high low medium"
            ]
          },
          "metadata": {}
        }
      ]
    },
    {
      "cell_type": "code",
      "source": [
        " # 29. Convert to date\n",
        "as.Date(\"2024-02-05\")"
      ],
      "metadata": {
        "colab": {
          "base_uri": "https://localhost:8080/",
          "height": 34
        },
        "id": "cXz9x-bP6j5a",
        "outputId": "0f43feb6-9c2c-4fd0-c856-9e64d3ba0856"
      },
      "execution_count": 330,
      "outputs": [
        {
          "output_type": "display_data",
          "data": {
            "text/html": [
              "<time datetime=\"2024-02-05\">2024-02-05</time>"
            ],
            "text/markdown": "2024-02-05",
            "text/latex": "2024-02-05",
            "text/plain": [
              "[1] \"2024-02-05\""
            ]
          },
          "metadata": {}
        }
      ]
    },
    {
      "cell_type": "code",
      "source": [
        " # 30. Get current date\n",
        "Sys.Date()"
      ],
      "metadata": {
        "colab": {
          "base_uri": "https://localhost:8080/",
          "height": 34
        },
        "id": "DYvG5O3d6lhU",
        "outputId": "3387d98e-5820-4ae5-c28a-10bdc98a9e9b"
      },
      "execution_count": 331,
      "outputs": [
        {
          "output_type": "display_data",
          "data": {
            "text/html": [
              "<time datetime=\"2025-02-05\">2025-02-05</time>"
            ],
            "text/markdown": "2025-02-05",
            "text/latex": "2025-02-05",
            "text/plain": [
              "[1] \"2025-02-05\""
            ]
          },
          "metadata": {}
        }
      ]
    },
    {
      "cell_type": "markdown",
      "source": [
        "## Mathematical & Statistical Functions"
      ],
      "metadata": {
        "id": "cD39fkXq6nWf"
      }
    },
    {
      "cell_type": "code",
      "source": [
        "# 31. Sum of elements\n",
        "sum(c(1, 2, 3))  # Sum of elements"
      ],
      "metadata": {
        "colab": {
          "base_uri": "https://localhost:8080/",
          "height": 34
        },
        "id": "_uXC1-a38NKI",
        "outputId": "38038b6f-580b-4977-b8c7-06f4ab456feb"
      },
      "execution_count": 332,
      "outputs": [
        {
          "output_type": "display_data",
          "data": {
            "text/html": [
              "6"
            ],
            "text/markdown": "6",
            "text/latex": "6",
            "text/plain": [
              "[1] 6"
            ]
          },
          "metadata": {}
        }
      ]
    },
    {
      "cell_type": "code",
      "source": [
        "# 32. Product of elements\n",
        "prod(c(1, 2, 3))"
      ],
      "metadata": {
        "colab": {
          "base_uri": "https://localhost:8080/",
          "height": 34
        },
        "id": "X-qw8pQF8WGT",
        "outputId": "51317e73-8c07-4c68-c266-57604e85f481"
      },
      "execution_count": 333,
      "outputs": [
        {
          "output_type": "display_data",
          "data": {
            "text/html": [
              "6"
            ],
            "text/markdown": "6",
            "text/latex": "6",
            "text/plain": [
              "[1] 6"
            ]
          },
          "metadata": {}
        }
      ]
    },
    {
      "cell_type": "code",
      "source": [
        "# 33. Cumulative sum\n",
        "cumsum(c(1, 2, 3))"
      ],
      "metadata": {
        "id": "9-mNlLIY8pWY",
        "outputId": "dcedcb8e-026f-4393-96cd-61447eebfc19",
        "colab": {
          "base_uri": "https://localhost:8080/",
          "height": 34
        }
      },
      "execution_count": 334,
      "outputs": [
        {
          "output_type": "display_data",
          "data": {
            "text/html": [
              "<style>\n",
              ".list-inline {list-style: none; margin:0; padding: 0}\n",
              ".list-inline>li {display: inline-block}\n",
              ".list-inline>li:not(:last-child)::after {content: \"\\00b7\"; padding: 0 .5ex}\n",
              "</style>\n",
              "<ol class=list-inline><li>1</li><li>3</li><li>6</li></ol>\n"
            ],
            "text/markdown": "1. 1\n2. 3\n3. 6\n\n\n",
            "text/latex": "\\begin{enumerate*}\n\\item 1\n\\item 3\n\\item 6\n\\end{enumerate*}\n",
            "text/plain": [
              "[1] 1 3 6"
            ]
          },
          "metadata": {}
        }
      ]
    },
    {
      "cell_type": "code",
      "source": [
        "# 34. Cumulative product\n",
        "cumprod(c(1, 2, 3))"
      ],
      "metadata": {
        "id": "zBdJUHtR8nRB",
        "colab": {
          "base_uri": "https://localhost:8080/",
          "height": 34
        },
        "outputId": "b98e0e56-9f5f-4d58-8c5f-eaee01b565d9"
      },
      "execution_count": 335,
      "outputs": [
        {
          "output_type": "display_data",
          "data": {
            "text/html": [
              "<style>\n",
              ".list-inline {list-style: none; margin:0; padding: 0}\n",
              ".list-inline>li {display: inline-block}\n",
              ".list-inline>li:not(:last-child)::after {content: \"\\00b7\"; padding: 0 .5ex}\n",
              "</style>\n",
              "<ol class=list-inline><li>1</li><li>2</li><li>6</li></ol>\n"
            ],
            "text/markdown": "1. 1\n2. 2\n3. 6\n\n\n",
            "text/latex": "\\begin{enumerate*}\n\\item 1\n\\item 2\n\\item 6\n\\end{enumerate*}\n",
            "text/plain": [
              "[1] 1 2 6"
            ]
          },
          "metadata": {}
        }
      ]
    },
    {
      "cell_type": "code",
      "source": [
        " # 35. Compute mean\n",
        "mean(c(1, 2, 3))"
      ],
      "metadata": {
        "colab": {
          "base_uri": "https://localhost:8080/",
          "height": 34
        },
        "id": "4gbVyKMMDSyV",
        "outputId": "bc2658b2-a228-47fb-dd6e-012fea20f7be"
      },
      "execution_count": 336,
      "outputs": [
        {
          "output_type": "display_data",
          "data": {
            "text/html": [
              "2"
            ],
            "text/markdown": "2",
            "text/latex": "2",
            "text/plain": [
              "[1] 2"
            ]
          },
          "metadata": {}
        }
      ]
    },
    {
      "cell_type": "code",
      "source": [
        "median(c(1, 2, 3, 4))  # Compute median"
      ],
      "metadata": {
        "colab": {
          "base_uri": "https://localhost:8080/",
          "height": 34
        },
        "id": "1K6CGGqpDj8-",
        "outputId": "59b59659-a667-4efe-9748-00ce49e42164"
      },
      "execution_count": 337,
      "outputs": [
        {
          "output_type": "display_data",
          "data": {
            "text/html": [
              "2.5"
            ],
            "text/markdown": "2.5",
            "text/latex": "2.5",
            "text/plain": [
              "[1] 2.5"
            ]
          },
          "metadata": {}
        }
      ]
    },
    {
      "cell_type": "code",
      "source": [
        "min(c(1, 2, 3))  # Find minimum"
      ],
      "metadata": {
        "colab": {
          "base_uri": "https://localhost:8080/",
          "height": 34
        },
        "id": "r81XZ-fjDnFd",
        "outputId": "a2fd999e-2d46-4d3a-a1dd-c27c83f2408f"
      },
      "execution_count": 338,
      "outputs": [
        {
          "output_type": "display_data",
          "data": {
            "text/html": [
              "1"
            ],
            "text/markdown": "1",
            "text/latex": "1",
            "text/plain": [
              "[1] 1"
            ]
          },
          "metadata": {}
        }
      ]
    },
    {
      "cell_type": "code",
      "source": [
        "\n",
        "max(c(1, 2, 3))  # Find maximum"
      ],
      "metadata": {
        "colab": {
          "base_uri": "https://localhost:8080/",
          "height": 34
        },
        "id": "sN-KtPOVDpH7",
        "outputId": "b045c40e-4926-45d5-ce96-94be91dd5d71"
      },
      "execution_count": 339,
      "outputs": [
        {
          "output_type": "display_data",
          "data": {
            "text/html": [
              "3"
            ],
            "text/markdown": "3",
            "text/latex": "3",
            "text/plain": [
              "[1] 3"
            ]
          },
          "metadata": {}
        }
      ]
    },
    {
      "cell_type": "code",
      "source": [
        "range(c(1, 2, 3))  # Find range"
      ],
      "metadata": {
        "colab": {
          "base_uri": "https://localhost:8080/",
          "height": 34
        },
        "id": "KWOgOD9YDrUq",
        "outputId": "ac02d0bb-5983-4ccd-e5e4-12b4d826a3be"
      },
      "execution_count": 340,
      "outputs": [
        {
          "output_type": "display_data",
          "data": {
            "text/html": [
              "<style>\n",
              ".list-inline {list-style: none; margin:0; padding: 0}\n",
              ".list-inline>li {display: inline-block}\n",
              ".list-inline>li:not(:last-child)::after {content: \"\\00b7\"; padding: 0 .5ex}\n",
              "</style>\n",
              "<ol class=list-inline><li>1</li><li>3</li></ol>\n"
            ],
            "text/markdown": "1. 1\n2. 3\n\n\n",
            "text/latex": "\\begin{enumerate*}\n\\item 1\n\\item 3\n\\end{enumerate*}\n",
            "text/plain": [
              "[1] 1 3"
            ]
          },
          "metadata": {}
        }
      ]
    },
    {
      "cell_type": "code",
      "source": [
        "var(c(1, 2, 3))  # Variance"
      ],
      "metadata": {
        "colab": {
          "base_uri": "https://localhost:8080/",
          "height": 34
        },
        "id": "w9lcYp_YDxe1",
        "outputId": "a6a608a2-4a1d-4745-af46-5d1381314650"
      },
      "execution_count": 341,
      "outputs": [
        {
          "output_type": "display_data",
          "data": {
            "text/html": [
              "1"
            ],
            "text/markdown": "1",
            "text/latex": "1",
            "text/plain": [
              "[1] 1"
            ]
          },
          "metadata": {}
        }
      ]
    },
    {
      "cell_type": "code",
      "source": [
        "sd(c(1, 2, 3))  # Standard deviation"
      ],
      "metadata": {
        "colab": {
          "base_uri": "https://localhost:8080/",
          "height": 34
        },
        "id": "P_NdOioRDvXJ",
        "outputId": "29d0fda6-4429-4c26-bd39-951e1a3352db"
      },
      "execution_count": 342,
      "outputs": [
        {
          "output_type": "display_data",
          "data": {
            "text/html": [
              "1"
            ],
            "text/markdown": "1",
            "text/latex": "1",
            "text/plain": [
              "[1] 1"
            ]
          },
          "metadata": {}
        }
      ]
    },
    {
      "cell_type": "code",
      "source": [
        "\n",
        "cov(c(1, 2, 3), c(3, 2, 1))  # Covariance"
      ],
      "metadata": {
        "colab": {
          "base_uri": "https://localhost:8080/",
          "height": 34
        },
        "id": "8SV58ZoJEhLG",
        "outputId": "c47b93be-1897-42a7-9e9c-35ed34640760"
      },
      "execution_count": 343,
      "outputs": [
        {
          "output_type": "display_data",
          "data": {
            "text/html": [
              "-1"
            ],
            "text/markdown": "-1",
            "text/latex": "-1",
            "text/plain": [
              "[1] -1"
            ]
          },
          "metadata": {}
        }
      ]
    },
    {
      "cell_type": "code",
      "source": [
        "cor(c(1, 2, 3), c(3, 2, 1))  # Correlation coefficient"
      ],
      "metadata": {
        "colab": {
          "base_uri": "https://localhost:8080/",
          "height": 34
        },
        "id": "be-YmVr8EdoP",
        "outputId": "9ec3abdb-d454-45b7-976e-15704a9ea58b"
      },
      "execution_count": 344,
      "outputs": [
        {
          "output_type": "display_data",
          "data": {
            "text/html": [
              "-1"
            ],
            "text/markdown": "-1",
            "text/latex": "-1",
            "text/plain": [
              "[1] -1"
            ]
          },
          "metadata": {}
        }
      ]
    },
    {
      "cell_type": "code",
      "source": [
        "quantile(c(1, 2, 3, 4, 5), probs = 0.5)  # Compute quantiles"
      ],
      "metadata": {
        "colab": {
          "base_uri": "https://localhost:8080/",
          "height": 34
        },
        "id": "PEzcErBcD2r3",
        "outputId": "9f88b682-71cf-4f3f-e74f-e59324ee2539"
      },
      "execution_count": 345,
      "outputs": [
        {
          "output_type": "display_data",
          "data": {
            "text/html": [
              "<strong>50%:</strong> 3"
            ],
            "text/markdown": "**50%:** 3",
            "text/latex": "\\textbf{50\\textbackslash{}\\%:} 3",
            "text/plain": [
              "50% \n",
              "  3 "
            ]
          },
          "metadata": {}
        }
      ]
    },
    {
      "cell_type": "code",
      "source": [
        "\n",
        "round(3.14159, 2)  # Round values"
      ],
      "metadata": {
        "colab": {
          "base_uri": "https://localhost:8080/",
          "height": 34
        },
        "id": "ZJPdLW5oD5Jp",
        "outputId": "f49efc1d-a317-4c46-b720-f0f0aade9313"
      },
      "execution_count": 346,
      "outputs": [
        {
          "output_type": "display_data",
          "data": {
            "text/html": [
              "3.14"
            ],
            "text/markdown": "3.14",
            "text/latex": "3.14",
            "text/plain": [
              "[1] 3.14"
            ]
          },
          "metadata": {}
        }
      ]
    },
    {
      "cell_type": "code",
      "source": [
        "ceiling(3.2)  # Round up"
      ],
      "metadata": {
        "colab": {
          "base_uri": "https://localhost:8080/",
          "height": 34
        },
        "id": "TB41IhYCD6zJ",
        "outputId": "55ae38f0-7e3c-4a70-c9dc-39d663b1892d"
      },
      "execution_count": 347,
      "outputs": [
        {
          "output_type": "display_data",
          "data": {
            "text/html": [
              "4"
            ],
            "text/markdown": "4",
            "text/latex": "4",
            "text/plain": [
              "[1] 4"
            ]
          },
          "metadata": {}
        }
      ]
    },
    {
      "cell_type": "code",
      "source": [
        "floor(3.9)  # Round down"
      ],
      "metadata": {
        "colab": {
          "base_uri": "https://localhost:8080/",
          "height": 34
        },
        "id": "oZ-p7k9JD-N8",
        "outputId": "aa1b2a1b-b43a-489e-8564-9cf236df09cf"
      },
      "execution_count": 348,
      "outputs": [
        {
          "output_type": "display_data",
          "data": {
            "text/html": [
              "3"
            ],
            "text/markdown": "3",
            "text/latex": "3",
            "text/plain": [
              "[1] 3"
            ]
          },
          "metadata": {}
        }
      ]
    },
    {
      "cell_type": "code",
      "source": [
        "abs(-5)  # Absolute value"
      ],
      "metadata": {
        "colab": {
          "base_uri": "https://localhost:8080/",
          "height": 34
        },
        "id": "FY9Gs-z1EAD1",
        "outputId": "91e88ac2-fd98-49c3-95f5-15f1c226d2f2"
      },
      "execution_count": 349,
      "outputs": [
        {
          "output_type": "display_data",
          "data": {
            "text/html": [
              "5"
            ],
            "text/markdown": "5",
            "text/latex": "5",
            "text/plain": [
              "[1] 5"
            ]
          },
          "metadata": {}
        }
      ]
    },
    {
      "cell_type": "code",
      "source": [
        "sqrt(9)  # Square root"
      ],
      "metadata": {
        "colab": {
          "base_uri": "https://localhost:8080/",
          "height": 34
        },
        "id": "rhUkgtrxEDNQ",
        "outputId": "3119c1d8-8ecb-4f96-f4d8-2297cf1f9d29"
      },
      "execution_count": 350,
      "outputs": [
        {
          "output_type": "display_data",
          "data": {
            "text/html": [
              "3"
            ],
            "text/markdown": "3",
            "text/latex": "3",
            "text/plain": [
              "[1] 3"
            ]
          },
          "metadata": {}
        }
      ]
    },
    {
      "cell_type": "code",
      "source": [
        "log(10)  # Natural logarithm"
      ],
      "metadata": {
        "colab": {
          "base_uri": "https://localhost:8080/",
          "height": 34
        },
        "id": "PmIeXMg0EIfN",
        "outputId": "f84889e9-0351-4b18-feb7-6973dabb2643"
      },
      "execution_count": 351,
      "outputs": [
        {
          "output_type": "display_data",
          "data": {
            "text/html": [
              "2.30258509299405"
            ],
            "text/markdown": "2.30258509299405",
            "text/latex": "2.30258509299405",
            "text/plain": [
              "[1] 2.302585"
            ]
          },
          "metadata": {}
        }
      ]
    },
    {
      "cell_type": "code",
      "source": [
        "exp(2)  # Exponential function"
      ],
      "metadata": {
        "colab": {
          "base_uri": "https://localhost:8080/",
          "height": 34
        },
        "id": "wYzze5OHEKV7",
        "outputId": "1f2c1a3f-d4bf-43af-a1fe-0d02d7d63dab"
      },
      "execution_count": 352,
      "outputs": [
        {
          "output_type": "display_data",
          "data": {
            "text/html": [
              "7.38905609893065"
            ],
            "text/markdown": "7.38905609893065",
            "text/latex": "7.38905609893065",
            "text/plain": [
              "[1] 7.389056"
            ]
          },
          "metadata": {}
        }
      ]
    },
    {
      "cell_type": "code",
      "source": [
        "\n",
        "factorial(5)  # Compute factorial"
      ],
      "metadata": {
        "colab": {
          "base_uri": "https://localhost:8080/",
          "height": 34
        },
        "id": "GeyphkTLEKIo",
        "outputId": "a1595511-4b7b-40ea-c6c6-987f89465398"
      },
      "execution_count": 353,
      "outputs": [
        {
          "output_type": "display_data",
          "data": {
            "text/html": [
              "120"
            ],
            "text/markdown": "120",
            "text/latex": "120",
            "text/plain": [
              "[1] 120"
            ]
          },
          "metadata": {}
        }
      ]
    },
    {
      "cell_type": "code",
      "source": [
        "choose(5, 2)  # Compute binomial coefficient"
      ],
      "metadata": {
        "colab": {
          "base_uri": "https://localhost:8080/",
          "height": 34
        },
        "id": "HkMU_hvcEKFH",
        "outputId": "9d6b9d66-1fcc-4c96-a5ff-5e324266a3a6"
      },
      "execution_count": 354,
      "outputs": [
        {
          "output_type": "display_data",
          "data": {
            "text/html": [
              "10"
            ],
            "text/markdown": "10",
            "text/latex": "10",
            "text/plain": [
              "[1] 10"
            ]
          },
          "metadata": {}
        }
      ]
    },
    {
      "cell_type": "code",
      "source": [
        "sin(pi/2)  # Sine function"
      ],
      "metadata": {
        "colab": {
          "base_uri": "https://localhost:8080/",
          "height": 34
        },
        "id": "SAZuq2bEEUt5",
        "outputId": "33267b98-0561-4749-f032-b7172970f9a3"
      },
      "execution_count": 355,
      "outputs": [
        {
          "output_type": "display_data",
          "data": {
            "text/html": [
              "1"
            ],
            "text/markdown": "1",
            "text/latex": "1",
            "text/plain": [
              "[1] 1"
            ]
          },
          "metadata": {}
        }
      ]
    },
    {
      "cell_type": "code",
      "source": [
        "cos(0)  # Cosine function"
      ],
      "metadata": {
        "colab": {
          "base_uri": "https://localhost:8080/",
          "height": 34
        },
        "id": "bsxgBxQYEYkJ",
        "outputId": "d3e666cb-da26-4448-e04c-5aeef4b63583"
      },
      "execution_count": 356,
      "outputs": [
        {
          "output_type": "display_data",
          "data": {
            "text/html": [
              "1"
            ],
            "text/markdown": "1",
            "text/latex": "1",
            "text/plain": [
              "[1] 1"
            ]
          },
          "metadata": {}
        }
      ]
    },
    {
      "cell_type": "code",
      "source": [
        "\n",
        "tan(pi/4)  # Tangent function"
      ],
      "metadata": {
        "colab": {
          "base_uri": "https://localhost:8080/",
          "height": 34
        },
        "id": "Z778944AEaN9",
        "outputId": "38a742ce-1f54-493e-beb4-0cd04adc9673"
      },
      "execution_count": 357,
      "outputs": [
        {
          "output_type": "display_data",
          "data": {
            "text/html": [
              "1"
            ],
            "text/markdown": "1",
            "text/latex": "1",
            "text/plain": [
              "[1] 1"
            ]
          },
          "metadata": {}
        }
      ]
    },
    {
      "cell_type": "code",
      "source": [],
      "metadata": {
        "id": "2RtsKdmNEKCR"
      },
      "execution_count": 358,
      "outputs": []
    },
    {
      "cell_type": "markdown",
      "source": [
        "## Data Manipulation"
      ],
      "metadata": {
        "id": "ATQr7-tY6sdU"
      }
    },
    {
      "cell_type": "code",
      "source": [
        "df <- data.frame(A = 1:3, B = c(\"x\", \"y\", \"z\"))  # Create data frame"
      ],
      "metadata": {
        "id": "JGmyA1V9Exdc"
      },
      "execution_count": 359,
      "outputs": []
    },
    {
      "cell_type": "code",
      "source": [
        "lst <- list(a = 1, b = \"hello\")  # Create a list"
      ],
      "metadata": {
        "id": "MAU1Ng3IE34S"
      },
      "execution_count": 360,
      "outputs": []
    },
    {
      "cell_type": "code",
      "source": [
        "\n",
        "mat <- matrix(1:9, nrow = 3)  # Create a matrix"
      ],
      "metadata": {
        "id": "rPOr2uoSE6C-"
      },
      "execution_count": 361,
      "outputs": []
    },
    {
      "cell_type": "code",
      "source": [
        "arr <- array(1:8, dim = c(2, 2, 2))  # Create an array"
      ],
      "metadata": {
        "id": "WdGlMR-EE8-D"
      },
      "execution_count": 362,
      "outputs": []
    },
    {
      "cell_type": "code",
      "source": [
        "\n",
        "t(mat)  # Transpose a matrix"
      ],
      "metadata": {
        "colab": {
          "base_uri": "https://localhost:8080/",
          "height": 163
        },
        "id": "nvhni0lVFAyU",
        "outputId": "675d9b49-ebc3-4136-bf73-c31bc5714d1b"
      },
      "execution_count": 363,
      "outputs": [
        {
          "output_type": "display_data",
          "data": {
            "text/html": [
              "<table class=\"dataframe\">\n",
              "<caption>A matrix: 3 × 3 of type int</caption>\n",
              "<tbody>\n",
              "\t<tr><td>1</td><td>2</td><td>3</td></tr>\n",
              "\t<tr><td>4</td><td>5</td><td>6</td></tr>\n",
              "\t<tr><td>7</td><td>8</td><td>9</td></tr>\n",
              "</tbody>\n",
              "</table>\n"
            ],
            "text/markdown": "\nA matrix: 3 × 3 of type int\n\n| 1 | 2 | 3 |\n| 4 | 5 | 6 |\n| 7 | 8 | 9 |\n\n",
            "text/latex": "A matrix: 3 × 3 of type int\n\\begin{tabular}{lll}\n\t 1 & 2 & 3\\\\\n\t 4 & 5 & 6\\\\\n\t 7 & 8 & 9\\\\\n\\end{tabular}\n",
            "text/plain": [
              "     [,1] [,2] [,3]\n",
              "[1,] 1    2    3   \n",
              "[2,] 4    5    6   \n",
              "[3,] 7    8    9   "
            ]
          },
          "metadata": {}
        }
      ]
    },
    {
      "cell_type": "code",
      "source": [
        "\n",
        "rbind(1:3, 4:6)  # Row bind data"
      ],
      "metadata": {
        "colab": {
          "base_uri": "https://localhost:8080/",
          "height": 132
        },
        "id": "0KPmVIgDFB0P",
        "outputId": "134495f8-6181-4898-d423-f62c52363038"
      },
      "execution_count": 364,
      "outputs": [
        {
          "output_type": "display_data",
          "data": {
            "text/html": [
              "<table class=\"dataframe\">\n",
              "<caption>A matrix: 2 × 3 of type int</caption>\n",
              "<tbody>\n",
              "\t<tr><td>1</td><td>2</td><td>3</td></tr>\n",
              "\t<tr><td>4</td><td>5</td><td>6</td></tr>\n",
              "</tbody>\n",
              "</table>\n"
            ],
            "text/markdown": "\nA matrix: 2 × 3 of type int\n\n| 1 | 2 | 3 |\n| 4 | 5 | 6 |\n\n",
            "text/latex": "A matrix: 2 × 3 of type int\n\\begin{tabular}{lll}\n\t 1 & 2 & 3\\\\\n\t 4 & 5 & 6\\\\\n\\end{tabular}\n",
            "text/plain": [
              "     [,1] [,2] [,3]\n",
              "[1,] 1    2    3   \n",
              "[2,] 4    5    6   "
            ]
          },
          "metadata": {}
        }
      ]
    },
    {
      "cell_type": "code",
      "source": [
        "cbind(1:3, 4:6)  # Column bind data"
      ],
      "metadata": {
        "colab": {
          "base_uri": "https://localhost:8080/",
          "height": 198
        },
        "id": "gh7tt_raFFP_",
        "outputId": "26076a9b-21d4-41e9-f90d-cc045bad8d5b"
      },
      "execution_count": 365,
      "outputs": [
        {
          "output_type": "display_data",
          "data": {
            "text/html": [
              "<table class=\"dataframe\">\n",
              "<caption>A matrix: 3 × 2 of type int</caption>\n",
              "<tbody>\n",
              "\t<tr><td>1</td><td>4</td></tr>\n",
              "\t<tr><td>2</td><td>5</td></tr>\n",
              "\t<tr><td>3</td><td>6</td></tr>\n",
              "</tbody>\n",
              "</table>\n"
            ],
            "text/markdown": "\nA matrix: 3 × 2 of type int\n\n| 1 | 4 |\n| 2 | 5 |\n| 3 | 6 |\n\n",
            "text/latex": "A matrix: 3 × 2 of type int\n\\begin{tabular}{ll}\n\t 1 & 4\\\\\n\t 2 & 5\\\\\n\t 3 & 6\\\\\n\\end{tabular}\n",
            "text/plain": [
              "     [,1] [,2]\n",
              "[1,] 1    4   \n",
              "[2,] 2    5   \n",
              "[3,] 3    6   "
            ]
          },
          "metadata": {}
        }
      ]
    },
    {
      "cell_type": "code",
      "source": [
        "\n",
        "dim(mat)  # Get dimensions of matrix/dataframe"
      ],
      "metadata": {
        "colab": {
          "base_uri": "https://localhost:8080/",
          "height": 34
        },
        "id": "OuRA-7THFGtN",
        "outputId": "f8b1f637-47fd-48e4-eec8-8810847cd39b"
      },
      "execution_count": 366,
      "outputs": [
        {
          "output_type": "display_data",
          "data": {
            "text/html": [
              "<style>\n",
              ".list-inline {list-style: none; margin:0; padding: 0}\n",
              ".list-inline>li {display: inline-block}\n",
              ".list-inline>li:not(:last-child)::after {content: \"\\00b7\"; padding: 0 .5ex}\n",
              "</style>\n",
              "<ol class=list-inline><li>3</li><li>3</li></ol>\n"
            ],
            "text/markdown": "1. 3\n2. 3\n\n\n",
            "text/latex": "\\begin{enumerate*}\n\\item 3\n\\item 3\n\\end{enumerate*}\n",
            "text/plain": [
              "[1] 3 3"
            ]
          },
          "metadata": {}
        }
      ]
    },
    {
      "cell_type": "code",
      "source": [
        "nrow(df)  # Number of rows"
      ],
      "metadata": {
        "colab": {
          "base_uri": "https://localhost:8080/",
          "height": 34
        },
        "id": "gm-Q1k83FGp3",
        "outputId": "b2b07c00-89e6-4d87-bead-bd3cf505391e"
      },
      "execution_count": 367,
      "outputs": [
        {
          "output_type": "display_data",
          "data": {
            "text/html": [
              "3"
            ],
            "text/markdown": "3",
            "text/latex": "3",
            "text/plain": [
              "[1] 3"
            ]
          },
          "metadata": {}
        }
      ]
    },
    {
      "cell_type": "code",
      "source": [
        "ncol(df)  # Number of columns"
      ],
      "metadata": {
        "colab": {
          "base_uri": "https://localhost:8080/",
          "height": 34
        },
        "id": "2aIOi-7YFK4o",
        "outputId": "1d713f46-f604-4443-b38e-74574a2f1289"
      },
      "execution_count": 368,
      "outputs": [
        {
          "output_type": "display_data",
          "data": {
            "text/html": [
              "2"
            ],
            "text/markdown": "2",
            "text/latex": "2",
            "text/plain": [
              "[1] 2"
            ]
          },
          "metadata": {}
        }
      ]
    },
    {
      "cell_type": "code",
      "source": [
        "names(df)  # Get or set column names"
      ],
      "metadata": {
        "colab": {
          "base_uri": "https://localhost:8080/",
          "height": 34
        },
        "id": "EV7MgSifFMqb",
        "outputId": "ebfc3be1-38a9-49e3-cea1-178b7c848f4f"
      },
      "execution_count": 369,
      "outputs": [
        {
          "output_type": "display_data",
          "data": {
            "text/html": [
              "<style>\n",
              ".list-inline {list-style: none; margin:0; padding: 0}\n",
              ".list-inline>li {display: inline-block}\n",
              ".list-inline>li:not(:last-child)::after {content: \"\\00b7\"; padding: 0 .5ex}\n",
              "</style>\n",
              "<ol class=list-inline><li>'A'</li><li>'B'</li></ol>\n"
            ],
            "text/markdown": "1. 'A'\n2. 'B'\n\n\n",
            "text/latex": "\\begin{enumerate*}\n\\item 'A'\n\\item 'B'\n\\end{enumerate*}\n",
            "text/plain": [
              "[1] \"A\" \"B\""
            ]
          },
          "metadata": {}
        }
      ]
    },
    {
      "cell_type": "code",
      "source": [
        "colnames(df)  # Get/set column names"
      ],
      "metadata": {
        "colab": {
          "base_uri": "https://localhost:8080/",
          "height": 34
        },
        "id": "51jHiaCLFOZX",
        "outputId": "82d8cd71-0b2b-4737-d783-3cae578f7559"
      },
      "execution_count": 370,
      "outputs": [
        {
          "output_type": "display_data",
          "data": {
            "text/html": [
              "<style>\n",
              ".list-inline {list-style: none; margin:0; padding: 0}\n",
              ".list-inline>li {display: inline-block}\n",
              ".list-inline>li:not(:last-child)::after {content: \"\\00b7\"; padding: 0 .5ex}\n",
              "</style>\n",
              "<ol class=list-inline><li>'A'</li><li>'B'</li></ol>\n"
            ],
            "text/markdown": "1. 'A'\n2. 'B'\n\n\n",
            "text/latex": "\\begin{enumerate*}\n\\item 'A'\n\\item 'B'\n\\end{enumerate*}\n",
            "text/plain": [
              "[1] \"A\" \"B\""
            ]
          },
          "metadata": {}
        }
      ]
    },
    {
      "cell_type": "code",
      "source": [
        "rownames(df)  # Get/set row names"
      ],
      "metadata": {
        "colab": {
          "base_uri": "https://localhost:8080/",
          "height": 34
        },
        "id": "gIr2u1bWFQBi",
        "outputId": "db51a1f5-4786-463f-f786-9c080d3dd964"
      },
      "execution_count": 371,
      "outputs": [
        {
          "output_type": "display_data",
          "data": {
            "text/html": [
              "<style>\n",
              ".list-inline {list-style: none; margin:0; padding: 0}\n",
              ".list-inline>li {display: inline-block}\n",
              ".list-inline>li:not(:last-child)::after {content: \"\\00b7\"; padding: 0 .5ex}\n",
              "</style>\n",
              "<ol class=list-inline><li>'1'</li><li>'2'</li><li>'3'</li></ol>\n"
            ],
            "text/markdown": "1. '1'\n2. '2'\n3. '3'\n\n\n",
            "text/latex": "\\begin{enumerate*}\n\\item '1'\n\\item '2'\n\\item '3'\n\\end{enumerate*}\n",
            "text/plain": [
              "[1] \"1\" \"2\" \"3\""
            ]
          },
          "metadata": {}
        }
      ]
    },
    {
      "cell_type": "code",
      "source": [
        "\n",
        "subset(df, A > 1)  # Subset data"
      ],
      "metadata": {
        "colab": {
          "base_uri": "https://localhost:8080/",
          "height": 160
        },
        "id": "yIT7AmJDFRID",
        "outputId": "1c7911a2-f585-423d-eeae-7c2e3bd77786"
      },
      "execution_count": 372,
      "outputs": [
        {
          "output_type": "display_data",
          "data": {
            "text/html": [
              "<table class=\"dataframe\">\n",
              "<caption>A data.frame: 2 × 2</caption>\n",
              "<thead>\n",
              "\t<tr><th></th><th scope=col>A</th><th scope=col>B</th></tr>\n",
              "\t<tr><th></th><th scope=col>&lt;int&gt;</th><th scope=col>&lt;chr&gt;</th></tr>\n",
              "</thead>\n",
              "<tbody>\n",
              "\t<tr><th scope=row>2</th><td>2</td><td>y</td></tr>\n",
              "\t<tr><th scope=row>3</th><td>3</td><td>z</td></tr>\n",
              "</tbody>\n",
              "</table>\n"
            ],
            "text/markdown": "\nA data.frame: 2 × 2\n\n| <!--/--> | A &lt;int&gt; | B &lt;chr&gt; |\n|---|---|---|\n| 2 | 2 | y |\n| 3 | 3 | z |\n\n",
            "text/latex": "A data.frame: 2 × 2\n\\begin{tabular}{r|ll}\n  & A & B\\\\\n  & <int> & <chr>\\\\\n\\hline\n\t2 & 2 & y\\\\\n\t3 & 3 & z\\\\\n\\end{tabular}\n",
            "text/plain": [
              "  A B\n",
              "2 2 y\n",
              "3 3 z"
            ]
          },
          "metadata": {}
        }
      ]
    },
    {
      "cell_type": "code",
      "source": [
        "merge(data.frame(ID = 1:2), data.frame(ID = 2:3, Value = c(\"A\", \"B\")))  # Merge data frames"
      ],
      "metadata": {
        "colab": {
          "base_uri": "https://localhost:8080/",
          "height": 146
        },
        "id": "u7umrBqyFTcx",
        "outputId": "f68e2827-d93e-4f55-80d9-18af381a404a"
      },
      "execution_count": 373,
      "outputs": [
        {
          "output_type": "display_data",
          "data": {
            "text/html": [
              "<table class=\"dataframe\">\n",
              "<caption>A data.frame: 1 × 2</caption>\n",
              "<thead>\n",
              "\t<tr><th scope=col>ID</th><th scope=col>Value</th></tr>\n",
              "\t<tr><th scope=col>&lt;int&gt;</th><th scope=col>&lt;chr&gt;</th></tr>\n",
              "</thead>\n",
              "<tbody>\n",
              "\t<tr><td>2</td><td>A</td></tr>\n",
              "</tbody>\n",
              "</table>\n"
            ],
            "text/markdown": "\nA data.frame: 1 × 2\n\n| ID &lt;int&gt; | Value &lt;chr&gt; |\n|---|---|\n| 2 | A |\n\n",
            "text/latex": "A data.frame: 1 × 2\n\\begin{tabular}{ll}\n ID & Value\\\\\n <int> & <chr>\\\\\n\\hline\n\t 2 & A\\\\\n\\end{tabular}\n",
            "text/plain": [
              "  ID Value\n",
              "1 2  A    "
            ]
          },
          "metadata": {}
        }
      ]
    },
    {
      "cell_type": "code",
      "source": [
        "apply(mat, 1, sum)  # Apply function over array margins"
      ],
      "metadata": {
        "colab": {
          "base_uri": "https://localhost:8080/",
          "height": 34
        },
        "id": "CJncEyw-FUyv",
        "outputId": "1d187a9d-7d2d-457f-f8e1-36994b8f00c6"
      },
      "execution_count": 374,
      "outputs": [
        {
          "output_type": "display_data",
          "data": {
            "text/html": [
              "<style>\n",
              ".list-inline {list-style: none; margin:0; padding: 0}\n",
              ".list-inline>li {display: inline-block}\n",
              ".list-inline>li:not(:last-child)::after {content: \"\\00b7\"; padding: 0 .5ex}\n",
              "</style>\n",
              "<ol class=list-inline><li>12</li><li>15</li><li>18</li></ol>\n"
            ],
            "text/markdown": "1. 12\n2. 15\n3. 18\n\n\n",
            "text/latex": "\\begin{enumerate*}\n\\item 12\n\\item 15\n\\item 18\n\\end{enumerate*}\n",
            "text/plain": [
              "[1] 12 15 18"
            ]
          },
          "metadata": {}
        }
      ]
    },
    {
      "cell_type": "code",
      "source": [
        "\n",
        "lapply(lst, class)  # Apply function over list"
      ],
      "metadata": {
        "colab": {
          "base_uri": "https://localhost:8080/",
          "height": 114
        },
        "id": "vCEKvJAEFWD-",
        "outputId": "0ffc7ced-bf28-440a-966c-bfeff143e3e3"
      },
      "execution_count": 375,
      "outputs": [
        {
          "output_type": "display_data",
          "data": {
            "text/html": [
              "<dl>\n",
              "\t<dt>$a</dt>\n",
              "\t\t<dd>'numeric'</dd>\n",
              "\t<dt>$b</dt>\n",
              "\t\t<dd>'character'</dd>\n",
              "</dl>\n"
            ],
            "text/markdown": "$a\n:   'numeric'\n$b\n:   'character'\n\n\n",
            "text/latex": "\\begin{description}\n\\item[\\$a] 'numeric'\n\\item[\\$b] 'character'\n\\end{description}\n",
            "text/plain": [
              "$a\n",
              "[1] \"numeric\"\n",
              "\n",
              "$b\n",
              "[1] \"character\"\n"
            ]
          },
          "metadata": {}
        }
      ]
    },
    {
      "cell_type": "code",
      "source": [
        "sapply(lst, class)  # Simplified apply over list"
      ],
      "metadata": {
        "colab": {
          "base_uri": "https://localhost:8080/",
          "height": 34
        },
        "id": "tbPGkz8jFXWX",
        "outputId": "17809f66-a2cc-4f02-a864-f31cf49d0da2"
      },
      "execution_count": 376,
      "outputs": [
        {
          "output_type": "display_data",
          "data": {
            "text/html": [
              "<style>\n",
              ".dl-inline {width: auto; margin:0; padding: 0}\n",
              ".dl-inline>dt, .dl-inline>dd {float: none; width: auto; display: inline-block}\n",
              ".dl-inline>dt::after {content: \":\\0020\"; padding-right: .5ex}\n",
              ".dl-inline>dt:not(:first-of-type) {padding-left: .5ex}\n",
              "</style><dl class=dl-inline><dt>a</dt><dd>'numeric'</dd><dt>b</dt><dd>'character'</dd></dl>\n"
            ],
            "text/markdown": "a\n:   'numeric'b\n:   'character'\n\n",
            "text/latex": "\\begin{description*}\n\\item[a] 'numeric'\n\\item[b] 'character'\n\\end{description*}\n",
            "text/plain": [
              "          a           b \n",
              "  \"numeric\" \"character\" "
            ]
          },
          "metadata": {}
        }
      ]
    },
    {
      "cell_type": "code",
      "source": [
        "\n",
        "tapply(1:10, rep(1:2, each = 5), sum)  # Apply function over subsets"
      ],
      "metadata": {
        "colab": {
          "base_uri": "https://localhost:8080/",
          "height": 34
        },
        "id": "z9Zk2I47FYfO",
        "outputId": "0caecd13-9fce-4f3b-de51-d8a8bddfbb27"
      },
      "execution_count": 377,
      "outputs": [
        {
          "output_type": "display_data",
          "data": {
            "text/html": [
              "<style>\n",
              ".dl-inline {width: auto; margin:0; padding: 0}\n",
              ".dl-inline>dt, .dl-inline>dd {float: none; width: auto; display: inline-block}\n",
              ".dl-inline>dt::after {content: \":\\0020\"; padding-right: .5ex}\n",
              ".dl-inline>dt:not(:first-of-type) {padding-left: .5ex}\n",
              "</style><dl class=dl-inline><dt>1</dt><dd>15</dd><dt>2</dt><dd>40</dd></dl>\n"
            ],
            "text/markdown": "1\n:   152\n:   40\n\n",
            "text/latex": "\\begin{description*}\n\\item[1] 15\n\\item[2] 40\n\\end{description*}\n",
            "text/plain": [
              " 1  2 \n",
              "15 40 "
            ]
          },
          "metadata": {}
        }
      ]
    },
    {
      "cell_type": "code",
      "source": [
        "\n",
        "aggregate(A ~ B, df, sum)  # Aggregate data"
      ],
      "metadata": {
        "colab": {
          "base_uri": "https://localhost:8080/",
          "height": 209
        },
        "id": "CFJ_TekdFZyi",
        "outputId": "6bab3c0f-175c-42b9-ceb3-b53db41498b6"
      },
      "execution_count": 378,
      "outputs": [
        {
          "output_type": "display_data",
          "data": {
            "text/html": [
              "<table class=\"dataframe\">\n",
              "<caption>A data.frame: 3 × 2</caption>\n",
              "<thead>\n",
              "\t<tr><th scope=col>B</th><th scope=col>A</th></tr>\n",
              "\t<tr><th scope=col>&lt;chr&gt;</th><th scope=col>&lt;int&gt;</th></tr>\n",
              "</thead>\n",
              "<tbody>\n",
              "\t<tr><td>x</td><td>1</td></tr>\n",
              "\t<tr><td>y</td><td>2</td></tr>\n",
              "\t<tr><td>z</td><td>3</td></tr>\n",
              "</tbody>\n",
              "</table>\n"
            ],
            "text/markdown": "\nA data.frame: 3 × 2\n\n| B &lt;chr&gt; | A &lt;int&gt; |\n|---|---|\n| x | 1 |\n| y | 2 |\n| z | 3 |\n\n",
            "text/latex": "A data.frame: 3 × 2\n\\begin{tabular}{ll}\n B & A\\\\\n <chr> & <int>\\\\\n\\hline\n\t x & 1\\\\\n\t y & 2\\\\\n\t z & 3\\\\\n\\end{tabular}\n",
            "text/plain": [
              "  B A\n",
              "1 x 1\n",
              "2 y 2\n",
              "3 z 3"
            ]
          },
          "metadata": {}
        }
      ]
    },
    {
      "cell_type": "code",
      "source": [
        "\n",
        "split(1:10, rep(1:2, each = 5))  # Split data into groups"
      ],
      "metadata": {
        "colab": {
          "base_uri": "https://localhost:8080/",
          "height": 114
        },
        "id": "YchHcM65Fa9C",
        "outputId": "6f3b691e-7eb9-4517-cfdf-83e40fd4f509"
      },
      "execution_count": 379,
      "outputs": [
        {
          "output_type": "display_data",
          "data": {
            "text/html": [
              "<dl>\n",
              "\t<dt>$`1`</dt>\n",
              "\t\t<dd><style>\n",
              ".list-inline {list-style: none; margin:0; padding: 0}\n",
              ".list-inline>li {display: inline-block}\n",
              ".list-inline>li:not(:last-child)::after {content: \"\\00b7\"; padding: 0 .5ex}\n",
              "</style>\n",
              "<ol class=list-inline><li>1</li><li>2</li><li>3</li><li>4</li><li>5</li></ol>\n",
              "</dd>\n",
              "\t<dt>$`2`</dt>\n",
              "\t\t<dd><style>\n",
              ".list-inline {list-style: none; margin:0; padding: 0}\n",
              ".list-inline>li {display: inline-block}\n",
              ".list-inline>li:not(:last-child)::after {content: \"\\00b7\"; padding: 0 .5ex}\n",
              "</style>\n",
              "<ol class=list-inline><li>6</li><li>7</li><li>8</li><li>9</li><li>10</li></ol>\n",
              "</dd>\n",
              "</dl>\n"
            ],
            "text/markdown": "$`1`\n:   1. 1\n2. 2\n3. 3\n4. 4\n5. 5\n\n\n\n$`2`\n:   1. 6\n2. 7\n3. 8\n4. 9\n5. 10\n\n\n\n\n\n",
            "text/latex": "\\begin{description}\n\\item[\\$`1`] \\begin{enumerate*}\n\\item 1\n\\item 2\n\\item 3\n\\item 4\n\\item 5\n\\end{enumerate*}\n\n\\item[\\$`2`] \\begin{enumerate*}\n\\item 6\n\\item 7\n\\item 8\n\\item 9\n\\item 10\n\\end{enumerate*}\n\n\\end{description}\n",
            "text/plain": [
              "$`1`\n",
              "[1] 1 2 3 4 5\n",
              "\n",
              "$`2`\n",
              "[1]  6  7  8  9 10\n"
            ]
          },
          "metadata": {}
        }
      ]
    },
    {
      "cell_type": "code",
      "source": [
        "stack(df)  # Stack dataframe columns"
      ],
      "metadata": {
        "colab": {
          "base_uri": "https://localhost:8080/",
          "height": 303
        },
        "id": "_OEz4Lj3FcUO",
        "outputId": "db974f1e-7b3b-451c-c376-d5d00dd93b53"
      },
      "execution_count": 380,
      "outputs": [
        {
          "output_type": "display_data",
          "data": {
            "text/html": [
              "<table class=\"dataframe\">\n",
              "<caption>A data.frame: 6 × 2</caption>\n",
              "<thead>\n",
              "\t<tr><th scope=col>values</th><th scope=col>ind</th></tr>\n",
              "\t<tr><th scope=col>&lt;chr&gt;</th><th scope=col>&lt;fct&gt;</th></tr>\n",
              "</thead>\n",
              "<tbody>\n",
              "\t<tr><td>1</td><td>A</td></tr>\n",
              "\t<tr><td>2</td><td>A</td></tr>\n",
              "\t<tr><td>3</td><td>A</td></tr>\n",
              "\t<tr><td>x</td><td>B</td></tr>\n",
              "\t<tr><td>y</td><td>B</td></tr>\n",
              "\t<tr><td>z</td><td>B</td></tr>\n",
              "</tbody>\n",
              "</table>\n"
            ],
            "text/markdown": "\nA data.frame: 6 × 2\n\n| values &lt;chr&gt; | ind &lt;fct&gt; |\n|---|---|\n| 1 | A |\n| 2 | A |\n| 3 | A |\n| x | B |\n| y | B |\n| z | B |\n\n",
            "text/latex": "A data.frame: 6 × 2\n\\begin{tabular}{ll}\n values & ind\\\\\n <chr> & <fct>\\\\\n\\hline\n\t 1 & A\\\\\n\t 2 & A\\\\\n\t 3 & A\\\\\n\t x & B\\\\\n\t y & B\\\\\n\t z & B\\\\\n\\end{tabular}\n",
            "text/plain": [
              "  values ind\n",
              "1 1      A  \n",
              "2 2      A  \n",
              "3 3      A  \n",
              "4 x      B  \n",
              "5 y      B  \n",
              "6 z      B  "
            ]
          },
          "metadata": {}
        }
      ]
    },
    {
      "cell_type": "code",
      "source": [
        "unstack(stack(df))  # Unstack stacked data"
      ],
      "metadata": {
        "colab": {
          "base_uri": "https://localhost:8080/",
          "height": 209
        },
        "id": "NryrT1fZFd8F",
        "outputId": "66b58ec1-ecc7-4897-fef7-673015883ecb"
      },
      "execution_count": 381,
      "outputs": [
        {
          "output_type": "display_data",
          "data": {
            "text/html": [
              "<table class=\"dataframe\">\n",
              "<caption>A data.frame: 3 × 2</caption>\n",
              "<thead>\n",
              "\t<tr><th scope=col>A</th><th scope=col>B</th></tr>\n",
              "\t<tr><th scope=col>&lt;chr&gt;</th><th scope=col>&lt;chr&gt;</th></tr>\n",
              "</thead>\n",
              "<tbody>\n",
              "\t<tr><td>1</td><td>x</td></tr>\n",
              "\t<tr><td>2</td><td>y</td></tr>\n",
              "\t<tr><td>3</td><td>z</td></tr>\n",
              "</tbody>\n",
              "</table>\n"
            ],
            "text/markdown": "\nA data.frame: 3 × 2\n\n| A &lt;chr&gt; | B &lt;chr&gt; |\n|---|---|\n| 1 | x |\n| 2 | y |\n| 3 | z |\n\n",
            "text/latex": "A data.frame: 3 × 2\n\\begin{tabular}{ll}\n A & B\\\\\n <chr> & <chr>\\\\\n\\hline\n\t 1 & x\\\\\n\t 2 & y\\\\\n\t 3 & z\\\\\n\\end{tabular}\n",
            "text/plain": [
              "  A B\n",
              "1 1 x\n",
              "2 2 y\n",
              "3 3 z"
            ]
          },
          "metadata": {}
        }
      ]
    },
    {
      "cell_type": "code",
      "source": [
        "\n",
        "reshape(df, varying = list(1:2), direction = \"long\")  # Reshape data"
      ],
      "metadata": {
        "colab": {
          "base_uri": "https://localhost:8080/",
          "height": 286
        },
        "id": "gkzFgo2iFfDx",
        "outputId": "85780c2a-5f1d-443a-a9e3-a1dcecccbdd6"
      },
      "execution_count": 382,
      "outputs": [
        {
          "output_type": "display_data",
          "data": {
            "text/html": [
              "<table class=\"dataframe\">\n",
              "<caption>A data.frame: 6 × 3</caption>\n",
              "<thead>\n",
              "\t<tr><th></th><th scope=col>time</th><th scope=col>A</th><th scope=col>id</th></tr>\n",
              "\t<tr><th></th><th scope=col>&lt;int&gt;</th><th scope=col>&lt;chr&gt;</th><th scope=col>&lt;int&gt;</th></tr>\n",
              "</thead>\n",
              "<tbody>\n",
              "\t<tr><th scope=row>1.1</th><td>1</td><td>1</td><td>1</td></tr>\n",
              "\t<tr><th scope=row>2.1</th><td>1</td><td>2</td><td>2</td></tr>\n",
              "\t<tr><th scope=row>3.1</th><td>1</td><td>3</td><td>3</td></tr>\n",
              "\t<tr><th scope=row>1.2</th><td>2</td><td>x</td><td>1</td></tr>\n",
              "\t<tr><th scope=row>2.2</th><td>2</td><td>y</td><td>2</td></tr>\n",
              "\t<tr><th scope=row>3.2</th><td>2</td><td>z</td><td>3</td></tr>\n",
              "</tbody>\n",
              "</table>\n"
            ],
            "text/markdown": "\nA data.frame: 6 × 3\n\n| <!--/--> | time &lt;int&gt; | A &lt;chr&gt; | id &lt;int&gt; |\n|---|---|---|---|\n| 1.1 | 1 | 1 | 1 |\n| 2.1 | 1 | 2 | 2 |\n| 3.1 | 1 | 3 | 3 |\n| 1.2 | 2 | x | 1 |\n| 2.2 | 2 | y | 2 |\n| 3.2 | 2 | z | 3 |\n\n",
            "text/latex": "A data.frame: 6 × 3\n\\begin{tabular}{r|lll}\n  & time & A & id\\\\\n  & <int> & <chr> & <int>\\\\\n\\hline\n\t1.1 & 1 & 1 & 1\\\\\n\t2.1 & 1 & 2 & 2\\\\\n\t3.1 & 1 & 3 & 3\\\\\n\t1.2 & 2 & x & 1\\\\\n\t2.2 & 2 & y & 2\\\\\n\t3.2 & 2 & z & 3\\\\\n\\end{tabular}\n",
            "text/plain": [
              "    time A id\n",
              "1.1 1    1 1 \n",
              "2.1 1    2 2 \n",
              "3.1 1    3 3 \n",
              "1.2 2    x 1 \n",
              "2.2 2    y 2 \n",
              "3.2 2    z 3 "
            ]
          },
          "metadata": {}
        }
      ]
    },
    {
      "cell_type": "markdown",
      "source": [
        "## Control Flow & Programming"
      ],
      "metadata": {
        "id": "ZsfYy_Uq6wxF"
      }
    },
    {
      "cell_type": "code",
      "source": [
        "ifelse(c(1, 2, 3) > 2, \"big\", \"small\")  # Vectorized conditional statement"
      ],
      "metadata": {
        "colab": {
          "base_uri": "https://localhost:8080/",
          "height": 34
        },
        "id": "s46tNVYpGXnJ",
        "outputId": "de99a35b-4329-49dd-ecb0-be7324e35965"
      },
      "execution_count": 383,
      "outputs": [
        {
          "output_type": "display_data",
          "data": {
            "text/html": [
              "<style>\n",
              ".list-inline {list-style: none; margin:0; padding: 0}\n",
              ".list-inline>li {display: inline-block}\n",
              ".list-inline>li:not(:last-child)::after {content: \"\\00b7\"; padding: 0 .5ex}\n",
              "</style>\n",
              "<ol class=list-inline><li>'small'</li><li>'small'</li><li>'big'</li></ol>\n"
            ],
            "text/markdown": "1. 'small'\n2. 'small'\n3. 'big'\n\n\n",
            "text/latex": "\\begin{enumerate*}\n\\item 'small'\n\\item 'small'\n\\item 'big'\n\\end{enumerate*}\n",
            "text/plain": [
              "[1] \"small\" \"small\" \"big\"  "
            ]
          },
          "metadata": {}
        }
      ]
    },
    {
      "cell_type": "code",
      "source": [
        "for(i in 1:5) print(i)  # Loop over sequence"
      ],
      "metadata": {
        "colab": {
          "base_uri": "https://localhost:8080/"
        },
        "id": "GljbWrrJGak6",
        "outputId": "21d527a1-4008-436f-bce4-a528e573e4b9"
      },
      "execution_count": 384,
      "outputs": [
        {
          "output_type": "stream",
          "name": "stdout",
          "text": [
            "[1] 1\n",
            "[1] 2\n",
            "[1] 3\n",
            "[1] 4\n",
            "[1] 5\n"
          ]
        }
      ]
    },
    {
      "cell_type": "code",
      "source": [
        "i <- 1; while(i <= 3) { print(i); i <- i + 1 }  # Loop while condition holds"
      ],
      "metadata": {
        "colab": {
          "base_uri": "https://localhost:8080/"
        },
        "id": "3PqL09oPGd6Q",
        "outputId": "767df34a-febd-4295-afdc-f0322cd332bb"
      },
      "execution_count": 385,
      "outputs": [
        {
          "output_type": "stream",
          "name": "stdout",
          "text": [
            "[1] 1\n",
            "[1] 2\n",
            "[1] 3\n"
          ]
        }
      ]
    },
    {
      "cell_type": "code",
      "source": [
        "repeat { print(\"Looping\"); break }  # Infinite loop (until break)"
      ],
      "metadata": {
        "colab": {
          "base_uri": "https://localhost:8080/"
        },
        "id": "AgG5iJWtGfdF",
        "outputId": "26f358f8-fc56-45f8-cebf-b9bb12dd13bc"
      },
      "execution_count": 386,
      "outputs": [
        {
          "output_type": "stream",
          "name": "stdout",
          "text": [
            "[1] \"Looping\"\n"
          ]
        }
      ]
    },
    {
      "cell_type": "code",
      "source": [
        "return(10)  # Return value from function"
      ],
      "metadata": {
        "colab": {
          "base_uri": "https://localhost:8080/",
          "height": 34
        },
        "id": "1nC2vs4TGgzg",
        "outputId": "dc983e20-77a3-4d70-dabc-4d830e493cb9"
      },
      "execution_count": 387,
      "outputs": [
        {
          "output_type": "display_data",
          "data": {
            "text/html": [
              "10"
            ],
            "text/markdown": "10",
            "text/latex": "10",
            "text/plain": [
              "[1] 10"
            ]
          },
          "metadata": {}
        }
      ]
    },
    {
      "cell_type": "code",
      "source": [
        "stop(\"Error!\")  # Halt execution with error"
      ],
      "metadata": {
        "colab": {
          "base_uri": "https://localhost:8080/",
          "height": 228
        },
        "id": "3jCbq1ihGlLp",
        "outputId": "3e38b07d-bfed-42d7-b919-09a5ed72b962"
      },
      "execution_count": 388,
      "outputs": [
        {
          "output_type": "error",
          "ename": "ERROR",
          "evalue": "Error: Error!\n",
          "traceback": [
            "Error: Error!\nTraceback:\n",
            "1. .handleSimpleError(function (cnd) \n . {\n .     watcher$capture_plot_and_output()\n .     cnd <- sanitize_call(cnd)\n .     watcher$push(cnd)\n .     switch(on_error, continue = invokeRestart(\"eval_continue\"), \n .         stop = invokeRestart(\"eval_stop\"), error = NULL)\n . }, \"Error!\", base::quote(eval(expr, envir)))"
          ]
        }
      ]
    },
    {
      "cell_type": "code",
      "source": [
        "warning(\"Warning!\")  # Generate a warning message"
      ],
      "metadata": {
        "colab": {
          "base_uri": "https://localhost:8080/"
        },
        "id": "_NfbKw3HGpC3",
        "outputId": "d57b1fa7-dc39-4761-bc57-ea791c6f6f5a"
      },
      "execution_count": 389,
      "outputs": [
        {
          "output_type": "stream",
          "name": "stderr",
          "text": [
            "Warning message:\n",
            "“Warning!”\n"
          ]
        }
      ]
    },
    {
      "cell_type": "code",
      "source": [
        "try(log(\"A\"))  # Catch errors"
      ],
      "metadata": {
        "colab": {
          "base_uri": "https://localhost:8080/"
        },
        "id": "L16-A2FrGqkN",
        "outputId": "89396b0f-52de-4e93-dcb0-5c37b07ca668"
      },
      "execution_count": 390,
      "outputs": [
        {
          "output_type": "stream",
          "name": "stdout",
          "text": [
            "Error in log(\"A\") : non-numeric argument to mathematical function\n"
          ]
        }
      ]
    },
    {
      "cell_type": "code",
      "source": [
        "tryCatch(log(\"A\"), error = function(e) print(\"Error handled\"))  # Advanced error handling"
      ],
      "metadata": {
        "colab": {
          "base_uri": "https://localhost:8080/"
        },
        "id": "8LEvfRagGsee",
        "outputId": "6f599f4f-d137-4ae4-c735-6243639f9eac"
      },
      "execution_count": 391,
      "outputs": [
        {
          "output_type": "stream",
          "name": "stdout",
          "text": [
            "[1] \"Error handled\"\n"
          ]
        }
      ]
    },
    {
      "cell_type": "markdown",
      "source": [
        "## Working with Files"
      ],
      "metadata": {
        "id": "rweFWEAI631r"
      }
    },
    {
      "cell_type": "code",
      "source": [
        "getwd()  # Get working directory"
      ],
      "metadata": {
        "id": "vND89cFEsSPr",
        "colab": {
          "base_uri": "https://localhost:8080/",
          "height": 34
        },
        "outputId": "9d4042d4-44b4-4b25-a032-88e3b1375a84"
      },
      "execution_count": 392,
      "outputs": [
        {
          "output_type": "display_data",
          "data": {
            "text/html": [
              "'/content/sample_data'"
            ],
            "text/markdown": "'/content/sample_data'",
            "text/latex": "'/content/sample\\_data'",
            "text/plain": [
              "[1] \"/content/sample_data\""
            ]
          },
          "metadata": {}
        }
      ]
    },
    {
      "cell_type": "code",
      "source": [
        "setwd(\"/content/sample_data\")  # Set working directory"
      ],
      "metadata": {
        "id": "5EhpQYTHHban"
      },
      "execution_count": 393,
      "outputs": []
    },
    {
      "cell_type": "code",
      "source": [
        "list.files()  # List files in directory"
      ],
      "metadata": {
        "colab": {
          "base_uri": "https://localhost:8080/",
          "height": 34
        },
        "id": "SbhvhhK6HY45",
        "outputId": "bac68dce-1500-4f9b-f972-83be7ec6e1d9"
      },
      "execution_count": 394,
      "outputs": [
        {
          "output_type": "display_data",
          "data": {
            "text/html": [
              "<style>\n",
              ".list-inline {list-style: none; margin:0; padding: 0}\n",
              ".list-inline>li {display: inline-block}\n",
              ".list-inline>li:not(:last-child)::after {content: \"\\00b7\"; padding: 0 .5ex}\n",
              "</style>\n",
              "<ol class=list-inline><li>'anscombe.json'</li><li>'california_housing_test.csv'</li><li>'california_housing_train.csv'</li><li>'data.csv'</li><li>'data.rds'</li><li>'mnist_test.csv'</li><li>'mnist_train_small.csv'</li><li>'README.md'</li></ol>\n"
            ],
            "text/markdown": "1. 'anscombe.json'\n2. 'california_housing_test.csv'\n3. 'california_housing_train.csv'\n4. 'data.csv'\n5. 'data.rds'\n6. 'mnist_test.csv'\n7. 'mnist_train_small.csv'\n8. 'README.md'\n\n\n",
            "text/latex": "\\begin{enumerate*}\n\\item 'anscombe.json'\n\\item 'california\\_housing\\_test.csv'\n\\item 'california\\_housing\\_train.csv'\n\\item 'data.csv'\n\\item 'data.rds'\n\\item 'mnist\\_test.csv'\n\\item 'mnist\\_train\\_small.csv'\n\\item 'README.md'\n\\end{enumerate*}\n",
            "text/plain": [
              "[1] \"anscombe.json\"                \"california_housing_test.csv\" \n",
              "[3] \"california_housing_train.csv\" \"data.csv\"                    \n",
              "[5] \"data.rds\"                     \"mnist_test.csv\"              \n",
              "[7] \"mnist_train_small.csv\"        \"README.md\"                   "
            ]
          },
          "metadata": {}
        }
      ]
    },
    {
      "cell_type": "code",
      "source": [
        "file.exists(\"file.txt\")  # Check if file exists"
      ],
      "metadata": {
        "colab": {
          "base_uri": "https://localhost:8080/",
          "height": 34
        },
        "id": "e9XS6tUhHAQt",
        "outputId": "8eb233a2-af6a-4663-c359-8a981a1c7b3e"
      },
      "execution_count": 395,
      "outputs": [
        {
          "output_type": "display_data",
          "data": {
            "text/html": [
              "FALSE"
            ],
            "text/markdown": "FALSE",
            "text/latex": "FALSE",
            "text/plain": [
              "[1] FALSE"
            ]
          },
          "metadata": {}
        }
      ]
    },
    {
      "cell_type": "code",
      "source": [
        "file.remove(\"file.txt\")  # Delete a file"
      ],
      "metadata": {
        "colab": {
          "base_uri": "https://localhost:8080/",
          "height": 69
        },
        "id": "_pxCS3e8HF1I",
        "outputId": "17ea49d3-d42d-4698-ca3e-5467fbc72a9d"
      },
      "execution_count": 396,
      "outputs": [
        {
          "output_type": "stream",
          "name": "stderr",
          "text": [
            "Warning message in file.remove(\"file.txt\"):\n",
            "“cannot remove file 'file.txt', reason 'No such file or directory'”\n"
          ]
        },
        {
          "output_type": "display_data",
          "data": {
            "text/html": [
              "FALSE"
            ],
            "text/markdown": "FALSE",
            "text/latex": "FALSE",
            "text/plain": [
              "[1] FALSE"
            ]
          },
          "metadata": {}
        }
      ]
    },
    {
      "cell_type": "code",
      "source": [
        "write.csv(df, \"data.csv\")  # Write CSV file"
      ],
      "metadata": {
        "id": "f_Svd36OHITh"
      },
      "execution_count": 397,
      "outputs": []
    },
    {
      "cell_type": "code",
      "source": [
        "\n",
        "saveRDS(df, \"data.rds\")  # Save R object"
      ],
      "metadata": {
        "id": "tb3JCbyiHKLa"
      },
      "execution_count": 398,
      "outputs": []
    },
    {
      "cell_type": "code",
      "source": [
        "\n",
        "readRDS(\"data.rds\")  # Read R object"
      ],
      "metadata": {
        "colab": {
          "base_uri": "https://localhost:8080/",
          "height": 209
        },
        "id": "o30eWry6HSWg",
        "outputId": "717fea75-d83c-42b7-88c6-13daa6209b38"
      },
      "execution_count": 399,
      "outputs": [
        {
          "output_type": "display_data",
          "data": {
            "text/html": [
              "<table class=\"dataframe\">\n",
              "<caption>A data.frame: 3 × 2</caption>\n",
              "<thead>\n",
              "\t<tr><th scope=col>A</th><th scope=col>B</th></tr>\n",
              "\t<tr><th scope=col>&lt;int&gt;</th><th scope=col>&lt;chr&gt;</th></tr>\n",
              "</thead>\n",
              "<tbody>\n",
              "\t<tr><td>1</td><td>x</td></tr>\n",
              "\t<tr><td>2</td><td>y</td></tr>\n",
              "\t<tr><td>3</td><td>z</td></tr>\n",
              "</tbody>\n",
              "</table>\n"
            ],
            "text/markdown": "\nA data.frame: 3 × 2\n\n| A &lt;int&gt; | B &lt;chr&gt; |\n|---|---|\n| 1 | x |\n| 2 | y |\n| 3 | z |\n\n",
            "text/latex": "A data.frame: 3 × 2\n\\begin{tabular}{ll}\n A & B\\\\\n <int> & <chr>\\\\\n\\hline\n\t 1 & x\\\\\n\t 2 & y\\\\\n\t 3 & z\\\\\n\\end{tabular}\n",
            "text/plain": [
              "  A B\n",
              "1 1 x\n",
              "2 2 y\n",
              "3 3 z"
            ]
          },
          "metadata": {}
        }
      ]
    },
    {
      "cell_type": "markdown",
      "source": [
        " ## Date & Time Handling"
      ],
      "metadata": {
        "id": "Bpt6_ZPq6-Ov"
      }
    },
    {
      "cell_type": "code",
      "source": [
        "as.POSIXct(\"2024-02-05 10:00:00\")  # Convert to date-time format\n",
        "difftime(Sys.time(), as.POSIXct(\"2024-02-01\"))  # Compute time difference\n",
        "format(Sys.Date(), \"%B %d, %Y\")  # Format dates\n"
      ],
      "metadata": {
        "id": "hrLCJvWisTSH",
        "colab": {
          "base_uri": "https://localhost:8080/",
          "height": 69
        },
        "outputId": "6eff893c-0329-4c70-d141-b572cf83a524"
      },
      "execution_count": 400,
      "outputs": [
        {
          "output_type": "display_data",
          "data": {
            "text/plain": [
              "[1] \"2024-02-05 10:00:00 UTC\""
            ]
          },
          "metadata": {}
        },
        {
          "output_type": "display_data",
          "data": {
            "text/plain": [
              "Time difference of 370.3327 days"
            ]
          },
          "metadata": {}
        },
        {
          "output_type": "display_data",
          "data": {
            "text/html": [
              "'February 05, 2025'"
            ],
            "text/markdown": "'February 05, 2025'",
            "text/latex": "'February 05, 2025'",
            "text/plain": [
              "[1] \"February 05, 2025\""
            ]
          },
          "metadata": {}
        }
      ]
    }
  ]
}