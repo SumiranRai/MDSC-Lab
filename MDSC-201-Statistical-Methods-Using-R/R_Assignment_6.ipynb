{
  "nbformat": 4,
  "nbformat_minor": 0,
  "metadata": {
    "colab": {
      "provenance": [],
      "authorship_tag": "ABX9TyNOqY69N4zA7xO6D5cMgtnK",
      "include_colab_link": true
    },
    "kernelspec": {
      "name": "ir",
      "display_name": "R"
    },
    "language_info": {
      "name": "R"
    }
  },
  "cells": [
    {
      "cell_type": "markdown",
      "metadata": {
        "id": "view-in-github",
        "colab_type": "text"
      },
      "source": [
        "<a href=\"https://colab.research.google.com/github/SumiranRai/MDSC-Lab/blob/main/MDSC-201-Statistical-Methods-Using-R/R_Assignment_6.ipynb\" target=\"_parent\"><img src=\"https://colab.research.google.com/assets/colab-badge.svg\" alt=\"Open In Colab\"/></a>"
      ]
    },
    {
      "cell_type": "code",
      "source": [
        "# Load required libraries\n",
        "install.packages(c(\"caret\", \"pROC\", \"ggplot2\"))\n",
        "library(caret)\n",
        "library(pROC)\n",
        "library(ggplot2)\n",
        "\n",
        "# Define the raw GitHub URL\n",
        "url <- \"https://raw.githubusercontent.com/SumiranRai/MDSC-Lab/main/MDSC-201-Statistical-Methods-Using-R/wdbc.data\"\n",
        "\n",
        "# Read data from GitHub\n",
        "data <- read.csv(url, header=FALSE)\n",
        "\n",
        "# Define column names\n",
        "col_names <- c(\"ID\", \"Diagnosis\", \"radius1\", \"texture1\", \"perimeter1\", \"area1\",\n",
        "               \"smoothness1\", \"compactness1\", \"concavity1\", \"concave_points1\",\n",
        "               \"symmetry1\", \"fractal_dimension1\", \"radius2\", \"texture2\", \"perimeter2\",\n",
        "               \"area2\", \"smoothness2\", \"compactness2\", \"concavity2\", \"concave_points2\",\n",
        "               \"symmetry2\", \"fractal_dimension2\", \"radius3\", \"texture3\", \"perimeter3\",\n",
        "               \"area3\", \"smoothness3\", \"compactness3\", \"concavity3\", \"concave_points3\",\n",
        "               \"symmetry3\", \"fractal_dimension3\")\n",
        "\n",
        "colnames(data) <- col_names\n",
        "\n",
        "# Convert Diagnosis to binary (M = 1, B = 0)\n",
        "data$Diagnosis <- ifelse(data$Diagnosis == \"M\", 1, 0)\n",
        "data$Diagnosis <- as.factor(data$Diagnosis)\n",
        "\n",
        "# Remove ID column\n",
        "data <- data[,-1]\n",
        "\n",
        "# Save transformed data to CSV\n",
        "write.csv(data, \"transformed_wdbc.csv\", row.names=FALSE)\n",
        "\n",
        "# Split dataset into train (70%) and test (30%)\n",
        "set.seed(123)\n",
        "trainIndex <- createDataPartition(data$Diagnosis, p=0.7, list=FALSE)\n",
        "train_data <- data[trainIndex, ]\n",
        "test_data <- data[-trainIndex, ]\n",
        "\n",
        "# Train logistic regression model\n",
        "model <- glm(Diagnosis ~ ., data=train_data, family=binomial)\n",
        "\n",
        "# Make predictions\n",
        "pred_probs <- predict(model, test_data, type=\"response\")\n",
        "pred_labels <- ifelse(pred_probs > 0.5, 1, 0)\n",
        "pred_labels <- as.factor(pred_labels)\n",
        "\n",
        "# Convert test labels to factor for confusion matrix\n",
        "test_data$Diagnosis <- as.factor(test_data$Diagnosis)\n",
        "\n",
        "# Compute confusion matrix\n",
        "conf_matrix <- confusionMatrix(pred_labels, test_data$Diagnosis)\n",
        "print(conf_matrix)\n",
        "\n",
        "# Calculate AUC\n",
        "roc_curve <- roc(test_data$Diagnosis, pred_probs)\n",
        "auc_value <- auc(roc_curve)\n",
        "print(paste(\"AUC:\", round(auc_value, 4)))\n",
        "\n",
        "# Plot ROC curve\n",
        "ggplot() +\n",
        "  geom_line(aes(x=roc_curve$specificities, y=roc_curve$sensitivities), color=\"blue\") +\n",
        "  geom_abline(linetype=\"dashed\", color=\"red\") +\n",
        "  ggtitle(paste(\"ROC Curve (AUC =\", round(auc_value, 4), \")\")) +\n",
        "  xlab(\"1 - Specificity\") +\n",
        "  ylab(\"Sensitivity\") +\n",
        "  theme_minimal()\n"
      ],
      "metadata": {
        "colab": {
          "base_uri": "https://localhost:8080/"
        },
        "id": "ka48pEX1NxYr",
        "outputId": "6b96668e-409b-4467-ef80-289478a66eed"
      },
      "execution_count": null,
      "outputs": [
        {
          "output_type": "stream",
          "name": "stderr",
          "text": [
            "Installing packages into ‘/usr/local/lib/R/site-library’\n",
            "(as ‘lib’ is unspecified)\n",
            "\n",
            "also installing the dependencies ‘listenv’, ‘parallelly’, ‘future’, ‘future.apply’, ‘diagram’, ‘lava’, ‘prodlim’, ‘clock’, ‘gower’, ‘hardhat’, ‘ipred’, ‘timeDate’, ‘e1071’, ‘foreach’, ‘ModelMetrics’, ‘plyr’, ‘recipes’, ‘reshape2’\n",
            "\n",
            "\n"
          ]
        }
      ]
    },
    {
      "cell_type": "code",
      "source": [],
      "metadata": {
        "id": "Kk3HuZYrOUv_"
      },
      "execution_count": null,
      "outputs": []
    }
  ]
}