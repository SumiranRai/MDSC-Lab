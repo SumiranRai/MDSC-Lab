{
  "nbformat": 4,
  "nbformat_minor": 0,
  "metadata": {
    "colab": {
      "provenance": [],
      "authorship_tag": "ABX9TyN9s2owRqZwf2QW9gQJQKNn",
      "include_colab_link": true
    },
    "kernelspec": {
      "name": "python3",
      "display_name": "Python 3"
    },
    "language_info": {
      "name": "python"
    }
  },
  "cells": [
    {
      "cell_type": "markdown",
      "metadata": {
        "id": "view-in-github",
        "colab_type": "text"
      },
      "source": [
        "<a href=\"https://colab.research.google.com/github/SumiranRai/MDSC-101-Applied-Linear-Algebra/blob/main/Inner_Product_%26_Matrix_Multiplication.ipynb\" target=\"_parent\"><img src=\"https://colab.research.google.com/assets/colab-badge.svg\" alt=\"Open In Colab\"/></a>"
      ]
    },
    {
      "cell_type": "markdown",
      "source": [
        "# Inner Product\n",
        "\n",
        "Reads two vectors of user-defined dimension and performs their inner product.\n",
        "\n",
        "<a|b> = a transpose * b"
      ],
      "metadata": {
        "id": "Oc2OuQricFzd"
      }
    },
    {
      "cell_type": "code",
      "source": [
        "def inner_product(A, B):\n",
        "    # Perform multiplication\n",
        "    result = 0\n",
        "    for i in range(len(A)):\n",
        "        result += A[i] * B[i]\n",
        "    return result\n",
        "\n",
        "# Function to input a vector of given dimension from the user\n",
        "def input_vector(dim):\n",
        "    vector = []\n",
        "    print(\"Enter the values for the vector (one value at a time):\")\n",
        "    for i in range(dim):\n",
        "        value = int(input(f\"Value {i+1}: \"))\n",
        "        vector.append(value)\n",
        "    return vector\n",
        "\n",
        "# Input dimension for the vectors from the user\n",
        "dim = int(input(\"\\nEnter the dimension for the vectors: \"))\n",
        "\n",
        "# Input vectors A and B from the user\n",
        "print(\"\\nEnter vector A:\")\n",
        "A = input_vector(dim)\n",
        "\n",
        "print(\"Enter vector B:\")\n",
        "B = input_vector(dim)\n",
        "\n",
        "# Calculate the inner product of A and B\n",
        "result = inner_product(A, B)\n",
        "print(f\"The inner product of A and B is: {result}\")"
      ],
      "metadata": {
        "colab": {
          "base_uri": "https://localhost:8080/"
        },
        "id": "HaqPfcfXcv6b",
        "outputId": "d1eb3d10-5901-43cc-f2a6-f007ac3cbe3e"
      },
      "execution_count": null,
      "outputs": [
        {
          "output_type": "stream",
          "name": "stdout",
          "text": [
            "\n",
            "Enter the dimension for the vectors: 2\n",
            "\n",
            "Enter vector A:\n",
            "Enter the values for the vector (one value at a time):\n",
            "Value 1: 4\n",
            "Value 2: 7\n",
            "Enter vector B:\n",
            "Enter the values for the vector (one value at a time):\n",
            "Value 1: 5\n",
            "Value 2: 7\n",
            "The inner product of A and B is: 69\n"
          ]
        }
      ]
    },
    {
      "cell_type": "markdown",
      "source": [
        "# Matrix Multiplication\n",
        "\n",
        "Reads two matrices of user defined order.\n",
        "Check for their compatibility and performs matrix multiplication.\n",
        "\n",
        "The no. of columns of the first matrix (say A) should be equal to the no. of rows of the second matrix (say B) for the matrix multiplication to be possible.\n",
        "\n",
        "No. of cols in A = No. of rows in B.\n",
        "\n",
        "A (m x n) , B(n x o)\n",
        "\n",
        "C = A x B\n",
        "\n",
        "Order of the matrix C: (m x o)"
      ],
      "metadata": {
        "id": "WcZEomrXh-Af"
      }
    },
    {
      "cell_type": "code",
      "execution_count": null,
      "metadata": {
        "colab": {
          "base_uri": "https://localhost:8080/"
        },
        "id": "KRRO33flb8FP",
        "outputId": "b05d7a70-d44f-41a3-f971-f74430516bcf"
      },
      "outputs": [
        {
          "output_type": "stream",
          "name": "stdout",
          "text": [
            "Enter the number of rows for the first matrix: 1\n",
            "Enter the number of columns for the first matrix: 2\n",
            "\n",
            "Enter the first matrix:\n",
            "Enter values for row 1 (one value at a time):\n",
            "Value 1: 1\n",
            "Value 2: 2\n",
            "\n",
            "Enter the number of rows for the second matrix: 2\n",
            "Enter the number of columns for the second matrix: 3\n",
            "\n",
            "Enter the second matrix:\n",
            "Enter values for row 1 (one value at a time):\n",
            "Value 1: 3\n",
            "Value 2: 4\n",
            "Value 3: 5\n",
            "Enter values for row 2 (one value at a time):\n",
            "Value 1: 6\n",
            "Value 2: 7\n",
            "Value 3: 8\n",
            "\n",
            "The resulting matrix is:\n",
            "15 18 21\n"
          ]
        }
      ],
      "source": [
        "# Function to input a matrix of given dimensions from the user\n",
        "def input_matrix(rows, cols):\n",
        "    matrix = []\n",
        "    for i in range(rows):\n",
        "        row = []\n",
        "        print(f\"Enter values for row {i+1} (one value at a time):\")\n",
        "        for j in range(cols):#Now we take the input for each column of row i one at a time.\n",
        "            value = int(input(f\"Value {j+1}: \"))\n",
        "            row.append(value)\n",
        "        matrix.append(row)\n",
        "    return matrix\n",
        "\n",
        "# Function to multiply two matrices using the inner product function\n",
        "def multiply_matrices(A, B):\n",
        "    rows_a = len(A)\n",
        "    cols_a = len(A[0])\n",
        "    rows_b = len(B)\n",
        "    cols_b = len(B[0])\n",
        "\n",
        "    # Check compatibility for matrix multiplication\n",
        "    if cols_a != rows_b:\n",
        "      print(\"Error: The number of columns in the first matrix must be equal to the number of rows in the second matrix.\")\n",
        "      return []  # Return an empty list to indicate an error\n",
        "\n",
        "    # Create the result matrix with the appropriate dimensions\n",
        "    result_matrix = [[0] * cols_b for _ in range(rows_a)]\n",
        "\n",
        "    # Perform the multiplication\n",
        "    for i in range(rows_a):\n",
        "        for j in range(cols_b):\n",
        "            row = A[i]\n",
        "            col = [B[k][j] for k in range(rows_b)]\n",
        "            result_matrix[i][j] = inner_product(row, col)\n",
        "\n",
        "    return result_matrix\n",
        "\n",
        "# Get dimensions of the first matrix\n",
        "rows_a = int(input(\"Enter the number of rows for the first matrix: \"))\n",
        "cols_a = int(input(\"Enter the number of columns for the first matrix: \"))\n",
        "\n",
        "# Get the first matrix from the user\n",
        "print(\"\\nEnter the first matrix:\")\n",
        "matrix_a = input_matrix(rows_a, cols_a)\n",
        "\n",
        "# Get dimensions of the second matrix\n",
        "rows_b = int(input(\"\\nEnter the number of rows for the second matrix: \"))\n",
        "cols_b = int(input(\"Enter the number of columns for the second matrix: \"))\n",
        "\n",
        "# Get the second matrix from the user\n",
        "print(\"\\nEnter the second matrix:\")\n",
        "matrix_b = input_matrix(rows_b, cols_b)\n",
        "\n",
        "# Perform matrix multiplication\n",
        "result_matrix = multiply_matrices(matrix_a, matrix_b)\n",
        "\n",
        "# Display the result\n",
        "print(\"\\nThe resulting matrix is:\")\n",
        "\n",
        "#print(\" \".join(str(x) for x in row)):\n",
        "#This line converts each element in the row to a string and joins them with a space.\n",
        "for row in result_matrix:\n",
        "    print(\" \".join(map(str, row)))\n"
      ]
    }
  ]
}