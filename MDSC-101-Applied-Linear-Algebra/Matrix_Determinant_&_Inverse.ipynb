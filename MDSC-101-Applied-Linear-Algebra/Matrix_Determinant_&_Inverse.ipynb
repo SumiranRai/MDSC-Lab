{
  "nbformat": 4,
  "nbformat_minor": 0,
  "metadata": {
    "colab": {
      "provenance": [],
      "authorship_tag": "ABX9TyNJFl+NVn7cWrupGKoB2tZM",
      "include_colab_link": true
    },
    "kernelspec": {
      "name": "python3",
      "display_name": "Python 3"
    },
    "language_info": {
      "name": "python"
    }
  },
  "cells": [
    {
      "cell_type": "markdown",
      "metadata": {
        "id": "view-in-github",
        "colab_type": "text"
      },
      "source": [
        "<a href=\"https://colab.research.google.com/github/SumiranRai/MDSC-101-Applied-Linear-Algebra/blob/main/Matrix_Determinant_%26_Inverse.ipynb\" target=\"_parent\"><img src=\"https://colab.research.google.com/assets/colab-badge.svg\" alt=\"Open In Colab\"/></a>"
      ]
    },
    {
      "cell_type": "markdown",
      "source": [
        "# Determinant of a Matrix\n",
        "\n",
        "Read a user-defined matrix. Check the feasibility of computing determinants and\n",
        "evaluate the determinant.\n",
        "\n",
        "The determinant of a Matrix is defined as a special number that is defined only for square matrices (matrices that have the same number of rows and columns). It actually represents the matrix in terms of a real number which can be used in solving a system of a linear equation and finding the inverse of a matrix.\n",
        "\n",
        "\n",
        "# How it works:\n",
        "\n",
        "* Base Case: The function handles the base case for a 2x2 matrix by directly applying the formula.\n",
        "   \n",
        "* Recursive Case: For larger matrices, the function removes the first row and iterates through each element of this row.\n",
        "\n",
        "* Submatrix Creation: For each element in the first row, it creates a submatrix by removing the corresponding column.\n",
        "\n",
        "* Sign Alternation: The sign alternates based on the column index, following the cofactor expansion.\n",
        "    \n",
        "* Recursive Determinant Calculation: The function recursively calculates the determinant of the submatrix and adds it to the total determinant.    "
      ],
      "metadata": {
        "id": "Zy7w7TiPhFY6"
      }
    },
    {
      "cell_type": "code",
      "execution_count": 31,
      "metadata": {
        "colab": {
          "base_uri": "https://localhost:8080/"
        },
        "id": "jeeiKrA9gr3T",
        "outputId": "6ad47bc3-9107-40b2-f08b-c3c7d5310c56"
      },
      "outputs": [
        {
          "output_type": "stream",
          "name": "stdout",
          "text": [
            "Enter the number of rows for the matrix: 4\n",
            "Enter the number of columns for the matrix: 4\n",
            "\n",
            "Enter the matrix:\n",
            "Enter values for row 1 (one value at a time):\n",
            "Value 1: 1\n",
            "Value 2: 2\n",
            "Value 3: 3\n",
            "Value 4: 4\n",
            "Enter values for row 2 (one value at a time):\n",
            "Value 1: 5\n",
            "Value 2: 6\n",
            "Value 3: 7\n",
            "Value 4: 8\n",
            "Enter values for row 3 (one value at a time):\n",
            "Value 1: 9\n",
            "Value 2: 10\n",
            "Value 3: 11\n",
            "Value 4: 12\n",
            "Enter values for row 4 (one value at a time):\n",
            "Value 1: 13\n",
            "Value 2: 14\n",
            "Value 3: 15\n",
            "Value 4: 16\n",
            "\n",
            "Determinant:  0\n"
          ]
        }
      ],
      "source": [
        "# Function to input a matrix of given dimensions from the user\n",
        "def input_matrix(rows, cols):\n",
        "    matrix = []\n",
        "    for i in range(rows):\n",
        "        row = []\n",
        "        print(f\"Enter values for row {i+1} (one value at a time):\")\n",
        "        for j in range(cols):#Now we take the input for each column of row i one at a time.\n",
        "            value = int(input(f\"Value {j+1}: \"))\n",
        "            row.append(value)\n",
        "        matrix.append(row)\n",
        "    return matrix\n",
        "\n",
        "# Function to evaluate the determinant of a given matrix\n",
        "def evaluate_det(matrix):\n",
        "    \"\"\"\n",
        "    Calculate the determinant of a given square matrix using recursion and loops.\n",
        "\n",
        "    Returns: The determinant of the matrix\n",
        "    \"\"\"\n",
        "    # Check feasibility of computing determinants\n",
        "    if rows != cols:\n",
        "      print(\"\\nError: The number of rows of the matrix must be equal to its number of columns.\")\n",
        "      return(\"Matrix should be a square matrix.\")\n",
        "\n",
        "    # Base case for a 2x2 matrix\n",
        "    if len(matrix) == 2:\n",
        "        return matrix[0][0] * matrix[1][1] - matrix[0][1] * matrix[1][0]\n",
        "\n",
        "    determinant = 0\n",
        "    for c in range(len(matrix)):\n",
        "        # Create a submatrix by excluding the current row and column\n",
        "        submatrix = [row[:c] + row[c+1:] for row in matrix[1:]]\n",
        "\n",
        "        # Calculate the determinant recursively22\n",
        "        sign = (-1) ** c\n",
        "        sub_det = evaluate_det(submatrix)\n",
        "        determinant += sign * matrix[0][c] * sub_det\n",
        "    return determinant\n",
        "\n",
        "# Get dimensions of the matrix\n",
        "rows = int(input(\"Enter the number of rows for the matrix: \"))\n",
        "cols = int(input(\"Enter the number of columns for the matrix: \"))\n",
        "\n",
        "# Get the first matrix from the user\n",
        "print(\"\\nEnter the matrix:\")\n",
        "matrix = input_matrix(rows, cols)\n",
        "\n",
        "# Evaluate the determinant\n",
        "determinant = evaluate_det(matrix)\n",
        "print(\"\\nDeterminant: \", determinant)"
      ]
    }
  ]
}