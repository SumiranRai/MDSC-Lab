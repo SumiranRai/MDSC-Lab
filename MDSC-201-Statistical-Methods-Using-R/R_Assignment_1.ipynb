{
  "nbformat": 4,
  "nbformat_minor": 0,
  "metadata": {
    "colab": {
      "provenance": [],
      "authorship_tag": "ABX9TyMiyrcDdw7QNuLtT0R8ZNBT",
      "include_colab_link": true
    },
    "kernelspec": {
      "name": "ir",
      "display_name": "R"
    },
    "language_info": {
      "name": "R"
    }
  },
  "cells": [
    {
      "cell_type": "markdown",
      "metadata": {
        "id": "view-in-github",
        "colab_type": "text"
      },
      "source": [
        "<a href=\"https://colab.research.google.com/github/SumiranRai/MDSC-Lab/blob/main/MDSC-201-Statistical-Methods-Using-R/R_Assignment_1.ipynb\" target=\"_parent\"><img src=\"https://colab.research.google.com/assets/colab-badge.svg\" alt=\"Open In Colab\"/></a>"
      ]
    },
    {
      "cell_type": "markdown",
      "source": [
        "R Programming Assignment I\n",
        "\n",
        "By Sumiran Rai\n",
        "\n",
        "Roll No: 24040208007"
      ],
      "metadata": {
        "id": "909p2-fRnYjc"
      }
    },
    {
      "cell_type": "markdown",
      "source": [
        "# R Basics"
      ],
      "metadata": {
        "id": "EjZcjkOanl1x"
      }
    },
    {
      "cell_type": "markdown",
      "source": [
        "### Vectors"
      ],
      "metadata": {
        "id": "90FryBP9ntb5"
      }
    },
    {
      "cell_type": "code",
      "source": [
        "# Vector of strings\n",
        "fruits <- c(\"banana\", \"apple\", \"orange\")\n",
        "# Print fruits\n",
        "print(\"Vector of fruits:\")\n",
        "print(fruits)"
      ],
      "metadata": {
        "colab": {
          "base_uri": "https://localhost:8080/"
        },
        "id": "X-B_dh85n3Os",
        "outputId": "c21534f8-4008-45c1-b5da-5759e91a6a45"
      },
      "execution_count": 40,
      "outputs": [
        {
          "output_type": "stream",
          "name": "stdout",
          "text": [
            "[1] \"Vector of fruits:\"\n",
            "[1] \"banana\" \"apple\"  \"orange\"\n"
          ]
        }
      ]
    },
    {
      "cell_type": "code",
      "source": [
        "# Vector of numerical values\n",
        "numbers <- c(1, 2, 3)\n",
        "# Print numbers\n",
        "print(\"Vector of numbers:\")\n",
        "print(numbers)"
      ],
      "metadata": {
        "colab": {
          "base_uri": "https://localhost:8080/"
        },
        "id": "Uu0iPXLwoMWu",
        "outputId": "4167ba57-ce68-4108-bc7a-0dba04249f1f"
      },
      "execution_count": 41,
      "outputs": [
        {
          "output_type": "stream",
          "name": "stdout",
          "text": [
            "[1] \"Vector of numbers:\"\n",
            "[1] 1 2 3\n"
          ]
        }
      ]
    },
    {
      "cell_type": "code",
      "source": [
        "# Vector with numerical values in a sequence\n",
        "num <- 1:10\n",
        "# Print sequence\n",
        "print(\"Sequence of numbers:\")\n",
        "print(num)"
      ],
      "metadata": {
        "colab": {
          "base_uri": "https://localhost:8080/"
        },
        "id": "qhaMSmpzoP49",
        "outputId": "f475483f-7af0-441d-940b-c63d31b75196"
      },
      "execution_count": 42,
      "outputs": [
        {
          "output_type": "stream",
          "name": "stdout",
          "text": [
            "[1] \"Sequence of numbers:\"\n",
            " [1]  1  2  3  4  5  6  7  8  9 10\n"
          ]
        }
      ]
    },
    {
      "cell_type": "code",
      "source": [
        "# Vector of logical values\n",
        "log_values <- c(TRUE, FALSE, TRUE, FALSE)\n",
        "# Print logical values\n",
        "print(\"Vector of logical values:\")\n",
        "print(log_values)"
      ],
      "metadata": {
        "colab": {
          "base_uri": "https://localhost:8080/"
        },
        "id": "zA7fu1R0oS44",
        "outputId": "1d0fa87d-df07-4c9b-b513-8882e1690de7"
      },
      "execution_count": 43,
      "outputs": [
        {
          "output_type": "stream",
          "name": "stdout",
          "text": [
            "[1] \"Vector of logical values:\"\n",
            "[1]  TRUE FALSE  TRUE FALSE\n"
          ]
        }
      ]
    },
    {
      "cell_type": "code",
      "source": [
        "# Vector Length\n",
        "print(\"Length of the fruits vector:\")\n",
        "print(length(fruits))"
      ],
      "metadata": {
        "colab": {
          "base_uri": "https://localhost:8080/"
        },
        "id": "oe0ZCsQkoVnJ",
        "outputId": "9f76197d-5d6c-4439-881f-6c1134da8db1"
      },
      "execution_count": 44,
      "outputs": [
        {
          "output_type": "stream",
          "name": "stdout",
          "text": [
            "[1] \"Length of the fruits vector:\"\n",
            "[1] 3\n"
          ]
        }
      ]
    },
    {
      "cell_type": "code",
      "source": [
        "# Sort a Vector\n",
        "fruits <- c(\"banana\", \"apple\", \"orange\", \"mango\", \"lemon\")\n",
        "numbers <- c(13, 3, 5, 7, 20, 2)\n",
        "print(\"Sorted fruits:\")\n",
        "print(sort(fruits))\n",
        "print(\"Sorted numbers:\")\n",
        "print(sort(numbers))"
      ],
      "metadata": {
        "colab": {
          "base_uri": "https://localhost:8080/"
        },
        "id": "JTGMlJrvoXxq",
        "outputId": "983c6a19-d661-466c-d97d-9c7b29ceb6f5"
      },
      "execution_count": 45,
      "outputs": [
        {
          "output_type": "stream",
          "name": "stdout",
          "text": [
            "[1] \"Sorted fruits:\"\n",
            "[1] \"apple\"  \"banana\" \"lemon\"  \"mango\"  \"orange\"\n",
            "[1] \"Sorted numbers:\"\n",
            "[1]  2  3  5  7 13 20\n"
          ]
        }
      ]
    },
    {
      "cell_type": "code",
      "source": [
        "# Access Vectors\n",
        "fruits <- c(\"banana\", \"apple\", \"orange\")\n",
        "print(\"Access first fruit:\")\n",
        "print(fruits[1])\n",
        "print(\"Access first and third fruits:\")\n",
        "print(fruits[c(1, 3)])"
      ],
      "metadata": {
        "colab": {
          "base_uri": "https://localhost:8080/"
        },
        "id": "NEycMhuoogqJ",
        "outputId": "41b9bd34-cf54-415e-ba8c-aa8b7441cb94"
      },
      "execution_count": 46,
      "outputs": [
        {
          "output_type": "stream",
          "name": "stdout",
          "text": [
            "[1] \"Access first fruit:\"\n",
            "[1] \"banana\"\n",
            "[1] \"Access first and third fruits:\"\n",
            "[1] \"banana\" \"orange\"\n"
          ]
        }
      ]
    },
    {
      "cell_type": "markdown",
      "source": [
        "### Lists"
      ],
      "metadata": {
        "id": "vji66kDwojVP"
      }
    },
    {
      "cell_type": "code",
      "source": [
        "# List of strings\n",
        "thislist <- list(\"apple\", \"banana\", \"cherry\")\n",
        "# Print the list\n",
        "print(\"Original list:\")\n",
        "print(thislist)"
      ],
      "metadata": {
        "colab": {
          "base_uri": "https://localhost:8080/"
        },
        "id": "B8CwPxKfopdY",
        "outputId": "edcd1133-7149-42ce-d999-de24eff7fbac"
      },
      "execution_count": 47,
      "outputs": [
        {
          "output_type": "stream",
          "name": "stdout",
          "text": [
            "[1] \"Original list:\"\n",
            "[[1]]\n",
            "[1] \"apple\"\n",
            "\n",
            "[[2]]\n",
            "[1] \"banana\"\n",
            "\n",
            "[[3]]\n",
            "[1] \"cherry\"\n",
            "\n"
          ]
        }
      ]
    },
    {
      "cell_type": "code",
      "source": [
        "# Access List Items\n",
        "print(\"Access first item in the list:\")\n",
        "print(thislist[1])"
      ],
      "metadata": {
        "colab": {
          "base_uri": "https://localhost:8080/"
        },
        "id": "PhjcClrnoste",
        "outputId": "dd6179c8-0e2b-40cc-8a98-ce9673cbf65a"
      },
      "execution_count": 48,
      "outputs": [
        {
          "output_type": "stream",
          "name": "stdout",
          "text": [
            "[1] \"Access first item in the list:\"\n",
            "[[1]]\n",
            "[1] \"apple\"\n",
            "\n"
          ]
        }
      ]
    },
    {
      "cell_type": "code",
      "source": [
        "# Change Item Value\n",
        "thislist[1] <- \"blackcurrant\"\n",
        "# Print updated list\n",
        "print(\"Updated list:\")\n",
        "print(thislist)"
      ],
      "metadata": {
        "colab": {
          "base_uri": "https://localhost:8080/"
        },
        "id": "ZgVbje4EoyBe",
        "outputId": "8f8847f5-5522-46f5-b117-91e48318f8e1"
      },
      "execution_count": 49,
      "outputs": [
        {
          "output_type": "stream",
          "name": "stdout",
          "text": [
            "[1] \"Updated list:\"\n",
            "[[1]]\n",
            "[1] \"blackcurrant\"\n",
            "\n",
            "[[2]]\n",
            "[1] \"banana\"\n",
            "\n",
            "[[3]]\n",
            "[1] \"cherry\"\n",
            "\n"
          ]
        }
      ]
    },
    {
      "cell_type": "code",
      "source": [
        "# List Length\n",
        "print(\"Length of the list:\")\n",
        "print(length(thislist))"
      ],
      "metadata": {
        "colab": {
          "base_uri": "https://localhost:8080/"
        },
        "id": "cy2Cd_a2o1_S",
        "outputId": "2187905d-f633-4425-fc67-979b64eb034d"
      },
      "execution_count": 50,
      "outputs": [
        {
          "output_type": "stream",
          "name": "stdout",
          "text": [
            "[1] \"Length of the list:\"\n",
            "[1] 3\n"
          ]
        }
      ]
    },
    {
      "cell_type": "code",
      "source": [
        "# Join Two Lists\n",
        "list1 <- list(\"a\", \"b\", \"c\")\n",
        "list2 <- list(1, 2, 3)\n",
        "list3 <- c(list1, list2)\n",
        "print(\"Combined list:\")\n",
        "print(list3)"
      ],
      "metadata": {
        "colab": {
          "base_uri": "https://localhost:8080/"
        },
        "id": "iOiENK9mo5wJ",
        "outputId": "7a450be9-5ea7-45dc-8ac2-25b18bae8c91"
      },
      "execution_count": 51,
      "outputs": [
        {
          "output_type": "stream",
          "name": "stdout",
          "text": [
            "[1] \"Combined list:\"\n",
            "[[1]]\n",
            "[1] \"a\"\n",
            "\n",
            "[[2]]\n",
            "[1] \"b\"\n",
            "\n",
            "[[3]]\n",
            "[1] \"c\"\n",
            "\n",
            "[[4]]\n",
            "[1] 1\n",
            "\n",
            "[[5]]\n",
            "[1] 2\n",
            "\n",
            "[[6]]\n",
            "[1] 3\n",
            "\n"
          ]
        }
      ]
    },
    {
      "cell_type": "markdown",
      "source": [
        "### Matrices"
      ],
      "metadata": {
        "id": "rza2cgtYo_lL"
      }
    },
    {
      "cell_type": "code",
      "source": [
        "# Create a matrix\n",
        "thismatrix <- matrix(c(1, 2, 3, 4, 5, 6), nrow = 3, ncol = 2)\n",
        "# Print the matrix\n",
        "print(\"Matrix of numbers:\")\n",
        "print(thismatrix)"
      ],
      "metadata": {
        "colab": {
          "base_uri": "https://localhost:8080/"
        },
        "id": "s8IKC22cpDd3",
        "outputId": "d44eedcd-4aca-4266-f7d7-0c66706c0c44"
      },
      "execution_count": 52,
      "outputs": [
        {
          "output_type": "stream",
          "name": "stdout",
          "text": [
            "[1] \"Matrix of numbers:\"\n",
            "     [,1] [,2]\n",
            "[1,]    1    4\n",
            "[2,]    2    5\n",
            "[3,]    3    6\n"
          ]
        }
      ]
    },
    {
      "cell_type": "code",
      "source": [
        "# Access Matrix Items\n",
        "thismatrix <- matrix(c(\"apple\", \"banana\", \"cherry\", \"orange\"), nrow = 2, ncol = 2)\n",
        "print(\"Matrix of strings:\")\n",
        "print(thismatrix)\n",
        "print(\"Access specific item (row 1, column 2):\")\n",
        "print(thismatrix[1, 2])\n"
      ],
      "metadata": {
        "colab": {
          "base_uri": "https://localhost:8080/"
        },
        "id": "bvFdN6FFpFrh",
        "outputId": "3c9cb8a8-fe20-4be7-d819-ec5cf7645d09"
      },
      "execution_count": 53,
      "outputs": [
        {
          "output_type": "stream",
          "name": "stdout",
          "text": [
            "[1] \"Matrix of strings:\"\n",
            "     [,1]     [,2]    \n",
            "[1,] \"apple\"  \"cherry\"\n",
            "[2,] \"banana\" \"orange\"\n",
            "[1] \"Access specific item (row 1, column 2):\"\n",
            "[1] \"cherry\"\n"
          ]
        }
      ]
    },
    {
      "cell_type": "code",
      "source": [
        "# Number of Rows and Columns\n",
        "print(\"Dimensions of the matrix:\")\n",
        "print(dim(thismatrix))"
      ],
      "metadata": {
        "colab": {
          "base_uri": "https://localhost:8080/"
        },
        "id": "4mp0s7iBpJa-",
        "outputId": "ddbe2a0b-9a98-4ab0-8722-663ece855f68"
      },
      "execution_count": 54,
      "outputs": [
        {
          "output_type": "stream",
          "name": "stdout",
          "text": [
            "[1] \"Dimensions of the matrix:\"\n",
            "[1] 2 2\n"
          ]
        }
      ]
    },
    {
      "cell_type": "code",
      "source": [
        "# Matrix Length\n",
        "print(\"Length of the matrix:\")\n",
        "print(length(thismatrix))"
      ],
      "metadata": {
        "colab": {
          "base_uri": "https://localhost:8080/"
        },
        "id": "YZpyW5XppNaB",
        "outputId": "a7746738-26b0-4e5d-e441-724bf0a544a3"
      },
      "execution_count": 55,
      "outputs": [
        {
          "output_type": "stream",
          "name": "stdout",
          "text": [
            "[1] \"Length of the matrix:\"\n",
            "[1] 4\n"
          ]
        }
      ]
    },
    {
      "cell_type": "markdown",
      "source": [
        "### Arrays"
      ],
      "metadata": {
        "id": "jFmQpGE7pUoy"
      }
    },
    {
      "cell_type": "code",
      "source": [
        "# Create a 1D array\n",
        "thisarray <- c(1:10)\n",
        "print(\"1D Array:\")\n",
        "print(thisarray)"
      ],
      "metadata": {
        "colab": {
          "base_uri": "https://localhost:8080/"
        },
        "id": "S_w2bYuApX_n",
        "outputId": "5b590c0e-03d1-4a04-d86d-5d36377af78c"
      },
      "execution_count": 56,
      "outputs": [
        {
          "output_type": "stream",
          "name": "stdout",
          "text": [
            "[1] \"1D Array:\"\n",
            " [1]  1  2  3  4  5  6  7  8  9 10\n"
          ]
        }
      ]
    },
    {
      "cell_type": "code",
      "source": [
        "# Create a multidimensional array\n",
        "multiarray <- array(thisarray, dim = c(4, 3, 2))\n",
        "print(\"Multidimensional Array:\")\n",
        "print(multiarray)"
      ],
      "metadata": {
        "colab": {
          "base_uri": "https://localhost:8080/"
        },
        "id": "I0a1OWMzpajJ",
        "outputId": "950188e4-f753-4f3e-cb4a-3a1722d95c3c"
      },
      "execution_count": 57,
      "outputs": [
        {
          "output_type": "stream",
          "name": "stdout",
          "text": [
            "[1] \"Multidimensional Array:\"\n",
            ", , 1\n",
            "\n",
            "     [,1] [,2] [,3]\n",
            "[1,]    1    5    9\n",
            "[2,]    2    6   10\n",
            "[3,]    3    7    1\n",
            "[4,]    4    8    2\n",
            "\n",
            ", , 2\n",
            "\n",
            "     [,1] [,2] [,3]\n",
            "[1,]    3    7    1\n",
            "[2,]    4    8    2\n",
            "[3,]    5    9    3\n",
            "[4,]    6   10    4\n",
            "\n"
          ]
        }
      ]
    },
    {
      "cell_type": "code",
      "source": [
        "# Access Array Items\n",
        "print(\"Access specific item (row 2, column 3, depth 2):\")\n",
        "print(multiarray[2, 3, 2])"
      ],
      "metadata": {
        "colab": {
          "base_uri": "https://localhost:8080/"
        },
        "id": "-qOrAu_mpf0Y",
        "outputId": "ce3a4528-0bb4-4e65-9bd7-d3f171180a7d"
      },
      "execution_count": 58,
      "outputs": [
        {
          "output_type": "stream",
          "name": "stdout",
          "text": [
            "[1] \"Access specific item (row 2, column 3, depth 2):\"\n",
            "[1] 2\n"
          ]
        }
      ]
    },
    {
      "cell_type": "code",
      "source": [
        "# Amount of Rows and Columns\n",
        "print(\"Dimensions of the multidimensional array:\")\n",
        "print(dim(multiarray))"
      ],
      "metadata": {
        "colab": {
          "base_uri": "https://localhost:8080/"
        },
        "id": "L3bAgirNpika",
        "outputId": "6300cad9-b1ef-442d-f564-4690aefdcd27"
      },
      "execution_count": 59,
      "outputs": [
        {
          "output_type": "stream",
          "name": "stdout",
          "text": [
            "[1] \"Dimensions of the multidimensional array:\"\n",
            "[1] 4 3 2\n"
          ]
        }
      ]
    },
    {
      "cell_type": "code",
      "source": [
        "# Array Length\n",
        "print(\"Length of the array:\")\n",
        "print(length(multiarray))"
      ],
      "metadata": {
        "colab": {
          "base_uri": "https://localhost:8080/"
        },
        "id": "RTHImNgwpieq",
        "outputId": "95e579a3-4164-44b2-a635-3357cd4748af"
      },
      "execution_count": 60,
      "outputs": [
        {
          "output_type": "stream",
          "name": "stdout",
          "text": [
            "[1] \"Length of the array:\"\n",
            "[1] 24\n"
          ]
        }
      ]
    },
    {
      "cell_type": "markdown",
      "source": [
        "### Data Frames"
      ],
      "metadata": {
        "id": "Ap4P92g6pqdD"
      }
    },
    {
      "cell_type": "code",
      "source": [
        "# Create a data frame\n",
        "print(\"Original Data Frame:\")\n",
        "df <- data.frame(\n",
        "  ID = c(1, 2, 3),\n",
        "  Name = c(\"Student1\", \"Student2\", \"Student3\"),\n",
        "  Score = c(95, 89, 76),\n",
        "  Passed = c(TRUE, TRUE, FALSE)\n",
        ")\n",
        "print(df)"
      ],
      "metadata": {
        "colab": {
          "base_uri": "https://localhost:8080/"
        },
        "id": "uksXyMS_pse_",
        "outputId": "5ef04ce9-752f-40f4-ebc9-2c48cdd8b3f5"
      },
      "execution_count": 61,
      "outputs": [
        {
          "output_type": "stream",
          "name": "stdout",
          "text": [
            "[1] \"Original Data Frame:\"\n",
            "  ID     Name Score Passed\n",
            "1  1 Student1    95   TRUE\n",
            "2  2 Student2    89   TRUE\n",
            "3  3 Student3    76  FALSE\n"
          ]
        }
      ]
    },
    {
      "cell_type": "code",
      "source": [
        "# Summarize the Data Frame\n",
        "print(\"Summary of the data frame:\")\n",
        "print(summary(df))"
      ],
      "metadata": {
        "colab": {
          "base_uri": "https://localhost:8080/"
        },
        "id": "oUAlBO1epwvJ",
        "outputId": "f887252a-f3ea-4979-c1b4-0d7836ad0e8b"
      },
      "execution_count": 62,
      "outputs": [
        {
          "output_type": "stream",
          "name": "stdout",
          "text": [
            "[1] \"Summary of the data frame:\"\n",
            "       ID          Name               Score         Passed       \n",
            " Min.   :1.0   Length:3           Min.   :76.00   Mode :logical  \n",
            " 1st Qu.:1.5   Class :character   1st Qu.:82.50   FALSE:1        \n",
            " Median :2.0   Mode  :character   Median :89.00   TRUE :2        \n",
            " Mean   :2.0                      Mean   :86.67                  \n",
            " 3rd Qu.:2.5                      3rd Qu.:92.00                  \n",
            " Max.   :3.0                      Max.   :95.00                  \n"
          ]
        }
      ]
    },
    {
      "cell_type": "code",
      "source": [
        "# Add Rows\n",
        "new_row <- rbind(df, c(4, \"Student4\", 88, TRUE))\n",
        "print(\"Data Frame after adding a row:\")\n",
        "print(new_row)"
      ],
      "metadata": {
        "colab": {
          "base_uri": "https://localhost:8080/"
        },
        "id": "Ntdi6h01pz81",
        "outputId": "a7425cf9-dbcb-4ab3-8218-e55ade793bea"
      },
      "execution_count": 63,
      "outputs": [
        {
          "output_type": "stream",
          "name": "stdout",
          "text": [
            "[1] \"Data Frame after adding a row:\"\n",
            "  ID     Name Score Passed\n",
            "1  1 Student1    95   TRUE\n",
            "2  2 Student2    89   TRUE\n",
            "3  3 Student3    76  FALSE\n",
            "4  4 Student4    88   TRUE\n"
          ]
        }
      ]
    },
    {
      "cell_type": "code",
      "source": [
        "# Add Columns\n",
        "new_col <- cbind(df, Year = c(\"1 year\", \"2 year\", \"3 year\"))\n",
        "print(\"Data Frame after adding a column:\")\n",
        "print(new_col)"
      ],
      "metadata": {
        "colab": {
          "base_uri": "https://localhost:8080/"
        },
        "id": "IPM-AxPMp2mf",
        "outputId": "12f73fd9-c122-497d-e3c0-af25eb8267cb"
      },
      "execution_count": 64,
      "outputs": [
        {
          "output_type": "stream",
          "name": "stdout",
          "text": [
            "[1] \"Data Frame after adding a column:\"\n",
            "  ID     Name Score Passed   Year\n",
            "1  1 Student1    95   TRUE 1 year\n",
            "2  2 Student2    89   TRUE 2 year\n",
            "3  3 Student3    76  FALSE 3 year\n"
          ]
        }
      ]
    },
    {
      "cell_type": "code",
      "source": [
        "# Amount of Rows and Columns\n",
        "print(\"Dimensions of the data frame:\")\n",
        "print(dim(df))"
      ],
      "metadata": {
        "colab": {
          "base_uri": "https://localhost:8080/"
        },
        "id": "HRTyYukUp5Sf",
        "outputId": "e18a8114-b115-4a84-f9f8-bc6859bf0d4f"
      },
      "execution_count": 65,
      "outputs": [
        {
          "output_type": "stream",
          "name": "stdout",
          "text": [
            "[1] \"Dimensions of the data frame:\"\n",
            "[1] 3 4\n"
          ]
        }
      ]
    },
    {
      "cell_type": "code",
      "source": [
        "# Data Frame Length\n",
        "print(\"Length of the data frame:\")\n",
        "print(length(df))"
      ],
      "metadata": {
        "colab": {
          "base_uri": "https://localhost:8080/"
        },
        "id": "h9RkyqAzp7ro",
        "outputId": "118f4e18-5d4d-4000-8578-2d3a63ea5259"
      },
      "execution_count": 66,
      "outputs": [
        {
          "output_type": "stream",
          "name": "stdout",
          "text": [
            "[1] \"Length of the data frame:\"\n",
            "[1] 4\n"
          ]
        }
      ]
    },
    {
      "cell_type": "code",
      "source": [
        "# Combine Data Frames\n",
        "df1 <- data.frame(\n",
        "  ID = c(1, 2, 3),\n",
        "  Name = c(\"Student1\", \"Student2\", \"Student3\"),\n",
        "  Score = c(95, 89, 76),\n",
        "  Passed = c(TRUE, TRUE, FALSE)\n",
        ")\n",
        "\n",
        "df2 <- data.frame(\n",
        "  ID = c(4, 5, 6),\n",
        "  Name = c(\"Student4\", \"Student5\", \"Student6\"),\n",
        "  Score = c(95, 89, 76),\n",
        "  Passed = c(TRUE, TRUE, FALSE)\n",
        ")\n",
        "\n",
        "New_df <- rbind(df1, df2)\n",
        "print(\"Combined Data Frame:\")\n",
        "print(New_df)"
      ],
      "metadata": {
        "colab": {
          "base_uri": "https://localhost:8080/"
        },
        "id": "y_Tum2n8p_No",
        "outputId": "1306bc40-94f0-4a85-f38c-c9e2aea31116"
      },
      "execution_count": 67,
      "outputs": [
        {
          "output_type": "stream",
          "name": "stdout",
          "text": [
            "[1] \"Combined Data Frame:\"\n",
            "  ID     Name Score Passed\n",
            "1  1 Student1    95   TRUE\n",
            "2  2 Student2    89   TRUE\n",
            "3  3 Student3    76  FALSE\n",
            "4  4 Student4    95   TRUE\n",
            "5  5 Student5    89   TRUE\n",
            "6  6 Student6    76  FALSE\n"
          ]
        }
      ]
    },
    {
      "cell_type": "markdown",
      "source": [
        "### Factors"
      ],
      "metadata": {
        "id": "bBF2jMHaqQGU"
      }
    },
    {
      "cell_type": "code",
      "source": [
        "# Create a vector and factor\n",
        "apple_color <- c(\"red\", \"yellow\", \"green\", \"orange\", \"violet\")\n",
        "factor_apple <- factor(apple_color)"
      ],
      "metadata": {
        "id": "v8bIX8G9qOqd"
      },
      "execution_count": 68,
      "outputs": []
    },
    {
      "cell_type": "code",
      "source": [
        "# Print the factor\n",
        "print(\"Factor of apple colors:\")\n",
        "print(factor_apple)\n"
      ],
      "metadata": {
        "colab": {
          "base_uri": "https://localhost:8080/"
        },
        "id": "O_xiGsapqVDN",
        "outputId": "7d0d61bc-ffd9-4ec1-aec8-cb2e47285fad"
      },
      "execution_count": 69,
      "outputs": [
        {
          "output_type": "stream",
          "name": "stdout",
          "text": [
            "[1] \"Factor of apple colors:\"\n",
            "[1] red    yellow green  orange violet\n",
            "Levels: green orange red violet yellow\n"
          ]
        }
      ]
    },
    {
      "cell_type": "code",
      "source": [
        "# Print number of levels\n",
        "print(\"Number of levels in the factor:\")\n",
        "print(nlevels(factor_apple))"
      ],
      "metadata": {
        "colab": {
          "base_uri": "https://localhost:8080/"
        },
        "id": "Bhi-jw9yqXOh",
        "outputId": "c54e93e9-627c-48c6-ef4f-f27e33c730c5"
      },
      "execution_count": 70,
      "outputs": [
        {
          "output_type": "stream",
          "name": "stdout",
          "text": [
            "[1] \"Number of levels in the factor:\"\n",
            "[1] 5\n"
          ]
        }
      ]
    },
    {
      "cell_type": "code",
      "source": [
        "# Factor Length\n",
        "print(\"Length of the factor:\")\n",
        "print(length(factor_apple))"
      ],
      "metadata": {
        "colab": {
          "base_uri": "https://localhost:8080/"
        },
        "id": "YWkp0FOAqaGp",
        "outputId": "7cc626d5-2221-4c37-820b-0f0983fdc002"
      },
      "execution_count": 71,
      "outputs": [
        {
          "output_type": "stream",
          "name": "stdout",
          "text": [
            "[1] \"Length of the factor:\"\n",
            "[1] 5\n"
          ]
        }
      ]
    },
    {
      "cell_type": "code",
      "source": [
        "# Access Factors\n",
        "print(\"Access second level in the factor:\")\n",
        "print(factor_apple[2])"
      ],
      "metadata": {
        "colab": {
          "base_uri": "https://localhost:8080/"
        },
        "id": "Ojlgp82gqaDt",
        "outputId": "4f35f0d4-b358-4daa-a9c1-c2fb4e955fd3"
      },
      "execution_count": 72,
      "outputs": [
        {
          "output_type": "stream",
          "name": "stdout",
          "text": [
            "[1] \"Access second level in the factor:\"\n",
            "[1] yellow\n",
            "Levels: green orange red violet yellow\n"
          ]
        }
      ]
    }
  ]
}