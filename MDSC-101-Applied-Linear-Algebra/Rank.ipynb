{
  "nbformat": 4,
  "nbformat_minor": 0,
  "metadata": {
    "colab": {
      "provenance": [],
      "authorship_tag": "ABX9TyOF8Lq9CvStICp95JRpGSfz",
      "include_colab_link": true
    },
    "kernelspec": {
      "name": "python3",
      "display_name": "Python 3"
    },
    "language_info": {
      "name": "python"
    }
  },
  "cells": [
    {
      "cell_type": "markdown",
      "metadata": {
        "id": "view-in-github",
        "colab_type": "text"
      },
      "source": [
        "<a href=\"https://colab.research.google.com/github/SumiranRai/MDSC-Lab/blob/main/MDSC-101-Applied-Linear-Algebra/Rank.ipynb\" target=\"_parent\"><img src=\"https://colab.research.google.com/assets/colab-badge.svg\" alt=\"Open In Colab\"/></a>"
      ]
    },
    {
      "cell_type": "markdown",
      "source": [
        "Calculating Rank of a Matrix with Basic Python"
      ],
      "metadata": {
        "id": "wY2vQg5FhUXV"
      }
    },
    {
      "cell_type": "code",
      "execution_count": null,
      "metadata": {
        "colab": {
          "base_uri": "https://localhost:8080/"
        },
        "id": "fqFKH5MsP4Vq",
        "outputId": "4a48172b-d5c6-4525-afc7-12c5317b4ac0"
      },
      "outputs": [
        {
          "output_type": "stream",
          "name": "stdout",
          "text": [
            "Enter number of rows: 2\n",
            "Enter number of columns: 2\n",
            "Enter the elements row by row (separated by spaces):\n",
            "Row 1: 2 1\n",
            "Row 2: 2  4\n",
            "Rank of the matrix is: 2\n"
          ]
        }
      ],
      "source": [
        "def row_echelon(matrix):\n",
        "    # Get the number of rows and columns\n",
        "    rows = len(matrix)\n",
        "    cols = len(matrix[0])\n",
        "\n",
        "    # Start with the first row and column\n",
        "    lead = 0\n",
        "\n",
        "    for r in range(rows):\n",
        "        if lead >= cols:\n",
        "            return matrix\n",
        "        i = r\n",
        "        while matrix[i][lead] == 0:\n",
        "            i += 1\n",
        "            if i == rows:\n",
        "                i = r\n",
        "                lead += 1\n",
        "                if cols == lead:\n",
        "                    return matrix\n",
        "        # Swap the current row with the row containing a non-zero lead\n",
        "        matrix[i], matrix[r] = matrix[r], matrix[i]\n",
        "\n",
        "        # Scale the row to make the leading coefficient 1\n",
        "        lv = matrix[r][lead]\n",
        "        matrix[r] = [mrx / lv for mrx in matrix[r]]\n",
        "\n",
        "        # Make all rows below this one 0 in the current column\n",
        "        for i in range(r + 1, rows):\n",
        "            lv = matrix[i][lead]\n",
        "            matrix[i] = [iv - lv * rv for rv, iv in zip(matrix[r], matrix[i])]\n",
        "\n",
        "        lead += 1\n",
        "\n",
        "    return matrix\n",
        "\n",
        "def rank_of_matrix(matrix):\n",
        "    # First reduce matrix to Row Echelon Form (REF)\n",
        "    ref_matrix = row_echelon(matrix)\n",
        "\n",
        "    # Count non-zero rows to find the rank\n",
        "    rank = 0\n",
        "    for row in ref_matrix:\n",
        "        if any(row):\n",
        "            rank += 1\n",
        "\n",
        "    return rank\n",
        "\n",
        "def get_matrix_input():\n",
        "    # Get number of rows and columns from user\n",
        "    rows = int(input(\"Enter number of rows: \"))\n",
        "    cols = int(input(\"Enter number of columns: \"))\n",
        "\n",
        "    # Initialize the matrix\n",
        "    matrix = []\n",
        "\n",
        "    print(f\"Enter the elements row by row (separated by spaces):\")\n",
        "    for i in range(rows):\n",
        "        row = list(map(float, input(f\"Row {i+1}: \").split()))\n",
        "        if len(row) != cols:\n",
        "            print(f\"Error: Row {i+1} must have {cols} elements!\")\n",
        "            return None\n",
        "        matrix.append(row)\n",
        "\n",
        "    return matrix\n",
        "\n",
        "# Get matrix from user\n",
        "matrix = get_matrix_input()\n",
        "\n",
        "if matrix:\n",
        "    # Calculate rank if the matrix is valid\n",
        "    rank = rank_of_matrix(matrix)\n",
        "    print(\"Rank of the matrix is:\", rank)\n",
        "\n"
      ]
    }
  ]
}