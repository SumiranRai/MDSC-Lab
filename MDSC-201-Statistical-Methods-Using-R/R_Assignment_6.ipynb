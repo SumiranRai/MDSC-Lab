{
  "nbformat": 4,
  "nbformat_minor": 0,
  "metadata": {
    "colab": {
      "provenance": [],
      "authorship_tag": "ABX9TyOKvJD22J5fnXrS2KZRvnEo",
      "include_colab_link": true
    },
    "kernelspec": {
      "name": "ir",
      "display_name": "R"
    },
    "language_info": {
      "name": "R"
    }
  },
  "cells": [
    {
      "cell_type": "markdown",
      "metadata": {
        "id": "view-in-github",
        "colab_type": "text"
      },
      "source": [
        "<a href=\"https://colab.research.google.com/github/SumiranRai/MDSC-Lab/blob/main/MDSC-201-Statistical-Methods-Using-R/R_Assignment_6.ipynb\" target=\"_parent\"><img src=\"https://colab.research.google.com/assets/colab-badge.svg\" alt=\"Open In Colab\"/></a>"
      ]
    },
    {
      "cell_type": "markdown",
      "source": [
        "R Programming Assignment VI\n",
        "\n",
        "By Sumiran Rai\n",
        "\n",
        "Roll No: 24040208007"
      ],
      "metadata": {
        "id": "JEVlQ7PHnemX"
      }
    },
    {
      "cell_type": "markdown",
      "source": [
        "# **Breast Cancer Detection Using Logistic Regression in R**"
      ],
      "metadata": {
        "id": "YTREHZWkzHCz"
      }
    },
    {
      "cell_type": "markdown",
      "source": [
        "\n",
        "## Wisconsin Diagnostic Breast Cancer (WDBC) Dataset\n",
        "\n",
        "### Overview\n",
        "The WDBC dataset is used for breast cancer classification, distinguishing between malignant (cancerous) and benign (non-cancerous) tumors based on numerical features extracted from digitized images of fine needle aspirates (FNA) of breast masses.\n",
        "\n",
        "### Dataset Details\n",
        "- Samples: 569\n",
        "- Features: 30 numerical + 1 target (`Diagnosis`)\n",
        "- Target Variable:\n",
        "  - Malignant (M) → `1`\n",
        "  - Benign (B) → `0`\n",
        "\n",
        "### Feature Categories\n",
        "Each feature represents a specific property of the cell nuclei and is measured in three variations: Mean, Standard Error (SE), and Worst (Largest Value):\n",
        "\n",
        "1. **Radius** – Mean of distances from the center to points on the perimeter\n",
        "2. **Texture** – Standard deviation of gray-scale values\n",
        "3. **Perimeter** – Perimeter of the tumor\n",
        "4. **Area** – Area of the tumor\n",
        "5. **Smoothness** – Local variation in radius lengths\n",
        "6. **Compactness** – (Perimeter² / Area - 1.0)\n",
        "7. **Concavity** – Severity of concave portions of the contour\n",
        "8. **Concave Points** – Number of concave portions of the contour\n",
        "9. **Symmetry** – Symmetry of the tumor shape\n",
        "10. **Fractal Dimension** – \"Coastline Approximation\" or complexity of the tumor boundary\n",
        "\n",
        "### Class Distribution\n",
        "- **Malignant (1):** 212 (~37.3%)\n",
        "- **Benign (0):** 357 (~62.7%)\n",
        "\n",
        "### Preprocessing Steps\n",
        "✔ **Removed `ID` column**  \n",
        "✔ **Converted `Diagnosis` to binary values (`M = 1`, `B = 0`)**  \n",
        "✔ **Saved the transformed dataset as `transformed_wdbc.csv`**  \n",
        "\n",
        "### Objective\n",
        "The goal is to build a **classification model** to classify breast tumors as **malignant or benign** using logistic regression and evaluate its performance using metrics like **confusion matrix, F1-score, ROC-AUC, and Precision-Recall curve**."
      ],
      "metadata": {
        "id": "44XOfzQcyO9E"
      }
    },
    {
      "cell_type": "markdown",
      "source": [
        "### Pre-processing the Data"
      ],
      "metadata": {
        "id": "uWyUS1VF0zXS"
      }
    },
    {
      "cell_type": "code",
      "source": [
        "# Load necessary libraries\n",
        "install.packages(\"ggplot2\")  # For visualization\n",
        "install.packages(\"pROC\")  # For ROC and AUC\n",
        "install.packages(\"dplyr\")  # For data manipulation\n",
        "install.packages(\"tibble\") # For special table\n",
        "\n",
        "library(ggplot2)\n",
        "library(pROC)\n",
        "library(dplyr)\n",
        "library(tibble)"
      ],
      "metadata": {
        "id": "KXca3Mjmp05e",
        "outputId": "c884848a-3d9e-42f0-c7ba-a3fc4de473db",
        "colab": {
          "base_uri": "https://localhost:8080/"
        }
      },
      "execution_count": 69,
      "outputs": [
        {
          "output_type": "stream",
          "name": "stderr",
          "text": [
            "Installing package into ‘/usr/local/lib/R/site-library’\n",
            "(as ‘lib’ is unspecified)\n",
            "\n",
            "Warning message in system2(cmd0, args, env = env, stdout = outfile, stderr = outfile, :\n",
            "“error in running command”\n",
            "Warning message in install.packages(\"ggplot2\"):\n",
            "“installation of package ‘ggplot2’ had non-zero exit status”\n",
            "Installing package into ‘/usr/local/lib/R/site-library’\n",
            "(as ‘lib’ is unspecified)\n",
            "\n",
            "Warning message in system2(cmd0, args, env = env, stdout = outfile, stderr = outfile, :\n",
            "“error in running command”\n",
            "Warning message in install.packages(\"pROC\"):\n",
            "“installation of package ‘pROC’ had non-zero exit status”\n",
            "Installing package into ‘/usr/local/lib/R/site-library’\n",
            "(as ‘lib’ is unspecified)\n",
            "\n",
            "Warning message in system2(cmd0, args, env = env, stdout = outfile, stderr = outfile, :\n",
            "“error in running command”\n",
            "Warning message in install.packages(\"dplyr\"):\n",
            "“installation of package ‘dplyr’ had non-zero exit status”\n",
            "Installing package into ‘/usr/local/lib/R/site-library’\n",
            "(as ‘lib’ is unspecified)\n",
            "\n",
            "Warning message in system2(cmd0, args, env = env, stdout = outfile, stderr = outfile, :\n",
            "“error in running command”\n",
            "Warning message in install.packages(\"tibble\"):\n",
            "“installation of package ‘tibble’ had non-zero exit status”\n"
          ]
        }
      ]
    },
    {
      "cell_type": "code",
      "source": [
        "# Load the dataset from GitHub\n",
        "url <- \"https://raw.githubusercontent.com/SumiranRai/MDSC-Lab/main/MDSC-201-Statistical-Methods-Using-R/wdbc.data\"\n",
        "data <- read.csv(url, header = FALSE)"
      ],
      "metadata": {
        "id": "7kx_V9siqHea"
      },
      "execution_count": 70,
      "outputs": []
    },
    {
      "cell_type": "code",
      "source": [
        "# Assign proper column names\n",
        "colnames(data) <- c(\"ID\", \"Diagnosis\", paste0(rep(c(\"radius\", \"texture\", \"perimeter\", \"area\",\n",
        "                                                     \"smoothness\", \"compactness\", \"concavity\",\n",
        "                                                     \"concave_points\", \"symmetry\", \"fractal_dimension\"),\n",
        "                                                   each=3), rep(1:3, 10)))\n"
      ],
      "metadata": {
        "id": "ZC0Vjx8DqQgn"
      },
      "execution_count": 71,
      "outputs": []
    },
    {
      "cell_type": "code",
      "source": [
        "# Convert to tibble for better display\n",
        "data <- as_tibble(data)"
      ],
      "metadata": {
        "id": "XHns36EirNn1"
      },
      "execution_count": 72,
      "outputs": []
    },
    {
      "cell_type": "code",
      "source": [
        "# Print first few rows\n",
        "cat(\"\\nData Preview (First Few Rows):\\n\")\n",
        "print(head(data))"
      ],
      "metadata": {
        "id": "npoKSTq0q0RQ",
        "outputId": "74ede0f0-a7fa-4b98-d1b7-0fabb5a1764a",
        "colab": {
          "base_uri": "https://localhost:8080/"
        }
      },
      "execution_count": 73,
      "outputs": [
        {
          "output_type": "stream",
          "name": "stdout",
          "text": [
            "\n",
            "Data Preview (First Few Rows):\n",
            "\u001b[90m# A tibble: 6 × 32\u001b[39m\n",
            "      ID Diagnosis radius1 radius2 radius3 texture1 texture2 texture3 perimeter1\n",
            "   \u001b[3m\u001b[90m<int>\u001b[39m\u001b[23m \u001b[3m\u001b[90m<chr>\u001b[39m\u001b[23m       \u001b[3m\u001b[90m<dbl>\u001b[39m\u001b[23m   \u001b[3m\u001b[90m<dbl>\u001b[39m\u001b[23m   \u001b[3m\u001b[90m<dbl>\u001b[39m\u001b[23m    \u001b[3m\u001b[90m<dbl>\u001b[39m\u001b[23m    \u001b[3m\u001b[90m<dbl>\u001b[39m\u001b[23m    \u001b[3m\u001b[90m<dbl>\u001b[39m\u001b[23m      \u001b[3m\u001b[90m<dbl>\u001b[39m\u001b[23m\n",
            "\u001b[90m1\u001b[39m 8.42\u001b[90me\u001b[39m5 M            18.0    10.4   123.     \u001b[4m1\u001b[24m001    0.118    0.278      0.300 \n",
            "\u001b[90m2\u001b[39m 8.43\u001b[90me\u001b[39m5 M            20.6    17.8   133.     \u001b[4m1\u001b[24m326    0.084\u001b[4m7\u001b[24m   0.078\u001b[4m6\u001b[24m     0.086\u001b[4m9\u001b[24m\n",
            "\u001b[90m3\u001b[39m 8.43\u001b[90me\u001b[39m7 M            19.7    21.2   130      \u001b[4m1\u001b[24m203    0.110    0.160      0.197 \n",
            "\u001b[90m4\u001b[39m 8.43\u001b[90me\u001b[39m7 M            11.4    20.4    77.6     386.   0.142    0.284      0.241 \n",
            "\u001b[90m5\u001b[39m 8.44\u001b[90me\u001b[39m7 M            20.3    14.3   135.     \u001b[4m1\u001b[24m297    0.100    0.133      0.198 \n",
            "\u001b[90m6\u001b[39m 8.44\u001b[90me\u001b[39m5 M            12.4    15.7    82.6     477.   0.128    0.17       0.158 \n",
            "\u001b[90m# ℹ 23 more variables: perimeter2 <dbl>, perimeter3 <dbl>, area1 <dbl>,\u001b[39m\n",
            "\u001b[90m#   area2 <dbl>, area3 <dbl>, smoothness1 <dbl>, smoothness2 <dbl>,\u001b[39m\n",
            "\u001b[90m#   smoothness3 <dbl>, compactness1 <dbl>, compactness2 <dbl>,\u001b[39m\n",
            "\u001b[90m#   compactness3 <dbl>, concavity1 <dbl>, concavity2 <dbl>, concavity3 <dbl>,\u001b[39m\n",
            "\u001b[90m#   concave_points1 <dbl>, concave_points2 <dbl>, concave_points3 <dbl>,\u001b[39m\n",
            "\u001b[90m#   symmetry1 <dbl>, symmetry2 <dbl>, symmetry3 <dbl>,\u001b[39m\n",
            "\u001b[90m#   fractal_dimension1 <dbl>, fractal_dimension2 <dbl>, …\u001b[39m\n"
          ]
        }
      ]
    },
    {
      "cell_type": "code",
      "source": [
        "# Display column names\n",
        "cat(\"\\nColumn Names:\\n\")\n",
        "print(colnames(data))"
      ],
      "metadata": {
        "id": "OTcc0plDsDJ0",
        "outputId": "9dbcca8a-466d-4f2c-a269-50611bf9d6e1",
        "colab": {
          "base_uri": "https://localhost:8080/"
        }
      },
      "execution_count": 74,
      "outputs": [
        {
          "output_type": "stream",
          "name": "stdout",
          "text": [
            "\n",
            "Column Names:\n",
            " [1] \"ID\"                 \"Diagnosis\"          \"radius1\"           \n",
            " [4] \"radius2\"            \"radius3\"            \"texture1\"          \n",
            " [7] \"texture2\"           \"texture3\"           \"perimeter1\"        \n",
            "[10] \"perimeter2\"         \"perimeter3\"         \"area1\"             \n",
            "[13] \"area2\"              \"area3\"              \"smoothness1\"       \n",
            "[16] \"smoothness2\"        \"smoothness3\"        \"compactness1\"      \n",
            "[19] \"compactness2\"       \"compactness3\"       \"concavity1\"        \n",
            "[22] \"concavity2\"         \"concavity3\"         \"concave_points1\"   \n",
            "[25] \"concave_points2\"    \"concave_points3\"    \"symmetry1\"         \n",
            "[28] \"symmetry2\"          \"symmetry3\"          \"fractal_dimension1\"\n",
            "[31] \"fractal_dimension2\" \"fractal_dimension3\"\n"
          ]
        }
      ]
    },
    {
      "cell_type": "code",
      "source": [
        "# Display shape of the dataset\n",
        "cat(\"\\nShape of Data (Rows, Columns):\\n\")\n",
        "print(dim(data))"
      ],
      "metadata": {
        "id": "fvq91FFDsG54",
        "outputId": "9252e08a-4f43-4f1b-efdf-98420cf2c81d",
        "colab": {
          "base_uri": "https://localhost:8080/"
        }
      },
      "execution_count": 75,
      "outputs": [
        {
          "output_type": "stream",
          "name": "stdout",
          "text": [
            "\n",
            "Shape of Data (Rows, Columns):\n",
            "[1] 569  32\n"
          ]
        }
      ]
    },
    {
      "cell_type": "code",
      "source": [
        "# Display data types\n",
        "cat(\"\\nData Types:\\n\")\n",
        "print(sapply(data, class))"
      ],
      "metadata": {
        "id": "3Hbztvm3sJW2",
        "outputId": "14c22f7f-db59-4bc6-de63-19ef3e0b9822",
        "colab": {
          "base_uri": "https://localhost:8080/"
        }
      },
      "execution_count": 76,
      "outputs": [
        {
          "output_type": "stream",
          "name": "stdout",
          "text": [
            "\n",
            "Data Types:\n",
            "                ID          Diagnosis            radius1            radius2 \n",
            "         \"integer\"        \"character\"          \"numeric\"          \"numeric\" \n",
            "           radius3           texture1           texture2           texture3 \n",
            "         \"numeric\"          \"numeric\"          \"numeric\"          \"numeric\" \n",
            "        perimeter1         perimeter2         perimeter3              area1 \n",
            "         \"numeric\"          \"numeric\"          \"numeric\"          \"numeric\" \n",
            "             area2              area3        smoothness1        smoothness2 \n",
            "         \"numeric\"          \"numeric\"          \"numeric\"          \"numeric\" \n",
            "       smoothness3       compactness1       compactness2       compactness3 \n",
            "         \"numeric\"          \"numeric\"          \"numeric\"          \"numeric\" \n",
            "        concavity1         concavity2         concavity3    concave_points1 \n",
            "         \"numeric\"          \"numeric\"          \"numeric\"          \"numeric\" \n",
            "   concave_points2    concave_points3          symmetry1          symmetry2 \n",
            "         \"numeric\"          \"numeric\"          \"numeric\"          \"numeric\" \n",
            "         symmetry3 fractal_dimension1 fractal_dimension2 fractal_dimension3 \n",
            "         \"numeric\"          \"numeric\"          \"numeric\"          \"numeric\" \n"
          ]
        }
      ]
    },
    {
      "cell_type": "code",
      "source": [
        "# Remove ID column\n",
        "data <- data %>% select(-ID)  # Using dplyr\n",
        "\n",
        "# Display column names\n",
        "cat(\"\\nColumn Names:\\n\")\n",
        "print(colnames(data))"
      ],
      "metadata": {
        "id": "uYtptr4DsUob",
        "outputId": "7f8004bd-cf73-4caa-e7ad-2d3395111e4f",
        "colab": {
          "base_uri": "https://localhost:8080/"
        }
      },
      "execution_count": 77,
      "outputs": [
        {
          "output_type": "stream",
          "name": "stdout",
          "text": [
            "\n",
            "Column Names:\n",
            " [1] \"Diagnosis\"          \"radius1\"            \"radius2\"           \n",
            " [4] \"radius3\"            \"texture1\"           \"texture2\"          \n",
            " [7] \"texture3\"           \"perimeter1\"         \"perimeter2\"        \n",
            "[10] \"perimeter3\"         \"area1\"              \"area2\"             \n",
            "[13] \"area3\"              \"smoothness1\"        \"smoothness2\"       \n",
            "[16] \"smoothness3\"        \"compactness1\"       \"compactness2\"      \n",
            "[19] \"compactness3\"       \"concavity1\"         \"concavity2\"        \n",
            "[22] \"concavity3\"         \"concave_points1\"    \"concave_points2\"   \n",
            "[25] \"concave_points3\"    \"symmetry1\"          \"symmetry2\"         \n",
            "[28] \"symmetry3\"          \"fractal_dimension1\" \"fractal_dimension2\"\n",
            "[31] \"fractal_dimension3\"\n"
          ]
        }
      ]
    },
    {
      "cell_type": "code",
      "source": [
        "# Convert Diagnosis to binary (M = 1, B = 0)\n",
        "data$Diagnosis <- ifelse(data$Diagnosis == \"M\", 1, 0)\n",
        "\n",
        "# Print first few rows\n",
        "cat(\"\\nData Preview (First Few Rows):\\n\")\n",
        "print(head(data))"
      ],
      "metadata": {
        "id": "pb1iiZTMsd9o",
        "outputId": "216994e0-6e1b-407c-f16c-7a78d36bb118",
        "colab": {
          "base_uri": "https://localhost:8080/"
        }
      },
      "execution_count": 78,
      "outputs": [
        {
          "output_type": "stream",
          "name": "stdout",
          "text": [
            "\n",
            "Data Preview (First Few Rows):\n",
            "\u001b[90m# A tibble: 6 × 31\u001b[39m\n",
            "  Diagnosis radius1 radius2 radius3 texture1 texture2 texture3 perimeter1\n",
            "      \u001b[3m\u001b[90m<dbl>\u001b[39m\u001b[23m   \u001b[3m\u001b[90m<dbl>\u001b[39m\u001b[23m   \u001b[3m\u001b[90m<dbl>\u001b[39m\u001b[23m   \u001b[3m\u001b[90m<dbl>\u001b[39m\u001b[23m    \u001b[3m\u001b[90m<dbl>\u001b[39m\u001b[23m    \u001b[3m\u001b[90m<dbl>\u001b[39m\u001b[23m    \u001b[3m\u001b[90m<dbl>\u001b[39m\u001b[23m      \u001b[3m\u001b[90m<dbl>\u001b[39m\u001b[23m\n",
            "\u001b[90m1\u001b[39m         1    18.0    10.4   123.     \u001b[4m1\u001b[24m001    0.118    0.278      0.300 \n",
            "\u001b[90m2\u001b[39m         1    20.6    17.8   133.     \u001b[4m1\u001b[24m326    0.084\u001b[4m7\u001b[24m   0.078\u001b[4m6\u001b[24m     0.086\u001b[4m9\u001b[24m\n",
            "\u001b[90m3\u001b[39m         1    19.7    21.2   130      \u001b[4m1\u001b[24m203    0.110    0.160      0.197 \n",
            "\u001b[90m4\u001b[39m         1    11.4    20.4    77.6     386.   0.142    0.284      0.241 \n",
            "\u001b[90m5\u001b[39m         1    20.3    14.3   135.     \u001b[4m1\u001b[24m297    0.100    0.133      0.198 \n",
            "\u001b[90m6\u001b[39m         1    12.4    15.7    82.6     477.   0.128    0.17       0.158 \n",
            "\u001b[90m# ℹ 23 more variables: perimeter2 <dbl>, perimeter3 <dbl>, area1 <dbl>,\u001b[39m\n",
            "\u001b[90m#   area2 <dbl>, area3 <dbl>, smoothness1 <dbl>, smoothness2 <dbl>,\u001b[39m\n",
            "\u001b[90m#   smoothness3 <dbl>, compactness1 <dbl>, compactness2 <dbl>,\u001b[39m\n",
            "\u001b[90m#   compactness3 <dbl>, concavity1 <dbl>, concavity2 <dbl>, concavity3 <dbl>,\u001b[39m\n",
            "\u001b[90m#   concave_points1 <dbl>, concave_points2 <dbl>, concave_points3 <dbl>,\u001b[39m\n",
            "\u001b[90m#   symmetry1 <dbl>, symmetry2 <dbl>, symmetry3 <dbl>,\u001b[39m\n",
            "\u001b[90m#   fractal_dimension1 <dbl>, fractal_dimension2 <dbl>, …\u001b[39m\n"
          ]
        }
      ]
    },
    {
      "cell_type": "code",
      "source": [
        "# Save the transformed dataset\n",
        "write.csv(data, \"transformed_wdbc.csv\", row.names = FALSE)"
      ],
      "metadata": {
        "id": "LNdQB6xVtgqI"
      },
      "execution_count": 79,
      "outputs": []
    },
    {
      "cell_type": "markdown",
      "source": [
        "### Training the Logistic Regression Model"
      ],
      "metadata": {
        "id": "afnfBqDK0cQ-"
      }
    },
    {
      "cell_type": "code",
      "source": [
        "# Train-Test Split (70-30)\n",
        "set.seed(7)  # For reproducibility\n",
        "train_idx <- sample(1:nrow(data), size = 0.7 * nrow(data))\n",
        "train_data <- data[train_idx, ]\n",
        "test_data <- data[-train_idx, ]"
      ],
      "metadata": {
        "id": "oS30S_GltqZ2"
      },
      "execution_count": 80,
      "outputs": []
    },
    {
      "cell_type": "code",
      "source": [
        "# Train Logistic Regression Model (Fix Convergence Issue)\n",
        "model <- glm(Diagnosis ~ ., data = train_data, family = binomial(link = \"logit\"), control = list(maxit = 50))\n"
      ],
      "metadata": {
        "id": "lWYdD2z_ttFH",
        "outputId": "c9be4fbf-14fd-444c-95d2-36cf6e98fdab",
        "colab": {
          "base_uri": "https://localhost:8080/"
        }
      },
      "execution_count": 81,
      "outputs": [
        {
          "output_type": "stream",
          "name": "stderr",
          "text": [
            "Warning message:\n",
            "“glm.fit: fitted probabilities numerically 0 or 1 occurred”\n"
          ]
        }
      ]
    },
    {
      "cell_type": "code",
      "source": [
        "# Predict probabilities on test data\n",
        "pred_probs <- predict(model, newdata = test_data, type = \"response\")"
      ],
      "metadata": {
        "id": "Kk3HuZYrOUv_"
      },
      "execution_count": 82,
      "outputs": []
    },
    {
      "cell_type": "code",
      "source": [
        "# Convert probabilities to binary predictions\n",
        "pred_labels <- ifelse(pred_probs > 0.5, 1, 0)"
      ],
      "metadata": {
        "id": "rpWbxtfgtwze"
      },
      "execution_count": 92,
      "outputs": []
    },
    {
      "cell_type": "markdown",
      "source": [
        "### Performance Evaluation Metrics"
      ],
      "metadata": {
        "id": "swFUPani0NMn"
      }
    },
    {
      "cell_type": "code",
      "source": [
        "# Compute Metrics\n",
        "precision <- TP / (TP + FP)\n",
        "recall <- TP / (TP + FN)\n",
        "f1_score <- 2 * (precision * recall) / (precision + recall)\n",
        "specificity <- TN / (TN + FP)\n",
        "accuracy <- (TP + TN) / (TP + TN + FP + FN)\n",
        "\n",
        "cat(\"\\nPrecision:\", round(precision, 4))\n",
        "cat(\"\\nRecall (Sensitivity):\", round(recall, 4))\n",
        "cat(\"\\nSpecificity:\", round(specificity, 4))\n",
        "cat(\"\\nF1-Score:\", round(f1_score, 4))\n",
        "cat(\"\\nAccuracy:\", round(accuracy, 4))"
      ],
      "metadata": {
        "id": "oK-4Hz1wuREb",
        "outputId": "2deeb37b-9bfc-49ae-9467-16c8fd80b46e",
        "colab": {
          "base_uri": "https://localhost:8080/"
        }
      },
      "execution_count": 93,
      "outputs": [
        {
          "output_type": "stream",
          "name": "stdout",
          "text": [
            "\n",
            "Precision: 0.913\n",
            "Recall (Sensitivity): 0.9403\n",
            "Specificity: 0.9423\n",
            "F1-Score: 0.9265\n",
            "Accuracy: 0.9415"
          ]
        }
      ]
    },
    {
      "cell_type": "markdown",
      "source": [
        "### Confusion Matrix"
      ],
      "metadata": {
        "id": "jQQOOHGN0Dxl"
      }
    },
    {
      "cell_type": "code",
      "source": [
        "# Confusion Matrix Calculation\n",
        "actual <- test_data$Diagnosis\n",
        "TP <- sum(actual == 1 & pred_labels == 1)\n",
        "TN <- sum(actual == 0 & pred_labels == 0)\n",
        "FP <- sum(actual == 0 & pred_labels == 1)\n",
        "FN <- sum(actual == 1 & pred_labels == 0)\n",
        "\n",
        "conf_matrix <- matrix(c(TN, FP, FN, TP), nrow = 2, byrow = TRUE,\n",
        "                      dimnames = list(\"Actual\" = c(\"0\", \"1\"), \"Predicted\" = c(\"0\", \"1\")))\n",
        "\n",
        "cat(\"\\nConfusion Matrix:\\n\")\n",
        "print(conf_matrix)\n"
      ],
      "metadata": {
        "id": "bBQuZQVbt83C",
        "outputId": "4326a0fd-e8d8-4a9d-e9d0-b6eea1aec75b",
        "colab": {
          "base_uri": "https://localhost:8080/"
        }
      },
      "execution_count": 84,
      "outputs": [
        {
          "output_type": "stream",
          "name": "stdout",
          "text": [
            "\n",
            "Confusion Matrix:\n",
            "      Predicted\n",
            "Actual  0  1\n",
            "     0 98  6\n",
            "     1  4 63\n"
          ]
        }
      ]
    },
    {
      "cell_type": "code",
      "source": [
        "# Plot Confusion Matrix\n",
        "cm_df <- as.data.frame(as.table(conf_matrix))\n",
        "colnames(cm_df) <- c(\"Actual\", \"Predicted\", \"Count\")\n",
        "\n",
        "ggplot(data = cm_df, aes(x = Predicted, y = Actual, fill = Count)) +\n",
        "  geom_tile(color = \"black\") +\n",
        "  geom_text(aes(label = Count), color = \"black\", size = 6, fontface = \"bold\") +\n",
        "  scale_fill_gradient(low = \"white\", high = \"darkblue\") +\n",
        "  labs(title = \"Confusion Matrix\", x = \"Predicted Label\", y = \"Actual Label\") +\n",
        "  theme_minimal() +\n",
        "  theme(plot.title = element_text(hjust = 0.5, face = \"bold\"))"
      ],
      "metadata": {
        "id": "pyFTnWK_uT2L",
        "outputId": "70191bfd-b593-43ec-9778-b9e55f92aa68",
        "colab": {
          "base_uri": "https://localhost:8080/",
          "height": 437
        }
      },
      "execution_count": 94,
      "outputs": [
        {
          "output_type": "display_data",
          "data": {
            "text/plain": [
              "plot without title"
            ],
            "image/png": "[encoded data removed]"
          },
          "metadata": {
            "image/png": {
              "width": 420,
              "height": 420
            }
          }
        }
      ]
    },
    {
      "cell_type": "markdown",
      "source": [
        "### AUC & ROC Curve"
      ],
      "metadata": {
        "id": "-IBnJ1wi0F5M"
      }
    },
    {
      "cell_type": "code",
      "source": [
        "# AUC\n",
        "auc_value <- auc(roc_curve)\n",
        "cat(\"\\nAUC:\", round(auc_value, 4))"
      ],
      "metadata": {
        "id": "-QazIiCE1QL_",
        "outputId": "fe763f9b-f63c-4a9c-c778-4eef9b71ba0c",
        "colab": {
          "base_uri": "https://localhost:8080/"
        }
      },
      "execution_count": 113,
      "outputs": [
        {
          "output_type": "stream",
          "name": "stdout",
          "text": [
            "\n",
            "AUC: 0.952"
          ]
        }
      ]
    },
    {
      "cell_type": "code",
      "source": [
        "# ROC Curve\n",
        "plot(roc_curve, col = \"blue\", main = \"ROC Curve for Breast Cancer Classification\")\n",
        "abline(a = 0, b = 1, lty = 2, col = \"red\")  # Diagonal reference line"
      ],
      "metadata": {
        "id": "InFoAr67uXUC",
        "outputId": "bca1a43c-3330-4c53-ab23-1c7b2b281779",
        "colab": {
          "base_uri": "https://localhost:8080/",
          "height": 437
        }
      },
      "execution_count": 114,
      "outputs": [
        {
          "output_type": "display_data",
          "data": {
            "text/plain": [
              "Plot with title “ROC Curve for Breast Cancer Classification”"
            ],
            "image/png": "[encoded data removed]"
          },
          "metadata": {
            "image/png": {
              "width": 420,
              "height": 420
            }
          }
        }
      ]
    },
    {
      "cell_type": "markdown",
      "source": [
        "### Precision-Recall Curve"
      ],
      "metadata": {
        "id": "ld5KYwcS0ITu"
      }
    },
    {
      "cell_type": "code",
      "source": [
        "# Compute Precision-Recall values\n",
        "precision <- c()\n",
        "recall <- c()\n",
        "thresholds <- seq(0, 1, by = 0.01)\n",
        "\n",
        "for (t in thresholds) {\n",
        "  pred_labels <- ifelse(pred_probs > t, 1, 0)\n",
        "  TP <- sum(actual == 1 & pred_labels == 1)\n",
        "  FP <- sum(actual == 0 & pred_labels == 1)\n",
        "  FN <- sum(actual == 1 & pred_labels == 0)\n",
        "\n",
        "  prec <- TP / (TP + FP)\n",
        "  rec <- TP / (TP + FN)\n",
        "\n",
        "  precision <- c(precision, prec)\n",
        "  recall <- c(recall, rec)\n",
        "}\n",
        "\n",
        "# Convert to DataFrame\n",
        "pr_df <- data.frame(Recall = recall, Precision = precision)\n",
        "\n",
        "# Plot PR Curve\n",
        "ggplot(pr_df, aes(x = Recall, y = Precision)) +\n",
        "  geom_line(color = \"blue\") +\n",
        "  labs(title = \"Precision-Recall Curve\", x = \"Recall\", y = \"Precision\") +\n",
        "  theme_minimal()\n"
      ],
      "metadata": {
        "id": "aBUq5uE-uAQ6",
        "outputId": "e0a3569d-bb30-460a-baa4-a05a4b2f23cd",
        "colab": {
          "base_uri": "https://localhost:8080/",
          "height": 489
        }
      },
      "execution_count": 115,
      "outputs": [
        {
          "output_type": "stream",
          "name": "stderr",
          "text": [
            "Warning message:\n",
            "“\u001b[1m\u001b[22mRemoved 1 row containing missing values or values outside the scale range\n",
            "(`geom_line()`).”\n"
          ]
        },
        {
          "output_type": "display_data",
          "data": {
            "text/plain": [
              "plot without title"
            ],
            "image/png": "[encoded data removed]"
          },
          "metadata": {
            "image/png": {
              "width": 420,
              "height": 420
            }
          }
        }
      ]
    }
  ]
}